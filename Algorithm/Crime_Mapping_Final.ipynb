{
 "cells": [
  {
   "cell_type": "code",
   "execution_count": 1,
   "id": "0efb37ca",
   "metadata": {},
   "outputs": [
    {
     "name": "stdout",
     "output_type": "stream",
     "text": [
      "Requirement already satisfied: tk in c:\\users\\shudhanshu\\anaconda3\\lib\\site-packages (0.1.0)\n"
     ]
    }
   ],
   "source": [
    "import folium\n",
    "import numpy as np\n",
    "import pandas as pd\n",
    "!pip install tk"
   ]
  },
  {
   "cell_type": "code",
   "execution_count": 2,
   "id": "deec22a5",
   "metadata": {},
   "outputs": [
    {
     "data": {
      "text/html": [
       "<div style=\"width:100%;\"><div style=\"position:relative;width:100%;height:0;padding-bottom:60%;\"><span style=\"color:#565656\">Make this Notebook Trusted to load map: File -> Trust Notebook</span><iframe src=\"about:blank\" style=\"position:absolute;width:100%;height:100%;left:0;top:0;border:none !important;\" data-html=%3C%21DOCTYPE%20html%3E%0A%3Chead%3E%20%20%20%20%0A%20%20%20%20%3Cmeta%20http-equiv%3D%22content-type%22%20content%3D%22text/html%3B%20charset%3DUTF-8%22%20/%3E%0A%20%20%20%20%0A%20%20%20%20%20%20%20%20%3Cscript%3E%0A%20%20%20%20%20%20%20%20%20%20%20%20L_NO_TOUCH%20%3D%20false%3B%0A%20%20%20%20%20%20%20%20%20%20%20%20L_DISABLE_3D%20%3D%20false%3B%0A%20%20%20%20%20%20%20%20%3C/script%3E%0A%20%20%20%20%0A%20%20%20%20%3Cstyle%3Ehtml%2C%20body%20%7Bwidth%3A%20100%25%3Bheight%3A%20100%25%3Bmargin%3A%200%3Bpadding%3A%200%3B%7D%3C/style%3E%0A%20%20%20%20%3Cstyle%3E%23map%20%7Bposition%3Aabsolute%3Btop%3A0%3Bbottom%3A0%3Bright%3A0%3Bleft%3A0%3B%7D%3C/style%3E%0A%20%20%20%20%3Cscript%20src%3D%22https%3A//cdn.jsdelivr.net/npm/leaflet%401.6.0/dist/leaflet.js%22%3E%3C/script%3E%0A%20%20%20%20%3Cscript%20src%3D%22https%3A//code.jquery.com/jquery-1.12.4.min.js%22%3E%3C/script%3E%0A%20%20%20%20%3Cscript%20src%3D%22https%3A//maxcdn.bootstrapcdn.com/bootstrap/3.2.0/js/bootstrap.min.js%22%3E%3C/script%3E%0A%20%20%20%20%3Cscript%20src%3D%22https%3A//cdnjs.cloudflare.com/ajax/libs/Leaflet.awesome-markers/2.0.2/leaflet.awesome-markers.js%22%3E%3C/script%3E%0A%20%20%20%20%3Clink%20rel%3D%22stylesheet%22%20href%3D%22https%3A//cdn.jsdelivr.net/npm/leaflet%401.6.0/dist/leaflet.css%22/%3E%0A%20%20%20%20%3Clink%20rel%3D%22stylesheet%22%20href%3D%22https%3A//maxcdn.bootstrapcdn.com/bootstrap/3.2.0/css/bootstrap.min.css%22/%3E%0A%20%20%20%20%3Clink%20rel%3D%22stylesheet%22%20href%3D%22https%3A//maxcdn.bootstrapcdn.com/bootstrap/3.2.0/css/bootstrap-theme.min.css%22/%3E%0A%20%20%20%20%3Clink%20rel%3D%22stylesheet%22%20href%3D%22https%3A//maxcdn.bootstrapcdn.com/font-awesome/4.6.3/css/font-awesome.min.css%22/%3E%0A%20%20%20%20%3Clink%20rel%3D%22stylesheet%22%20href%3D%22https%3A//cdnjs.cloudflare.com/ajax/libs/Leaflet.awesome-markers/2.0.2/leaflet.awesome-markers.css%22/%3E%0A%20%20%20%20%3Clink%20rel%3D%22stylesheet%22%20href%3D%22https%3A//cdn.jsdelivr.net/gh/python-visualization/folium/folium/templates/leaflet.awesome.rotate.min.css%22/%3E%0A%20%20%20%20%0A%20%20%20%20%20%20%20%20%20%20%20%20%3Cmeta%20name%3D%22viewport%22%20content%3D%22width%3Ddevice-width%2C%0A%20%20%20%20%20%20%20%20%20%20%20%20%20%20%20%20initial-scale%3D1.0%2C%20maximum-scale%3D1.0%2C%20user-scalable%3Dno%22%20/%3E%0A%20%20%20%20%20%20%20%20%20%20%20%20%3Cstyle%3E%0A%20%20%20%20%20%20%20%20%20%20%20%20%20%20%20%20%23map_f5af691b3f7a4cb69b2b0b7a6a2bb04e%20%7B%0A%20%20%20%20%20%20%20%20%20%20%20%20%20%20%20%20%20%20%20%20position%3A%20relative%3B%0A%20%20%20%20%20%20%20%20%20%20%20%20%20%20%20%20%20%20%20%20width%3A%20100.0%25%3B%0A%20%20%20%20%20%20%20%20%20%20%20%20%20%20%20%20%20%20%20%20height%3A%20100.0%25%3B%0A%20%20%20%20%20%20%20%20%20%20%20%20%20%20%20%20%20%20%20%20left%3A%200.0%25%3B%0A%20%20%20%20%20%20%20%20%20%20%20%20%20%20%20%20%20%20%20%20top%3A%200.0%25%3B%0A%20%20%20%20%20%20%20%20%20%20%20%20%20%20%20%20%7D%0A%20%20%20%20%20%20%20%20%20%20%20%20%3C/style%3E%0A%20%20%20%20%20%20%20%20%0A%3C/head%3E%0A%3Cbody%3E%20%20%20%20%0A%20%20%20%20%0A%20%20%20%20%20%20%20%20%20%20%20%20%3Cdiv%20class%3D%22folium-map%22%20id%3D%22map_f5af691b3f7a4cb69b2b0b7a6a2bb04e%22%20%3E%3C/div%3E%0A%20%20%20%20%20%20%20%20%0A%3C/body%3E%0A%3Cscript%3E%20%20%20%20%0A%20%20%20%20%0A%20%20%20%20%20%20%20%20%20%20%20%20var%20map_f5af691b3f7a4cb69b2b0b7a6a2bb04e%20%3D%20L.map%28%0A%20%20%20%20%20%20%20%20%20%20%20%20%20%20%20%20%22map_f5af691b3f7a4cb69b2b0b7a6a2bb04e%22%2C%0A%20%20%20%20%20%20%20%20%20%20%20%20%20%20%20%20%7B%0A%20%20%20%20%20%20%20%20%20%20%20%20%20%20%20%20%20%20%20%20center%3A%20%5B31.0%2C%20-95.0%5D%2C%0A%20%20%20%20%20%20%20%20%20%20%20%20%20%20%20%20%20%20%20%20crs%3A%20L.CRS.EPSG3857%2C%0A%20%20%20%20%20%20%20%20%20%20%20%20%20%20%20%20%20%20%20%20zoom%3A%205%2C%0A%20%20%20%20%20%20%20%20%20%20%20%20%20%20%20%20%20%20%20%20zoomControl%3A%20true%2C%0A%20%20%20%20%20%20%20%20%20%20%20%20%20%20%20%20%20%20%20%20preferCanvas%3A%20false%2C%0A%20%20%20%20%20%20%20%20%20%20%20%20%20%20%20%20%7D%0A%20%20%20%20%20%20%20%20%20%20%20%20%29%3B%0A%0A%20%20%20%20%20%20%20%20%20%20%20%20%0A%0A%20%20%20%20%20%20%20%20%0A%20%20%20%20%0A%20%20%20%20%20%20%20%20%20%20%20%20var%20tile_layer_f19872f2a60e477caa24a867a621b2b0%20%3D%20L.tileLayer%28%0A%20%20%20%20%20%20%20%20%20%20%20%20%20%20%20%20%22https%3A//%7Bs%7D.tile.openstreetmap.org/%7Bz%7D/%7Bx%7D/%7By%7D.png%22%2C%0A%20%20%20%20%20%20%20%20%20%20%20%20%20%20%20%20%7B%22attribution%22%3A%20%22Data%20by%20%5Cu0026copy%3B%20%5Cu003ca%20href%3D%5C%22http%3A//openstreetmap.org%5C%22%5Cu003eOpenStreetMap%5Cu003c/a%5Cu003e%2C%20under%20%5Cu003ca%20href%3D%5C%22http%3A//www.openstreetmap.org/copyright%5C%22%5Cu003eODbL%5Cu003c/a%5Cu003e.%22%2C%20%22detectRetina%22%3A%20false%2C%20%22maxNativeZoom%22%3A%2018%2C%20%22maxZoom%22%3A%2018%2C%20%22minZoom%22%3A%200%2C%20%22noWrap%22%3A%20false%2C%20%22opacity%22%3A%201%2C%20%22subdomains%22%3A%20%22abc%22%2C%20%22tms%22%3A%20false%7D%0A%20%20%20%20%20%20%20%20%20%20%20%20%29.addTo%28map_f5af691b3f7a4cb69b2b0b7a6a2bb04e%29%3B%0A%20%20%20%20%20%20%20%20%0A%3C/script%3E onload=\"this.contentDocument.open();this.contentDocument.write(    decodeURIComponent(this.getAttribute('data-html')));this.contentDocument.close();\" allowfullscreen webkitallowfullscreen mozallowfullscreen></iframe></div></div>"
      ],
      "text/plain": [
       "<folium.folium.Map at 0x1cd571726a0>"
      ]
     },
     "execution_count": 2,
     "metadata": {},
     "output_type": "execute_result"
    }
   ],
   "source": [
    "# First map\n",
    "first_map = folium.Map(location =[31, -95], zoom_start=5, width='100', height='100',\n",
    "                       tiles='OpenStreetMap')\n",
    "\n",
    "# display map\n",
    "first_map"
   ]
  },
  {
   "cell_type": "code",
   "execution_count": 3,
   "id": "e14280dd",
   "metadata": {},
   "outputs": [
    {
     "data": {
      "text/html": [
       "<div style=\"width:100%;\"><div style=\"position:relative;width:100%;height:0;padding-bottom:60%;\"><span style=\"color:#565656\">Make this Notebook Trusted to load map: File -> Trust Notebook</span><iframe src=\"about:blank\" style=\"position:absolute;width:100%;height:100%;left:0;top:0;border:none !important;\" data-html=%3C%21DOCTYPE%20html%3E%0A%3Chead%3E%20%20%20%20%0A%20%20%20%20%3Cmeta%20http-equiv%3D%22content-type%22%20content%3D%22text/html%3B%20charset%3DUTF-8%22%20/%3E%0A%20%20%20%20%0A%20%20%20%20%20%20%20%20%3Cscript%3E%0A%20%20%20%20%20%20%20%20%20%20%20%20L_NO_TOUCH%20%3D%20false%3B%0A%20%20%20%20%20%20%20%20%20%20%20%20L_DISABLE_3D%20%3D%20false%3B%0A%20%20%20%20%20%20%20%20%3C/script%3E%0A%20%20%20%20%0A%20%20%20%20%3Cstyle%3Ehtml%2C%20body%20%7Bwidth%3A%20100%25%3Bheight%3A%20100%25%3Bmargin%3A%200%3Bpadding%3A%200%3B%7D%3C/style%3E%0A%20%20%20%20%3Cstyle%3E%23map%20%7Bposition%3Aabsolute%3Btop%3A0%3Bbottom%3A0%3Bright%3A0%3Bleft%3A0%3B%7D%3C/style%3E%0A%20%20%20%20%3Cscript%20src%3D%22https%3A//cdn.jsdelivr.net/npm/leaflet%401.6.0/dist/leaflet.js%22%3E%3C/script%3E%0A%20%20%20%20%3Cscript%20src%3D%22https%3A//code.jquery.com/jquery-1.12.4.min.js%22%3E%3C/script%3E%0A%20%20%20%20%3Cscript%20src%3D%22https%3A//maxcdn.bootstrapcdn.com/bootstrap/3.2.0/js/bootstrap.min.js%22%3E%3C/script%3E%0A%20%20%20%20%3Cscript%20src%3D%22https%3A//cdnjs.cloudflare.com/ajax/libs/Leaflet.awesome-markers/2.0.2/leaflet.awesome-markers.js%22%3E%3C/script%3E%0A%20%20%20%20%3Clink%20rel%3D%22stylesheet%22%20href%3D%22https%3A//cdn.jsdelivr.net/npm/leaflet%401.6.0/dist/leaflet.css%22/%3E%0A%20%20%20%20%3Clink%20rel%3D%22stylesheet%22%20href%3D%22https%3A//maxcdn.bootstrapcdn.com/bootstrap/3.2.0/css/bootstrap.min.css%22/%3E%0A%20%20%20%20%3Clink%20rel%3D%22stylesheet%22%20href%3D%22https%3A//maxcdn.bootstrapcdn.com/bootstrap/3.2.0/css/bootstrap-theme.min.css%22/%3E%0A%20%20%20%20%3Clink%20rel%3D%22stylesheet%22%20href%3D%22https%3A//maxcdn.bootstrapcdn.com/font-awesome/4.6.3/css/font-awesome.min.css%22/%3E%0A%20%20%20%20%3Clink%20rel%3D%22stylesheet%22%20href%3D%22https%3A//cdnjs.cloudflare.com/ajax/libs/Leaflet.awesome-markers/2.0.2/leaflet.awesome-markers.css%22/%3E%0A%20%20%20%20%3Clink%20rel%3D%22stylesheet%22%20href%3D%22https%3A//cdn.jsdelivr.net/gh/python-visualization/folium/folium/templates/leaflet.awesome.rotate.min.css%22/%3E%0A%20%20%20%20%0A%20%20%20%20%20%20%20%20%20%20%20%20%3Cmeta%20name%3D%22viewport%22%20content%3D%22width%3Ddevice-width%2C%0A%20%20%20%20%20%20%20%20%20%20%20%20%20%20%20%20initial-scale%3D1.0%2C%20maximum-scale%3D1.0%2C%20user-scalable%3Dno%22%20/%3E%0A%20%20%20%20%20%20%20%20%20%20%20%20%3Cstyle%3E%0A%20%20%20%20%20%20%20%20%20%20%20%20%20%20%20%20%23map_70a48c404ebc45d8989638c875986c0f%20%7B%0A%20%20%20%20%20%20%20%20%20%20%20%20%20%20%20%20%20%20%20%20position%3A%20relative%3B%0A%20%20%20%20%20%20%20%20%20%20%20%20%20%20%20%20%20%20%20%20width%3A%20100.0%25%3B%0A%20%20%20%20%20%20%20%20%20%20%20%20%20%20%20%20%20%20%20%20height%3A%20100.0%25%3B%0A%20%20%20%20%20%20%20%20%20%20%20%20%20%20%20%20%20%20%20%20left%3A%200.0%25%3B%0A%20%20%20%20%20%20%20%20%20%20%20%20%20%20%20%20%20%20%20%20top%3A%200.0%25%3B%0A%20%20%20%20%20%20%20%20%20%20%20%20%20%20%20%20%7D%0A%20%20%20%20%20%20%20%20%20%20%20%20%3C/style%3E%0A%20%20%20%20%20%20%20%20%0A%3C/head%3E%0A%3Cbody%3E%20%20%20%20%0A%20%20%20%20%0A%20%20%20%20%20%20%20%20%20%20%20%20%3Cdiv%20class%3D%22folium-map%22%20id%3D%22map_70a48c404ebc45d8989638c875986c0f%22%20%3E%3C/div%3E%0A%20%20%20%20%20%20%20%20%0A%3C/body%3E%0A%3Cscript%3E%20%20%20%20%0A%20%20%20%20%0A%20%20%20%20%20%20%20%20%20%20%20%20var%20map_70a48c404ebc45d8989638c875986c0f%20%3D%20L.map%28%0A%20%20%20%20%20%20%20%20%20%20%20%20%20%20%20%20%22map_70a48c404ebc45d8989638c875986c0f%22%2C%0A%20%20%20%20%20%20%20%20%20%20%20%20%20%20%20%20%7B%0A%20%20%20%20%20%20%20%20%20%20%20%20%20%20%20%20%20%20%20%20center%3A%20%5B31.0%2C%20-96.0%5D%2C%0A%20%20%20%20%20%20%20%20%20%20%20%20%20%20%20%20%20%20%20%20crs%3A%20L.CRS.EPSG3857%2C%0A%20%20%20%20%20%20%20%20%20%20%20%20%20%20%20%20%20%20%20%20zoom%3A%205%2C%0A%20%20%20%20%20%20%20%20%20%20%20%20%20%20%20%20%20%20%20%20zoomControl%3A%20true%2C%0A%20%20%20%20%20%20%20%20%20%20%20%20%20%20%20%20%20%20%20%20preferCanvas%3A%20false%2C%0A%20%20%20%20%20%20%20%20%20%20%20%20%20%20%20%20%7D%0A%20%20%20%20%20%20%20%20%20%20%20%20%29%3B%0A%0A%20%20%20%20%20%20%20%20%20%20%20%20%0A%0A%20%20%20%20%20%20%20%20%0A%20%20%20%20%0A%20%20%20%20%20%20%20%20%20%20%20%20var%20tile_layer_6eda1e00bfad4cd39f0d5580aeb2961c%20%3D%20L.tileLayer%28%0A%20%20%20%20%20%20%20%20%20%20%20%20%20%20%20%20%22https%3A//%7Bs%7D.tile.openstreetmap.org/%7Bz%7D/%7Bx%7D/%7By%7D.png%22%2C%0A%20%20%20%20%20%20%20%20%20%20%20%20%20%20%20%20%7B%22attribution%22%3A%20%22Data%20by%20%5Cu0026copy%3B%20%5Cu003ca%20href%3D%5C%22http%3A//openstreetmap.org%5C%22%5Cu003eOpenStreetMap%5Cu003c/a%5Cu003e%2C%20under%20%5Cu003ca%20href%3D%5C%22http%3A//www.openstreetmap.org/copyright%5C%22%5Cu003eODbL%5Cu003c/a%5Cu003e.%22%2C%20%22detectRetina%22%3A%20false%2C%20%22maxNativeZoom%22%3A%2018%2C%20%22maxZoom%22%3A%2018%2C%20%22minZoom%22%3A%200%2C%20%22noWrap%22%3A%20false%2C%20%22opacity%22%3A%201%2C%20%22subdomains%22%3A%20%22abc%22%2C%20%22tms%22%3A%20false%7D%0A%20%20%20%20%20%20%20%20%20%20%20%20%29.addTo%28map_70a48c404ebc45d8989638c875986c0f%29%3B%0A%20%20%20%20%20%20%20%20%0A%20%20%20%20%0A%20%20%20%20%20%20%20%20%20%20%20%20var%20tile_layer_82c13b2f90ee42518802f5ae751d5783%20%3D%20L.tileLayer%28%0A%20%20%20%20%20%20%20%20%20%20%20%20%20%20%20%20%22https%3A//%7Bs%7D.tile.openstreetmap.org/%7Bz%7D/%7Bx%7D/%7By%7D.png%22%2C%0A%20%20%20%20%20%20%20%20%20%20%20%20%20%20%20%20%7B%22attribution%22%3A%20%22Data%20by%20%5Cu0026copy%3B%20%5Cu003ca%20href%3D%5C%22http%3A//openstreetmap.org%5C%22%5Cu003eOpenStreetMap%5Cu003c/a%5Cu003e%2C%20under%20%5Cu003ca%20href%3D%5C%22http%3A//www.openstreetmap.org/copyright%5C%22%5Cu003eODbL%5Cu003c/a%5Cu003e.%22%2C%20%22detectRetina%22%3A%20false%2C%20%22maxNativeZoom%22%3A%2018%2C%20%22maxZoom%22%3A%2018%2C%20%22minZoom%22%3A%200%2C%20%22noWrap%22%3A%20false%2C%20%22opacity%22%3A%201%2C%20%22subdomains%22%3A%20%22abc%22%2C%20%22tms%22%3A%20false%7D%0A%20%20%20%20%20%20%20%20%20%20%20%20%29.addTo%28map_70a48c404ebc45d8989638c875986c0f%29%3B%0A%20%20%20%20%20%20%20%20%0A%20%20%20%20%0A%20%20%20%20%20%20%20%20%20%20%20%20var%20tile_layer_c5c03a0a4e13463583c25f1aa9cb6cff%20%3D%20L.tileLayer%28%0A%20%20%20%20%20%20%20%20%20%20%20%20%20%20%20%20%22https%3A//stamen-tiles-%7Bs%7D.a.ssl.fastly.net/terrain/%7Bz%7D/%7Bx%7D/%7By%7D.jpg%22%2C%0A%20%20%20%20%20%20%20%20%20%20%20%20%20%20%20%20%7B%22attribution%22%3A%20%22Map%20tiles%20by%20%5Cu003ca%20href%3D%5C%22http%3A//stamen.com%5C%22%5Cu003eStamen%20Design%5Cu003c/a%5Cu003e%2C%20under%20%5Cu003ca%20href%3D%5C%22http%3A//creativecommons.org/licenses/by/3.0%5C%22%5Cu003eCC%20BY%203.0%5Cu003c/a%5Cu003e.%20Data%20by%20%5Cu0026copy%3B%20%5Cu003ca%20href%3D%5C%22http%3A//openstreetmap.org%5C%22%5Cu003eOpenStreetMap%5Cu003c/a%5Cu003e%2C%20under%20%5Cu003ca%20href%3D%5C%22http%3A//creativecommons.org/licenses/by-sa/3.0%5C%22%5Cu003eCC%20BY%20SA%5Cu003c/a%5Cu003e.%22%2C%20%22detectRetina%22%3A%20false%2C%20%22maxNativeZoom%22%3A%2018%2C%20%22maxZoom%22%3A%2018%2C%20%22minZoom%22%3A%200%2C%20%22noWrap%22%3A%20false%2C%20%22opacity%22%3A%201%2C%20%22subdomains%22%3A%20%22abc%22%2C%20%22tms%22%3A%20false%7D%0A%20%20%20%20%20%20%20%20%20%20%20%20%29.addTo%28map_70a48c404ebc45d8989638c875986c0f%29%3B%0A%20%20%20%20%20%20%20%20%0A%20%20%20%20%0A%20%20%20%20%20%20%20%20%20%20%20%20var%20tile_layer_b63120dcfc9440928eafd3ec767726b4%20%3D%20L.tileLayer%28%0A%20%20%20%20%20%20%20%20%20%20%20%20%20%20%20%20%22https%3A//stamen-tiles-%7Bs%7D.a.ssl.fastly.net/toner/%7Bz%7D/%7Bx%7D/%7By%7D.png%22%2C%0A%20%20%20%20%20%20%20%20%20%20%20%20%20%20%20%20%7B%22attribution%22%3A%20%22Map%20tiles%20by%20%5Cu003ca%20href%3D%5C%22http%3A//stamen.com%5C%22%5Cu003eStamen%20Design%5Cu003c/a%5Cu003e%2C%20under%20%5Cu003ca%20href%3D%5C%22http%3A//creativecommons.org/licenses/by/3.0%5C%22%5Cu003eCC%20BY%203.0%5Cu003c/a%5Cu003e.%20Data%20by%20%5Cu0026copy%3B%20%5Cu003ca%20href%3D%5C%22http%3A//openstreetmap.org%5C%22%5Cu003eOpenStreetMap%5Cu003c/a%5Cu003e%2C%20under%20%5Cu003ca%20href%3D%5C%22http%3A//www.openstreetmap.org/copyright%5C%22%5Cu003eODbL%5Cu003c/a%5Cu003e.%22%2C%20%22detectRetina%22%3A%20false%2C%20%22maxNativeZoom%22%3A%2018%2C%20%22maxZoom%22%3A%2018%2C%20%22minZoom%22%3A%200%2C%20%22noWrap%22%3A%20false%2C%20%22opacity%22%3A%201%2C%20%22subdomains%22%3A%20%22abc%22%2C%20%22tms%22%3A%20false%7D%0A%20%20%20%20%20%20%20%20%20%20%20%20%29.addTo%28map_70a48c404ebc45d8989638c875986c0f%29%3B%0A%20%20%20%20%20%20%20%20%0A%20%20%20%20%0A%20%20%20%20%20%20%20%20%20%20%20%20var%20tile_layer_f34928aa310f4060a658e19e249dc7db%20%3D%20L.tileLayer%28%0A%20%20%20%20%20%20%20%20%20%20%20%20%20%20%20%20%22https%3A//stamen-tiles-%7Bs%7D.a.ssl.fastly.net/watercolor/%7Bz%7D/%7Bx%7D/%7By%7D.jpg%22%2C%0A%20%20%20%20%20%20%20%20%20%20%20%20%20%20%20%20%7B%22attribution%22%3A%20%22Map%20tiles%20by%20%5Cu003ca%20href%3D%5C%22http%3A//stamen.com%5C%22%5Cu003eStamen%20Design%5Cu003c/a%5Cu003e%2C%20under%20%5Cu003ca%20href%3D%5C%22http%3A//creativecommons.org/licenses/by/3.0%5C%22%5Cu003eCC%20BY%203.0%5Cu003c/a%5Cu003e.%20Data%20by%20%5Cu0026copy%3B%20%5Cu003ca%20href%3D%5C%22http%3A//openstreetmap.org%5C%22%5Cu003eOpenStreetMap%5Cu003c/a%5Cu003e%2C%20under%20%5Cu003ca%20href%3D%5C%22http%3A//creativecommons.org/licenses/by-sa/3.0%5C%22%5Cu003eCC%20BY%20SA%5Cu003c/a%5Cu003e.%22%2C%20%22detectRetina%22%3A%20false%2C%20%22maxNativeZoom%22%3A%2018%2C%20%22maxZoom%22%3A%2018%2C%20%22minZoom%22%3A%200%2C%20%22noWrap%22%3A%20false%2C%20%22opacity%22%3A%201%2C%20%22subdomains%22%3A%20%22abc%22%2C%20%22tms%22%3A%20false%7D%0A%20%20%20%20%20%20%20%20%20%20%20%20%29.addTo%28map_70a48c404ebc45d8989638c875986c0f%29%3B%0A%20%20%20%20%20%20%20%20%0A%20%20%20%20%0A%20%20%20%20%20%20%20%20%20%20%20%20var%20tile_layer_5df06d8251d74f70bc4c813f99846cc9%20%3D%20L.tileLayer%28%0A%20%20%20%20%20%20%20%20%20%20%20%20%20%20%20%20%22https%3A//cartodb-basemaps-%7Bs%7D.global.ssl.fastly.net/light_all/%7Bz%7D/%7Bx%7D/%7By%7D.png%22%2C%0A%20%20%20%20%20%20%20%20%20%20%20%20%20%20%20%20%7B%22attribution%22%3A%20%22%5Cu0026copy%3B%20%5Cu003ca%20href%3D%5C%22http%3A//www.openstreetmap.org/copyright%5C%22%5Cu003eOpenStreetMap%5Cu003c/a%5Cu003e%20contributors%20%5Cu0026copy%3B%20%5Cu003ca%20href%3D%5C%22http%3A//cartodb.com/attributions%5C%22%5Cu003eCartoDB%5Cu003c/a%5Cu003e%2C%20CartoDB%20%5Cu003ca%20href%20%3D%5C%22http%3A//cartodb.com/attributions%5C%22%5Cu003eattributions%5Cu003c/a%5Cu003e%22%2C%20%22detectRetina%22%3A%20false%2C%20%22maxNativeZoom%22%3A%2018%2C%20%22maxZoom%22%3A%2018%2C%20%22minZoom%22%3A%200%2C%20%22noWrap%22%3A%20false%2C%20%22opacity%22%3A%201%2C%20%22subdomains%22%3A%20%22abc%22%2C%20%22tms%22%3A%20false%7D%0A%20%20%20%20%20%20%20%20%20%20%20%20%29.addTo%28map_70a48c404ebc45d8989638c875986c0f%29%3B%0A%20%20%20%20%20%20%20%20%0A%20%20%20%20%0A%20%20%20%20%20%20%20%20%20%20%20%20var%20tile_layer_9d006d094ab94d99b55117edb7e96cf7%20%3D%20L.tileLayer%28%0A%20%20%20%20%20%20%20%20%20%20%20%20%20%20%20%20%22https%3A//cartodb-basemaps-%7Bs%7D.global.ssl.fastly.net/dark_all/%7Bz%7D/%7Bx%7D/%7By%7D.png%22%2C%0A%20%20%20%20%20%20%20%20%20%20%20%20%20%20%20%20%7B%22attribution%22%3A%20%22%5Cu0026copy%3B%20%5Cu003ca%20href%3D%5C%22http%3A//www.openstreetmap.org/copyright%5C%22%5Cu003eOpenStreetMap%5Cu003c/a%5Cu003e%20contributors%20%5Cu0026copy%3B%20%5Cu003ca%20href%3D%5C%22http%3A//cartodb.com/attributions%5C%22%5Cu003eCartoDB%5Cu003c/a%5Cu003e%2C%20CartoDB%20%5Cu003ca%20href%20%3D%5C%22http%3A//cartodb.com/attributions%5C%22%5Cu003eattributions%5Cu003c/a%5Cu003e%22%2C%20%22detectRetina%22%3A%20false%2C%20%22maxNativeZoom%22%3A%2018%2C%20%22maxZoom%22%3A%2018%2C%20%22minZoom%22%3A%200%2C%20%22noWrap%22%3A%20false%2C%20%22opacity%22%3A%201%2C%20%22subdomains%22%3A%20%22abc%22%2C%20%22tms%22%3A%20false%7D%0A%20%20%20%20%20%20%20%20%20%20%20%20%29.addTo%28map_70a48c404ebc45d8989638c875986c0f%29%3B%0A%20%20%20%20%20%20%20%20%0A%20%20%20%20%0A%20%20%20%20%20%20%20%20%20%20%20%20var%20layer_control_6a8066609ee04d00a00fa1a6edeb8415%20%3D%20%7B%0A%20%20%20%20%20%20%20%20%20%20%20%20%20%20%20%20base_layers%20%3A%20%7B%0A%20%20%20%20%20%20%20%20%20%20%20%20%20%20%20%20%20%20%20%20%22openstreetmap%22%20%3A%20tile_layer_82c13b2f90ee42518802f5ae751d5783%2C%0A%20%20%20%20%20%20%20%20%20%20%20%20%20%20%20%20%20%20%20%20%22stamenterrain%22%20%3A%20tile_layer_c5c03a0a4e13463583c25f1aa9cb6cff%2C%0A%20%20%20%20%20%20%20%20%20%20%20%20%20%20%20%20%20%20%20%20%22stamentoner%22%20%3A%20tile_layer_b63120dcfc9440928eafd3ec767726b4%2C%0A%20%20%20%20%20%20%20%20%20%20%20%20%20%20%20%20%20%20%20%20%22stamenwatercolor%22%20%3A%20tile_layer_f34928aa310f4060a658e19e249dc7db%2C%0A%20%20%20%20%20%20%20%20%20%20%20%20%20%20%20%20%20%20%20%20%22cartodbpositron%22%20%3A%20tile_layer_5df06d8251d74f70bc4c813f99846cc9%2C%0A%20%20%20%20%20%20%20%20%20%20%20%20%20%20%20%20%20%20%20%20%22cartodbdark_matter%22%20%3A%20tile_layer_9d006d094ab94d99b55117edb7e96cf7%2C%0A%20%20%20%20%20%20%20%20%20%20%20%20%20%20%20%20%7D%2C%0A%20%20%20%20%20%20%20%20%20%20%20%20%20%20%20%20overlays%20%3A%20%20%7B%0A%20%20%20%20%20%20%20%20%20%20%20%20%20%20%20%20%7D%2C%0A%20%20%20%20%20%20%20%20%20%20%20%20%7D%3B%0A%20%20%20%20%20%20%20%20%20%20%20%20L.control.layers%28%0A%20%20%20%20%20%20%20%20%20%20%20%20%20%20%20%20layer_control_6a8066609ee04d00a00fa1a6edeb8415.base_layers%2C%0A%20%20%20%20%20%20%20%20%20%20%20%20%20%20%20%20layer_control_6a8066609ee04d00a00fa1a6edeb8415.overlays%2C%0A%20%20%20%20%20%20%20%20%20%20%20%20%20%20%20%20%7B%22autoZIndex%22%3A%20true%2C%20%22collapsed%22%3A%20false%2C%20%22position%22%3A%20%22topright%22%7D%0A%20%20%20%20%20%20%20%20%20%20%20%20%29.addTo%28map_70a48c404ebc45d8989638c875986c0f%29%3B%0A%20%20%20%20%20%20%20%20%20%20%20%20tile_layer_c5c03a0a4e13463583c25f1aa9cb6cff.remove%28%29%3B%0A%20%20%20%20%20%20%20%20%20%20%20%20tile_layer_b63120dcfc9440928eafd3ec767726b4.remove%28%29%3B%0A%20%20%20%20%20%20%20%20%20%20%20%20tile_layer_f34928aa310f4060a658e19e249dc7db.remove%28%29%3B%0A%20%20%20%20%20%20%20%20%20%20%20%20tile_layer_5df06d8251d74f70bc4c813f99846cc9.remove%28%29%3B%0A%20%20%20%20%20%20%20%20%20%20%20%20tile_layer_9d006d094ab94d99b55117edb7e96cf7.remove%28%29%3B%0A%20%20%20%20%20%20%20%20%0A%3C/script%3E onload=\"this.contentDocument.open();this.contentDocument.write(    decodeURIComponent(this.getAttribute('data-html')));this.contentDocument.close();\" allowfullscreen webkitallowfullscreen mozallowfullscreen></iframe></div></div>"
      ],
      "text/plain": [
       "<folium.folium.Map at 0x1cd57172430>"
      ]
     },
     "execution_count": 3,
     "metadata": {},
     "output_type": "execute_result"
    }
   ],
   "source": [
    "# show map tiles using layer control\n",
    "\n",
    "# map\n",
    "map_Ecuador = folium.Map(location =[31, -96], zoom_start=5)\n",
    "\n",
    "# add tiles to map\n",
    "folium.raster_layers.TileLayer('Open Street Map').add_to(map_Ecuador)\n",
    "folium.raster_layers.TileLayer('Stamen Terrain').add_to(map_Ecuador)\n",
    "folium.raster_layers.TileLayer('Stamen Toner').add_to(map_Ecuador)\n",
    "folium.raster_layers.TileLayer('Stamen Watercolor').add_to(map_Ecuador)\n",
    "folium.raster_layers.TileLayer('CartoDB Positron').add_to(map_Ecuador)\n",
    "folium.raster_layers.TileLayer('CartoDB Dark_Matter').add_to(map_Ecuador)\n",
    "\n",
    "# add layer control to show different maps\n",
    "folium.LayerControl(position= 'topright', collapsed = False).add_to(map_Ecuador)\n",
    "\n",
    "# display map\n",
    "map_Ecuador"
   ]
  },
  {
   "cell_type": "code",
   "execution_count": 4,
   "id": "40bc1500",
   "metadata": {},
   "outputs": [
    {
     "data": {
      "text/html": [
       "<div style=\"width:100%;\"><div style=\"position:relative;width:100%;height:0;padding-bottom:60%;\"><span style=\"color:#565656\">Make this Notebook Trusted to load map: File -> Trust Notebook</span><iframe src=\"about:blank\" style=\"position:absolute;width:100%;height:100%;left:0;top:0;border:none !important;\" data-html=%3C%21DOCTYPE%20html%3E%0A%3Chead%3E%20%20%20%20%0A%20%20%20%20%3Cmeta%20http-equiv%3D%22content-type%22%20content%3D%22text/html%3B%20charset%3DUTF-8%22%20/%3E%0A%20%20%20%20%0A%20%20%20%20%20%20%20%20%3Cscript%3E%0A%20%20%20%20%20%20%20%20%20%20%20%20L_NO_TOUCH%20%3D%20false%3B%0A%20%20%20%20%20%20%20%20%20%20%20%20L_DISABLE_3D%20%3D%20false%3B%0A%20%20%20%20%20%20%20%20%3C/script%3E%0A%20%20%20%20%0A%20%20%20%20%3Cstyle%3Ehtml%2C%20body%20%7Bwidth%3A%20100%25%3Bheight%3A%20100%25%3Bmargin%3A%200%3Bpadding%3A%200%3B%7D%3C/style%3E%0A%20%20%20%20%3Cstyle%3E%23map%20%7Bposition%3Aabsolute%3Btop%3A0%3Bbottom%3A0%3Bright%3A0%3Bleft%3A0%3B%7D%3C/style%3E%0A%20%20%20%20%3Cscript%20src%3D%22https%3A//cdn.jsdelivr.net/npm/leaflet%401.6.0/dist/leaflet.js%22%3E%3C/script%3E%0A%20%20%20%20%3Cscript%20src%3D%22https%3A//code.jquery.com/jquery-1.12.4.min.js%22%3E%3C/script%3E%0A%20%20%20%20%3Cscript%20src%3D%22https%3A//maxcdn.bootstrapcdn.com/bootstrap/3.2.0/js/bootstrap.min.js%22%3E%3C/script%3E%0A%20%20%20%20%3Cscript%20src%3D%22https%3A//cdnjs.cloudflare.com/ajax/libs/Leaflet.awesome-markers/2.0.2/leaflet.awesome-markers.js%22%3E%3C/script%3E%0A%20%20%20%20%3Clink%20rel%3D%22stylesheet%22%20href%3D%22https%3A//cdn.jsdelivr.net/npm/leaflet%401.6.0/dist/leaflet.css%22/%3E%0A%20%20%20%20%3Clink%20rel%3D%22stylesheet%22%20href%3D%22https%3A//maxcdn.bootstrapcdn.com/bootstrap/3.2.0/css/bootstrap.min.css%22/%3E%0A%20%20%20%20%3Clink%20rel%3D%22stylesheet%22%20href%3D%22https%3A//maxcdn.bootstrapcdn.com/bootstrap/3.2.0/css/bootstrap-theme.min.css%22/%3E%0A%20%20%20%20%3Clink%20rel%3D%22stylesheet%22%20href%3D%22https%3A//maxcdn.bootstrapcdn.com/font-awesome/4.6.3/css/font-awesome.min.css%22/%3E%0A%20%20%20%20%3Clink%20rel%3D%22stylesheet%22%20href%3D%22https%3A//cdnjs.cloudflare.com/ajax/libs/Leaflet.awesome-markers/2.0.2/leaflet.awesome-markers.css%22/%3E%0A%20%20%20%20%3Clink%20rel%3D%22stylesheet%22%20href%3D%22https%3A//cdn.jsdelivr.net/gh/python-visualization/folium/folium/templates/leaflet.awesome.rotate.min.css%22/%3E%0A%20%20%20%20%0A%20%20%20%20%20%20%20%20%20%20%20%20%3Cmeta%20name%3D%22viewport%22%20content%3D%22width%3Ddevice-width%2C%0A%20%20%20%20%20%20%20%20%20%20%20%20%20%20%20%20initial-scale%3D1.0%2C%20maximum-scale%3D1.0%2C%20user-scalable%3Dno%22%20/%3E%0A%20%20%20%20%20%20%20%20%20%20%20%20%3Cstyle%3E%0A%20%20%20%20%20%20%20%20%20%20%20%20%20%20%20%20%23map_9d6cf9d107cc421e83f7d7831684cf06%20%7B%0A%20%20%20%20%20%20%20%20%20%20%20%20%20%20%20%20%20%20%20%20position%3A%20relative%3B%0A%20%20%20%20%20%20%20%20%20%20%20%20%20%20%20%20%20%20%20%20width%3A%20100.0%25%3B%0A%20%20%20%20%20%20%20%20%20%20%20%20%20%20%20%20%20%20%20%20height%3A%20100.0%25%3B%0A%20%20%20%20%20%20%20%20%20%20%20%20%20%20%20%20%20%20%20%20left%3A%200.0%25%3B%0A%20%20%20%20%20%20%20%20%20%20%20%20%20%20%20%20%20%20%20%20top%3A%200.0%25%3B%0A%20%20%20%20%20%20%20%20%20%20%20%20%20%20%20%20%7D%0A%20%20%20%20%20%20%20%20%20%20%20%20%3C/style%3E%0A%20%20%20%20%20%20%20%20%0A%3C/head%3E%0A%3Cbody%3E%20%20%20%20%0A%20%20%20%20%0A%20%20%20%20%20%20%20%20%20%20%20%20%3Cdiv%20class%3D%22folium-map%22%20id%3D%22map_9d6cf9d107cc421e83f7d7831684cf06%22%20%3E%3C/div%3E%0A%20%20%20%20%20%20%20%20%0A%3C/body%3E%0A%3Cscript%3E%20%20%20%20%0A%20%20%20%20%0A%20%20%20%20%20%20%20%20%20%20%20%20var%20map_9d6cf9d107cc421e83f7d7831684cf06%20%3D%20L.map%28%0A%20%20%20%20%20%20%20%20%20%20%20%20%20%20%20%20%22map_9d6cf9d107cc421e83f7d7831684cf06%22%2C%0A%20%20%20%20%20%20%20%20%20%20%20%20%20%20%20%20%7B%0A%20%20%20%20%20%20%20%20%20%20%20%20%20%20%20%20%20%20%20%20center%3A%20%5B31.0%2C%20-94.0%5D%2C%0A%20%20%20%20%20%20%20%20%20%20%20%20%20%20%20%20%20%20%20%20crs%3A%20L.CRS.EPSG3857%2C%0A%20%20%20%20%20%20%20%20%20%20%20%20%20%20%20%20%20%20%20%20zoom%3A%206%2C%0A%20%20%20%20%20%20%20%20%20%20%20%20%20%20%20%20%20%20%20%20zoomControl%3A%20true%2C%0A%20%20%20%20%20%20%20%20%20%20%20%20%20%20%20%20%20%20%20%20preferCanvas%3A%20false%2C%0A%20%20%20%20%20%20%20%20%20%20%20%20%20%20%20%20%7D%0A%20%20%20%20%20%20%20%20%20%20%20%20%29%3B%0A%20%20%20%20%20%20%20%20%20%20%20%20L.control.scale%28%29.addTo%28map_9d6cf9d107cc421e83f7d7831684cf06%29%3B%0A%0A%20%20%20%20%20%20%20%20%20%20%20%20%0A%0A%20%20%20%20%20%20%20%20%0A%20%20%20%20%0A%20%20%20%20%20%20%20%20%20%20%20%20var%20tile_layer_11fc5d5f85664e6d9076f0d73542a8dd%20%3D%20L.tileLayer%28%0A%20%20%20%20%20%20%20%20%20%20%20%20%20%20%20%20%22https%3A//%7Bs%7D.tile.openstreetmap.org/%7Bz%7D/%7Bx%7D/%7By%7D.png%22%2C%0A%20%20%20%20%20%20%20%20%20%20%20%20%20%20%20%20%7B%22attribution%22%3A%20%22Data%20by%20%5Cu0026copy%3B%20%5Cu003ca%20href%3D%5C%22http%3A//openstreetmap.org%5C%22%5Cu003eOpenStreetMap%5Cu003c/a%5Cu003e%2C%20under%20%5Cu003ca%20href%3D%5C%22http%3A//www.openstreetmap.org/copyright%5C%22%5Cu003eODbL%5Cu003c/a%5Cu003e.%22%2C%20%22detectRetina%22%3A%20false%2C%20%22maxNativeZoom%22%3A%2018%2C%20%22maxZoom%22%3A%2018%2C%20%22minZoom%22%3A%200%2C%20%22noWrap%22%3A%20false%2C%20%22opacity%22%3A%201%2C%20%22subdomains%22%3A%20%22abc%22%2C%20%22tms%22%3A%20false%7D%0A%20%20%20%20%20%20%20%20%20%20%20%20%29.addTo%28map_9d6cf9d107cc421e83f7d7831684cf06%29%3B%0A%20%20%20%20%20%20%20%20%0A%20%20%20%20%0A%20%20%20%20%20%20%20%20%20%20%20%20var%20poly_line_6ce01f2c61a24f0480f12a741b6f8cd7%20%3D%20L.polyline%28%0A%20%20%20%20%20%20%20%20%20%20%20%20%20%20%20%20%5B%5B32.7767%2C%20-96.797%5D%2C%20%5B29.7604%2C%20-95.3698%5D%5D%2C%0A%20%20%20%20%20%20%20%20%20%20%20%20%20%20%20%20%7B%22bubblingMouseEvents%22%3A%20true%2C%20%22color%22%3A%20%22blue%22%2C%20%22dashArray%22%3A%20null%2C%20%22dashOffset%22%3A%20null%2C%20%22fill%22%3A%20false%2C%20%22fillColor%22%3A%20%22blue%22%2C%20%22fillOpacity%22%3A%200.2%2C%20%22fillRule%22%3A%20%22evenodd%22%2C%20%22lineCap%22%3A%20%22round%22%2C%20%22lineJoin%22%3A%20%22round%22%2C%20%22noClip%22%3A%20false%2C%20%22opacity%22%3A%201.0%2C%20%22smoothFactor%22%3A%201.0%2C%20%22stroke%22%3A%20true%2C%20%22weight%22%3A%203%7D%0A%20%20%20%20%20%20%20%20%20%20%20%20%29.addTo%28map_9d6cf9d107cc421e83f7d7831684cf06%29%3B%0A%20%20%20%20%20%20%20%20%0A%20%20%20%20%0A%20%20%20%20%20%20%20%20%20%20%20%20var%20poly_line_db530343d25442c8aa90bb4c5cda9a6c%20%3D%20L.polyline%28%0A%20%20%20%20%20%20%20%20%20%20%20%20%20%20%20%20%5B%5B32.7767%2C%20-96.797%5D%2C%20%5B30.2672%2C%20-97.7431%5D%5D%2C%0A%20%20%20%20%20%20%20%20%20%20%20%20%20%20%20%20%7B%22bubblingMouseEvents%22%3A%20true%2C%20%22color%22%3A%20%22red%22%2C%20%22dashArray%22%3A%20null%2C%20%22dashOffset%22%3A%20null%2C%20%22fill%22%3A%20false%2C%20%22fillColor%22%3A%20%22red%22%2C%20%22fillOpacity%22%3A%200.2%2C%20%22fillRule%22%3A%20%22evenodd%22%2C%20%22lineCap%22%3A%20%22round%22%2C%20%22lineJoin%22%3A%20%22round%22%2C%20%22noClip%22%3A%20false%2C%20%22opacity%22%3A%201.0%2C%20%22smoothFactor%22%3A%201.0%2C%20%22stroke%22%3A%20true%2C%20%22weight%22%3A%203%7D%0A%20%20%20%20%20%20%20%20%20%20%20%20%29.addTo%28map_9d6cf9d107cc421e83f7d7831684cf06%29%3B%0A%20%20%20%20%20%20%20%20%0A%20%20%20%20%0A%20%20%20%20%20%20%20%20%20%20%20%20var%20poly_line_2c0e302934784751b9a895e51e0c9ee4%20%3D%20L.polyline%28%0A%20%20%20%20%20%20%20%20%20%20%20%20%20%20%20%20%5B%5B30.93%2C%20-99.42%5D%2C%20%5B30.93%2C%20-95.98%5D%2C%20%5B29.03%2C%20-95.98%5D%2C%20%5B29.03%2C%20-99.42%5D%2C%20%5B30.93%2C%20-99.42%5D%5D%2C%0A%20%20%20%20%20%20%20%20%20%20%20%20%20%20%20%20%7B%22bubblingMouseEvents%22%3A%20true%2C%20%22color%22%3A%20%22black%22%2C%20%22dashArray%22%3A%20null%2C%20%22dashOffset%22%3A%20null%2C%20%22fill%22%3A%20false%2C%20%22fillColor%22%3A%20%22black%22%2C%20%22fillOpacity%22%3A%200.2%2C%20%22fillRule%22%3A%20%22evenodd%22%2C%20%22lineCap%22%3A%20%22round%22%2C%20%22lineJoin%22%3A%20%22round%22%2C%20%22noClip%22%3A%20false%2C%20%22opacity%22%3A%201.0%2C%20%22smoothFactor%22%3A%201.0%2C%20%22stroke%22%3A%20true%2C%20%22weight%22%3A%203%7D%0A%20%20%20%20%20%20%20%20%20%20%20%20%29.addTo%28map_9d6cf9d107cc421e83f7d7831684cf06%29%3B%0A%20%20%20%20%20%20%20%20%0A%3C/script%3E onload=\"this.contentDocument.open();this.contentDocument.write(    decodeURIComponent(this.getAttribute('data-html')));this.contentDocument.close();\" allowfullscreen webkitallowfullscreen mozallowfullscreen></iframe></div></div>"
      ],
      "text/plain": [
       "<folium.folium.Map at 0x1cd571ef9a0>"
      ]
     },
     "execution_count": 4,
     "metadata": {},
     "output_type": "execute_result"
    }
   ],
   "source": [
    "lines_map = folium.Map(location=[31, -94], control_scale=True, zoom_start=6)\n",
    "\n",
    "line_points1 = [(32.7767, -96.7970) ,(29.7604, -95.3698)]\n",
    "\n",
    "folium.PolyLine(locations=line_points1, weight=3, color = 'blue').add_to(lines_map)\n",
    "\n",
    "line_points2 = [(32.7767, -96.7970), (30.2672, -97.7431)]\n",
    "\n",
    "folium.PolyLine(locations=line_points2, weight=3, color = 'red').add_to(lines_map)\n",
    "\n",
    "line_points3 = [(30.93, -99.42), (30.93, -95.98), (29.03, -95.98), (29.03,-99.42), (30.93, -99.42)]\n",
    "\n",
    "folium.PolyLine(locations=line_points3, weight=3, color = 'black').add_to(lines_map)\n",
    "\n",
    "lines_map"
   ]
  },
  {
   "cell_type": "code",
   "execution_count": 5,
   "id": "eaac348d",
   "metadata": {},
   "outputs": [
    {
     "data": {
      "text/html": [
       "<div style=\"width:100%;\"><div style=\"position:relative;width:100%;height:0;padding-bottom:60%;\"><span style=\"color:#565656\">Make this Notebook Trusted to load map: File -> Trust Notebook</span><iframe src=\"about:blank\" style=\"position:absolute;width:100%;height:100%;left:0;top:0;border:none !important;\" data-html=%3C%21DOCTYPE%20html%3E%0A%3Chead%3E%20%20%20%20%0A%20%20%20%20%3Cmeta%20http-equiv%3D%22content-type%22%20content%3D%22text/html%3B%20charset%3DUTF-8%22%20/%3E%0A%20%20%20%20%0A%20%20%20%20%20%20%20%20%3Cscript%3E%0A%20%20%20%20%20%20%20%20%20%20%20%20L_NO_TOUCH%20%3D%20false%3B%0A%20%20%20%20%20%20%20%20%20%20%20%20L_DISABLE_3D%20%3D%20false%3B%0A%20%20%20%20%20%20%20%20%3C/script%3E%0A%20%20%20%20%0A%20%20%20%20%3Cstyle%3Ehtml%2C%20body%20%7Bwidth%3A%20100%25%3Bheight%3A%20100%25%3Bmargin%3A%200%3Bpadding%3A%200%3B%7D%3C/style%3E%0A%20%20%20%20%3Cstyle%3E%23map%20%7Bposition%3Aabsolute%3Btop%3A0%3Bbottom%3A0%3Bright%3A0%3Bleft%3A0%3B%7D%3C/style%3E%0A%20%20%20%20%3Cscript%20src%3D%22https%3A//cdn.jsdelivr.net/npm/leaflet%401.6.0/dist/leaflet.js%22%3E%3C/script%3E%0A%20%20%20%20%3Cscript%20src%3D%22https%3A//code.jquery.com/jquery-1.12.4.min.js%22%3E%3C/script%3E%0A%20%20%20%20%3Cscript%20src%3D%22https%3A//maxcdn.bootstrapcdn.com/bootstrap/3.2.0/js/bootstrap.min.js%22%3E%3C/script%3E%0A%20%20%20%20%3Cscript%20src%3D%22https%3A//cdnjs.cloudflare.com/ajax/libs/Leaflet.awesome-markers/2.0.2/leaflet.awesome-markers.js%22%3E%3C/script%3E%0A%20%20%20%20%3Clink%20rel%3D%22stylesheet%22%20href%3D%22https%3A//cdn.jsdelivr.net/npm/leaflet%401.6.0/dist/leaflet.css%22/%3E%0A%20%20%20%20%3Clink%20rel%3D%22stylesheet%22%20href%3D%22https%3A//maxcdn.bootstrapcdn.com/bootstrap/3.2.0/css/bootstrap.min.css%22/%3E%0A%20%20%20%20%3Clink%20rel%3D%22stylesheet%22%20href%3D%22https%3A//maxcdn.bootstrapcdn.com/bootstrap/3.2.0/css/bootstrap-theme.min.css%22/%3E%0A%20%20%20%20%3Clink%20rel%3D%22stylesheet%22%20href%3D%22https%3A//maxcdn.bootstrapcdn.com/font-awesome/4.6.3/css/font-awesome.min.css%22/%3E%0A%20%20%20%20%3Clink%20rel%3D%22stylesheet%22%20href%3D%22https%3A//cdnjs.cloudflare.com/ajax/libs/Leaflet.awesome-markers/2.0.2/leaflet.awesome-markers.css%22/%3E%0A%20%20%20%20%3Clink%20rel%3D%22stylesheet%22%20href%3D%22https%3A//cdn.jsdelivr.net/gh/python-visualization/folium/folium/templates/leaflet.awesome.rotate.min.css%22/%3E%0A%20%20%20%20%0A%20%20%20%20%20%20%20%20%20%20%20%20%3Cmeta%20name%3D%22viewport%22%20content%3D%22width%3Ddevice-width%2C%0A%20%20%20%20%20%20%20%20%20%20%20%20%20%20%20%20initial-scale%3D1.0%2C%20maximum-scale%3D1.0%2C%20user-scalable%3Dno%22%20/%3E%0A%20%20%20%20%20%20%20%20%20%20%20%20%3Cstyle%3E%0A%20%20%20%20%20%20%20%20%20%20%20%20%20%20%20%20%23map_4f71f27e3ac142aaaed83b1761a368a2%20%7B%0A%20%20%20%20%20%20%20%20%20%20%20%20%20%20%20%20%20%20%20%20position%3A%20relative%3B%0A%20%20%20%20%20%20%20%20%20%20%20%20%20%20%20%20%20%20%20%20width%3A%20100.0%25%3B%0A%20%20%20%20%20%20%20%20%20%20%20%20%20%20%20%20%20%20%20%20height%3A%20100.0%25%3B%0A%20%20%20%20%20%20%20%20%20%20%20%20%20%20%20%20%20%20%20%20left%3A%200.0%25%3B%0A%20%20%20%20%20%20%20%20%20%20%20%20%20%20%20%20%20%20%20%20top%3A%200.0%25%3B%0A%20%20%20%20%20%20%20%20%20%20%20%20%20%20%20%20%7D%0A%20%20%20%20%20%20%20%20%20%20%20%20%3C/style%3E%0A%20%20%20%20%20%20%20%20%0A%3C/head%3E%0A%3Cbody%3E%20%20%20%20%0A%20%20%20%20%0A%20%20%20%20%20%20%20%20%20%20%20%20%3Cdiv%20class%3D%22folium-map%22%20id%3D%22map_4f71f27e3ac142aaaed83b1761a368a2%22%20%3E%3C/div%3E%0A%20%20%20%20%20%20%20%20%0A%3C/body%3E%0A%3Cscript%3E%20%20%20%20%0A%20%20%20%20%0A%20%20%20%20%20%20%20%20%20%20%20%20var%20map_4f71f27e3ac142aaaed83b1761a368a2%20%3D%20L.map%28%0A%20%20%20%20%20%20%20%20%20%20%20%20%20%20%20%20%22map_4f71f27e3ac142aaaed83b1761a368a2%22%2C%0A%20%20%20%20%20%20%20%20%20%20%20%20%20%20%20%20%7B%0A%20%20%20%20%20%20%20%20%20%20%20%20%20%20%20%20%20%20%20%20center%3A%20%5B31.0%2C%20-94.0%5D%2C%0A%20%20%20%20%20%20%20%20%20%20%20%20%20%20%20%20%20%20%20%20crs%3A%20L.CRS.EPSG3857%2C%0A%20%20%20%20%20%20%20%20%20%20%20%20%20%20%20%20%20%20%20%20zoom%3A%207%2C%0A%20%20%20%20%20%20%20%20%20%20%20%20%20%20%20%20%20%20%20%20zoomControl%3A%20true%2C%0A%20%20%20%20%20%20%20%20%20%20%20%20%20%20%20%20%20%20%20%20preferCanvas%3A%20false%2C%0A%20%20%20%20%20%20%20%20%20%20%20%20%20%20%20%20%7D%0A%20%20%20%20%20%20%20%20%20%20%20%20%29%3B%0A%0A%20%20%20%20%20%20%20%20%20%20%20%20%0A%0A%20%20%20%20%20%20%20%20%0A%20%20%20%20%0A%20%20%20%20%20%20%20%20%20%20%20%20var%20tile_layer_c9c8bde0f59a4f448762f11f5dbf4b2a%20%3D%20L.tileLayer%28%0A%20%20%20%20%20%20%20%20%20%20%20%20%20%20%20%20%22https%3A//%7Bs%7D.tile.openstreetmap.org/%7Bz%7D/%7Bx%7D/%7By%7D.png%22%2C%0A%20%20%20%20%20%20%20%20%20%20%20%20%20%20%20%20%7B%22attribution%22%3A%20%22Data%20by%20%5Cu0026copy%3B%20%5Cu003ca%20href%3D%5C%22http%3A//openstreetmap.org%5C%22%5Cu003eOpenStreetMap%5Cu003c/a%5Cu003e%2C%20under%20%5Cu003ca%20href%3D%5C%22http%3A//www.openstreetmap.org/copyright%5C%22%5Cu003eODbL%5Cu003c/a%5Cu003e.%22%2C%20%22detectRetina%22%3A%20false%2C%20%22maxNativeZoom%22%3A%2018%2C%20%22maxZoom%22%3A%2018%2C%20%22minZoom%22%3A%200%2C%20%22noWrap%22%3A%20false%2C%20%22opacity%22%3A%201%2C%20%22subdomains%22%3A%20%22abc%22%2C%20%22tms%22%3A%20false%7D%0A%20%20%20%20%20%20%20%20%20%20%20%20%29.addTo%28map_4f71f27e3ac142aaaed83b1761a368a2%29%3B%0A%20%20%20%20%20%20%20%20%0A%20%20%20%20%0A%20%20%20%20%20%20%20%20%20%20%20%20var%20marker_6ee924d0655d4b069dd4475874d3e083%20%3D%20L.marker%28%0A%20%20%20%20%20%20%20%20%20%20%20%20%20%20%20%20%5B32.7767%2C%20-96.797%5D%2C%0A%20%20%20%20%20%20%20%20%20%20%20%20%20%20%20%20%7B%7D%0A%20%20%20%20%20%20%20%20%20%20%20%20%29.addTo%28map_4f71f27e3ac142aaaed83b1761a368a2%29%3B%0A%20%20%20%20%20%20%20%20%0A%20%20%20%20%0A%20%20%20%20%20%20%20%20var%20custom_icon_27ab0a8aa18944ecbf183b96bd83c8f9%20%3D%20L.icon%28%7B%22iconAnchor%22%3A%20%5B22%2C%2074%5D%2C%20%22iconSize%22%3A%20%5B50%2C%2050%5D%2C%20%22iconUrl%22%3A%20%22data%3Aimage/png%3Bbase64%2CiVBORw0KGgoAAAANSUhEUgAAAgAAAAIACAYAAAD0eNT6AAAACXBIWXMAAAsTAAALEwEAmpwYAAAgAElEQVR4nOydB5gUx5n3cc4%2BW7bPvrM/n3332efz%2BexzuPBdtH2yfZKzLRQsibTsTPfusiTlhIQSQjkhCZQlkFAkigwChACRNszu9AACIQQi7S47PYsEkqiv31kaenq7p7s6vlX79vPUA7s7/euqt7r7/5/ut6oGnHzyjz9slA8ZZUCQDfY7tv%2BHLYV4xCNeRDy2PvOhnnz9X5YKdf/YrSk/f3Pj8LP2NWVUo1yyryU78UBL5j49n52mF9SZJU1dpGvqy8b/15fyyhbj3%2B2lgtppLcbvjhj/Mii6prCDbQrrbMse6WrLdvYWpdP4vfE5ZdsxxnpgltnlYyjTjH0nGZ%2B5zvjdBT0FNWP8fWBxc/ZnB9sz38strvmriWPO%2BDiW%2BBGPeMRzB8jTGOIRTzBecfOIL5Q2K9/vySu/KRYyDYbATjDE9XGjLDNEtc0Q2312sTZE%2BniBn%2BH35md4Suy81sy%2BrlwmZ/x%2BWamgPAZtgzb2bFZ/DWamqGU%2Bj60/iEe8fsWTqjHEIx4y3hVX/PxjhWXDv7lzQ80p%2Bzdl6ot55Sbjm/XzhmC2GsJ4CI1Yp8TrjYHSAjEpasqNPYVs1jAKJxdbar82duzvPoK9f4lHPBl4qR6ceMSTgQeP6UG8utuUkQdaslM6c9lVnW2ZkixinTSvsy17uLM1297Rmn1mf0t2fHe7MlDfUvf3jA38QBr9SzziychL9eDEI55oPHgnD0JkfHMdVNLU2w3ReknX1B6RxFVkHuQwwOsR499H9bwysqjV/Qfblfk41vOFeMTDykv14MQjHnYefNvU8/X/UNKU4XpBuf/Y4%2Bp3sIgh8UxTAH2iNBumYIphymr0duU7L71U/37Rzz/iES9OXqoHJx7xsPF2NNV9ulTInmp8w7zWEJWlhrgURRND4vXyunLZ7s7WzJJ9zZnrd60b/ut50884Cfv5RzziJclL9eDEI17avNlTT//cznW1/7u/JTvREI2XrEPkZBJD4imsmFfehVcHRU29rzxs0WMUQhLnH/GIlyYv1YMTj3hJ8zpaGz62a2PNKfubszd1tGaaOnPZoyKIF/Gi5xm/e0/Pqxv1gnIDJG%2By7YM/Ktr5TDziheGlenDiES8JXqmQ/R5MWKPnlUWdOeUtGcSLeNHzYEiiURYY/z8P8j6wns/EI15UPKkaQzziwQbf5OAbHWTo65q6A6PYEA8/r7Mt89r%2B5uyUNzfW/v6p%2B37/aVmuD%2BIRz%2BRJ1Rji9V9ed3v950p5ZZheUGYYpSSa2BAPN6%2BzLVsq5pXnSoW6IQdzNSeJdn0Qj3i%2BeFI1hnhS8yCJC8biG9/yZ7sl74koNsTDzTPOt3dLMPdDXhlZasv8Bdbrg3jEI/EnnlQ8fWvNFw2xH2EI/0pI4sImDsTrX7yyGcgry43P1MO6DmlfH8QjXiCeVI0hnlQ89vroj8GwrWrf9DGKA/H6F898MgCrI762YfCnRL3eiNfPeFI1hnhS8G674KyPdWvZX5U0ZbrOsWgOVnEgXv/ideaUno6W7PRdG2p/CwtCYb/eiNdPeVI1hnjC87Tlw74DC78U88oOLDdz4hEvDK%2BzLbvbOJ9hRMp3sV1vxOvnPKkaQzwheTAb395NWaWjNbsa%2B82ceMQLyXsJ1irYm6v7ZFrXG/GIZ91JnsYQTyjellVDv7OvJTvRuFF2CnozJx7xgvKKMCUxTFIl6vVLPAl4UjWGeOh5LDfww7Cue2drdrFEN3PiES8wTy%2Bo6yFxEJJdsV%2B/xJOMJ1VjiIeW15Ov/0vjhniNns/uw3TzJR7x0PA0da9hjq9uWTjoq9iuX%2BJJypOqMcRDxyttqfvBsdXX3kJ98yUe8ZDwOtuyhztas8/sXDfsP9O%2BfoknOU%2BqxhAPBY%2Bxce8v5utO0wvKKtFuvsQjHi5edmWxoP4BrilR7wfEw89L9eDEk4MH7/dhal7jhpaX4%2BZLPOLh4Oma%2BipMPey0ZDHW%2BwHxxOClenDiic/bnx/2Kbg5GTepNzDcLIlHPGl5mrpHL6hXdm0f%2BRms9wPiicNL9eDEE5sHq6IZon%2B1cVM6iPJmSTziycrTlC69oFx1sEX9LJb7AfHE46V6cOKJyYOld%2BFbCNyEhLhZEo940vIU3bgWJ7y5YehJstxfiJccL9WDE08sHiy/2yv8zt/48d8siUc8OXkGQz/QnL1z/aKzvyLq/YV4yfNSPTjxxODBtKWG6F/oJfyi3CyJRzx5eRl9f0t24hu5mj8T5f5CvPR4qR6ceLh5kNUPM5RB4hGOmxvxiEc8XzwtewBMu59RA2ndX4iXPk%2BqxhAvGh5bNu6DpUJdra5ld6K8uRGPeMTzxdM1dUcprwxjbOAHsNxfiIeHJ1VjiBeepxfUk0sFpUWEmxvxiEc837x8SVNOSfv%2BQjzkPKkaQzzfvM72zLeLmjpX0Jsb8YhHPF/7q7MPbs78jej3K%2BLFwJOqMcTzxWtbOuRrxXz2IeMG8p7oNzfiEY94vjhv6wXlhh1NdZ8W7X5FvJh4UjWGeJ68u6/43Sf2bcqMMW4GRZlubsQjHvH88QzGgb0bM2OuuOLnH8N%2BvyJejDypGkM8T97OVzK/6Mpl2zDdjIhHPOKlw%2BtozW7auT7zU6z3K%2BLFyJOqMcSrysutGPItWGYU882IeMQjXjo8yA94S2v4Opb7FfES4EnVGOI58uBx//7m2ss7c9m3RLkZEY94xEueZ/z/UElTL4ChwGndr4iXIE%2BqxhCvD2/b6uH/1JHLbhDxZkQ84hEvLZ7S3KOp/yT6/Y94HjypGkO847y5j5376X0t2YnGt/53xb8ZEY94xEuapxeUd0qaejtrGvsJ0e5/xPPJk6oxxCvzIKGnM5cpyHQzIh7xiJcOT9fUV2GCMFHuf8Tj4EnVmH7O29Xe8JkDLdkpxrf%2Bo1huHsQjHvGk4T21ZvaQL2G9/xEvAE%2BqxvRjXlFTfm0I/xuIbx7EIx7xROe1Zvfs2ZQZhu3%2BR7xwvFQPTrzgvJ5C5svFvDJbiJsH8YhHPCl4HbnMzI6m4X%2BR9v2PeCT%2B/ZbXU8j%2BXteyB0S7eRCPeMSTgKcpXXpBOTOt%2Bx/xSPz7JY%2B9PvpjkJ0r9M2DeMQjnhQ8vaA%2BujdX90lR76f9mZfqwYnHz%2BvJZ35UKigFWW4exCMe8cTn6QVl26Etmf8n2v20v/NSPTjx/PMYG/A%2BPa%2BMNNz24bQvduIRj3jE67NfQXnHuD9dydjAD2C/nxKvl5fqwYnnbzv0auarJU15EdPFTjziEY94zgz1ZXNNAYz3U%2BKd4KV6cOJ5b8V83WnGRdWB9WInHvGIR7w%2BRVMPdrdlzsZ2PyVeJU%2BqxsjEO1Bo%2BDQk1whxsROPeMQjngPvQEvmkeceOfuktO%2BnxHPmSdUYWXjdeeVvdU1tE%2B1iJx7xiEc8Ow%2BmJd%2B2Zvj3ZLk/S82TqjEC8nryym/g8ZmoFzvxiEc84jnwivA6M%2Bn7KfFI/IXgQeasXlAnGN/8j0pwsROPeMQjXgWvfG%2BD1QWXjfugaPdn6XlSNUYwXlHLfL6kKQtlutiJRzziEc%2BRpykv6ltrvijK/Vl6nlSNEYxX2lL3A%2BOb/3Y0FyfxiEc84sXM07Xszp5C3b9gvz9Lz5OqMYLxSgVlkHGRHMJ2cRKPeMQjXtw84zNvlwp1tVjvz/2CJ1VjBOGxQsNHjJN/MuaLk3jEIx7xkuDBcGdY3wTL/blf8aRqjAC8nnz9XxYLyiuiXJzEIx7xiBc3r5jPrmmeN/T/pH1/7nc8qRqDnKe3K9/RNXWHaBcn8YhHPOLFzetszb6xbfXwf5Llfi8ET6rGIObpBfVk6/h%2B0S5O4hGPeMRLgFfcvaH216Lf74XhSdUYpLzSZnWoYQCOSHBxEo94xCNerLyiln2np5DNinq/F4onVWOQ8cpL%2BBbUK2W6OIlHPOIRLxEeTBpk3ENFud%2BLzEv14DLyINPfOIkfR3MxEY94xCOeeLyn2PbBH8V%2BvxeZl%2BrBZeQdzNWcBLNdIbyYiEc84hFPKJ5eUFbBbKlY7/ci81I9uIy8twrqXxsnbR7rxUQ84hGPeMLx8sqW7rbsN7Dd70XnpXpw2Xg9hcw/G9/896G/mIhHPOIRTzSepu7pyas/xHK/l4GX6sFl4un57I8N8e8W5mIiHvGIRzzheIp%2BMKf8JO37vSy8VA8uC69ns/prXVPfEu9iIh7xiEc8sXidOaXnjQ21p8qiH2nyUj24DDxD%2BM/RC8o7ol5MxCMe8YgnGq%2BzLXv4zQ3DB4quH2nzpGpM8uJfN9owAEdFv5iIRzziEU80XlebcqS7XTlDVP3AwJOqMUnySgXlfJkuJuIRj3jEE41nfAF7t6SpNaLpB1qeVI2JiWeccBdiOPmJRzziEa%2B/8%2BAprPHzKFH0Ay1PqsbExHOb2leWi4l4xCMe8YTkaco47PqBlidVY2LiGU7zarQnP/GIRzzi9XOe8QVtAlb9QMuTqjEx8Qzxvxb7yU884hGPeP2dZ5iA8dj0Ay1PqsbExKNv/sQjHvGIJxBPUy7Coh%2BoeVI1JgZeSVOvEO7kJx7xiEe8fs7rblfGpK0f6HlSNSZinl5Qxop68hOPeMQjXn/mdeWUo3s3ZRVZ9CgWnlSNiZBnnECjRD75iUc84hGvv/M6c9l3d2/InC26HsXGk6oxEfFKmnIuzfBHPOIRj3ji82DGwKKm/FpUPYqVJ1VjIuCV8nW/pbn9iUc84hFPHp5eUA8bX%2BxOEU2PYudJ1ZiQPONE%2BSmt6kc84hGPePLxjHt7T7FQ91%2Bi6FGSvFQPjoHXU8j8M6w1jeVkJR7xiEc84kXM09SDPXn1h9j1KEleqgfHwHtLa/i6cWLsRXeyEo94xCMe8aLm7T%2B4pe7/YtWjJHmpHhwD72Cu5iTjhNAQn6zEIx7xiEe8aHn5gy3qZ7HpUdK8VA%2BeNo/lBn7Y%2BOa/RICTlXjEIx7xiBclL68sZ4WGj2DRozR4qR48VfFnA96nF9RHhTlZiUc84hGPeJHydE19Ytq0r74vbT1Ki5fqwdPkuS3ug/lkJR7xiEc84kXL29%2BSHZ%2B2HqXFS/XgafFKeWWYqCcr8YhHPOIRLzpeZy57dM%2Bm2hpZ9I2HJ1VjfH3zz2d/XJ4UQtCTlXjEIx7xiBctr7Mte2TXhtr/FV3feHlSNcaLV9yc/XZJU7pEP1mJRzziEY94EfPy2W49X/8PoupbJDypGmPZSm2Zv9A1dYc0JyvxiEc84hEvUp5eULeXcnVfEk3fIuFJ1RjLxrYP/mixoLyS9slFPOIRj3jEw80zviiuNocHiqBvkfCkaoxt0wvK/VhOLuIRj3jEIx5unmEC7hVF30LzpGqMbespqBlsJxfxiEc84hEPOU9Ta7DrW2ieVI2xbbDAj9HJb6M8uYhHPOIRj3hoebAybE8%2B8yOs%2BhYJT6rGWLbu9vrPlRM6kJ5cxCMe8YhHPNw8SBwvapnPY9O3yHhSNebYxtjADxidvAD7yUU84hGPeMTDzlMWt7b%2B7gNY9C1SnlSNObYVNeVGcU4u4hGPeMQjHmbe/ubs9Vj0LVKeVI0xth5N/Z2uqUdFOrmIRzziEY94eHkwXfCu9Zkz09a3yHkyNaY7r/xtSVO6RTu5iEc84hGPeOh5xa2rh31XFr08Dknt4BHyDhQaPm10mibwyUU84hGPeMTDzMsrbXtzdZ9MWt/i5qV68Ch4ekF9VPiTi3jEIx7xiIeaBxPLJa1vcfJSPXgUvGK%2B7jRZTi7iEY94xCMebl5RU88QVS8Dbxgb01No%2BIrRIR0ynVzEIx7xiEc8xDxN6Tr0auaroumlnZfqwcPyGBv3fr2gLE39ZCAe8YhHPOL1L15eWQ5zzoiil068VA8elmd0wqVoTgbiEY94xCNe/%2BJp6gWi6KUTL9WDh%2BH15NUf6gX1MKqTgXjEIx7xiNdveIYGHYE1Z7DrpRsv1YMH5bGmsZ8wgq9hOxmIRzziEY94/YyXV7bA0ECselmNl%2BrBg/JgGAbak4F4xCMe8YjXr3jd%2Bew9WPWyGi/Vgwfh9RSyv8d%2BMhCPeMQjHvH6F%2B/N9Zk/YtNLbh5u8c98WdeyB0Q4GYhHPOIRj3j9iJfL7t80b9BXseglNw%2Bz%2BMNW1LIzhDkZiEc84hGPeP2K19GamYtFL6US/%2B589kzRTgbiEY94xCNe/%2BLpm7N/SlsvpRL/NzcMPakrl90j4slAPOIRj3jE60c8LXtA31rzxbT0Uirxh/0OtGQfFfZkIB7xiEc84vUrnl5QZqSll1w87OL/xiu1P%2BvMZY%2BKfDIQj3jEIx7x%2BhcPFqlLWi%2B5eZjFf%2BH0M/%2BsszW7VYaTgXjEIx7xiNePeJq652CL%2Btmk9DIQD6v4w/4HWjK3SnMyEI94xCMe8foVz/jMPUnpZSAeVvHfsXr4v3Xmsu/KdDIQj3jEIx7x%2Bg/P%2BNx73Xn13%2BLWy8A8jOI/ccwZH%2B9ozW5Ku/OIRzziEY94xAvJa2XrMx9CJ/4mJLWDu/D2N9dejqjziEc84hGPeMQLzCu2KxeiE/%2BgW5zin1sx5FuduexbmDqPeMQjHvGIR7ygvM6c0tO%2BaNj/JfH34B1oyczG1nnEIx7xiEc84oXhdbRmniXxr8J7Y0PtqVg7j3jEIx7xiEe8MLzd64b/Eov4c%2BcKxCn%2BD0w49ZNGgDTMnUc84hGPeMQjXmBePtsOCYFh9TIq/U314Fbe/pbspeg7j3jEIx7xiEe8EDxdU8eE1cuo9DfVg5ulbemQr%2BlaVheh84hHPOIRj3jEC8zTlG6/iwXFrb%2BpHtzkFfPKw8J0HvGIRzziEY94IXhFTb0vqF5Gqb%2BpHhx%2BPtie%2BZ4RoPdE6jziEY94xCMe8YLydE19V8/X/0Pa%2BpvqweH3JU1dJFrnEY94xCMe8YgXiqepS9LW31QPrm9WfiVs5xGPeMQjHvGIF4aXV36Rlv6G%2B3DIg7Nl4z5Y0pR2oTuPeLHzXplfx2Y9UcdmP1nPXWC/GVOhqJZCPOIlw3tzoyrc9Ua8xHmtjA38QL8Sf9h6CmpGgs4jXsy8O25pYH8cNJK7/OHcRqOMcCiNxCNeIrympapw1xvx0uDVDelX4s%2B2D/6oEajX5eg84sXJu/PWEShu5sQjHi%2BvaYki3PVGvOR5RS372lN3n/nJfiH%2BsBmNPk%2BWziNevDxeAyCKOBBPfp5pAES63oiXDm9vU%2B3oxMX/2A6Jiv/%2B/LBPlTR1r0ydR7z4eHYDcNm1t7N7H5zuWO554Ek2aco0drelwM/we7d9qhXiEY%2BnXHrNbRUmAgyAaNcb8VLitWb2zZ56%2BucSFf9jOyX62EHX1KtTDzbxhOHZDcCiZS8zp%2B3o0aPsyJEjfQr8PshGPOLx8uYvXllpAJaqwl1vxEuPd6Alc0Wi4n9sx8TEv6hlPm80vogh2MQTg%2BfHAIggDsSTnzd/0YoKA9D6Iv%2B1kfb1RrwUeXnl4MEW9bNx6a/bzom9c9AL6gQ0wSaeEDwvAyCKOBBPfl6lAWhkueV1wl1vxEuXpxeUq%2BLSXzdAIuLf3V7/uZLHt3/RO4940fOqGQCRxIF48vNOGIDeBEJeA4DheiNeyjxN6fb7FCCSBP6k3jkYjbwOXbCJh57nZgBEEwfiyc/rzQE4MXqAxwBgud6Ilz5PL6hXRq2/kW68Bz%2BYqzmpVOXbv0ydR7xoeU4GQERxIJ78vIVLV1Wcq34NAKbrjXgIeJpaNRdAKPGHzWjoNWiDTTzUPLsBgJusiOJAPPl5YE55DQC26414SHiaMi4q/Y1sC3LwA4WGTxuN6UIdbOKh5VkNADxehcesIooD8eTn8RoAjNcb8dDwOvfm6j4ZVn%2B99DxW8YfNEP%2BLBAg28ZDyTANgzrAGiVYiigPx5OfxGACs1xvx8PD0gjoiTvGH/WMVf1Zo%2BIjRiN0iBJt4OHlgAKzTq1oNgEjiQDz5eX4NAObrjXh4eHpB2Qar5sYl/sCJTfxh6ylks6IEm3g4ebAaoHVyFdMAiCYOsO3d38FWvLyezZq3jD3yxEz2wGPPsmdnLWRLV6xlO3buTr1%2BSfNgn63bdhjCuYo9PWMeu//Rp9mUR55mTz47l71g9POmljw7dOit1OrHy/NjALBfb8TDxetuVwbGJf6eBiCM%2BMMax0YDNosUbOLh491%2Bc32lAVi80vfNfM36Znb%2BFTcdL%2BddfiMbe9nEPuXi8beyq264m9066RH2xLMvsJfXbmJ6qScScegu6mzq03PYiAuv9VxIRhl9pSGCz7A9e/cHEq/e9t54vJx3%2BUR2y90PRSKGz8xcWOaNveyG42X6cy8E4r26fSe7c/JUNqzhUs%2BFeE4fOoZdd8tk1tJW8OSa/XHLXQ9V1BPqbY2L3wL78ZgJLwMgwvVGPFy8zlxmXVziX9UAhH3sUMzXnSZasImHj2c3ADAKwO%2B2cNmqigRCnlXfTh86ml1z071si/ENtZrYuIkD/P/xp2azszMXcK8id2bNGPbAY8%2BwomEeeMTVqb0ggFF8E570wBN9Ynf3lKlcvF2797Ibbr%2BfnTZ4VKBV%2BMAIdHQddGRb%2BwPaHNWqfjzmqZoBEOV6Ix4%2B3mtra38ch/i75gBE8c5B19SXRQw28XDxKg1Ao%2BtiQE6bKYhhlnwFsYLH9dYbv5f4H%2BjoYhdddUugJWStpeGCa9jOXXtCtddqAMI8Bgext9cPTIHfbfW6JnbOMTMUpj9qG69g217b2ad%2B1n44YQDCL%2BnLY57cDIBI1xvx8PEOtGZmxiH%2BjrwoxL8nr/5Q1GATDxfvhAForJgJ0M8GghjVeu/wvt5JbOzi8Obe/eVH22HF36zfudkL2eatrwVur2kAwr4Dv6uPAWhk9zz4pC/GjLlLykYqrPibZUjdJey113e59kevAQgv/lYD4Cd%2BTgZAtOuNePh4XTnlaGeb8ndCiD9sJU2dKmqwiYeL12sATtzMeQzAgqUvRSL%2B5pOA1vbNVcW/VOphjRde58oYc%2BkN7Iln5rI165pZfvM21tSqscUvrmK3TXqEnatc6Fq/mhGXlRMIg7QXxDCKBLhKA9BbPz8G4KU1Gz3Ff%2BCQUezCcTeziXc8YBxnGrv25vuqxhHKU8/PdzVj8O4%2BCvE3DYDf%2BNkNAKwGKNr1RjycPKPcI4T49%2BTr/1IvqIdFDjbx8PBgFID1purXAMBNe97iFX1u6CCS9u2tt94uP7aH5LTZ819kDedf4ygO42%2BYVPWd8C2GkDsJy4gLrmEbmtr61M/K6e4ussemzyyLoZt5ePfd97jbC2IYZLPX74QBOGFOvAzAG7v3sDNrznMV1xFGnKE/Dxnxd9p2vvEmm/zwU0ZMRlfE4rZ7HmXvvfeeqxmDBD57/ODpCE97g7w2sRoAaG/TUlW46414OHm6pr6lb635Imrxh82o6LWiB5t4eHheywFXu5nPW7S8zzd/LyGA7e3Dh8ujAuzfDM8YOrqc1e8kDlu3vX78m661XDnhLlbqOeRbbJpzBXZO9kJHEzBv0Uru9oIY8m5O9evNAah8MuFlACbcOsVV/B%2Ba%2BpzBfcdXfSARs/78q8ss6BfYr5pY8xqAqIYOmgbAbG/TEkW46414iHku0wOjEf/yxD/57D4pgk08FDxeA2C9mVcKYqOvb4LmtnvPPkfxMl8D2MUBHlvbRWfkxdf3%2BXbrR2zWbcw5mokh9ZdU5Tm1l9cAuNUPEv7s9almAOAVh5v4PzNzAbe4wusVyMPoMcyUV/x4DECU8wbAuWltr2kARLreiIeYp6l7QWMjE/9jO0Q2yUB3u3KONMEmHgoejwGw38xPCGKjr2%2BC9i0z8oo%2B4rVqzYY%2B4tBz6K3yeHV7zgA8FahWv2pic/f90xyfAqxcvYGrvTwGoFr9QOx5DMC9D013FH94jRL3pDx%2BDUDUkwbBEFVrW8EAiHa9EQ83T9fqzopM/I/tFNkkAx25zMsyBZt46fP8GgCnm3nvO/FGX98EnXijjG/wdgFbsnxNn89CoptdcK67%2BT7P%2BlUTm337OxyfAtx054Nc7fVrALzqx2MAYJ/hjZc7Jvxt3/GGr/rw1s%2B6%2BTEAccwYCJNUVRiApapw1xvxkPPyyvLIxN9mAEKJ//bVw3%2BQenCIJx3PjwFwu5lDwh9vMpiV1/cJQCNbvynX5/MPPv5cn%2BPA9L5hxebiq27tw4VhgW4JcE7t9WMA/NSPxwDsenOvo/g3XnSdZ12C1s%2B6eRmAuKYLhmmqK14Xvch/baR9vREPP09vV74TifhbDEDoSQb2N2fuwxAc4snF8zIA1W7m1pnx/BoAk3ego9P4fGOF%2BMP%2BTjMD3nL3w32O8%2Bae/aHFBiYgsnOhHvB0wG97vQyA3/r5NQCw36aWdsehlzDMj3cLEj8nA2CNn5%2BhoTxPisw6VRqARs/lgDFeb8QTgKept0ci/scAocX/uUfOPqkrl%2BlGERziScWrZgC8xIHXAFh5056Z00ccYFpf%2BJt9u/zaO/oc5%2B23D4f%2BpgmLBjmJ17bXXvfd3moGgKd%2BfgyAyVu2cq2juN5x3%2BO%2B2h2kftbNzQDwTELE86SorwHo5fEaAAzXG/EE4GnqQdY09hORJPCHFX846N5NWQVNcIgnFc/NAPgRBx4DYPIOHz5cTqYbOGRkH3Ew37/bt8uvu7PPcSAxMOxj5pkvLHUUrx07d/lur5sB4BVXLwNg5S1dscZRXMdPvMd328OYJycDwDsDYZB5A3pzAE7weAwAluuNeGLwinl1SJQJ/IHFH0pHa3YNpuAQTx6ekwHwKw5Ognj7vY%2BVf28t8O78qRnzy5PdKKPGOYoDTEbz6vbXHcXA/goA9oNkt7DvmB95YoajeJlzEfhpr5MBCCKu1QyAnXfiFYB9RsPLfcUg7JMTuwEIMv1wkHkDYBSAleHXAGC63ognBq%2BzNbMChfhry4d9B%2BYqxhQc4snDsxsAuMn6FQcnQQz6zfDRJ2e6CgJMamPnzVmwLHSCGSwoZK/f2ZnzudprNwBBxdXNADjxwPy4iWth6/aqx8nVHDIAACAASURBVIkiQc9qAMz4QUInzxLBsLQyb/28lgMW4Xojnhi8zlz2aNvKmr9LVfyh7G/J3oQtOMSTh2c1AHAzh8esfsXBywD4FX8Q%2BGoCZA4DtPJAvMOIP8z938usrNu1N9/D1V6rAQgjrk4GACYHcuK9%2B%2B675UmLnGIOywG7bVFl55sGwNof8FonTH/4qR%2BvAcB4vRFPHN6%2B5sz1YXP4Qon/bRec9bGipuzGGBziycEzDYB5M4dEK7/iUM0A%2BBF/EJKWtoKnMMD7fnhFYGetfqUpsNjcOflxx/pVmwipmgEIK652AwBxgumB3XiQ8OcWe5jp0L75qR9M0exngzbb%2B9c0AHFOQsRjALBeb8QTh9eZy77R2vq7DwQVf9DzwOIPPxvi/2uswSGeHDwwANabudUAeN3M3QyAXRzOrBnDBtddxEZedF050e%2BZmQvZ62%2B8ySUO19x4Tx%2BxHtZwGdvf0cUtNms3tLDKIYi95U%2B157NiscTVXhDDKL5ZWw2AGb%2B7bAbAyntlY6urAYC1DqyzJHrVD/69/9FnyvMi%2BDEB8HjfHjuYJCnuGQj9GgDM1xvxBOPllV8EFX/Q8cDiD783KvcU6uAQT3gerAZovZGbBsDPzdxJEM%2B7/MZIHjPbxaGw5VXmNG8ArAewZ98B37xNLfnye36nJxPTn58XoL0TI2mvaQCs5slqAOw8%2BPnCK292NQFnDT%2BPLX5xddVV/WDbf6CzYp2F62%2BdXN7HbYP94B2/PX5Oq0D62XjMkx8DgP16I55wvMeDir%2BnAagm/vvzwz5lVOIQ8uAQT3De7TfXVxqAxSt9i5ddEEG8xl7WVxCj%2BmZ4y10POeYQDKm7pCwO1YQLXiM8Pn2WZfhhpfhnRo0rL1vM394bImkvGAD7kxPTALjx2vJbHKczttYPplueMXdxeW6DYlFneqnE9hmi39SaZ5Mfebr81MO%2B370PTnc8ntkffQ2Av1Ug3Xh%2B4%2BdlAES43ognFk8vKKW9ubpPBhH/qgbAa5IB48CDsQeHeOLz7AYARgH43ayCaIqX3QBE%2BVj4YHc3a7zwWlfBU8dcxR6e9jx7ee2m8mp5sPQvTBkMQxPPVS5yzUn40/DzXYcgerW34fxryk8ness2tnXbjjLLrbi9YoCEP3vdIAfAK37w1CJMAqZTgYWX7K9orP1RaQB6eTCxU7V22wvECeLV0dHl%2B3ypZgBEud6IJx6v2gJBXnoeSPzLBkBTFogQHOKJzas0AI2eywE7CaJVbKwGII53wvC4v2bEZZ4i5lcMzxg2hq1Z5zwkzU97ecXVbdU8EHs7D0yBn1iBwYlO/EeXDVS1/jhhALx5Xv3BM3rAzQCIdL0RTzye8ftZQcTfcRSAL/Hfovy5XlDeESE4xBObd8IA9N7MeQ2AXWxMAxBnQlhH50F28fhbQ4v/0PpLWS6/JVR7ecTVyQCY7b2rjwForLocsJ0BTwLgdUCY%2BsFCSJAj4dUfvQYgvPjzjh5wMgCiXW/EE4%2BnF9Qj3e31n0tE/MsGoKA0ihIc4onN6zUAJ27mPAYAEr/sQgMGIO5scNiOvPMOe%2BKZueyczAXc4g9/g2F0HV0Huern1F7eb8Juq%2BZVGoBenl8DYG5NrZrjEst%2B6nfNjfeWEwL99AckPkYh/ryjB%2BwGAFYDFO16I56YvJ68qiQi/rAZB3xJpOAQT1wejAKw3lT9GgC4acPN235Dh1EAQbagQ%2BmKeqlsBGCIoZfYDGu4hN19/zSuIYhe7eX9JmwaAHt7TxiAEzweA2Bda2Hl6vXsygl3lV9vVKsf/B0mDmpp2%2BzKc%2BqPaqsB8poxntEDVgMAvKalqnDXG/EE5WnqkmTEP1f3JaNS7wkVHOIJy/NaDria2LTkCuzuKdPKZZJR7nngyfIYf94tqhnq4BvsytUb2Kx5S8uzC05%2B%2BCk2/bkX2EJDZPKbX606SsBP/aC9INRQ4J09vKMHkeYp7dqrju1dumJ1H97yVeu46mcvsGIiPBWYt3ilEYd55ax/WP9gxtwlbGNzu%2BuoB6/%2BgD7maTO06%2B5jcbPHD%2BLhdzMNgGkmmpYowl1vxBOTp2vqu/BqPlbxh62oqXWiBYd44vJ4DUBUYk084vFucG5anySYBkCk6414AvM0ZTivnnOvJwyPGoQMDvGE5PEYAMziQDz5eTBE1fr6AAyAaNcb8cTlFbXsPF49H8DzYcg0dMv%2Bxx4c4onJ82sAsIsD8eTnwSRVFQZgqSrc9UY8cXldbcqRF5869899i7/NAHh%2BuLRZHSpqcIgnJs%2BPARBBHIgnPw%2BmqbYaABgFINr1RjyxeXs21g71Lf4WA%2BDrw3pBnSlycIgnHs/LAIgiDsSTn1dpABo9lwPGeL0RT2xeR2vmWd/if8wA%2BPowKzR8pFRQdJGDQzzxeNUMgEjiQDz5eScMQOPxiYBEu96IJzbPKPreNdmP%2BFP/XgPg63OlQvZU0YNDPPF4bgZANHEgnvy83hyAE/Ma8BgALNcb8cTn6QX1ZN8GwO9mHHSSDMEhnlg8JwMgojgQT34ejAKwTwUs2vVGPPF5hgG4NXIDoBeU12QIDvHE4tkNANxkRRQH4snP81oOWITrjXji83RNfTVa8dfU78oSHOKJxbMaAHi8Co9ZRRQH4snP4zUAGK834snBK2qZb3npuu9EwZKmXiBTcIgnDs80AOYMa49Nn1lep723bGdbt8H67Tu5C%2BwH%2B59gEY944XjTnpnj2wBgvd6IJwfP%2BP0oL/GHAQD%2BngDklUUyBYd44vDAAIRd4tbvwi/EI16UPDcDgPl6I54cvKKmzvUSf5gCwFP8D2w6%2B6OduewhmYJDPHF4sBoghps58YjHy3MyANivN%2BLJwdMLSgmG7lcTf08DAB/evbH21LQbQ7z%2By7v95noUN3PiEY%2BXZzcAIlxvxJOHp%2BezP64m/lUNgPnh/c2ZmzE0hnj9k/fY5Do2%2BvyG42XMBSPY2AsbuQvsZ%2BXw8P5U408cBmXTqV9/4vkV6xsn1LMZU%2BvYrCfq2Own67kL7Af7z5iqWgofb8%2BmOuGuN%2BLJw9M19dpq4u%2BaA2D9cEdrthlDY4hHvLR4duFx%2B2YIrytkaC9mnt9v6iDWMrSXeMQLyisWlFeqib/jKADrh1c8e9YXO3OZ9zA0hnjES4tnNQDVHgtDwqIM7cXM8/uYHr6py9Be4hEvKM/Y571d7Q2fCST%2BUN5cX3salsYQj3hp8UwD4PVOmNcAYG0vZp7fd/TwCF6G9hKPeGF4b27M/DaQ%2BPc%2B/s/chqkxxCNeGjwwAH4SwngMAOb2Yub5TdDjNQBY20s84oXh7W/J3BhI/OHnYj67AVNjiEe8NHiQmOYnG9yvAcDeXsw8v9n5PAYAc3uJR7wwPONL/NpA4r%2Bjqe7Tuqa%2Bi6kxxCNeGjzITvczFMyPARChvZh5fofm%2BTUA2NtLPOKF4XW2Zd6ZN/2Mk1yn/XVLELAv/4uhMcQjXhq8vgbAeTialwEQpb2YeX7H5fsxACK0l3jEC8s7qGV%2B5qz%2BvQbAMUHAgF2HsTHEI17SvEoD4D4WvZoBEKm9mHl%2BJ%2BXxMgCitJd4xAvL0wvqeD8GoOIdgV5QlmJsDPGIlzTvhAGoPgOcmwEQrb2YeX5n5KtmAERqL/GIF5Zn/LvAywBUiD9j495f0pRujI0hHvGS5vUaAO/pX50MgIjtxczzOx2vmwEQrb3EI15onqYeBE2vlgNQ8TtdU7%2BLtjHEI17CPBgF4Gfud7sBELW9mHl%2B5%2BJ3MgAitpd4xIuCV9yc/babAejzu1KhrhZzY4hHvCR51eagdzMAIrcXM8/vQjx2AyBqe4lHvEh4eWWY62sA%2B6YXlPtRNyYm3ouz6lEvhEK8dHhOiwE5lcGKHO3FzPPTD1AyI%2BRoL/Gi5YmkR1Hyipp6n28DUCooLZgbExcPvjXYbyTYlhglHvGIRzziBeOJpEdR8nRNbfIl/mz74I/qBeUdzI2Ji2c3AGmfrMQjHvGIR7zoeCLpUZQ8vaAeAW23ar3j5EA9hcw/Y29MXDyrAcBwshKPeMQjHvGi44mkR5HzttT9wCr%2BMADAwQBks0I0JgaeaQCwnKzEIx7xiEe86Hgi6VHkPE2tsYo/TAHQxwDomnqvEI2JgQcGANPJSjziEY94xIuOJ5IexcC7y772Tx8DUCworwjSmMh5s56oQ3WyEo94xCMe8aLjiaRHUfOKWnaVfe2fygRANvADBvyQCI2JgzdjqpMBkOfkJx7xiEe8/swTSY%2Bi5hkMfeTI33zUOv1/hQHobq//piiNiYM3Y6qK6mQlHvGIRzziRccTSY/i4BWWDf%2Bm0/T/ZgLg70VqTNS8SgOQ/slKPOIRj3jEi44nkh7Fwdu9cfjvHMW//P4/r1wqUmOi5p0wADhOVuIRj3jEI150PJH0KA7e/ubsxY7iD7/saMk%2BIVJjoub15gDgOVmJRzziEY940fFE0qM4eMaX/IcdxR8eC3S0ZppEakzUPBgFgOlkJR7xiEc84kXHE0mP4uDBKD9H8YfswM5c5pBIjYma57YYkLVcdc3lFeXKqy9j48Zf2qfA7%2B2f9VOI5867dNzFbMyFY6qW0ReMZqPOH9WnwO%2B99iUe8aLmXXz5hcJebyLyvBYKEkmP4uEpOmMD3mc1AOVxgZAdKF5jkufNnz//eJk3bx6bO3dunwK/t37ObyFedd761c%2Bw13fuci07Xn%2BDbdu%2BwyivWcqO8u%2Br7Uc84sXFW/PSdGGvNxF52PUDA6%2Bn0PAVqwEojwncuaHmFBEbkzQP88kvO6%2BaARBRHIgnP2/dy08Le72JyMOuHxh4ej774z4GYE9TbYOIjUmah/nkl53nZgBEFQfiyc%2BDc1bU601EHnb9QMHTlOF2A/ChYl65ScjGJMzDfPLLznMyACKLA/Hk5/EaAEzXm4g87PqBgacX1OvtOQAD9IIyQ8TGJM3DfPLLzrMbANHFgXjy83gMALbrTUQedv3Awcs%2BXTEKALaSpuTEbEyyPMwnv%2Bw8qwGQQRyIJz/PrwHAeL2JyMOuHxh4xmc2VQwFhGEBuqb2iNiYpHmYT37ZeaYBkEUciCc/z48BwHq9icjDrh9IeMXKKYA3j/iCwI1JlIf55JedBzdTmcSBePLzvAwA5utNRB52/cDCO9iifva4AShtqfuByI1Jkof55JedB0OqZBIH4snPq2YAsF9vIvKw6wcWnq6p3z2%2BJkApX/dbkRuTJA/zyS87DyZVkUkcsPA2NrWVC9b6icxzMwAiXG8i8rDrBxZed175JQwA6H0FUMg0iNyYJHmYT37ZeWtWTpdKHDDw2rUtTB07nimjr2Rt%2BQK6%2BonOczIAolxvIvKw6wcWHsz7A1MAlA2AXlBuELkxSfIwn/yy804YADnEIW1eW34La7zw2uOLpsD/wRBgqZ8MPLsBEOl6E5GHXT%2Bw8PY1Z244bgBKmjpV5MYkycN88svO6zUA8ohDmrxXNjSz2sYr%2BqycVjtyHFtn/C3t%2BsnCsxoA0a43EXnY9QMLr6M1M/WEASioy0RuTJK8sCfrggUL2PLlK7jLiy8uZ0uXLmNLliw9XuBn%2BH21/ZYte9GxflCPILyg9XOrB0/8IAdAJnFIi7dgyUp2du35rsunnpO5gC1a9pI07U2TZxoAXjFcuHBhLPcDtwL7utUPrt2k7ldQoO1BzQR2/cDC62zNLDmeA1DSlHaRG5MkL6xThRN815v7uMobu/eyHTt3s9de33W8wM/we699t257zbF%2BcDEG4QWtn1M9eOMHowBkEoekea8afXDHfY%2Bx0waP8lxDHT5z1%2BTH2bbXXhe2vRh4YACCfBOudp8Icz9w42mbt7rWD67dpO5XUKDtQZ8kYNcPLLyuXLb1xCiAgtohcmOS5IV9TMVrAMJeTHbhNesHjjwp8ecxANXi57UcsGjikCRvyfLVrG7seEexv/jienbhRfWOf8uMuoLNW7RcuPZi4YFpDfIY3O0%2BEYf4w/52A2CtH48BiKJ%2BVgPAa56w6wcaXl7Z2zsL4PrMh3RNPSp0YxLkhX1HxWMAoriYrMJrrZ9pAJIQf78GwCt%2BvAYAuzgkwXt5zXp25fV3uX7Tn3Szwt5qGcQOtZzLbp%2BoVPztD%2Bc2GmVEuVx5/Z1s9doN6NuLjQevrYK8A3e6T8Ql/sCxGgB7/fwagKjqZxqAIE9OsOsHFp5R3mPLxn1wQE8h82XRG5MkL4z48xiAqC4mU3jt9QMDkJT4%2BzEAfuLHYwBEEIc4ectfWsuunjjJVfgH1TayZU8PZ%2B%2B0nVtRlkyvYWcPb6wQf7P8cVAju/amew1TsRFde7HyIHE1SAKc/T4Rp/hbDYBT/fwYgCjrB20PmkCIXT8w8fStNV8cUNqsfF%2BGxiTFCyP%2Bfg1AlBcTXLxO9YMcgKTE38sA%2BI2fXwMgijhEzYMhfE8/P5eNvuT6Y6Ld6Cj%2BV4%2BrY3vXDO4j/mZ5feVgdtGFdX0MgJV33uUT2fNzFrEtW7dLE784eFYDwJP9br1PxC3%2BpgFwq5%2BXAYi6fpAoGET83QwAJv3AxIPZAAd0a8rPZWhMUrww4u/HAER9MW15dbtj/eAiS0r8qxkAnvj5MQAiiUMUvPb8Fvb87IXsygl3sDOGjXYU6%2BND/OpHlL/huwk/lCO5c9ih5t6y6vmhLFtfX9VMnFVzHrv6xnvY7BeWsnxhq3Dxi5tnGgDeoW/mfSIJ8Yef4T7hVpdqBiCO%2BjmNSPAbP%2Bz6gYmna3X/M2DPxsyfZGhMUrww4u9lAJLM7sUyGoEnfl4GQDRx4OXB52DK3tnzlrFJU6axxouuLT%2BWr/ZN3Xzc/8TkDCs1uwu/XfzNcnD9uWz65Fo2VHE2APaRA6Muvr5ct9nzl7INTbnyyAMs8UuDBzkAQca9w/WZlPjD76s9oXMzAHHVD15PBhF/uwHAqB%2BYeMXNyh8H7GsaXidDY5LihRH/agYg6exeLKMReOJXzQCIIg6bt77KVqxay15Z38zWbWxmm1raWGHzq6y5Nc/Wb8qxl9duYMtWrGbzF61g056ZwyY98AS77ub72NjLbqgYu%2B/0jt4u/kOyvcJ/cOOgqsLvJv5Q4Pfwd0gShKcHdSMbPI2AtX5nDT%2BPjb50ArvmxknsrimPs6lPzy63bdnKNeW2gklozmnlGDS1tpfjASYH/gZDEEXrXzsPRgHwij8UeEKXlPi7GfRqBiBOc2I1ALzmCbt%2BoOJpynDDANReKkVjEuKFEX834U0juxfLaASe%2BLkZAJHE4dVt29l5l02s%2Bljdr7i6if8lF9ezhdOGM32Tt/D7EX9rebt1EHtl1jB28/UqO3NYsPr5KRdccdPxeIvUv3ae13LATgXbPB12AxD3kwnTAAR5coJdP5DxzhuwryU7UZLGJMILO70lluxeLKMReOLnZABEFIeX12xgA4d4T8bDI66No%2BvZY/dk2Osrh/gS/SDiby/dGwcbRqOWTbhGZefUNkYm/qcPHc3WbWgRtn%2BtPF4DgHGeDqsBSOK1BJifoNMFY9cPTDxdU68ecKAlc58MjUmKF0b87cKbZnYvltEIPPGzGwCRxeHmux8KJf7DlHp243VZtmBqDduz2t83/SjF3%2BnJQOuCIezxe2rZJZeo7NzhDYHEH8o9Dz4pfP%2Ban%2BExAFjn6TANQFI5CfD6I4j4Q/yw6wcy3l0D9Hx2miSNSYQXRvytwpt2di%2BW0Qg88bMaANHFobW9wM6sGesqggOHjCwn3jWMbmCXXlrH7r45y2Y8VMPWzR7K3jQEP4xYRy3%2BbrydLw1ia2YOY888UMtunaCwyy6rZ41GewZl3A0BrEMA%2BQCi9y%2BvAcA8Twf8LcmERPtUwDzxw64fyHiPDzB2mCVJYxLhhRF/U3gxZPdiGY3AEzvTAMgiDrdOerhC/EaNbWBvrBpcfrSetFgnzYOkwjfXDGZjzqtMKnzw8Wel6V%2B/BgD7PB1g3pNMSOQ1ANb4YdcPTDy9oDw/oFRQFsvQmKR4YcQfCpbsXiyjEXgNgEziANnv8L7bKoDa4qHoxDou3hsvDWGnDbZ8%2B89eWJ5YSJb%2B9WMA3F6LYZqnA67dJBMSeQyAPX7Y9QMTz9hnwQDDBaySoTFJ8cKIP6bsXiyjEXgKDKmSSRygXDmhcp7%2BmyeoKMU6Dt4Dd2Yr2n7nfY%2Bl3h9R86oZABFWDYX6WA1AEq8l/BoAp/hh1w9UvLyyAl4BbJKiMQnxwog/puxeLKMReOIHk6rIJA5QFixdWSGCZwxtZB3rBqET66h5kDRYo46oaPuadU2p90fUPDcDIMqqoVYDkFROgh8D4BY/7PqBideZy26AVwAFGRqTFC%2BM%2BGPK7sUyGoEnfjCtqkziYO6bHT2uQghnPjwclVjHwVszs6ZidMPFV92Coj%2Bi5jkZAJFWDTUNQJIJiV4GoFr8sOsHJl5nayYPTwBel6ExSfHCiD%2Bm7F4soxF44nfCAMghDmaZ/MhTFWI4akw9KrGOgwcTCVmHNs6YswhNf0TJsxsA0VYNNQ1AkgmJ1QyAV/yw6wcmXmcuu31ASVP2ydCYpHhhxB9Tdi%2BW0Qg88es1APKIg1lg2lv7OP/XXhyMRqyj5r3VMoidY1ly%2BMyaMUwrbEXTH1HyrAZAxFVDoYB5T%2Bp%2BVc0A%2BIkfdv1AxWvN7hlg/KFTisYkxAsj/piye7GMRuCJH%2BQAyCQOVtaQuosrZs6b8dBwFGIdB2/DnGEVZueqG%2B5C1R9R8kwDIOqqoVA/r%2BWAo66fkwHwGz/s%2BoGJZ5QDYACKMjQmKV4Y8ceU3YtlNAJP/GAUgEziYOVNuPW%2BCgMw7rK6xMS6mBtWLkmZifvvyFS09cln56Lrj6h4YABEXjUU6sJrAMLWz24AeOKHXT9Q8fLZrgG6pvZI0ZiEeGHE3%2B%2BjvSgvJrfsXiyjEXji57UcsGjiYOXNnLuoQhTPGtpYzpRP4pv6pJensHtWT07sScLI0fUVbV2/qQVdf0TFA9PKK/7V7hNpzNPBYwCiqJ/VAPCaJ%2Bz6gYun6JAE%2BLYcjUmGF0b8eQ1AnNm9WEYj8MSP1wBgFwcrL9deYH8c1Fgxd/7WZfEv7HOobQj73vwC%2B4d5m1lPLv5JiA6uP5cNHHxinYCaxstQ9kdUPHhtxSv%2BbveJtObp8GsAoqqfaQCCPDnBrh%2BYeMa/h2AioHdkaExSvDDiz2MA4s7uxTIagSd%2BPAZABHGw80AMrQvnzJ82PPZ39A%2BvuZt9bs6%2BcoH/xyn%2BsP%2BGuUMrvv1fNeFutP0RBQ8SV3nF3%2Bk%2BkeY8HX4MQJT1g7YHXTgMu35g4ukF9Qi8AjgqQ2OS4oURf78GIInsXiyjEXji59cAiCIOdt6V11fOCnjPrUqs4v92bjD70YK24wbg%2B/Pz7K22IbEmED5z//CKVQIfeOxZtP0RBc9qAERcNdSPAYi6fpCgHET83QwAJv3AxDN%2Bfm9AMa8claExSfHCiL8fA5BUdi%2BW0Qg88fNjAEQSBztv0pRpFQbg6nF1sYk/lCfW3npc/M3yxJpbYx09cNfN2YrXHDNfWIK2P6LgmQZA1FVDvQxAHPWDLydBxN/JAGDTD0y8sgEwPvCODI1JihdG/L0MQJLZvVhGI/DEz8sAiCYOdt70Z%2BdWGIDGMQ2xif%2BRtkHs3xe2VBqA2XvZv76wiZWazo1t6OCVl6sVrzlWvrwebX9EwYMcAJFXDa1mAOKqH7yeDCL%2BdgOAUT8w8cqvADpzmbdlaExSvDDiX80AJJ3di2U0Ak/8qhkAEcXBzrOvC3D28MZYxB/K8%2Btu7CP%2Bn5%2B52yi72LOrJ8Q2b0BdY31FG1vbC2j7IwoejALgFX8omObpcDIAcZoTqwHgNU/Y9QMTr5wE2JnL9sjQmKR4YcTfTXjTyO7FMhqBJ35uBkBUcbDzVqxaVyGOUHqa%2Bg4FjOId/U8XbnAUfyj/NW8962k%2BN5Z5CGAGQGv7tr76Gtr%2BiILntRywU8E2T4fdAMT9ZMI0AEGenGDXD1w8RYdXAEU5GpMML4z4OwlvWtm9WEYj8MTPyQCILA72z76yobmPAShuGhS5%2BM9ff62r%2BPeW3Wz%2BumsiF3/4%2B%2BlDTrTttMGjPOMqev/yGgCM83RYDUASryXA/ARdOAy7fqDiaUqXYQCUTikakxAvjPjbhTfN7F4soxF44mc3AKKLg71samnrYwAObhgUqfhDOXXx2qriD7//xeJ1kYv/kdy5tqWPx6Dujyh4PAYA6zwdpgFIKicBXn8EEX%2BIH3b9QMXTsgcG6Pms62JAQjUmIV4Y8bcKb9rZvVhGI/DEz2oAZBAHe1m/saWPAehYNyiU%2BJdyQ1l703ls3rrr2b2r72ONy2d5ir/5dAA%2BC/vAvsAo2SYK4n0ycaj53D7te23HTrT9EQXPrwHAPE8H/C3JhESv5YCrxQ%2B7fqDiaeoez%2BWAhWlMQrww4m8KL4bsXiyjEXhiZxoAWcTBXla/sqnvE4CNgzzFdX9rlm3YeDF79pWb2K0vP8RGLp/Jfr9kVXlc/xfm7u0z1M%2BP%2BLuVv3nhNfaTRRvZ0GWL2LiVT7KH1kxii9ddxQobGj1HD7zdei47bfBIzxwALP0RBc%2BPAcA%2BTweY9yQTEnkNgDV%2B2PUDE08vqNsHlApKQYbGJMULI/5QsGT3YhmNwGsAZBIHe1n%2B0toKcTxz2EhP8YfJfNTlL3gKdxTiX403bPELrLvZewnjQbWVSYDNOQ1tf0TB8zIA2FcNhfrBtZtkQiKPAbDHD7t%2BoOJpSjs8AdgkRWMS4oURf0zZvVhGI/AUGFIlkzjYy4y5iyvEMTuiwddjfzABI5bPTk38M4vnsqIP8YfSMKqhoo0vrlyLtj%2Bi4FUzACKsGgr1sRqAJF5L%2BDUATvHDrh%2BYeEVNWQ9rAaySoTFJ8cKIP6bsXiyjEXjiB5OqyCQO9vLQ1OeOCyNMlnPBhXW%2B3/nDxD4Xr3wmcfEftfTZikf/XjkJl1xcOQ/Ac7MWou2PKHhuBkCUVUOtBiCpnAQ/BsAtftj1AxOvszW7IxQd0QAAIABJREFUEl4BLJahMUnxwog/puxeLKMReOIH06rKJA72ctOdDx0Xf5gud%2BI1We5s/%2Btfeiwx8b982VTu%2Bt08Qa1c7%2BCBJ9D2RxQ8JwMg0qqhpgFIMiHRywBUix92/cDE62jJLIRXALNkaExSvDDijym7F8toBJ74nTAAcoiDvTRedN1x8YcCC%2BcEGeoHiYAYxR/K8w/VVhiA8y%2B/EW1/RMGzGwDRVg01DUCSCYnVDIBX/LDrBybegdbMzAElTZkmQ2OS4oURf0zZvVhGI/DEr9cAyCMO1gL7wcQ41qVyN84dEng63imr72FfmLMncvH/gsG4fcV9gechaJ0/rOI1xxnDRrMtW7eh64%2BoeFYDIOKqoVDAvCd1v6pmAPzED7t%2BYOJ1tGanDTD%2BMEmGxiTFCyP%2BmLJ7sYxG4Ikf5ADIJA7Wsnzl2grxP23wCNa1Ltx0vA%2BsupP9%2Baw3IhX/SSsnhZqEqNQMswE2VjzpWLpiNbr%2BiIpnGgBRVw2F%2BnktBxx1/ZwMgN/4YdcPTLyOlsxd8ArgOhkakxQvjPhjyu7FMhqBJ34wCkAmcbDypjzyVIUBGDm6LpK5%2BJ9cdRP7i5mvhxb/LxpG4pFVt0SySuCoMfUVbX30iefR9UdUPDAAIq8aCnXhNQBh62c3ADzxw64fmHjdeWX8gJKmXiBDY5LihRF/v4/2oryY3LJ7sYxG4Imf13LAoomDlXfxVbdUiOLtE7Ohxd8sVy1/LPQ7/6tefCyyJYLvvjlb0dZrb7oHXX9ExQPTyiv%2B1e4TaczTwWMAoqif1QDwmifs%2BoGJpxeUsQN6CmpGhsYkxQsj/rwGIM7sXiyjEXjix2sAsIuDydv66jZ21vCxFlFsZHMfq41E/KGoy%2BaEEn94fVC3ZGZkSwQvfGJYhQFQxlyJqj%2Bi5MFrK17xd7tPpDVPh18DEFX9TAMQ5MkJdv1AxcsrwwboWvZ0KRqTEC%2BM%2BPMYgLize7GMRuCJH48BEEEcTN4r65srxB8S5NoXus%2B7zyP%2B8Pv/WNgcSvyh/Oe8DZGIP5QdywdVtPf0oaNd1wQQvX8hcZVX/J3uE2nO0%2BHHAERZP2h70IXDsOsHJl6xoP5hQHFz9mcyNCYpXhjx92sAksjuxTIagSd%2Bfg2AKOJgsmbPW1wh/vZVAMOIfzE3jH1xzpuhxB8K5AB0t/KZErf69TSdw86uaaho7/qNrWj6I0qe1QCIuGqoHwMQdf0gQTmI%2BLsZAEz6gYmna3X/M%2BBgu/qPMjQmKV4Y8fdjAJLK7sUyGoEnfn4MgEjiYJYHHn26QgzPrR0RifjD31dvuCy0%2BJsJhGs2XhbZa4kx51XOCDhv4Qo0/RElzzQAoq4a6mUA4qgffDkJIv5OBgCbfmDi6e3Kdwa0LBz0VRkakxQvjPh7GYAks3uxjEbgiZ%2BXARBNHEzerXc/XCGGY85riET8ody3%2Br5IxB/%2BPnnNvZG9lrj5%2BsoZAac/9wKa/oiSBzkAIq8aWs0AxFU/eD0ZRPztBgCjfmDi6VuUPx8wccwZH%2B/MZd4TvTFJ8cKIfzUDkHR2L5bRCDzxq2YARBQHk3fNTfdWiOH4cXWRiD%2BU%2BuXeCYBfmbuLfWXOG56TBgErqicT99%2BRrWjzQ48/i6Y/ouTBKABe8YeCaZ4OJwMQpzmxGgBe84RdP7DwdE19l7GBHxhw8sk//nBXLrtf5MYkyQsj/m7Cm0Z2L5bRCDzxczMAooqDybtk/K0VYnjjdWok4g%2BlWgLgl%2Ba8yUYun8leb6pnb2zMlqf3/fKsHa6TBv2nwYrqycTUeysNwF2Tp6Lpjyh5XssBOxVs83TYDUDcTyZMAxDkyQl2/UDD09Q9A2A7ZgDahG5Mgrww4u8kvGll92IZjcATPycDILI4mJ85/4obK8TwzpuUSMTfLQHwC3P3sqHLFrGtzaP68LZuqGeNS59jX5y9u89%2Bfz53T5kZhTmxrwlw2z2PoumPKHm8BgDjPB1WA5DEawkwP0EXDsOuH3h4SrNpAD6ka9mlYjcmOV4Y8bcLb5rZvVhGI/DEz24ARBcHs1x01c0VYnjHjc4GgEf8nRIAPz%2BnV/gLTWM8ea82N5afDoDoWxnVEgF56vfsg5nKNt/3GJr%2BiJLHYwCwztNhGoCkchLg9UcQ8Yf4YdcPNDxNXWQaAJgNcKrQjUmQF0b8rcKbdnYvltEIPPGzGgAZxMEsl159W4UYQoJcWPG3JwD%2BfskqtmnTRdy8tqbzy6YBzEO1REDe%2BvV9BfA4mv6IkufXAGCepwP%2BlmRCotdywNXih10/sPD0gvroAHMzfpggcmOS5IURf1N4MWT3YhmNwBM70wDIIg5mGX/jpAoxvPaqutDiD6Xuxbll4V%2B38dLQvOZNF5SNgFMiYBDeA3dWGoDJjzyFpj%2Bi5PkxANjn6QDznmRCIq8BsMYPu35g4RmfveaEAdCUepEbkyQvjPhDwZLdi2U0Aq8BkEkczAIJcFYxHD22IbT4Q4F3/FGIdTVmUN714yuHAT4zcz6a/oiS52UAsK8aCvWDazfJhEQeA2CPH3b9wMLrKWSzxw1AT175jciNSZIXRvwxZfdiGY3AU2BIlUziYJapT8%2BuEMOzhzdGItZRi3%2BUvIZRDRVtXrzsZTT9ESWvmgEQYdVQqI/VACTxWsKvAXCKH3b9wMPLngqv/8tbabPyfbEbkxwvjPhjyu7FMhqBJ34wqYpM4mCWRcteqhBDKG%2BsGoRGrKPmFTcOYqcPaaxob1NzG5r%2BiJLnZgBEWTXUagCSyknwYwDc4oddP7Dwulqz34EBAGUD0N1e/zmRG5MkL4z4Y8ruxTIagSd%2BMK2qTOJgli1bt7OBQ0YfF0OYFnjB1BoUYh0H7%2BXnayrEf2j9Jaj6I0qekwEQadVQ0wAkmZDoZQCqxQ%2B7fmDhLZ119udhCgBLHoDaI2pjkuSFEX9M2b1YRiPwxO%2BEAZBDHKxlzKUTjos/LAx0y/VZFGIdB%2B/eW7MVZmf8xEno%2BiMqnt0AiLZqqGkAkkxIrGYAvOKHXT8w8Lpy2W4Q/woDYPyxVcTGJM0LI/6YsnuxjEbgiV%2BvAZBHHKzlvgefPC7%2BUP5U08A61p2bulhHzetpGsQGZxorzM4Tz8xB1x9R8awGQMRVQ6GAeU/qflXNAPiJH3b9wMDraM1u6mMA9ILyvIiNSZoXRvwxZfdiGY3AEz/IAZBJHKxlY3POEMUTBgDKvMdqpBJ/KIufHF4h/qcPHc3a8pvR9UdUPNMAiLpqKNTPazngqOvnZAD8xg%2B7fmDgGQbgmWMG4EPHDUBRU24UsTFJ88KIP6bsXiyjEXjiB6MAZBIHO%2B%2BCK26sMAD1o%2BrZ263yiP9hoy0jxzRUPOm45sZJaPsjCh4YAJFXDYW68BqAsPWzGwCe%2BGHXDwy8fc2ZG0D8j48C6B0KqCoiNiZpXhjx9/toL8qLyS27F8toBJ74eS0HLJo42HkzX1hkMQC9j8nnPjZcCvGHAm2xij%2BUJS%2BuQtsfUfDAtPKKf7X7RBrzdPAYgCjqZzUAvOYJu35g4O3blMlUiH/5CcDm7M9EbEzSvDDiz2sA4szuxTIagSd%2BvAYAuzg48c67bOJx8YcyRBnB9q4dLLz4QxsGZxsqxP/Sq29B3x9hefDailf83e4Tac3T4dcARFU/0wAEeXKCXT8w8A7mMjb1BwOQq/u6iI1JmhdG/HkMQNzZvVhGI/DEj8cAiCAOTryX12xgpw0eVTFM7rLL6suPz0UV/yO5c9m4y9UK8Yd8h5dWr0PfH2F5kLjKK/5O94k05%2BnwYwCirB%2B0PejCYdj1AwOvp9DwlQrxh8cBY8f%2B7iOducwh0RqTNC%2BM%2BPs1AElk92IZjcATP78GQBRxcOPdNumRPhMDPfNArZDiD2X65NoK8S8Pc7zrQWH6IwzPagBEXDXUjwGIun6QoBxE/N0MACb9SJ%2Bn6IwNeF%2BF%2BB9LCPgwDA8QqzHJ88KIvx8DkFR2L5bRCDzx82MARBIHN962115njRdeW2EAYOa8V2YNE07818wcygYOrnz0Xz92PNv66mvC9EcYnmkARF011MsAxFE/%2BHISRPydDAA2/Uibp2vqWvu3/w%2BZYwINAzBNpMakwQsj/l4GIMnsXiyjEXji52UARBOHarx1G1rYWTXnVZiAs2oaWW7hUGHEP79oCDtrWKX4n1kzxmhbs3D9EZQHOQAirxpazQDEVT94PRlE/O0GAKN%2BpM0z/v%2BQ3QB82Cz7WzKXidSYNHhhxL%2BaAUg6uxfLaASe%2BFUzACKKgxdv/qIVFVMEl5MCs43steVD0Iv/thcHs8GZhj7v/WfPXypsfwThwSgAXvGHgmmeDicDEKc5sRoAXvOEXT/S5ynnuxmAD%2Bntyu/EakzyvDDi7ya8aWT3YhmNwBM/NwMgqjj44T35zNw%2B%2BQCDakewpnlD0Ip/%2B8IhbHC2vs97/8enzxS%2BP3h5XssBOxVs83TYDUDcTyZMAxDkyQl2/UDA%2B6WTAShPCtDdXv9NwRqTOC%2BM%2BDsJb1rZvVhGI/DEz8kAiCwOfhl3TZ5aMXc%2BiOlZQ0ewVc8PRSf%2Bq2cMK9fNLv53G22QpT94eLwGAOM8HVYDkMRrCTA/QRcOw64fafPe0hq%2B7pQDUP4/YwM/4LYoEMbGpMELI/524U0zuxfLaASe%2BNkNgOjiwFMenvpcn0l0ILlu%2BpTh7HBr%2BuIPQ/2emlLLThvcV/zvmtI/xZ/XAGCdp8M0AEnlJMDrjyDiD/HDrh/p8mAEwLj39xkCaN2MndeI0Zh0eGHE3yq8aWf3YhmNwBM/qwGQQRx4eQ88%2BnQfcQVTcMVl9b4nC4pD/A%2BsG8zGX6E61G0Em/zwU2jilwbPrwHAPE8H/C3JhESv5YCrxQ%2B7fqTLU1b2mQDIvhmAe8RoTDq8MOJvCi%2BG7F4soxF4YmcaAFnEIQhv%2BnNzywvoWKcLhjJUaWTLnh5e/iaelPjDsZY%2BVcOGZPsK/xnDRrNnZy5AF7%2BkeX4MAPZ5OsC8J5mQyGsArPHDrh%2Bp8jTlDk8D0FNQM0I0JiVeGPGHgiW7F8toBF4DIJM4BOXBDHqZkVf0SQ6EcsEF9Sy/aGjs4r9l6RB2ySX1fV5LQKkZcSlbadQRa/yS5HkZAOyrhkL94NpNMiGRxwDY44ddP1Ll5ZVh3gYgn/mREI1JiRdG/GG/hQsXsU3NLRWlJdfGWtvauQvsZ2fZeRs2NjnWBR4xBuEFrd/aV9aHNk8wpEomcQjDK2x%2BlY277k5HEzBwyEh2x40K27FycOTi/9qKIeyOiSo7bfBIR/G//No7mFbYij5%2BSfGqGYBqOTFO12cU9wO34nSfMOsH125S9yso0PYg4g8Fu36kytusfL/a6//yxgoNH9EL6hH0jUmJF0b8w74D7%2B88mFRFJnGIgjdv4QrjG/dljkYARPq68SprXzQ0tPjDN/7bJyplc2EdjWCWwerF7Onn5wkXv7h5bgZAhOtNRB52/UiLZ2j6YdB2q/jDAADHpwClgtKMuTFp8jCf/LLzYFpVmcQhKt7mrdvZbfc82mfSIOvQwcZR9eUs/TdXD/It/gc3DGLzpw0vP%2Bq386yT%2B1x7873GNzdN2PjFyXMyAKJcbyLysOtHWjzjs5vs4g9TADgaAOPDkzE3Jk0e5pNfdt4JAyCHOETNW/3KJnblhLsqVhPsO3RwBLv2SoUtnFbjOHJg75rBxt%2BGs%2BvHq%2Bz0Ic5mwhT%2BcdfdwVa%2BvE6a%2BMXBsxsAka43EXnY9SMtHiT328Xf1QCUNLUGc2PS5GE%2B%2BWXn9RoAecQhLt7a9U3s%2BlunlI2A09A86%2BiB0WMb2CN3Z8sF/u/0BMEq/iD8l15zK1uxai2a9mLmWQ2AaNebiDzs%2BpEer26IXfzdnwC0K9/B3Zj0eJhPftl5kAMgkzjEzVu9dgO7bdLDbJByoaP485RB6kXstnseNpgb0bYXI880ACJebyLysOtHWrzOXO237OLvmgPw0kv17%2B/KKQexNiZNHuaTX3YejAKQSRyS4m19dRtbsHglu2ri3a55As6jCUazi8ffwmbNXcK2bN0uTHsx8cAAiHq9icjDrh%2Bp8PLZrrFjf/cRu/g7jgIwHxN0tmaWoGxMyrywJyvv8J6wQ/Psw3vM%2Bi1YsDDRoT1uwxF54ue1HLBo4pAGL69tZc/PWcQm3DaFDam7tI/ow%2B/gbzPmLi5/VvT2ps0D0xpEDN3uE3EN1bUO07XXD67dpO5X9mGAvGYCu36kwevIZeZziT98aF9z5nqMjUmbF9apYlmFD9Nc437jx2sAsItD2rzya4JXNrGHpj5XLvB/62fTrp8MPHhtFeSbMJZVQ6E4LQcc5yRi5kRAQZ4kYNePNHj7mrNXc4k/lF3rhv8aY2PS5oV9TIVlFT5Mc437jR%2BPARBBHIgnPw8SV4M8BseyaqhfAxBl/aDtQV8jYNePNHg719X%2BL5f4Q5k3/YyTilr2HWyNSZsX9h0VllX4MM017jd%2Bfg2AKOJAPPl5VgPA8w4cy6qhfgxA1PWDaZCD5hBg14%2BkeZ1t2SMLpgz%2BLJf4mx/WC8o6TI3BwAsj/n4MQFKr8GGaa9xv/PwYAJHEgXjy80wDwJsAh2XVUC8DEEf94MtJ0ARC7PqRNK%2BjNbvaVfyPGQBH8YetVFBuxtQYDLww4u9lAJJchY8nFyGK%2BjkZAN74eRkA0cSBePLzIAcgSPY7llVDqxmAuOoHryeDiL/dAGDUj6R5%2B1uyE13F/5gBcM0OLOXrfoupMRh4YcS/mgFIehU%2BXgMQtn72G0yQ%2BFUzACKKA/Hk58EoAF7xh4Jl1VA3AxCnObEaAF7zhF0/kuZ15zOnuqt/pQHo85jgYK7mJAP8HpbGYOCFEX834U0juxfLaASe%2BLkZAFHFgXjy87yWA3YqcB3AY/Akl%2BDlMQBxP5kwDUCQJyfY9SNJXjGvvNu1feRn/BgA13cEel7diKExWHhhJ7nAkt2LZTQCT/ycDIDI4kA8%2BXm8BsC8PsxhukkN1fVrAJJ4LQHmJ%2BikQdj1I0merqlrq4r/MQPgniAABqCg3IChMVh4YcTfLrxpZvdiGY3AEz%2B7ARBdHIgnP4/HAGCdp8M0AEnlJMDrjyDiD/HDrh9J8ox/r/FjAKr%2BXS%2BoJ2NoDBZeGPG3Cm/a2b1YRiPwxM9qAGQQB%2BLJz/NrADDP0wF/SzIh0ZwIKMiTE%2Bz6kSSvuFn9b08D4LWx7YM/akAPpd0YLLww4m8KL4bsXiyjEXhiZxoAWcSBePLz/BgA7PN0gHlPMiGR1wBY44ddP5Li6QWlxAoNHwltAGAracpCmYIThhdG/KFgye7FMhqB1wDIJA7Ek5/nZQDcXothmqcDrt0kExJ5DIA9ftj1IymerqmzIxH/sgEoKOfLFJwwvDDijym7F8toBJ4CQ6pkEgfiyc%2BrZgCq5cRgmqfDagCSeC3h1wA4xQ%2B7fiTF0wtKo5eue73%2BP77p7cp3ZApOGF7YJS2xZPdiGY3AEz%2BYVEUmcSCe/Dw3A%2BCVEItpng7TACSVk%2BDHALjFD7t%2BJMXrzit/6yX%2BMADAlwGAD3e2ZbbJEpwwvDDijym7F8toBJ74wbSqMokD8eTnORkAkVYNNQ1AkgmJXgagWvyw60ciPE3d6kf8YQoAX%2BIPHz7QnL1biuCE5IURf0zZvVhGI/DE74QBkEMciCc/z24ARFs11DQASSYkVjMAXvHDrh/J8JSb/Yi/pwGwfnjXusyv5AhOOF4Y8ceU3YtlNAJP/HoNgJji8Oabe9nhI0eqlrcPH2alnp4%2BBX7vta9MvN279wjXv34MgIirhkIB857U/aqaAfATP%2Bz6kQTP%2BPtP/Yh/VQNg//Djt5/xqa42pSh6cMLywog/puxeLKMReOIHOQAiij%2BUPXv3sWrb0aNH2RFDFO0Ffh9kE5kHsRKtf70MgKirhkL9vJYDjrp%2BTgbAb/yw60fsPE3pZrmBfYTdbdVfX%2BJvfriYV54TOjgR8MKIP6bsXiyjEXjiB6MARBR/LwMgsljHweM1ABj6t5oBEHnVUKgLrwEIWz%2B7AeCJH3b9iJ2nKdP96rnjKIBqHy4V6oYIHZwIeGHE3%2B%2BjvSgvJrfsXiyjEXji57UcMGZxsBqAw/Pmsq5f/axcOn95MttvlH2WAj/D783P8BS/vOKouuP1gf%2BH5YWtn9VM8BgALP3rVsC08op/tftEGvN08BiAKOpnNQC85gm7fsTN0zX1nFjEHzZYWUgvqIdFDU4UvDDiz2sA4szuxTIagSd%2BvAYAkzg4GYC0xN%2BvAUiyftbNrwHA1L9uPHhtxSv%2BbveJtObp8GsAoqqfaQCCPDnBrh%2Bxir%2BhzQdb1M/GIv7mZp0VUKTgRMULI/48BiDu7F4soxF44sdjALCJg90ApCn%2BfgxA0vXjNQDY%2BteNB4mrvOLvdJ9Ic54OPwYgyvpB24MuHIZdP%2BLk6fnsnFjFH7aeQjYrYnCi4oURf78GIInsXiyjEXji59cAYBQHqwF4%2B4U5qYq/lwFIw5zwGACM/evGsxoAEVcN9WMAoq4fJCgHEX83A4BJP2LlbVaHxir%2BsOlba76oa%2Bq7wgUnIl4Y8fdjAJLK7sUyGoEnfn4MAFZxMA0AvOsuzZmVqvhXMwBpPZnwawCw9q8bzzQAoq4a6mUA4qgffDkJIv5OBgCbfsTF0wvKO0Ut83lePef7sPkaIK8sFyk4UfLCiL%2BXAUgyuxfLaASe%2BHkZAMziAKJmZr9bDUAa4u9mANJ8LeHHAGDuXzce5ACIvGpoNQMQV/3g9WQQ8bcbAIz6ERtPUxZyi/8xA8Al/rAVC5kGoYITIS%2BM%2BFczAEln92IZjcATv2oGALs4vLln7/HhbqYBSEv8nQxA2jkJXgYAe/%2B68WAUAK/4Q8E0T4eTAYjTnFgNAK95wq4fsfHySibIl/kBvOJfNgCbR3wBHjkIE5wIeWHE301408juxTIagSd%2BbgZABHF4Y9fuCgOQpvjbDUD3SDX1nIRqBkCE/nXjeS0H7FSwzdNhNwBxP5kwDUCQJyfY9SMOXlFTDq%2BZPeRLQb7MD%2BAVf3MzDMA8EYITNS%2BM%2BDsJb1rZvVhGI/DEz8kAiCIOO9/YVWEA0hR/qwGA1xKdhgFIOyfBzQCI0r9uPF4DgHGeDqsBSOK1BJifoAuHYdePOHgduczMQOJ/zABwiz9sJU05V4TgRM0LI/524U0zuxfLaASe%2BNkNgEjiYDUAMAogTfE3DYCZk9DRqKSek%2BBkAETqXzcejwHAOk%2BHaQCSykmA1x9BxB/ih10/4uDt3pA5O5D4HzMA3OIP28FVIz/R2ZYtYQ9O1Lww4m8V3rSze7GMRuCJn9UAiCYOpgEA0bXOBJiG%2BEOBx/6mITENQJqvJewGQLT%2BdeP5NQCY5%2BmAvyWZkOi1HHC1%2BGHXj6h5nW2Z0oIpgz8b9El%2BoM3MNuxozTyFOThx8MKIvym8GLJ7sYxG4ImdaQBEFAfIATCnu%2BU1AHEk6HXaDEDaOQnWDRImRetfN54fA4B9ng4w70kmJPIaAGv8sOtH1LwDrdnHUxF/OOiuDbW/xRycOHhhxB8KluxeLKMReA2AiOIPP4OomRuPAYgrOx9E3zQAYAbSzkkwNzBJYJZE6183npcBwL5qKNQPrt0kExJ5DIA9ftj1I2rezg01p6Qi/lCuuOLnH%2BvMZXZiDU4cvDDijym7F8toBJ4CQ6pEFH/4vdtiQGmI/z6bAYDXAWmKv2kAzJwEeF0iWv%2B67VPNAIiwaijUx2oAkngt4dcAOMUPu35Eyetszey8%2BupffDSo%2BHPnCjiNM%2BzWlAkYgxMXL4z4Y8ruxTIagSd%2BMKmKiOIPf%2Bc1AHGPyzcNAIhutdUAk6qfdYngEwZAnP7lNQCirBpqNQBJ5ST4MQBu8cOuH1Hy9rdkrwkj/qDfocQfft/dXv9NXVOPYgtOXLww4o8puxfLaASe%2BMG0qiKKP68BSGJSHnjsb%2BYk8BqAOOpniv8JAyBW//IYAJFWDTUNQJIJiV4GoFr8sOtHVLyunHJ0f3vt34QRf9DxUOJvbnpBWYUpOHHywog/puxeLKMReOJ3wgCIJw5%2BDUBSM/LBY39z4zEAcdXPagAgB0C0/vVrAERbNdQ0AEkmJFYzAF7xw64fEfKWhRV/TwPgd27hkqbWIAtObLww4o8puxfLaASe%2BPUaAPHE368BSHI6Xq/lgJOun9UAQMKkaP3rxwCIuGooFDDvSd2vqhkAP/HDrh/R8ZRBYcW/qgHgWVhgb67ukyVN6cYTnPh4YcQfU3YvltEIPPGDHAARxd%2BPAUh6Ln5eAxB3/Uzxh9cSXssBY%2BxfLwMg6qqhUD%2Bv5YCjrp%2BTAfAbP%2Bz6EQlPU7rYrszHw4q/aw5AkFWFDEdyN4rgxMwLI/6YsnuxjEbgiR%2BMAhBR/L0MQBoL8fAYgCTqZ4q/dSZAkfq3mgEQedVQqAuvAQhbP7sB4Ikfdv2IgqcXlNuiEH9HPQ8i/rAVN2e/7ZQMKHqweQ2AKNm9WEYj8MTPazlgzOLgZgDSWoXPrwFIqn6m%2BPMaACz961bAtPKKf7X7RBrzdPAYgCjqZzUAvOYJu35EwdO31P09KvE3t1JBWZl2cOLmhRF/XgMQZ3YvltEIPPHjNQCYxMHJAKS5BK8fA5Bk/aybXwOAqX/dePDailf83e4Tac3T4dcARFU/0wAEeXKCXT8i4PlO/ktU/GHT89mzJQu2bwMgWnYvltEIPPHjMQDYxMFuANIUfz8GIOn68RoAbP3rxoPEVV7xd7pPpDlPhx8DEGX9oO1BFw7Drh9heUVNPQOl%2BMPGCg0fKWnKPlmC7dcAiJjdi2U0Ak/8/BoAjOJgNQCwGmCa4u9lANIwJzwGAGP/uvGsBkDEVUP9GICo6wcJykHE380AYNKPUDxN3cNyAz3H7qci/ubWnVfGSxFsnwZA1OxeLKMReOLnxwBgFQfTAMC77tKcWamKfzUDkNaTCb8GAGv/uvFMAyDqqqFeBiCO%2BsGXkyDi72QAsOkiyuvHAAAgAElEQVRHKJ6mjItU/I/tEJn4w34tCwd9tbMte1j4YPswACJn92IZjcATPy8DgFkcQNTM6W6tBiCtVficDECaryX8GADM/evGgxwAkVcNrWYA4qofvJ4MIv52A4BRP4LyjN%2B9XcrVfSlS8T%2B2U2Tibx68ozUzVeRg%2BzEAQd9RYcnuxTIagSd%2B1QwAdnGAyW3Mse6mAUhzCV67AUg7J8HLAGDvXzcejALgFX8omObpcDIAcZoTqwHgNU/Y9SMoT88rD0Yu/jYDEIn4Q9m%2BNvMvIgfbywAEFX834U0juxfLaASe%2BLkZABHEAaa3tRqANMXfbgBgWuC0cxKqGQAR%2BteN57UcsFPBNk%2BH3QDE/WTCNABBnpxg14/gvLp/jFz8LQYgMvE3ebqWXSlusN1LGPF3Et60snuxjEbgiZ%2BTARBFHGCBG6sBSFP8rQYAXkvAwkBp5yS4GQBR%2BteNx2sAMM7TYTUASbyWAPMTdOEw7PoRiKepS2IR/2OAyMUffl8sqH8QMtgevDDibxfeNLN7sYxG4Imf3QCIJA5WAwCjANIUf9MAmDkJsDRw2jkJTgZApP514/EYAKzzdJgGIKmcBHj9EUT8IX7Y9SMIr2ez%2ButYxN%2BERC3%2BsDE27v26praJFmwvXhjxtwpv2tm9WEYj8MTPagBEEwfTAIDoei0HHLf4Q4HH/qYhMQ1Amq8l7AZAtP514/k1AJjn6YC/JZmQ6LUccLX4YdcPbp6mtIOWxiL%2BQTe/B5dxlcAw4m8KL4bsXiyjEXhiZxoAEcUBcgDM6W55DUBo8R/2S3Zw3Gms66xTjvM6bQbA5B380ym9nzX2SdKcWDdImBStf914fgwA9nk6wLwnmZDIawCs8cOuH/y8vqv%2BCSH%2BsLH1mQ8ZjXxdnGB788KIPxQs2b1YRiPwGgARxR9%2BBlEzNx4DEFZcDzb%2BlnVvbWTd20ey7tZ61nnm/5b3B9E3DQCYAVP8u1sbej9r7HOw8TeJPZkwNzBJYJZE6183npcBwL5qKNQPrt0kExJ5DIA9ftj1g4ena9md9ol/hBF/czMacp4IwfbLCyP%2BmLJ7sYxG4CkwpEpE8Yffey0HHJe4Hrz/nF5BN8rBbY3swOV/KHOsBgBeB5Q/a3zzNz9b/ryxbxLibxoAMycBXpeI1r9u%2B1QzACKsGgr1sRqAJF5L%2BDUATvHDrh88PD2vjAyrv156Hqv4w7Y/P%2BxTRmM6sQfbLy%2BM%2BGPK7sUyGoEnfjCpiojiD3/nNQCRietlfzwu/h1aA9s35NQKAwCie3wmwGG/PPG0wCiwbxLiD8UU/0oDIE7/8hoAUVYNtRqApHIS/BgAt/hh1w8OXsfeXN0n4xR/2D9W8Tc3vaBchTzYvnlhxB9Tdi%2BW0Qg88YNpVUUUf14DEPmkPJf%2BgR2YfDbbX/%2Bb4zx47G/mJFinAobH/uVv/gmKP%2Bxniv8JAyBW//IYAJFWDTUNQJIJiV4GoFr8sOuHb46mXB6V/lbT89jFH7bOVzN/ZjSoC22wOXhhxB9Tdi%2BW0Qg88TthAMQTB78GIKkZ%2BeCxv7m5LQecZP2sBgByAETrX78GQLRVQ00DkGRCYjUD4BU/7PrhT/zVg13bR34mbvH3NABRHlzX1KtRBpuTF0b8MWX3YhmNwBO/XgMgnvj7NQBJTsfrtRxw0vWzGgBImBStf/0YABFXDYUC5j2p%2B1U1A%2BAnftj1w6cBuCJq/XXjJSL%2BsO1qb/hMVy7bhS7YnLww4o8puxfLaASe%2BEEOgIji78cAJD0XP68BiLt%2BpvjDawmv5YAx9q%2BXARB11VCon9dywFHXz8kA%2BI0fdv3w%2B%2B0/CfF3zQGI6%2BD7mrMTUAU7AC%2BM%2BGPK7sUyGoEnfjAKQETx9zIAaSzEw2MAkqifKf7WmQBF6t9qBkDkVUOhLrwGIGz97AaAJ37Y9cPbACjjkhJ/R16cB39pxuAvdeUy3WiCHYAXRvz9PtqL8mJyy%2B7FMhqBJ35eywFjFgc3A5DWKnx%2BDUBS9TPFn9cAYOlftwKmlVf8q90n0ping8cARFE/qwHgNU/Y9cOjdMKTcinF3ywHmjNXIQl2IF4Y8ec1AHFm92IZjcATP14DgEkcnAxAmkvw%2BjEASdbPuvk1AJj6140Hr614xd/tPpHWPB1%2BDUBU9TMNQJAnJ9j1o1op5pWLpRZ/%2BPnVtdlPljR1T9rBDsoLI/48BiDu7F4soxF44sdjALCJg90ApCn%2BfgxA0vXjNQDY%2BteNB4mrvOLvdJ9Ic54OPwYgyvpB24MuHIZdP1x5eWXvvOlnnCS1%2BJs8I0ijRBR/NwMgYnYvltEIPPHzawAwioPVAMBqgGmKv5cBSMOc8BgAjP3rxrMaABFXDfVjAKKuHyQoBxF/NwOAST/ceHubahv7hfjDBvMb6wVlm2ji72QARM3uxTIagSd%2BfgwAVnEwDQC86y7NmZWq%2BFczAGk9mfBrALD2rxvPNACirhrqZQDiqB98OQki/k4GAJt%2BOPE627LbH7/9jE8lLv7HdkjlnUMprwwTTfztBkDk7F4soxF44udlADCLA4iaOd2t1QCktQSvkwFI87WEHwOAuX/deJADIPKqodUMQFz1g9eTQcTfbgAw6ocTb8%2BmzLBUxP/YTsk/djA2xgZ%2BoFRQmkUSf6sBCPqOCkt2L5bRCDzxq2YAsIsDTG5jjnU3DUBa4u9kANLOSfAyANj7140HowB4xR8Kpnk6nAxAnObEagB4zRN2/bDzOlozTVdc8fOPpSL%2Bx3ZMx3kYm55XfyKS%2BJsGIKj4uwlvGtm9WEYj8MTPzQCIIA4wva3VAKQp/nYDANMCp52TUM0AiNC/bjyv5YCdCrZ5OuwGIO4nE6YBCPLkBLt%2B2Hk71tX%2BT2rif2zn9A4%2BoLxQ0POiiD%2BUMOLvJLxpZfdiGY3AEz8nAyCKOMACN1YDkKb4Ww0AvJaAhYHSzklwMwCi9K8bj9cAYJynw2oAkngtAeYn6MJh2PXDyutozT6dtv4OSPXgxvZWQf1rIyhviyD%2BsF8Y8bcLb5rZvVhGI/DEz24ARBIHqwGAUQBpir9pAMycBFgaOO2cBCcDIFL/uvF4DADWeTpMA5BUTgK8/ggi/hA/7Pph8jpz2be0pUO%2Bkbb%2BDkj14Mc2vaDcIIL4w/5hxN8qvGln92IZjcATP6sBEE0cTAMAouu1HHDc4g8FHvubhsQ0AGm%2BlrAbANH6143n1wBgnqcD/pZkQqLXcsDV4oddP0zWvqbsdamLf9At6oO/tmHwpzrbsrtF6Lww4m8KL4bsXiyjEXhiZxoAEcUBcgDM6W55DUAcCXqdNgOQdk6CdYOESdH6143nxwBgn6cDzHuSCYm8BsAaP%2Bz6Uf7235p9Y/bj53yWxN/C27sxkxGh88KIPxQs2b1YRiPwGgARxR9%2BBlEzNx4DEFd2Poi%2BaQDADKSdk2BuYJLALInWv248LwOAfdVQqB9cu0kmJPIYAHv8sOsHlD2bMoNJ/G28kSN/89GOXGYd9s4LI/6YsnuxjEbgKTCkSkTxh997LQecpPjvsxkAeB2QpvibBsDMSYDXJaL1r9s%2B1QyACKuGQn2sBiCJ1xJ%2BDYBT/LDrR2drZu20aV99Hxb9TfXgdt6OtbX/VcwrR7F2HvwcRvwxZfdiGY3AEz%2BYVEVE8Ye/8xqAuMflmwYARNdrOeAk6meKf6UBEKd/eQ2AKKuGWg1AUjkJfgyAW/wwi39XTjna1ab%2BR1R6GYX%2BpnpwJ15JU6Zj7DyTF0b8ey/wF8omAJ4EwGM%2BONl5C%2BwH%2BwPHLG68ZctedKzTwoULA/GC1m/x4iWhzRNMqyqi%2BPMagCQm5YHH/mZOAq8BiKN%2BpvifMABi9S%2BPAfAzGsZ6fUZ5P3Ar1vuEvX6LFi1O7H4FBdoeRPzh91jFH34uasqjUetlWF6qB3fiHWqr%2BysjgIewdZ7JCyP%2BYd%2BB93feCQMgnjj4NQBJzcgHj/3NjccAxFU/qwGAHADR%2BtevARDpehORh1X8dS2r9xQyX45aL8PyUj24G6%2BkqRfi6rwTPMwnv%2By8XgMgnvj7NQBJTsfrtRxw0vWzGgBImBStf/0YANGuNxF5OMW/XEbFpZdheKke3I3Hlo37oF5Q12PpPOvnMJ/8svMgB0BE8fdjAJKei5/XAMRdP1P84bWE13LAGPvXywCIeL2JyMMo/sWC8gqsfROXXobhpXrwarxSIfs9wwQcSbvz7J/FfPLLzoNRACKKv5cBSGMhHh4DkET9TPG3zgQoUv9WMwCiXm8i8rCJv15Q3iltVr4ft15GxsMg/uYGMwRiEn8/BkCmiwkbz2s5YMzi4GYA0lqFz68BSKp%2BpvjzGgAs/etWwLSKer2JyMMk/r1/V69OSi9D8zCJP2zs9dEfK%2BWVLVjE38sApH3yy87jNQCYxMHJAKS5BK8fA5Bk/aybXwOAqX/dePDaStTrTUQeJvEvFZQC2z74o0npZSgeNvE3Nz2f/bHhoo5iEP9qBgDDyS87j8cAYBMHuwFIU/z9GICk68drALD1rxsPEldFvd5E5GER/2Oa9dOk9TIQD6v4m1u3pjyAQfzdDACWk192nl8DgFEcrAYAVgNMU/y9DEAa5oTHAGDsXzee1QCIdr2JyMMg/sc%2Bc09aeimV%2BMN%2BS2ed/XlYQCFt8XcyAJhOftl5fgwAVnEwDQC86y7NmZWq%2BFczAGk9mfBrALD2rxvPNAAiXm8i8lCIf0Hd3bV95GfS0ksuHnbxN3m7N2TOSlv87QYA28kvO8/LAGAWBxA1c7pbqwFIaxU%2BJwOQ5msJPwYAc/%2B68SAHQNTrTURe2uIPpaeQ/X3aeumbJ4L4m6Ujl5mR9lzPmE9%2B2XnVDAB2cYDJbcyx7qYBSHMJXrsBSDsnwcsAYO9fNx6MAhD1ehORl7b4lwrZp7HopS%2BeKOIPP3c0Df8LI8j70xJ/0wBgPfll57kZABHEAaa3NQ3A4QP72Vv5dvbO5gJ7d8tm7gL7wf72wsN77/UdxwX33R2vheaFrV81AyBC/7rxvJYDxny9ichLVfw1da%2B%2BteaLWPTSF08U8Td5pQU/u1i//%2BtMn/I1X6U4%2BWus676vsc57TxT4GX7vl0E84hGPeMQjnivP0KTS/J9eik0v/QCEEX9zKz7/r82oTwbiEY94xCNe/%2BE9/y8bseqlJyS1gwfksZW//Gzx8b9/G%2B3JQDziEY94xOsfPEOL2Ms/PwmrXka%2BYWhMcfHPTis%2B8Df4TgbiEY94xCNe/%2BA98Nfs0MKfDsSul5FtmBqjz/q3OahOBuIRj3jEI16/4ZVm/vvzouhl6A1bY2CJRX36Px7AcjIQj3jEIx7x%2Bgnvye8dqLbMLza9dOKlevAoeD0LfvLD4kPfOJr6yUA84hGPeMTrFzzQnJ6FJ/9INL2081I9eFS87jn/fU3X5K9Lc3IRj3jEIx7xkPJgGPq8n1wjql5aeakePEpe57P/1irFyUU84hGPeMRDy%2Bue%2BW%2BuQ/5E0UuTlerBo%2BQtmXLqFzqnfrdH9JOLeMQjHvGIh5T35PdKbNHAPxNdLz0NgIiN2fncKT/tfvAbR4U9uYhHPOIRj3goeeVcs6U/%2B3dZ9PJktxwAURsDv%2B%2BZ/d9X8UwVjOXkIh7xiEc84uHldc/5r%2BvS1rfYeTI0Rn/2n18W7eQiHvGIRzziIeU9968rsOhbbDxZGsOW/fcH9ae%2Bt0%2BYk4t4xCMe8YiHkwfj/XPf7vO%2BXBa9TP/gMfAOzvmfv9Yf%2B9YR9CcX8YhHPOIRDyfv0W%2B9073oP76JTd8i5UnVGMsGczTrDusFoDm5iEc84hGPeDh5D/4NO7Tw5NOx6lskPKka47AVX/jv21GeXMQjHvGIRzy0vNLcH0/Crm%2BheVI1xmUrPv%2BvTdhOLuIRj3jEIx5S3oz/t14UfQvFk6oxLhtb8LNPFJ/43kE0JxfxiEc84hEPJa/45Pe72Mv/%2BjFR9C0UT6rGVOEVnj/l7zoe%2BfaRtE8u4hGPeMQjHk5e8bFvH%2Ble8T/ftOsHdn0LzJOqMR68Hc/%2B7JSOB75xVJaTlXjEIx7xiBcNr/jgN452Lzz5VFH1LRBPqsb44O2d9ePG4v1/LfzJSjziEY94xIuIB7PHvvCT0aLrGzdPqsb45BVn/%2BcdQp%2BsxCMe8YhHvMh4xTn/eZ8s%2Bhb7hr0xfngwtaOoJyvxiEc84hEvGl7x2X9elrYepclL9eBp8Rgb8H796R9sE%2B1kJR7xiEc84kXEe/qH20EL0tajtHipHjxtHpv1q48Xn/hehzAnK/GIRzziES8a3hPf7WIv/O%2BnsehRGrxUD46Bd2DxL7%2BsT/3OIfQnK/GIRzziES8SXnHqP7zVMf%2B3/webHiXNS/XgWHil5b/6QfGxv3sX68lKPOIRj3jEi4ZXfOTv3u1ZdsqPsOpRkrxUD46JV1z0i98WH/rm/2/v3mPbqu44gHfAtgKDTYJuDMa2vEOaV/Ny7NiOEydNCQ8Naf1nkxAIDWl/AAIxpg1tDHWbOiQmtglE83Cc5uU4fj/ipO2aMgpFU7UOqiEeRXQLoyPx9eOcm6SExHe53qqx0Y48bN9zjr%2BW/Eer9HPya87v%2B0sc33tSrG1WePDgwYOXGY8MlKTUrGd9HuXK03Rx1rxExHJfvLcoxcpmhQcPHjx4GfJsRQqZ6vgeL/MoF55QxWTCm/O2/lDqKdR%2Bs8KDBw8evMx4fQWKHDQ%2Bxts8yrYnVDGZ8uY95p/GewrE2fzw4MGDl6%2Beepe/cOuTvM6jnHpCFbMFLxkwPpXeOLxvfnjw4MHLV28tw0nA9Fve5xGGvwYeDRp6N/JNAHObHx48ePDy2Fv7QW5QlHmUVU%2BoYjLokYBhnNfNDw8ePHh56/maXVrPDy48oYrJgkd8zQHuNj88ePDg5am34DeEWJkfTHtCFZNFT/YbD/Gy%2BeHBgwcvXz3iMxxhbX4w6wlVTJY9GjAEWd/88ODBg5evHgmZMfw34glVTA48EjB6WN388ODBg5ev3lo2h1mfH8x5QhWTI4/6jCOsbX548ODBy1vPb8Qb/jbjCVVMDr3oePMgM5sfHjx48PLRS1/nb7DzNj%2BY8YQqJsfenNvwLO4YCA8ePHhaeAUK9Rme5XV%2BMOEJVYwGXjLU%2BiTpLxSgmeDBgwePE0/N3IBxP%2B/zgxVP08V592jY/BDtL0px20zw4MGDx4tnK0rJYQsO9sHwZ8dbnLLerZ41zV0zwYMHDx4nnpqxJNyGI30x/NnzyHTnt8lg2QovzQQPHjx4vHjEXrq6eKh9Lyt5L4Kn6eIieouRLj0d2bnEejPBgwcPHi8eGao4vzjVZmAt73n3NF1cVC/u7yygY9VxVpsJHjx48Ljxxmpisd93f4PVvOfZ03RxkT1lpvULdKL%2BHeaaCR48ePB48cZ3vatMNl3Let7z6mm6uOje8ePXXSZN6F5gppngwYMHjxfP1fCK4tx2OS95z6MnVDGselG3YSB2oECs5oQHDx68rHgFCvHq7LzmPU%2BeUMWw7M27Wh5P9hev%2B14B7DYnPHjw4GXHI7bilBwyPcp73nPrCVUMY15yuvNWMnzLMq/NCQ8ePHhZ84bKl%2BWI5TZR8p47T6hiGPXIzO5yOlab4K454cGDBy9bnqM2njxsLdU6n/PWE6oYxj1loHW77NWd4KY54cGDBy9bnqvhdWW682pW8jnvPKGK4cijXp1NPc6S6eaEBw8evGx46lG%2Bvv8c5ctaPueFJ1QxHHpJn/FeMlC6wlxzwoMHD16WPGIvWyEh032s57PwnlDFcOotHbaWUkd1lJXmhAcPHryseaPVEpnSl/OSz0J7QhXDsXfGcfUVMWfTEc2bEx48ePCy5BFXw0llcs/nectnYT2hihHAm3Obfyn1FqdEaHZ48ODBSz/7i1Ik2PIU7/ksnCdUMYJ477st3WS44hMnCnLT7PDgwYN34TlSuZQ41NUlSj4L5QlVjEAembn9eurR/YW7ZocHDx68C09n3VvK5J4dWucpvP%2BDaLY4vE/1aNi4n9hKPvUWwkw0Ozx48OCpH28rTpGQ8RnW8hReBh6sFyOaJ0fa6%2BhoVYzVZocHDx68C095pDKRDJj1rOYpvC08WC9GVE%2BZ2XYF9TRF1JOyWGp2ePDgwUs/1ZuaqUf4XuRd/qzlKTwGFoe3cU/2Gu6hg2Ufat7s8ODBg3fhYwfLl%2BWA8V7e8jTfPU0Xh7c5j053fpk660%2BLEh7w4MHj2HPWvUOP3PEVXvM0nz1NF4e3NW/ebf6JZCtb4To84MGDx6VH7KWrNGzep1X%2Bwdu6p%2Bni8LbuveHvrJQc9bO8hQc8ePA49px1s%2BQl8ydu55vr/IO3NU/TxeFlziPBlt9Qe8kqF%2BEBDx48Lj2yljHJoOlp1vIP3uY8oYrJdy%2BpHirkbnyL1fCABw8ex9547dlk0FzCav7B27gnVDHw/vWgk22/IIPlK0yFBzx48Pj0DpYtywHTo7zkH7wteEIVk8eePNN9A/U2n0xfmytSGMGDBy83npodE3WnSMB8PW/5B28TnlDFwEs/kiHTPWS4YpH7MIIHD17OPDK0c1EOt92d67yCh%2BEPL8Oe4my%2BkviMgXhvcYrHMIIHD16OvP7iFPEbPMpk8SXv5pftvIKH4Q8vC96sr6NRGqt7h5swggcPXs68pLPh7MLR2%2BpZySt4OfCEKgbeurw5f/vDZLhiieUwggcPXm682GDFQiLQ%2Bn1W8wpeFj2hioG3bk8ZaN2uvtSnHtvJUhjBgwcvN57UV7Iacxsc7/dVfo71vIKXJU%2BoYuBt2Esebyujft0p2l8oVLjBgwfvEt6BAiU6WnfqzV5LMW95BS/DnlDFwNu0l5iy7iHju2a5Dzd48OBd2hupnj/nMHXznlfwMuQJVQy8LXvJydZHyXDlIpfhBg8evIt7BysXPvCZH9Y6X%2BAx5glVDLyMeMrJ%2Bs/SYEsfGSz/iItwgwcP3kW9mK38I8lr6n3qkdarWMkXeAx5QhUDL6Pe0WesX5LcLSNSf9kqi%2BEGDx68S3i2klXJpY%2B8/Fz7DlbzBR47nqaLw2Pbe61n942S2xhM2krXfcUAV2EJD54g3trgTyV8LcdODXV/jZd8gaetp%2Bni8Pjx5g913EjcTUdofxEuHYQHjyXPpt7BT//iudCdN/OaL/By72m6ODw%2BPfUbAerTT6o/bXAZlvDgCeKle9CnPx73dxaIki/wcudpujg8vr3okb030UBLhAyWrfIQlvDgCePZS1apV3dUmtp9Myt5AI8/T9PF4YnhKYc7vkj9Bhuxl37EZFjCgyeIR%2BxlKzRoiqjHfbOaB/D48TRdHJ5YnnrqYMKj%2B13MfssCC2EJD54oHhna%2BSEJmkaV43dew0sewGPf03RxeOJ659yWB2IjNedECF948DTzRqoSNGzepyjbLuM5D%2BCx6QlVDDz2vKTf0C0760%2BT/iL%2BwhcePC28vgKFTDScpYd3f0fr/oUntidUMfDY9WikbSd1Nx0j9tJPvGGQqfCFB08jT30zLfHqZ%2Bh0ayVr/QsvTzyhioHHnKe83HwlDbfup2M1EkvhCw%2BeZt5oNSWRtgPKK9%2B9lvX%2BhSewJ1Qx8Jj35MnO3bJXd%2BLC/QSECHN48Nbj2YpT1NXw%2BsJU%2B7d47V94AnlCFQOPK0%2BZ3LMjGTD2xYaqElyGOTx46/VGq%2BM00NKjHLZep1W/wYPHzuLw4H3M%2B5urwxh16SNxe/ky82EOD946PKm/dCU2oXslOmW1stZv8PLcE6oYeMJ4ZxytV9CI9RHqbnyb2nD2ADy%2BPKmnSImN1p79h8fy4337uraz3m/w8tQTqhh4QnpksmWH7NU/Tcer/077C7kfDvAE9foKldhY3VzUa3r%2Bj2PWm3jtN3h55AlVDDzhvcRha%2BFC2DwgO2vn1euluRkO8MT01D04WhWnXr3jzSHzLVr3Bzx4G/KEKgZeXnmJqebi9BkEo9Vz8Z4C9oYDPDE9deg7auPJkHksebytjNX%2BgAdvPf9YnGLg5a13auyOr8/5256RHA1/jfcWp4QZNvCY8MhASYqM75qlfuPzF07g46k/4MG7FCBOMfDgrf05GmjdTsMtDxFXw0l6sGyZt2EDjxHvYPky8ehek6faH1cC9VeJ0h/w4P0Xotni8ODlwEtMtXeSoGmcOuvfT9%2BAhcVhA09zL31ehaN6nnqaAwvBlrtY3c/w4GXa03RxePBy5am3Il6Ytt5PAi1H6XhNMn3wigDDC94mvN4ChY5UytTd9DINmR9RfIZrPnUDMbaf4cHD8IcHb5PerPfWG%2Ba9lh9JE7oXYsM1UqynkI/hBW/j3oECRTpYuSCNN76aCJh%2Brb6JVOv9Bw%2Belp6mi8ODx5r3J7v1JjJl%2BQH16o/R0RqJ9uMmRNx6fUWptW/qolGX/tgHHstjf37u1q%2Byvv/gwculp%2Bni8OCx7inKE5fRmS4LDVueI56m03SsRia2Iv6GoeieemneUMUSdda9SXwGeyxkvmPf/RXbed9/8OBl09N0cXjwePSUwO1X0ZBxr3oPAtnd%2BCoZrU7G%2B0pSzAxDwT31kjzqqCHEo3uDBEzj8nTHvR8/Spe1/QIPHquepovDgyeSd3ais3nOY3o8OqEPkLWfROlIJd3IrxBYGK5MebYihYxULVFXw7vEbzxEI20/XzrW3aa%2BKiPCfoEHT2tP08XhwRPdU5Rtn5Ff6KqjEeuDJGgYoB7dCeqsmyXDOxf/95Ajrof1Zr3eopQ0uHMxNrZrVppoPjHvbRlMBi0PnJ/prlX/71j/%2BsKDx7MnVDHw4PHmxSNd31yY7LyLhkw/i3qMo5Kr%2BUXJ0XBGUq9IsFecTw6UrH78zANuhr96eaW9ZJUMVZyn4zVR2dX4NvU1/0EOmIbkkPkJGuq46/T4nmLWvh7w4OWTJ1Qx8OCJ6CnK3svJ5J6KZKTjTvWVhESo9VckYLATX3OYeppekj2Nr1JX4xni3PUeddRGyUhVIn2520D5cmztGbWVr8b6SlJJW0kq/fvzi90MaXrdDHgAAABLSURBVO3v0re7/fczOVi%2Bmr4T3tozOVy5EBuqSsRGaqPSWN17kqPxjORsfI24m16ifkNIfdMdDRv3JyOWB9XPUf1c8TI9PHjse/8Ew3F8c2i7lnwAAAAASUVORK5CYII%3D%22%2C%20%22popupAnchor%22%3A%20%5B-3%2C%20-76%5D%7D%29%3B%0A%20%20%20%20%20%20%20%20marker_6ee924d0655d4b069dd4475874d3e083.setIcon%28custom_icon_27ab0a8aa18944ecbf183b96bd83c8f9%29%3B%0A%20%20%20%20%20%20%20%20%0A%20%20%20%20%0A%20%20%20%20%20%20%20%20var%20popup_54453ce43b8b40ee80fccb20d3414518%20%3D%20L.popup%28%7B%22maxWidth%22%3A%20%22100%25%22%7D%29%3B%0A%0A%20%20%20%20%20%20%20%20%0A%20%20%20%20%20%20%20%20%20%20%20%20var%20html_ed9029942e0b499fb271639d455af439%20%3D%20%24%28%60%3Cdiv%20id%3D%22html_ed9029942e0b499fb271639d455af439%22%20style%3D%22width%3A%20100.0%25%3B%20height%3A%20100.0%25%3B%22%3EPolice%20Station%3C/div%3E%60%29%5B0%5D%3B%0A%20%20%20%20%20%20%20%20%20%20%20%20popup_54453ce43b8b40ee80fccb20d3414518.setContent%28html_ed9029942e0b499fb271639d455af439%29%3B%0A%20%20%20%20%20%20%20%20%0A%0A%20%20%20%20%20%20%20%20marker_6ee924d0655d4b069dd4475874d3e083.bindPopup%28popup_54453ce43b8b40ee80fccb20d3414518%29%0A%20%20%20%20%20%20%20%20%3B%0A%0A%20%20%20%20%20%20%20%20%0A%20%20%20%20%0A%20%20%20%20%0A%20%20%20%20%20%20%20%20%20%20%20%20var%20marker_842845d9b6ad49e2814b6d7a6c257801%20%3D%20L.marker%28%0A%20%20%20%20%20%20%20%20%20%20%20%20%20%20%20%20%5B30.61522%2C%20-96.320502%5D%2C%0A%20%20%20%20%20%20%20%20%20%20%20%20%20%20%20%20%7B%7D%0A%20%20%20%20%20%20%20%20%20%20%20%20%29.addTo%28map_4f71f27e3ac142aaaed83b1761a368a2%29%3B%0A%20%20%20%20%20%20%20%20%0A%20%20%20%20%0A%20%20%20%20%20%20%20%20var%20custom_icon_d748bcba29374cf28b2757d1bfb2463d%20%3D%20L.icon%28%7B%22iconAnchor%22%3A%20%5B40%2C%2010%5D%2C%20%22iconSize%22%3A%20%5B75%2C%2055%5D%2C%20%22iconUrl%22%3A%20%22data%3Aimage/png%3Bbase64%2CiVBORw0KGgoAAAANSUhEUgAAAgAAAAIACAYAAAD0eNT6AAClA0lEQVR42uydeXxU1fn/P3e2TBK2QAhhSVnCDiqKLAmgyC4gCIhSpPpFLHUX1PbrWql1aeteEOsCFor9VqyAguwgO7LIvokGEtYAYQmQzJJZfn%2B0Z36Xyd1m5tyZe2ee9%2Bs1r9qQnLn33HPPs5xnEYLBYBAEQRAEQaQUFpoCgiAIgiAFgCAIgiAIUgAIgiAIgiAFgCAIgiAIUgAIgiAIgiAFgCAIgiAIUgAIgiAIgiAFgCAIgiAIUgAIgiAIgiAFgCAIgiAIUgAIgiAIgiAFgCAIgiAIUgAIgiAIgiAFgCAIgiAIUgAIgiAIgiAFgCAIgiAIUgAIgiAIgiAFgCAIgiBIASAIgiAIghQAgiAIgiBIASAIgiAIghQAgiAIgiBIASAIgiAIghQAgiAIgiBIASAIgiAIwkjYaAoIInmoqqrCuXPncOHCBVy6dAmXL19GeXk5Kioq4Ha74XK54PV64ff74ff7EQgEYLFYYLVaYbVa4XA4kJ6eDqfTiczMTNSuXRu1atVCnTp1ULduXdSvXx92u50mmiBIASAIIl4Eg0GcPHkSRUVFOHLkCI4cOYLjx4/j5MmTOHHiBEpLS1FeXo5gMKjbNQiCgNq1ayM3NxdNmjRB48aNkZeXhxYtWqBFixbIz89H48aNIQgCPTCCMDhCUM/dgiCIqDh79ix27dqFXbt2Yd%2B%2BfTh48CAOHTqEq1evGv7aa9SogbZt26Jdu3bo2LEjOnXqhE6dOiEnJ4ceLEGQAkAQBMPr9WLbtm3YvHkzvv/%2Be2zduhXHjx9PuvvMy8tD165d0b17dxQUFKBLly5wOBy0AAiCFACCSA0CgQC2b9%2BOFStWYM2aNdi0aRMqKytTbh4yMjJQWFiI3r17o3///rj55pthsVBcMkGQAkAQSUR5eTkWL16MhQsXYsWKFSgrK6NJCSM7Oxv9%2B/fHHXfcgcGDB6N27do0KQRBCgBBmI%2BLFy9i3rx5%2BPe//43Vq1fD6/XSpGjE4XCgT58%2BGD16NEaMGIGsrCyaFIIgBYAgjIvH48E333yDOXPmYOnSpST0OSkDgwYNwrhx4zBs2DCkpaXRpBAEKQAEYQwOHDiAjz/%2BGJ9//jm593UkOzsb9957LyZOnIj27dvThBAEKQAEEX/8fj%2B%2B/vprfPDBB/juu%2B9Ar1IcNy5BwG233YZHH30Uw4cPh9VqpUkhCFIACEJfKioq8Nlnn%2BG9995DUVERTUiCyc/Px6RJkzB%2B/HhkZmbShBAEKQAEwZcrV65g6tSpePfdd8nNb0Cys7MxefJkPP7446hZsyZNCEGQAkAQsVv877//Pt555x2cP3%2BeJsTg1KtXD08//TSeeOIJ8ggQBCkABBE5Pp8PM2fOxJQpU3D69GmaEJPRsGFDTJkyBQ888ABsNmp7QhCkABCEBpYvX45Jkybh4MGDNBkmp127dnjvvfcwYMAAmgyCEEF1NwlCRHFxMUaOHImBAweS8E8SDh48iIEDB2LkyJEoLi6mCSEIUgAI4v/j8/nw9ttvo2PHjpg/fz5NSBIyf/58dOzYEW%2B//TZ8Ph9NCJHy0BEAkfLs2bMHDzzwAH744QeajBShc%2BfOmDlzJq6//nqaDIIUAIJINfx%2BP9566y38/ve/N3XJXkEQkJOTg0aNGqFRo0bIzc1FdnY26tevj6ysLNSsWRM1a9ZERkYGnE4nnE4nbDYbrFYrLBYLAoEA/H4/fD4f3G433G43KisrceXKFVy5cgUXL17EuXPnUFZWhtLSUpw%2BfRonT57E2bNnTV38yOFw4JVXXsEzzzxDhYQIUgAIIlUoKSnBvffei40bN5rmmmvXro3rrrsO7dq1Q9u2bdGmTRu0aNECzZo1Q3p6etyvx%2BVyobi4GEeOHMGPP/6IQ4cO4eDBg9i7dy/Ky8tNM689evTA559/jqZNm9KLQZACQBDJzIIFC/DAAw/g4sWLhr3GzMxMdO3aFV27dkWXLl1w0003oVmzZhAEwfDzGwwGUVxcjB07dmDbtm3YunUrtm7dioqKCsNec1ZWFmbOnIk777yTXhCCFACCSDZ8Ph9%2B%2B9vf4r333jPctTmdTvTs2RN9%2B/ZF79690blzZ9jt9qSZ%2B6qqKvzwww9Ys2YNVq1ahQ0bNsDtdhvuOidNmoQ333yT6gYQpAAQRLJw7tw53H333VizZo1hrqlx48a44447MGTIEPTp0wcZGRkp8zwqKyuxevVqLFq0CIsWLcLJkycNc229e/fG3LlzUb9%2BfXpxCFIACMLM7NmzB8OGDUNJSUnCryU3Nxd33303Ro8ejcLCQlgslIkbCASwadMmfPnll/jiiy9w5syZhF9T06ZN8c0331CWAEEKAEGYlaVLl%2BKee%2B7B5cuXE3YNDocDw4cPx/3334%2BBAweSe1kBn8%2BHZcuWYdasWViwYAGqqqoSdi21atXCF198gUGDBtGDIUgBIAgz8cknn%2BCRRx5JWNGXJk2a4KGHHsKECROQm5tLDyRCSktLMWPGDHz00Uc4fvx4Qq7BZrNh%2BvTp%2BPWvf00PhCAFgCDMwOuvv44XXnghId/duXNnPPXUUxg9enRSBfIliqqqKnz55Zd45513Elas6bXXXsPzzz9PD4MgBYAgjEowGMRvf/tbvP3223H/7oKCArz44ou4/fbbTZGuZ8Znu2TJErz66qvYvHlz3L//mWeewV/%2B8hd6tgQpAARhRAHx5JNPYurUqXH93k6dOuG1117D4MGD6SHEicWLF%2BOFF17Arl274vq9jz/%2BON5//31SAghSAAjCSML/iSeewLRp0%2BL2nY0bN8Ybb7yBe%2B%2B9l6L5E0AgEMDnn3%2BO5557Lq5phI899hj%2B%2Bte/khJAkAJAEEbg6aefxjvvvBOX73I4HHjmmWfw3HPPoUaNGjT5Cebq1at444038NZbb8Wtp8NTTz2VkGMmgiAFgCBE/PGPf8Tvf//7uHzXLbfcgg8//BDt27eniTcYBw4cwMMPP4x169bF5fteeeUVvPTSSzTxBCkABJEIPvjgAzz22GO6f09mZib%2B9Kc/4ZFHHiF3v4EJBAKYPn06nn322bj0Hpg2bRoeffRRmniCFACCiCdff/01Ro0aBb/fr%2Bv3dO/eHXPmzEF%2Bfj5NukkoKirCuHHj8P333%2Bv6PVarFV999RWGDx9Ok06YDjJlCFOydetWjB07Vlfhb7FY8Nxzz2HdunUk/E1Gfn4%2B1q1bh%2Beee05Xj43f78fYsWOxdetWmnSCPAAEoTcnTpxAly5dUFpaqtt31K1bF3PmzMHtt99OE25ylixZgnHjxuHChQu6fUdubi62bduGJk2a0IQTpAAQhB643W7ccsst2LZtm27fccMNN2D%2B/Plo3rw5TXiScPToUYwYMQK7d%2B/W7Tu6dOmCdevWwel00oQTpoCOAAhT8Zvf/EZX4T9s2DBs2LCBhH%2BS0bx5c2zYsAHDhg3T7Tu2bduG3/zmNzTZBCkABMGbjz/%2BGLNnz9Zt/CeeeALz5s2j3P4kpUaNGpg3bx6efPJJ3b5j9uzZ%2BPjjj2myCVNARwCEKdi1axcKCgrgdrv5vwSCgFdffZWavaQQb7zxBl544QXosf05nU5s3rwZnTp1ookmSAEgiFi4evUqOnfujMOHD3Mf22Kx4IMPPsBDDz1EE51ifPTRR3j44Yd1UQJat26NH374gbxJhKGhIwDC8Dz11FO6Cf%2BPP/6YhH%2BK8pvf/AaffPKJLmmChw8fxlNPPUWTTJAHgCCiZeHChboEbgmCgI8//hgPPvggTXKK8%2Bmnn2LixIm6eAK%2B%2BeYb3HHHHTTJBCkABBEJZWVl6NixI86cOcN97HfffReTJk2iSSYAAO%2B99x4mT57MfdycnBzs378f2dnZNMmE4aAjAMKwTJo0SRfh/%2BKLL5LwJ6qttRdffJH7uGfPnqW1RpAHgCAi4dtvv8XQoUO5j3vffffh73//O/VyJ6oRDAZx//334x//%2BAf3sRctWoQhQ4bQJBOkABCEElevXkX79u1x/PhxruPeeuutWL58ORwOB00yIYnX68WAAQOwdu1aruPm5eXhwIEDlBVAGAo6AiAMxyuvvMJd%2BDdr1gxffvklCX9CEYfDgS%2B//BLNmjXjOu7x48fxyiuv0AQT5AEgCDkOHjyIG264AVVVVdzGzMjIwKZNm3DDDTfQBBOa2L17NwoKCuByubiNabfbsXv3brRr144mWEeCwSB8Ph8CgQAEQYDNZtO1IyR5AAiCE5MnT%2BYq/AFg6tSpJPyJiLjhhhswbdo0rmNWVVXpkmlAXAsT/kwZqKqqAtm5pAAQBufbb7/FsmXLuI5533334YEHHqDJJSLmgQcewH333cd1zGXLluHbb7%2BlydURJvzFUNCvNHQEQBhGa%2B/UqRP279/Pbcz8/Hzs3LkTNWvWpAkmouLKlSu48cYbUVRUxG3MDh06YNeuXbDZbDTBOgj/cA9iMBikFs3kASCMzKxZs7gKf5vNhtmzZ5PwJ2KiZs2amD17NqxWK7cx9%2B/fj1mzZtHk6oDf76/2M57PjhQAguCM2%2B3GH/7wB65jPvPMMygsLKTJJWKmsLAQv/3tb7mO%2BYc//EGXzpapbv1Luf/tdjtNDikAhFH55JNPuKb9tWnTBi%2B//DJNLMGNl19%2BGW3atOE23vHjx/HJJ5/QxHLE5/PRJEQIxQAQCbf%2BW7ZsiZMnT/LRaC0WrFmzBr169aLJJbiyfv163Hrrrdwiyhs3boyff/6Zzqc5CX8p97/D4aAAQPIAEEZl5syZ3IQ/AIwfP56EP6ELvXr14ppRcvLkSXz22Wc0sToJf0EQSPiTB4Aw8ovbqlUrFBcXcxkvKysLhw8fps5rhG6UlZWhdevWuHjxIpfxmjdvjsOHD1NGQJT4/X5J1z9F/pMHgDA4c%2BfO5Sb8AWDKlCkk/Aldyc7OxpQpU7iNd/ToUcydO5cmNkoDQu7cn0p%2BkweAMDidO3fGjh07uIzVunVr7Nu3jyJ%2BCd2pqqpCx44dcfjwYS7j3XTTTfjhhx9oYjUiLvUradVaLLQPkAeAMDLr1q3jJvwB4PXXX6eXnogLdrsdr7/%2BOrfxduzYgXXr1tHEasDv96OqqoqEPykAhJmZOnUqt7G6du2KkSNH0qQScWPkyJHo2rWrId%2BHZIRV%2BPP5fLJZGCT8I4eOAIi4c%2BrUKTRt2pRb3u7SpUsxcOBAmlgirixbtgyDBg3iMpbNZkNJSQkaNWpkyrkIBoPVPmLBDPz/qHytkfnBYDBU3EfO4mdYrVYKpCQPAGEGZsyYwU34d%2B/enYQ/kRAGDhyIgoICLmP5fD7MmDHDdFa5z%2BdDVVUVvF5vyEL3%2B/3XCG4WrCf%2BPfY74UoDi%2Bpnv6t01s%2BUBIfDQcKfPACEWTaNFi1aoKSkhMt4CxcuxNChQ2liiYSwaNEi3HHHHVzGatq0KY4cOWL43vV%2Bvx9%2Bvz/hLXbJ5U8eAMJkrFq1ipvw79ixI4YMGUKTSiSMIUOGoGPHjlzGKikpwapVqwwt%2BJlVnmjh73A4SPiTAkCYDZ5d0J5%2B%2Bmmq9EUkFEEQ8PTTTxvy/eBFIBAwlOBPS0uj957X%2BqUjACJeXL16Fbm5uaioqIh5rAYNGqCkpARpaWk0sURC8Xg8aNasGUpLS2MeKzMzE6WlpahRo0bC70st317q961Wa7X2u%2Bys3%2B/3Ryy4g8EgbDYbnfGTB4AwOwsWLOAi/AHgwQcfJOFPGIK0tDRMmDCBy1gVFRX4%2BuuvDWH1K%2BXbhyxIQYDdbkdaWhqcTifsdjssFss1H5vNBrvdDqfTGQrYk8sGEAQBVqv1mjFJ%2BJMHgEgC7rjjDixatCjmcaxWK4qKitC0aVOaVMIQlJSUID8/X7IpTaQMHToUCxcuTLjwV7QcKQCPPAAEoZVLly5h%2BfLlXMYaPHgwCX/CUDRt2hSDBw/mMtby5ctx6dIlQwp/QRCQlpaWlMKf1R1IJZuYFAAiLixatAher5fLWDxbshIEL3itS6/Xy8VTxlP4s3z7ZG2ywzIcWP0BrXEPpAAQhAYWLFjAZZzs7GxulhZB8GTw4MHculHyel8isX6VLH%2Bn05m0kfcs2FGM2hEIKQAEoRGPx8PN/T9mzBhq9UkYEofDgTFjxnAZa/ny5fB4PHG7djmBZ7FYkj7YVsrlnyrHAKQAELqzdu1aXLlyhctYY8eOpQklDAuv9XnlyhWsXbs2Ltcsl9%2BfKoF%2BUoGb4amMpAAQRJQsWbKEyzh5eXno3r07TShhWLp37468vDxDvTdKBAIB2cyFVBD%2BLPAvnFRJPSQFgNCdZcuWcRln1KhRVAGMMDSCIGDUqFGGem8itX6DwWDK1NiQakoWDAZTZp8hBYDQlZMnT%2BLgwYPcFACCMDq81unBgwdx4sQJXa1/Kes3VWJsWEfCcFKpvgEpAISu8GpuUq9ePW6tVwlCTwoKClCvXj0uY61evTqu1j8Aw3cj5IFU5D/7eaqc/5MCQOgOr0CmQYMGpdSLSZgXq9WKQYMGGer9kfMApKL1q5TymGrlxUkBIEyhAFDbX8JM8FqveikAUsI/GAwmvfXPhL9c1kOqxRhRLwBCN0pLS9GwYcPYF6kgoLS0FDk5OTSphCk4c%2BYMGjZsyCWf/PTp08jNzeV6fT6fr9oRgCAISX3%2BHwgEFFsap2JzMfIAELqxadMmLuNcd911JPwJU9GgQQN07NjRUO%2BRmgcgmVPf/H6/rOWfqsKfFABCV7Zs2cJlnD59%2BtBkEqajb9%2B%2BhnqPxMJQzgWebDCXv1TAX6oLf1IACF3ZunUrl3F69epFk0mYDl7rltd7xASiVPR/sp19M3e/UmOfVKp3IAfFABC6ad5ZWVkoLy%2BPeazS0lI0aNCAJpUwFbxiYGrVqoVLly5xEdJSZ/%2BJsILFrXfZJ1whEX%2B0eCfYmHL1Dcjyr46NXlNCD4qKirgI//z8fBL%2BhCnJzc1Ffn4%2BioqKYhrn8uXLKCoqQsuWLWMax%2B/3J9T6FwtnNbtTSiFgSoBYGWCCXsuYDKvVmjKlftWgIwBCF3bv3s1lHKr9T5iZbt26GeJ9Yi5xKUGrd%2BS/3%2B%2BH1%2BtFVVWVbPyBFuueKTBVVVWhD/uZ1jEdDgcJf1IACL3Zs2cPl3FuuukmmkzCtHTu3JnLOHv37o1J%2BMsVvtFT%2BDPBr5R6Fw%2BCwSBsNhvS0tKol0gYpAoRurB//35SAIiUh9f6jfZ9kjvzB/7jCtcj8p%2BV2dVyDq83drs9JUobkwJAGAoeDYAEQUCnTp1oMgnTwmv9HjhwgKsQFgRBF1e43%2B9XTLmTUkKsVms1y5wF9EUylnhMcvNr3GMpC4DQYxPIzMyEx%2BOJaZwmTZrg%2BPHjNKGEqcnLy4u5q19aWhoqKipU%2B2GIz8qVFGs9XP9VVVWqVr8gCLDb7VG54tk9sYA/cele6hMSHeQbIbhTUlISs/AHgA4dOtBkEqaHxzr2eDwoKSlRtfi9Xq%2Bi8LdYLNyFfzAYVMy3Z4I/LS0NDocj6nN45i2w2%2B2hYD72M4IUAMIgxJr2xGjfvj1NJmF62DoW57Qrfdjvqb1XzNqvqqpSFfxMgPLu9qfUXEfsvUjGHgNM6TJKvAMpAIQhOHr0KJdxWrVqRZNJmF5AtGjRQlGwS1nL4YqCIAj4%2BeefQ%2BlvHo8nFGGvteiNHufiShH%2BVqs1aYvtMMVHnJpoRiWAIiUI7hQXF3MZJz8/nyaTMB2BQAB%2Bvz8kEJo3bx7zmIIgoKSkJGIhw9zkeqCkfMTi6jfLMw5XfPx%2Bv%2BkyDkgBILjDK3Av1spnBJEIiz9cKPJSZCMJJLRYLNzd/eHCTu7IIRVK7EopPmZMNyQFgOBOrBHP7GVq0qQJTSZhCpTS3xo3bgyLxXKN0JA6DpCqiS/m5MmTCbX4wxWdVBX%2BLEUxHDMGI5ICQHDn9OnTMY%2BRk5OTlIFDRGpY/WIcDgdycnJQVlamKWqdKRPhbubS0tJq322xWOIeCS9n%2BevpcTCasie1DswIKQAEd8I3qmjIy8ujiSQML/zVIuCZYGzZsiUuX76saUyLxVLNkg4EArh06VLCK9vJtRNmwYrJDovvSBblhxQAgisej4dLF0AebVQJQk9BIFdfX2z5Mzd/bm6urDARCxXmSWCR/xaLBTabDRaLBVevXkVVVVVC3exy1m%2BqW/9mrUVACgDBlfPnz3MZp379%2BjSZhCmFv1Qp2uzs7JCw8Pl8qmlj7N9Yihkb9/z582jUqJGhBGCqHNXJHfWYWfmhOgAEVy5cuEAKAJG0KAXABYNB2Xz7evXqwePxoKKiAh6PJ6qccb/fz%2B39ilbxkbrnVHD9K2U9mLkSIXkACK5cunSJyzj16tWjySQMh9KZv9PplP27WrVqqR4ZxPP94qUApEIZXqWOimbPeiAFgOBKRUUFl3Fq1apFk0mYRvirCQJe6/nq1auGUgCSueueWmOlZLh3UgAIrvDaoEgBIIxEIBCQFIBaO%2BvxWs%2B8FOxo7l9K%2BUnWan%2BsFbFSmeNk8H6QAkAY0gMwe/ZsrFu3jiaUMIw1GC4MBEGQdPtLpQfyKo%2BdKA%2BAVNxDMgp/Le2UpYI8SQEgCACVlZVcxlmyZAlNJmEI5Jr4pKenV/t5IBCAy%2BXSrTCMy%2BWK%2B/37/X7J%2B0lk9Dtvb4QWwZ9swp8UAII7PAKdCMJoCkC1jdNmkyzl63a7da0KF%2B/3Sy7rQWtnQ16wIxjmiZGbY3EXRbVrZCV95Y53pBSeZMt4IAWA4G4tEESyI3Xu7/V6dW8JK5eCGG%2BFIx7Wv1g4a1Wqwi15pgQwRUBNgZAjWXsckAJAmHqDIohEWP9Sim88rPN4KthyWQ9Wq1VX6z%2B8nXKsHoxYPDLJaPWTAkDo%2BvISRKopAF6vNy7XEw8FQK3BkV5n4DwFf6wk21k/KQBEXEiFqmAErXEpwRUvwaS3Ai%2BX/hYMBhWLHcWCUrGduArEOLRTJgWASFpS6eUhUs/6l1rf8Tz20lPBVhLCegl/rR0VWclh1hhJ6fe0RPOLx0yWnH5SAIiEkypdwYjUVADkzv/jhR6Nd5jAlBPCegl/LR0V2Z6iVfERBAE2m%2B2a55RKBYxIASASil4uQsO%2BQDYb2rZti3bt2qFFixZo3Lgx6tevj5o1a17TGIadazJ3sc/ng9frhdfrRUVFBSoqKnD16lWcO3cOZWVlOHPmDEpKSnDs2LGE5H7zolatWmjWrBny8vKQk5OD%2BvXro169eqhRowYyMzORkZEBu90Oh8MRsu7YZs/%2B1%2BfzweVyoby8HGfPnsWJEyfw888/Y//%2B/Th69KguaXdSAkcQhGqWIrM446WQOByOa74vPMo9EsubnbcrzV8ihT%2BvyHsS9qQAEKQAcKN58%2BYYOXIkBgwYgMLCQtSoUUO37woGgzh%2B/Dj27NmD7du3Y/369di4cSM8Ho/h5qVOnTq49dZb0aNHD3Tu3BkdOnRAgwYNdP3Oc%2BfOYd26dViyZAnmz5/PpVuenMCQ8m7p6f6XEuwOh0M2L18p/51FwzOBryXQThAEXdLflIR/MBiEw%2BFI2lgisdKldpwRF6UyqGfVCiLlWLBgAUaMGJF09yUIAoYNG4YnnngCt912W0KtiqtXr2LJkiX4xz/%2BgcWLFyc0eCojIwP33HMPxo4di1tvvTWhR0Berxfz58/HO%2B%2B8g61bt3K1/i0WSzXlNhgMwuVycY1aV7Pmv/jiC9xxxx0RKzKRbPPBYBB2u12Xc3E1yz9Z8%2B3l7j3RaYYUsk1wpWbNmkl3TwUFBdi6dSsWLFiAPn36JNylWKNGDYwePRrffPMNfvzxR9x3331xv6b09HQ899xzOHbsGGbOnIl%2B/folPP7D4XDgnnvuwZYtW7BgwQK0aNGCi/CXE0w8U9aYBa/2HCPxNkVT9IYpOnoJfzmPiV7eBqNZ/0aDFACCK7Vr106ae7HZbPjzn/%2BMDRs24OabbzbkNebn52PWrFlYt24dmjZtGjeFaO/evXj99ddRr149Q87L8OHDsWfPHkyYMCEiASynWEi51Hkcw2gV/Hq/XxaLBWlpaboqcXKBhlo7KpoZuWOXRB8BkAJAcKVu3bpJcR%2BZmZlYtGgRfve735niPLJnz57Ytm0bunTpouv3jB07FmvWrEF%2Bfr4pnuGnn36Kd999V1HAKrndwyPKGV6vN%2Bbgw0gEvyAIsNvtyM7ODp31R/L3ckLJarXqLvgByBYWSgXhz7wfUvOfaCgGgOBKeXk56tSpY%2Bp7cDgcWLJkCfr06WO6a7948SIKCgrw448/ch976NChWLBggSlzpt9//31MmjRJs%2BBnwl9KOPl8Prjd7pisfi2CmykfYgX0xIkTkl4ArVH9LO89nkptMBiUrZSY7G5/JYXRCNUGSQEguL/s6enphoxS18qHH36Ihx56yLTXv3PnTnTt2pVrhHrDhg2xb98%2BU3t4HnzwQcyYMUOTAJYT/n6/P6aOf2rfbbFYZAPw0tLScO7cOdOltckVGEoV4W/k%2B6cjAIKvRikIyM3NNe31DxgwwNTCHwBuvPFGPPDAA1zHnDJlStyEPzsv9fl88Pl8qKqquubDNtRII9vffvttNG3aVFWAsroE4QQCAd2EP3OFKwXgZWdnmzKnXUr4pUrlPbky0Ua5f1IACO40bNjQlNdtsVjwzjvvJMUzCHd3x0K9evVw33336b5RiosjVVVVhSrUidvCShVSYgqB2u85nU5MmTJFUUA7nU7J8/BAIACXy6WL8LdarUhPT5d0B7PGPJWVlaY8Wot3QyEjwZ6dke%2BfFACCO02aNDHldQ8ZMgQdOnRIimfQrl07bvcyZMgQ3Qo8%2Bf3%2BawR%2BpAKWnX1r9RSMHj1acn3abDakp6dLno37/X7dhH9aWpqkK5gJD5fLBbfbjUAggLy8vKRQAFLB%2BlfqcWAk5YcUAII7v/jFL0x53XpbufGmR48eXMbp2bOnboJfrvOcXthsNowZM6aa9S3l8mfBa3oJfzl3P4szYILfzO%2BVlAKQ7Na/kvCXKidNCgCRVDRr1sx012y1WjFgwICkeg5t2rQx1DjizTHegl9M//79Q4I/LS1NUkAzISwXvR6JAiAn/KW8DVVVVXC73ZLnxmZ7r6QyEpI95jwQCMimiLIyx0aCegEQ3DFDjriUkKtVq1ZSPYecnBwu49SvX5/bNcnlg4dvlKxAjpS1xM732e9FqugVFhYiPT1dNjebHUnEbF3JpNpJCX8t32u298qIhW/0tPqV1rZeTZVIASAMR8uWLUlpMQC8irvwtFqULEDWylVNSLC%2B8Gw8pgyILU5xUxyr1XqNomCz2ZCTk4PS0tJrhBWLI9DTSpVqdMOqCqqlbZrpvZKLfk%2B2duFs/SmV%2BTWq8CcFgNCFFi1awOFwxOw%2BjSd6d61LBFevXuUyzpUrV7hdk8ViqbZZstz3aGBKQzTP%2B/Tp06EGLby7%2BkkpMXKFX7R8f1paWlS9DRKFUs3/RAhpJeUzlnbKWur7G7lDKikABP9FZbMhPz8fBw8eNM01J1MPA8bRo0e5jFNcXIxOnTpxWxvAf87YE1kG1ul0oqKiIq7fKVdYSIui3KJFC9MEz8nFd8TzWbNUUK2tj5nHiJVY5jWm0T0eFARIcOfcuXMoKioy1TUbWUuPlm3btnEZJ5bWunJKQFpaWkIDovTcmKWsyfBjCGZFulwuTWMWFRXh3Llzhl9zSlax3tY/O4f3eDyhtFKt3RrZkUVVVRU8Hk9oDK/Xe83/1zIma6dshuMOUgAI7syePZub%2B79z585xueZki06%2BcuUK1q1bx2WsxYsXJ90a5dXGV0nQ2Ww2jB07VlbhiOQd8Xq9mD17tuGFv5zrX8%2BytyyzxOv1cm25q9ZXQQqr1Sqb4UEKAJESzJkzh9tGumLFCnz00UfIzMzU9ZorKyuT6hn861//iqlhjZjdu3djx44dSTU/Wi3vaGnZsiVWrlyJd999V9KtzGIPEvFexVv463V0wSx%2Br9erq0KnVfCnpaWZrsYBKQAEVw4dOoRdu3ZxGev6669HVlYWJk6ciO3bt%2Btape/ChQtJ8wx8Ph/eeustrmP%2B%2Bc9/Tqp1qtfzFgQBo0aNwoYNG9C1a1fUrFkTN998s%2BQzipRdu3YZLq5GXNdBUsDIpHLysM4jsfjF2SFWq5XLNQWDwdBxllmLG5ECQHBlwYIF3MYaP3586L/btm2LLVu2hFyqvDlx4oTp5poFI7HzS/aZPn06fvrpp1B0s9pHC19%2B%2BSU2btyYNOtUj%2Bdts9nw1ltv4R//%2BMc1NSXuv/9%2BLgoA7/eLh9WvZH0LgqDLOThL19SijNntdqSlpcHpdCItLQ12uz3UZpmVYWY/V3LbixUI8ZhmL2tM7YAJrvTs2ZOLoMjOzkZJSQkyMjKqvYhvvPEGXnrpJa5uv0aNGuHkyZOGFPJyHymOHDmC7t27x5wCKB6f/Xfbtm3xww8/VHsmZuPUqVNo3Lgx1zHr1q2Lf/7zn%2Bjdu7ekoGzfvj3Onz8fsl6jPXIqLCxMuCLGFE6l90%2BPDA%2B1Yjvsd%2BTaKRPkASB05PLly9iyZQuXsR5%2B%2BGFJQSMIAp5//nn861//4hpYdOrUqYQrAOI2uCyoiVWHE3e8kxP%2BFRUVGDt2LJf8f7GHgJ1hHz58GBMmTNBUzc/IbN%2B%2Bnet4zZs3x/r16yWFv8ViQUZGxjXtmWMJVNu6dSvKy8tV1xHzBoU3SBJHskfaTlncuEnp%2BVutVl2Ev9L3Mnd8MljlSoYAKQCEYVm3bh2XgipWqxUPPvig4u%2BMHj0ay5Yt45q//9133yVc4Ee7QXu9XowbNw579uzR9Zrnzp2LF154IZQuFWm6lRFYvXo1t7E6deqEjRs3olWrVpL/zlzg48ePh8ViUWwRqwWfzyeZ3RHeTtnn84UUtfBP%2BHoLVy7FCoT4d9X6NzDrW4/zcKUKjRaLJakFv9gY4P2ekQJAcIOXa7J3796aOp/deuutWLVqFerVq8fle%2BfPnx%2BXF5pZZuECP1pcLhfGjh2LZcuWxeU5v/XWW3j55ZerKTBMIYgmfSqeG%2BrXX3/NZaxu3bph9erVyM7OVm17m5eXh549e8qWyI3mPRNHwUfbTpldT7jXiSkQWtcmE8J6pL8pCX%2Bz5NvHovCJ559HjwpSAAhd4OX%2BHz16tObf7dy5M1avXs2lYc2iRYtw5swZXYROuCXFQ5MPBoM4c%2BYMhg0bhhUrVsBut8PhcMDpdKp%2B2MbJLLZIy6G%2B%2BeabmDhxYrVUQ5beFotQ0pNVq1ahuLg45nF69uyJFStWoEaNGrLPMtwSHjFiBJf6GN9//31I8BthflkQXTwEoHjtp6WlJW1zIXaPenvWKAiQ4LZY69Wrh4sXL8a2IAUBx44dQ5MmTSL6u507d6JPnz64dOlSTN//v//7v/jTn/7E7eVln5g19f%2BmL4kF9caNGzFhwgRdYheYFS/VaCdcAZs1a5ZqnXp2/YnesPv374%2BVK1fGNEaXLl2wfPlyZGZmygonqcqSJ0%2BejHhdS70fderUwalTpxJSV198HXa7XddrkKuVYOTmOjyRq63AM/aJFACCC8ePH9fktlejXbt2OHDgQFR/u3nzZvTv3z%2BmGu/p6enYv38/mjdvHrXg19okRO7vWZ6ynLCsrKzEa6%2B9hg8%2B%2BKDa94gbn0Tzaou/U2pzZ/cmVmxq1qyJP/7xj3jwwQdVBby4zW%2B8Bdi3336LoUOHxjRGhw4d8N133ym2jnY4HLL31q5dOxw6dChqocvGPXTokOr7JlYYLRZLtTP%2BaJBraKQHckF/elYVNBJS9897/qkZEMGFH3/8kcs4PXv2jPpvCwoK8MUXX%2BDOO%2B%2BMOtDK5XJh/PjxWLlyZUQvmpbUqGgFvvh3FyxYgBdffBFHjx69xsvANnZeLkMmNNimw/43vLCL3%2B%2BHy%2BXC5MmTMWfOHLz55pvo1q2bJgWJjRcPr0BZWRkeeuihmMZo0qQJFi5cGLXwB4BevXpFpQCEz9Hhw4erKQCsTbLc94vHYGtbyUslzgCJt7Im9y6ZteBONN6PeNw/xQAQXPj555%2B5jNOlS5eY/n7IkCH44IMPYhpj7dq1ePLJJzVZ0FpTo6ReZFZMREsRkqVLl6JHjx646667cODAAbhcLrjd7lBMAe9IfLGgZoFhLpcLFRUVuHr1KlwuF7xebyj9Kj09HQcOHMDAgQMxZswY7N69W9PcsdQ0Pc863W437rrrrpiK/9SqVQtff/01GjVqFLXwj2Z9ixUxMUeOHLnGKmTn8JEKaqY0OByOah%2BWT5%2BIowYpBV4QhJTI72eR/1L3zxtSAAguHDt2jMs4HTt2jHmMiRMn4oknnohpjOnTp%2BOJJ56QdZUywaiWGiV%2BqcXVx7RsZJWVlZg5cyY6deqE22%2B/HZs3bzZMuh27f7fbjcrKSlRWVsLj8QAAli9fjr59%2B2LEiBFYsmSJqruZnfXqoQiUl5dj6NChWLt2bdReEJvNhr///e%2BypahZQJqWDfq6666L6Pvlxjx%2B/DgsFoupy9AqrQc5BSsVkPNe6hFoSUcABBd4BaK1adOGyzhvv/02Dh06hOXLl0c9xrRp03DgwAF89tlnIXcrs4ojEfqRbNB%2Bvx8bN27E559/jrlz58Yc1BjPTVsctGWxWLBq1SqsXbsWeXl5GDlyJEaNGqWo4LExeFWR27p1K371q1/h8OHDqoJW6f%2B/8sorGDx4sKwFHcnGHMn6VnLlX7hwIWnT36QUxmSO9g8X/lIKkF7HMBQESHBh8ODBWLJkSUxj1KpVS7XKWSRcvHgRPXr0iLmBSmZmJp566ik88sgjyMrK0vQ3am59MefPn8eaNWuwZMkS3VIREwmzom02G1q0aIH%2B/fujb9%2B%2BKCgokO3yGEtJ16KiIrz%2B%2Buv4%2B9//rupRUHtGv/rVr/C3v/1NcvPV4vKXok6dOqrrXO66mLu/b9%2B%2BhuoLwBPmSeIx12ZTfKSsfz2zHkgBILhQUFCA77//PqYxWrVqpWqtRUpJSQl69eqF48ePxyTAgP9kCAwbNgzDhg3Drbfeirp161az2NQs1/Lychw4cCDUYnfz5s3Yv38/UuU1ZMoACy67/vrr0aVLF9xwww3o2LEjWrduXa0EtJbNv6SkBCtXrsSXX36JFStWaC5eo8SgQYPwxRdfXGNp86g1r5YJIHdd7Kwe%2BE/65Zo1a5JufUil/qVC2h%2BL45FCT%2BWHjgAILvCoPx8uUHnQtGlTrFq1Cn369Ik4CCz8DNblcuGLL77AF198AUEQ0Lx5c7Rq1QrNmzdHw4YNkZmZCavVCp/PB4/Hg4qKCly4cAFnz57FiRMnUFRUhLKysoQ%2BJ7vdjnbt2qFVq1bIycmBw%2BFAZWUlSktLUVRUhEOHDukaZ8DauDKBtnPnTuzYsSNk%2BQiCgNzcXDRp0gQNGzZEdnY26tati5o1a4YUA6/XiytXruDMmTMoLi7G/v37UVpayvU6%2B/Xrh88///wa4W%2Bz2bgEoSmtc7mNXiz8eb1vRlUApLweyYpagyOlrA5SAAjD4HK5Yh6jRo0aulxbq1atsH79egwcOFCzh0FLSt6xY8dQWlqK9evXS/6OuMRqImnRogVGjRqFQYMGoaCgAOnp6bK/e%2BXKFaxbtw5LlizBvHnzcPr0aV2tHp/PF0otZGmMp0%2BflvxeVnyGWYmxek2CwaDk5jpixAjMmDED6enp3HrHa13nUtdjsViqeZZ4vG9GFIZSVnCyKgByLn/eCqfiPkeii%2BC1mGPWRnWMZm7WrBk2btyIXr16qVr9asLfZrMhIyND1t3v9/vhdrvhcrkSJvwzMjIwYcIEbNy4ET///DP%2B8pe/oE%2BfPorCH/hPUZ8hQ4Zg2rRpOH78OJYsWYKRI0fquhExga7WQyAYDIa8B%2Bnp6TEHwYW3V05LS8Pvfvc7zJ07F7Vr14bD4dDlvuWuW0r4C4Ig6f7mUVLYDHtIMBhMugBAtt4TLfxJASC4wcNNpfc5eHZ2NlauXInHHntM1upXug%2BLxYL09HRNgp9HV8RoyM3Nxeuvv47jx4/j008/RWFhYdTPxmq1YtCgQfjqq69QVFSEyZMn6%2BalYRujlmJG7IjFbrfD6XTGtPaY8E9PT8enn36KN954Q3eBI3d/coGGUn%2BfbAqAXJOkRKQ4iptcsQ8T2NHW3IiknXK8hD8pAITuVk0khDeW0QOHw4GpU6di3rx5yM7O1mz1syY7Upt0IBBIuOBv2rQpPvjgAxw9ehTPPfcc93iKpk2b4p133kFxcTFeeOEFrm2Yo1Emg8Eg3G43AoEAMjIyYlp/N910E7Zv346xY8fG5VlJRbnLuf6lBIHH40mq3H%2B5FsksjTZeCoi4nTJrZCUufR3eIpl1v5Rru8x%2BV9xhUc3DpbVGCCkAhKEIj9yOhnjmvI8YMQJ79%2B7FPffcoyhwrFYrMjIyJDeiYDAIj8eDysrKhAn%2BFi1a4NNPP8VPP/2ERx55RPdo6Xr16uHVV1/F0aNHMWXKFNSpU4er4I8039nn88HtdsPhcCA9PT2iv3U6nXj11Vfx/fffo127dnF7ZlIpgFqtf9YBkMf7ZhTkBKPehX%2BY4sEEeSztlFkhK/GHeQu0jGm1WhOS6UAKAMEFpfroWjl37lzcrjcQCCArKwuzZs3CwoULqwkAVmVNrvGIz%2BdDZWVlws748/PzMWPGDBw6dAgTJkyIe1GYrKwsvPzyyzh69ChefvnlmDwCWgW/nGUUDAbhcrkQDAZllTUpBXD//v144YUX4j53Wta5lFdKXCK2Zs2aSbFvyLnDtXjlYhX8TJlKJIIgJLSaIykABDfLMFbOnDkTF4EaHpnft29fbN26FR999BHy8/Nhs9ngdDolBQ5rfuN2uxOSu9%2BhQwfMmjULhw4dwgMPPJDwanB16tTBlClTUFxcjFdeeQX169fXRfCnp6cjLS0NGRkZsoKBuW6VFLd%2B/fph48aNmDdvnmoLYz3w%2B/3VMhzk3P9SwpKtOXZ8ZVZYHINcO2W9rH%2BjCH6W2ZHo8sakABBcaNCgAZdNQdzkRC/NXy7V6Fe/%2BhX27duH//u//6vW0Y5FoLtcrrhvHoIgoH///li0aBH27t2L%2B%2B67z3BnwHXq1MFLL72E4uJiTJ8%2BXdWlrlTnXrxJOp3OanX2WQMluQ2eBQiyIwGHw4ExY8Zgy5YtWLFiBQoLCxM2TyUlJdWUXKl5kHq%2B4mOmnJwc0%2B4VzGUupUDrVfSHeU%2B0vLvsuqxWK%2Bx2%2BzUNklgRq2iVf9YPJJrGTXpAdQAILuTl5XEZ5%2BDBg9z6AUgJf7noW/HGM3LkSIwcORL79%2B/HnDlzMHfuXBQXF8e9EU/z5s3xy1/%2BEv/zP/%2BDVq1amWIdZGRk4OGHH8ZDDz2EtWvXYvbs2Zg3b17o3FuL4Gf5/nJKjlyrVPG/V1ZWolu3brjnnnswZswYLgoqr/WtJvyZ8FG6Z17vW7ytfqUIer2Ev1R1QanvtlqtqoV3WF0IpoCKA/7knmGiOiqSAkDEjWbNmnEZZ%2BfOnbjzzju5bwBKEbjsHC6cDh064I033sBrr72GzZs3Y8mSJVi6dCl27dqlixfAbrejc%2BfOGDhwIIYOHYrOnTubtv65IAjo3bs3evfujenTp2PFihVYvHgxvvvuO/z000%2BKcyBn3TMrTmw9ihWKjIwMFBYWYsCAARg0aBBatmwZUU%2BGeLBz505VBUDu6EmP980Igl9P4a9WbCfW0s6spLVZszKoFwDBhe3bt0fc61yK/v37x9TBL1LtP5qc28uXL2PLli3Ytm0b9uzZg/3796O4uDii8qyZmZlo1aoV2rRpg06dOuHmm29Gt27dkia4S7wBh0dCnz59Glu2bMHOnTuxd%2B9e/PTTTzhx4oRikB/LoWZCJDs7G/n5%2Bbjuuutw3XXXoUuXLrjuuusklQdm2RmBoUOH4ttvv1X0hkhlM4QfPW3atAkFBQXc3hFWD0GpRgGL2dCiULGx1Lw1DLmYDT2Ff6SdHM3mbVFaY6QAEFy5evUqateuHbObPDMzE%2BfPn%2BeyIagJf95NNsrKynD27FmUlZXh8uXLodxfdu5Xu3ZtZGVloWHDhrr0PTCb1ccERVpaGgKBAM6ePYtz586hvLwcV69evWb%2BHA4HsrKyUK9ePTRs2LBaQSK1Ix4jKAE%2Bnw/16tXD5cuXZTfm8Jr/TJCJS/8KgoALFy7ElILJng8T/NFYvuz6BUEIjSGurKgFvZ6LkvBP9uZC4feu5AUjBYDgRps2bbh081uxYgX69eunm/BnQifZ24saXfA7HA6u7nnmKZA7ntHSrVFP1q5di969e4cEqNT1SZVqZnnqjObNm0cdLCvlkUkUelj9au9%2BoteA3ojLZWu5Z8oCILhx8803cxln3rx5ugr/WMvHEtLzytIr1YQ/K3rC%2B2xeEATFIx1xHn0imD9/vmJ%2Bu5RAZBHzsb5n7AhFrRpdPNaJ3W7XTfgrPeNkF/5s75OaEzlIASC40aNHDy7jzJ07N%2Bpa51qEP8EXJlzUAiNZcSW9XfFKSgALCI03Pp8Pc%2BfOlVU8pdy0rNJkOJGkMYobzyTa6me9G/QMypR7tqkg/OUUAKUYJ1IACG7ccsstXMY5f/48vvrqK67CX66rGhHbZsOsSjVY7nO8sNlsst%2BnFhymxzzNmzcPZ86cieha5bwpWt8z5j3QchzDvCesiFL4hykokSgR4WPGo8mSXFXBVBH%2BUvevpHBTDADBjWAwiCZNmuDUqVMxj9WlSxds3bqVm/BPhQ0gnhtNJAF%2BiTxuUVoXegcGimMS%2Bvbti82bN0teg5zrXxz4x6hfvz5KS0tVhalcwavw9yLagjTs3qTuJ1HP2%2Bv1VlNQUsnrJ6fsKR23kAeA4IYgCLj99tu5jLVt2zYsXrxY82ZEwj8%2BCh7Lw1fL6WbllBMda6GU6qWXJyC81vx3330nKfzlzsLlhD8ADBo0SFX4q1W8Y0cxsWTBMOs%2B/JOo581SGSMRfsmEnEKutveRAkBwZcSIEdzGevbZZ1U3aLlWoiT89RFoWgP84tnSNFYlgJcTlLncxfEQfr8fzz//vKRgkromJeGv5f1SU87ifRQTTwEo9f6nQrCvUlyLarlt2t4InvTr1w9ZWVlcxtq7dy/ee%2B89xd%2BRy/3Ws6FIKsGEmhZ3ciK7mmlRAuSuLdqA0/B1KLUWP/roI%2BzevfsaBSkjI0Ox0ZQctWrVwqBBg6IS/nJHDcmioErdd7IW%2BQkX/nLeTy3PmxQAgitpaWm4%2B%2B67uY330ksvYe/evRELfwr447OxaIkeN0JXMy2wOu5SuN3umASQlIJ06NAhvPzyyyEFyeFwyG7KVVVVisIfAEaNGiVZJ0DpXWCC0KylarXOv9TPkt36V7L8tXrgSAEguDNhwgRuY7ndbowaNQoXLlyoZi3JWaUk/GMX/FrP%2Bc1WUIl1c5PyYETrCZC6//LycowdOxaVlZVwOBxIT0%2BXFMKBQABut1sy3U/reyXXjIYJfyP1QtADpUY8yS78pZQfFp9BCgCRELp06cKtKBAA/PTTTxg2bFio1r6S5ktu/%2BitKC2Cn22uRjvn56EEKMWTaPEuMCorKzFmzBgcPXpUVvCz73K5XJq%2B8/rrr5ess6F0zbwrLRp13Uaa%2B252WMEtOc9HJHsgKQCELkyePJnreBs3bsSAAQNw7tw52Q0vkVHIZt9QtAT4Gf2cPxKLXW6taElvlFt7drsd5eXlGDFiBLZu3SophMSC3%2B12aw5AlHuf5IIYjdJvPhHWfzAYTErFh3nn5Lw90Rx9Uh0AQjeh0rp1axw9epTruM2aNcPs2bPRtWvXahp/Mp9z6rV5aomCT9ZsCqm66dFupMB/Uld/%2BctfoqioqFq0fSSlksPJy8vDzz//XO0ZyF1/qmS/yN1/snX507OdMnkACF2w2Wz4/e9/z91yO3bsGPr27Yunn34a58%2Bfv%2Bb7iMgsiWQK8IvFEyD1cy1n8oyysjI89dRTKCwsRFFREYD/NPBxu93wer1wu92oqKiAx%2BOJyrvwwgsvSD4DOes3VY7B5DyB8Rb%2BTECzI7Sqqip4PB54PB54vd7QzyIpx8zGZH%2BvtG5iqXJKHgBC1xf0hhtuwIEDB7iMF%2B7Wq127Nl555RU8%2Buij5PrXaDEpRYuLf89utyd9IBVDboNV6inA5mnatGl4/vnnQ/EpvGndujX27dsnKdSkKt%2BpXXMy7S1ywX/xMAa0VsOUE9hyNQrkYhqUDK1YnjcpAISuLF%2B%2BHAMHDuQu/Bnp6emYMGEC3nvvPVICFASVUtZEIjZQo82PXFCVXNpeIBDAxIkTMWPGDF2vbeHChRg6dKisF0fr9aaC8Nc7/Ze9R3JVB%2BMJr2MeOgIgdGXAgAG46667Yl7sUrBSpjNnzsSf//xnmmwJtHbqS5YAv2jXl9x9y9UH%2BMMf/qC78B8%2BfLik8GcKgNb3JBWEP6Bv%2Bq/4PUq08Od5LEceAEJ3SktL0aFDh2q5/LFY/%2BGVzWw2GzZt2oR27drRhEN7gF%2BqWI2xCJdwr8jevXtx00036dpRsE6dOti3bx8aN24s%2Be9S7v9kz/lXOgvX6%2BhDKd8%2B3kqqHpkd5AEgdCc3Nxd/%2B9vfuAl/Zq2Gb95vv/12ys%2B11gA/FixGwv9aISK13sKVgjfffFP3dsLTp0%2BXFf5yLuhkFf6s7bSc8LdYLLoIf6V8%2B/B3iZWaZu9U%2BIelnWpVJMJbNMfSuIk8AIQhmDhxIj755JOItF6pRe9wOKq5bNlLeO7cuZQUalrP%2BVMtwC9aBUpqLTocDng8HuTl5eHcuXO6XcP48eMxc%2BbMiC3hZFv3Wta0Hil/WoNlY7HKmRIn/g6LxQJBEOKqyJEHgIgbU6dORffu3SNSAMKRC1Lzer24cuWKZNvVZBf84tazSpi9gl9cNkQZazIYDCIYDGLLli1wuVy6pZp16dIF06dPVxQcRmt8w%2BaGXRv7/7GMF95V0UjCnx0/xmKVs3Vmt9tDH6vVGncvDikARNxIS0vD/Pnz0bx586iEP7P%2BpSwiZrWtWrUqZeaTAvz0Qa5KoMfjwdq1a0MCl7dLtmnTpliwYIFsMBsTjHICJZ5eEuYe93q9oQ97D8N/piUWJXxMNeubCU3ewl8pziAZ3yPaEYi4kpubi6VLl%2BKWW27BmTNnIlIApDbm8Gpg3333XdLPYSSBSXqdHaaCEhAubAVBwOrVq0MClx0J8KBBgwZYunQpGjVqpGiZalWK9Vhzkea9iz0DcopKNN4CPY462PzKXUuy1legGAAiIRw4cAB9%2BvSRVALkzv4zMjIkrTLxRm2323Hx4kVkZmYmpeDXsgmzAL9kbwSjN%2BHWYGVlJRo3bhwSBMFgEC6XK6piMGJycnKwatUqdOzYUdEylQv809P9H0vBG94CWs/YFTnLPxgMmq7jZSTQDkEkhPbt22PDhg3Iz8/XZP1Laf2s/Gb4i7xp06akmqtI6sjbbDY4nc6UFP7M2tRa9EiLF0DM1q1b4fF4Qpa4VDZKpLRo0QIbNmyISvgzoaiX4NfaHVLvZ8rWtF7CX07BYYWFktmDRgoAkTBatmyJjRs3olevXorCXyowKxgMyrpf169fn1SCX8s5v8ViQVpaWsoF%2BLHjEPGZs8/n0xTFrYYgCNfM58aNG0NKJsNqtUY957169cKmTZvQqlUrRSEs56TVq/BNtE2LlErcRoPdbtc9aFXuaEXvqoKkABAE/nP2uWrVKkyePFl285CycpQ2%2BHXr1pl%2BXph3Q2uAXzJ1P9O6abPjH7kgMx65%2BmLhwzxL4cF4kZ7BC4KASZMmYeXKlWjQoIGix0dO%2BOtx7s/iabSkkrKjB3GuO6tQJ86FZ14ULSfN4rz3tLS0uHix5NZIqqQSUwwAYRjmzZuH0aNHV9uAw19GtbNXp9OJS5cumfIljuTMNdkrv8lt2Frd%2B7ysOKZsNGzYEBUVFaGfi2NSXC6X5uuaP38%2B7rzzTlnFT01x0SOwU67%2BAe/vDhc3iXSvy91zKvXDIA8AYRirbvDgwdUsIinLVs096Xa7sX37dtPdv5YzV3YmGi8LyUiKkRbrNFy4aBFqathsNuzdu/ca4R9uPWq1yHNzczF8%2BPBq98aOMZSEPwvu5C00pWJppCxiHsFw4mOCRJ%2BtyzUUSqV0WVIACEPg9/shCMI18QAWi0UybUjLpr5hwwZTWbVacp8tFktKFvJROwtX%2B1seSBWYiiYW4JZbbgmVhGVufi258qznux6Wv5zSwYIMk9EdLtd2Nx4plaQAEETYy8i08R49eqha/1oEgRkUAOZapnN%2BdeGvZQ2xoD1xdTVecyalAIQHkGkRHr169QopsZEc9eghmNTmNpmzSeSi/lPtSI0KARGGsP4ZTAGQi/zX6tLdtGkTAoGAIV9orYV8ePX8Tlbhz9y18XDZbty4MaRkhCtx7PuZF0BJoevZs6fmfvJ65vgrFRbSu7aAUYyOasIwBStlkgeAMJQ23r59e9SpU0fyZYykLeeFCxdw8OBBQwo0NS8Gc72msvBXElBM2Dqdzrhs2kePHsWpU6ckn1m4MFe6ntq1a%2BO6665TXcMspVNPISz3LqWC8JfzAJACQBAJeBHFG5HFYkFBQYFsw59IrTYjCTOtAX6pWshHjNyZOAuEi%2BdmLV5HUtckXpdKmRndu3dXjBVgwZ16C2Clo4dUEP5SaytVk%2BFIASAS/jKG07Nnz2o/iyYIzAhxAJEU8knVTn1Sz1VuvhJRllVNAQi/VjnlhK1rdrTDlAEWYR%2BvZy8X/Z4que9S95%2BqHTJJASASuvFLWSK33HKLpCCNlEQqAH6/nwL8NMwR6/4mFqxy1inrlx5vtJSWFq9POQWgsLDwmucer/gFLZ6VVKh6x56T1P2n4vsHUCEgIsECIFyws%2BXYpEmTUKnfQCCAysrKqL7jxIkTaNy4cdzuSWuAX6qUGtU6R%2BKzZ7liOJF0ZGNd5qQKz0RyvHLp0iXUq1fvGqVEKoedeXAYbre7mlJw6dKlhDepCle2wuc%2B2dedVFBpqtw/eQAIw72QUpu80%2BlEp06dQj%2BLpZhLvLwAkQb4parwlytxK14LckJeSxdEsVdB3BeAfSJtcLN58%2BZqvysXDBi%2BjsV06tQp4cJfLvsgFYSfUlBpqgp/UgCIhL6QSpG4BQUFqi%2BuERQACvCLTPgrHYmoPWep%2BWXeBCb0tTQBiqSwkNz6kfrb8MJAYi%2BB2P1vJIU7mTvdiZ%2BV3PNOxch/UgAIQ25GYtiGGUnqnxR6dgakAD9%2Bwj9cAZB75m63O2TFMys/2n71ct0ko1UgxdfPzvgZ4gJXRnrnkl0Aqil7qfxOAhQDQCQIKYtZfMZ74cIFNGvWDJWVlTH1drdYLDh37hzq1q3LdVOhQj7qVhezLrU0uAmfr0ia/sSCUuMXj8eDOnXqwO12y66tcMQNgvx%2BP1wuF4D4x6LICcJwkjnyX62QVKpkPZAHgDCccJCyRsTaeN26ddG2bduYhUAgEOB2DBDJOT9ri5pqsDliAl9c5llurlgqnHi%2BbDZbXHKzla5t27ZtssJfixeAHQM0b948ocJf7T6TcX9h7ykJf1IACAMKCS1069aNy/etXbuWm%2BBXu3YW4JcKZ6tKc8TaGis1uVGr5hdrcBar7a4WcyEnHNetW6c6vtpYNptNsq5FvJ%2BN1LpNxuA3v9%2Bv2FgrleodkAJAmEYBkDqL4xU4tWbNmqgFiJYAP3b9qdaiV2z1Ss0RUwCk0FLNT4vwVvIoOJ3OUEMgpWcjd41q68YsCoBc4Z9ErVWmkIizM1gcR7QdH7W0UwaQstk3clAMABF3pHKRpbTyEydOIC8vL3Yt12JBWVkZsrKyIto01Vq0srFTOY0IQERpdUz4a/WQsCMENRe21hoBcoF/4euvqqoKWVlZqKioUH3%2BUkKG/TwQCGD79u1o165dwpQzqblTKlmshwLCjv20iBtWq4HVWwi/TrbWmCKR6MZK5AEgiAi0da11uJs0aYIWLVpw%2BU41d674d5klobaxOBwO2lQQWSS1zWaL6HiERdMzj4Hdbg/9Lyuhq0cZ3W3btqkKfy1egJycHLRt2zZh75qc4qS38GdWucfjCSkhWm1NpvQxz5LH47nmw46atI7Jsy00KQAEEQNyHcjkkCoLHA2rVq1S3bAiKeSTiJr0ht1EInDVRyuoBUGA1WoNtYmORoBFkgqmtl7ULF5GYWFhQtaJUgS8nmfg4vco0YGHrKtiqjfWIgWAMJQHIBKh0Lt3by7fu3LlSlmhoCXAj50tU6c%2BectejURnRcidD8eiAKhVBUzE%2BT%2BznKN9TtEq9pFWWdTrOuLRTjlZoBgAIq5oPf9nHDt2DE2bNuXy3eG52Fpzzen8ULvgUZrPREZfywkmqZ4MlZWVqFu3rqZCQWx9hMMUxc2bN6Njx45xE35KlRD1Wsda6zyEX0u4Z4S59KPxmLCjIlLOyQNAGBSp5ixq/OIXv0B%2Bfj6X71%2B%2BfHloo9FSwS%2BVO/VF6wUw2rEIc0nLCUUpr8TatWs1C38lL0DdunXRvn37uNwn64Egd5%2BCIOiyjlkUv9r8WK1WOByOUMwGi%2BUQf1jmBmuVrDbXVqs1dBzncDhI%2BJMCQBhdAYiG2267jcv3L126NFSkRkuAX6oV8mGR2izqPpLALfGmrGSFx1vwqwlFKaGxbNkyLt/fq1evuATbqa1pi8XCfS0zl7%2BaEs3qYkSiHDJrXhzkyT5OpzP032TxkwJA6GChs/Qa8Sca611qs4pEYDD69esX870JgoBVq1YpCqFUDfBT6qDn9Xo1Z0Ww5ym3KfM6Gw5fk%2BLCQ%2ByatZxFywnFpUuXxqzY%2Bv1%2BbvErUt/HvFhq98msZN7fr3TUIH6PSEAbG4oBSHHChbyqxvjfs7vwbmdakNqstOQjl5WVoUGDBlEJkPDe7atWrQp1GgzfKFOtM1g0Z7dWq1X12StFoMfaH0GtvrtW5OIRfv75Z7Rq1SpyS0piDR8%2BfDji4ys5RVucR6/lPWUV73grsomKMyDIA0BwfonF3dS06oHM0tLaTlXNUtJiIWRnZ6NTp04RC36pQKPFixdX%2B37mTkyl5y%2Bu1x%2Bp0uD1elWFodxzjdWTFE11QKnnLceiRYu4zHFeXl7ENSxYDQp2dCH%2BMKGrVUnXqxy1kvCnfHtSAAiDW/vM1RvN%2BW4sG3msG//AgQNjEvxSCkAqBvgxIROrO16tSY7S0Y6aAqHFCxHNetVSuClaBSB8bffr1y/iOY5GIZPybOi1ppWEPwXhkQJAGNziT3SOrhaPgByDBg2KSfAzfvzxRxw/fjwlG4Lwcp%2Bz%2BVZSAljBHiVPQjy8AOw8WotFfPHiRc0VI9UYMGAAFw%2BZ1mfBIuz1XDtKfR2oKBYpAISBN/1INlx2bi7%2BROu%2BV9rcIvn7goIC1K5dW/F61YSG0%2BmE0%2BnEwoULU1IJVBP%2B4uhrloqlJJTUlAA9MwKUxmbFYBwOR0SFm7755hsuCpLdbsdtt90WsZITyfsQ/qz0FsAk/EkBIEwGs/rVStuywB2WXsNS4MQfln4jztmN1bqJZOOw2%2B0YMGBAxFY/s47EgmDBggUpuRaUEAt9sYBxOp2KwlYQBMWAP7nYCkEQYnJ5h3sYLBbLNbnkdrs9YsH01VdfxaRgiZXVWrVqRaU4iLMoxAq4%2BL0Lf1Z6wzr1hWPEug8EKQDEfy0sJQtE7BqNpDMYiwKPZYOMxuIBgGHDhmkW/GyDSk9PryaEdu7ciZKSkpTyAilFbaspc2qd9pSC05QyBmKtFS8WiEx4Rkt5eTlWrFjBZb4HDx4c0z2Ji9uwT7TvnV7WP8sEIkgBIAwo/JVydJlll%2BignUith4EDB2qy7KxWKzIyMiTTzZgr/J///GdKKQBy8681YEyt6IpS5Tw9AwJ58dVXX6kGNsZDATDi2pFS7lKtSBYpAITphT87B0%2BE5h6LB4DFMdSqVQuFhYXyi/m/9ydn0fr9fng8HrjdbsyZMydl1oTS%2BW0kKClfgiDIrjul4kBGKUPCSyFs27YtWrZsmdTKI7n9SQEgTCb8mWsxUUSz0Ut1GBs%2BfLjkhsTOfqUETSAQgMfjgcvlCp07HzhwADt27Ej6NSE379Fu4kr1EpSseSN7AY4fP47vvvuOy1jh69Psddbkzv4JUgAIAyGXo8vyn810XicuVBR%2BT3feeec1wsvhcCA9PV3y/oLBILxeLyorKyUD1T799NOkEPBKNRaU3P9RbRgK6X1KXgA9iwPFymeffcYtPXbEiBFJpTzyiN0hjAuVAk4C5PK7pVqdJgqtbYC1NKHp06cPtm/fLuvCFisQSuPUrl0bp06dQkZGhqmetVxZWKlgTrlyv2qBfWqCQc5qVyr1q/R3iVqrgUAALVq04BIU2rJlS%2Bzbt%2B%2Ban5k5TU6qvXOspZwJ8gAQOryoUpit2I3WpjP33nuv7Cbk9/vhcrng8XhUxykvL8fcuXNNMTfi5i9yZWEjiaqPJQJfKQJcrW6Akvcg1qyAaFi6dCm3jJC7775bswfGDNa/1PMg9z8pAITBBIPUpmukHF01F6/f74fb7VatV8DSvu66665qGxEbw%2BVyRbTpTps2zRSCX4tiFMl9x%2Br4i9YNbJR2wYypU6dyGUcQBNxzzz3c5zmR607qXsj9TwoAYfAX1Sw5usFgEG63Gz6fT1FZsVqt12Qv5OTk4LbbbgsJvfAAv0j44YcfsH79ekPOjVqfdynC50CvDVupDoOSIqJWHCie7N%2B/H8uWLeMyFzfeeCPatGmTFHuKXNlfyvsnBYAw2Itq5hxdr9erWsVPrlPfmDFjFAP8IuHNN980pPCPxn0sdWarVVng5QVQU1jCiwMFg0FYrda4H1m9%2BeabMVnorCAVAIwdOzYp9hQWPyP1c%2Br0l3xQEKCJkRISRuzHrRT8JbexqikxbrcbjRs3xoULF2J/CQQBu3btwvXXX28Y4a%2B153u4gGcbtdhak1MmYg28kwoSA7QFGLLAVVaMKN7W/9GjR9GmTZuolMfw3hNpaWkoKipC3bp1JZUds5ybK629SKqFEuQBIOL0wkptvmaGlT5Vw%2Bl04t577%2BU2j1OmTDGF8GcCk9U9YKVw2Ueq0JPRAu%2BYomqz2RIWJf/HP/4xYuEvV4L6jjvukBT%2BZrT85Xp2kPAnBYAwEFLufymL0CybDwvwi%2BT6H3zwQW7XsGDBAmzZsiWh86CW/sjqw0e6GSv9fizHAEr1/7WQqDPl/fv3Y/bs2TELfsb48eNNL/yVvESU9kcKAGFABcAoG2oshAf4RcL111%2BPnj17ctsEn3nmmYRFbculXTEBHuv5OO9KfKwWgRl55plnNHs%2B1FpNt2nTBrfeeivsdrspBSXLMpFa90aqI0KQAkCoCAuzuf/lAvwi4bHHHuN2PRs2bMDnn3%2BesI1YDh4xHUpd%2BZSUj2iu18jMnz8fS5cujdnqZ7/z%2BOOPIz093XQuchaDIecBIuGfGlAQoAmRCr4y%2BgurtRJgNHORn5%2BPY8eOcbnOnJwc7N%2B/H9nZ2XFV6OSscJ6R8XJVARlaz%2BOVxjFysNilS5fQsWNHnDx5MmqLX6xsN2jQAIcOHQpVkpR6jjzmQ/zexHrEx1L8lLw3JPzJA0AYWHOXsr5SNUXHZrNh8uTJ3MY7e/YsHn300bjeQ7x0cKWufExJU1IQWKCYktVoZEv4iSeekBX%2BWix%2BNoes1fTEiRNVy0hHKrDZHFdVVcHr9cLj8cDr9Vb7MCNAy9oJBAKh0tha0ktJ%2BJMHgDAgcpZiPDX2aAMN9fIAAMDVq1fRvHlzlJWVcbvPTz/9FBMmTIjLnMpZ1HqkkGlNyWSWKxMWcopnNB6ERDB79mzcf//90laQBqXFYrFcE4CZkZFRzVMkJVwjnRO1/hVKXguplNBI4jTMlLJIkAcg5YS/nOWld/CRuLkOs0oiDQDTUzDUqFEDkyZN4jrmY489hq1btybUA6CHNc3SCNWoqqqCx%2BMJtWNWE/5KMQaJZvv27XjooYdkrX41pFpN//rXv%2BZ%2BTCRX2EvL%2BmEKmvgTyTvKIx6HIA8AoaMAlnqh9ezOxYLD5Db/SCx4qbgFnufbly9fRn5%2BPlcvQIMGDbBhwwa0bNlS1%2Bcr55aNpWNftF6HaNDzOmPlyJEj6NGjB0pLS6tZzFoUJSmhWKNGDezdu7eaAiD1HCNZ4zyfidb3O5q0UoI8AEScYOd38c7RZelBekZ78xy7Vq1aePbZZ7le35kzZ9CvXz%2BcOHFC0zNiZ7dyz0v2JZTZgPVMs7NarVziRsKrDhqJkydPom/fviHhr/Wc32azIT09XdYifvjhhyWt/1ifl5Zr42L1/Ve5CfdqEOQBIAyEmkWgR%2B10JW9DLJ4HKQ8Ab8vR7XajXbt2KC4u5jonN910EzZv3nzN/TLviJLbljW%2BUdtklZ4zz2ccCASqWb9an7eUAmFkl3FVVRUKCwuxfft2RSUr/J6Uzuz9fj%2BysrJw6NAh1KxZs9q/ezyemJ%2BfOCXTYrFIXreaZ07q9y0WC6xWKzX0IcgDYAarXylHF9Dn3D8QCMDr9XIX/uxv9PQAAP%2BJXv7LX/7CfV527NiBv/71r9Wej1oUNquwpnafSlYfL/1cbk0xa5AF/WltyWz08%2BJp06Zh%2B/btskI03PJmZZXl1ilrNf3qq69KCn9e3hqmNCopjux3WPlnVj6bKdRMkXE4HKH4BYfDQcKfIA%2BA0QW/WrR1MBiMuGQuD29DrFYfE0CxKhJarJ1%2B/fph9erVXMdt2LBhqNZANIqLUj64UmQ%2Br%2BZO4vNpLbnp4duCmUpM%2B3w%2BNGvWDKdPn9akyMoJRrZm2brt3r07Nm7cKDl38VrfBEEegAQKaCYoWZ6uVH5uJC5V5s7TGm3tdDq5b8ZKud1M8Mdq9Uldsx66pyAImD59OvfjkdOnT2Pjxo1Rey2UGs8oRaPzsCyZYil%2B3lrmUS69zOjCf9OmTarC3263Iz09XVL4M4VM3Grabrfjo48%2Biug50fk6QQpAEgh9cRENdpbNzn7DP%2BxsjikI4X8jpUBoURh41IOXs/yVhBpzLfIQzPESJK1bt8aLL77IXbHYsWNHTGO43W5FJUsOqbPlSJ%2Bx3opXohEHre7evVv292w2GzIyMiS9KiweorKysppH5tlnn1VsFy01p6QAEKQAmHxD0XLWq7QphAv9cAVCCw6HQ5dKf0y5UVI4zNZdkD23yZMno1u3blwVgPPnz6sqaWpjKM230lxH6wmQUy6jaQBkVAWdvVfsfZJ6TlarFenp6bIueb/fD5fLBbfbXe29vPHGG6NSKM3YmZMgBYAE/3%2Bt8kRaStG2yI1kfCVhpIfCISUgeQUCsgBGdk82mw0zZsxArVq1QkFekVhkYrc8m385Ny8LxrLb7aH/1WqNa/UCRCOwlbw7ZvcCsABLqdx78XMWPx%2Bp9ygQCIQC/KSeb40aNfD5558rnuXLVdwjBYAgBcDElkSiYDm6ekbtynk19BL%2BchsijzNuJgjC76dly5b48MMPQzndWgKywnPFxf8tfh6sBoPUXKnNoZwwV6rVLwiC4hGClOUf7xTSeAl%2BdiQnt3ZYWWyHwyH7HgUCAXg8HlRWVirO04cffoh27dqpXlOyKVhEakC1HxFZBS5BEEIbtZxAi7QMJ9v845VaJZdpoLVMrNEUACVLa9SoUdi3bx%2BmTp0aem5y1pqW6nDhQkbJ2yEIgqxwkOupYLVaZeeEKQFK1du0rD%2BzRqZL1ZKQIj09XbZJj1iBUBPSTz75JMaNG6dJKZF6/gRBHgATbCpqwp8JRpZzq1T3nFl/Yrcwy%2BsVf8S/E%2B%2B8aqlNVM%2BqgloEdSyo1aG/5557Qt8fi%2BXLlCOtz0rp95TS/pQ8P4IgoKqqCm63O%2BTiZ2tYS7c3m81m2rgOLcI/LS0NtWrVkn3XXS4XPB6PJgt97Nixmr0SUmuSIMgDYFC0VEDjkcdrNEsgPCVMvHHqDbOywzfMaDsMhntlpBQ5m812jeBgnpbw39VyDczq17q5syI0cmssEAhIrg%2BbzabayU0poFBJUTKTYNLqTQuvaR9u/fv9/qgaWFVUVGi%2BTlIACPIAJJHwZ9Z%2BsiFnRcXLKtQrEDD8/JwFf1mt1mpn53LHHGpWIfPWRKRhR%2BEFYNfIU3mUa2xj5PdTzZvBAmXDAzyZAqAW4MdDAWDHOQRBHgCToCT89QyCM8LGKnXf8VR0LBZLNYHv9/u5CCer1YpgMFjN0r1y5Uro/pk1KDc/SoqQVAlYrd4JuZgLn88ne%2B92u11VCGr5frMospHUuFd6TzMyMkKtjGOhvLxc0zUTBCkASSD8eVtdRtxgIxV6vNHzuywWi6Swu3LlSsiiVBMuSvNRo0aN6F4ym0227oOa8mO326NuE2um9az1HrUoNJmZmTELf%2BA/LabVIPc/QQqASVCqs6/UBSyZ7l9KOMUTveIAlDwepaWlIXc7%2B252HeFzoocCwISCnICrqqpS9DoxjwaLgpe7RuYSN4urn61Jram3Wt/ROnXqcLm2CxcukAJAkAKQLNav3AacCsJf3GY00ZuV1DGAz%2BfjdvQS7kouKyu7RgFh3e8CgQBcLpfkpi5lOdeuXRsejyeqgEmW3iclMLS6%2BKWEu9y1mkUZjzTATwu1a9fmco3idSN3D1KKCxUAIsxCygQByhW%2BMWNaFC/rP1GblZ4VAcVWPuPcuXPX/Lvdbg%2BdzctZy1JrpV69erL/plUJkCPa0rxmE/6xBvhpISsri8u6Dl83Wt4pEv4EKQAmsX6ZEEhV70ei7l1qQ%2Be9cYrv7eTJk7LCVu48WUrI5%2BTkAIi%2BOY9Sb/pkjyYXF%2BBRU/ZY6eZo16fD4eByDKDWUVDOoCAIUgAMZv3LbRSpgNzRRyI3KylBGE2gm9L4TICEKwBi17NSNLl4g69Zs2YovUwQhKg9Fnp4AYwOK7OtNmesUBOPoyCmrMVC%2BLoJXxvUApggBcAkG5BRrN9ECH8j3r/eCoD4Ho8ePaoobOViQMQKQG5u7jX/Fm2UuVqlP55HIUZ471h1QiXvBjvn56mQN2jQIOYxjh07JnvdPEpYEwQpAHHYhFLVVSeX9cDOV42mAMjVzo8WQRBQXl6OixcvSs4NUziUeiCw68nLy6s2drQKi5ICwCN9zSgWvxbBz875eR8BNW7cOOYxXC4XTp06pVlRI/c/QQqAwUjVKF2/3y8rTIzQCU7cbldPL8BPP/0k%2B2/hXgCp62Hr5xe/%2BAU3a10p9iQWxcII75qWAD%2BmBOnZ8TJcYeO5fuSMCkr/I0gBMKA1kmovqlKDIyNlPci1aeXJ7t27Fa1QsZKkFBCYn5%2BvqkREgtJzMJt7mQXZajnnZyWa9baWmzdvzmWcffv2aXo%2BFP1PmJGk9lnJ5V0nqwKgllutVzMYlmKpFOUuJwzkxuN1nTt37lQs7iMuwqPUKKhNmzaywi/aIkY2m62al8YI3plI15yWQj7xLkncsmVLLuPs3btXcn1KPUuCIA%2BAgUimgCo1C0zN9aqU8x7L91ZVVYUq1GmxALUoYzxd4Js3b1a1qsVVAuViATp06KD69xG/fCKFiVnGZhL8Ws75gf/UXYh3xk3r1q25jLNt2zZNewpF/xNmRAgmafIx26DCSWTVP7mpjvZ6mIdDTejqJfzlMgwiEWRyz4mHMLxw4QKys7ND887K/0ohLjgT3kgmIyMDly9flvUoxbKuxOmIZlI2tVTws9vtCfO2BYNB1KlTR1M9fzUvzaVLl5CZmQkAkkp2MjcQI8gDYEqLWC4ALp7Cn7lHq6qq4PV6FT/MelarjsYEPrO%2B1IS/Hm1glYRApPMrd2zAIyd%2B5cqV1yhdWmMBwjfz66%2B/XlWJ0qM4kNFghXzUhH%2BshXy4WDaCgI4dO3K55/Xr11%2BjcEu9YwRBCoBBkBP%2B8XBDMqEfLtTV0qGklAUm5MMVBS0WGLOieQsXNQswmjmWEhQ8HFNLly7VPK64d0B4V8EuXbqEhIpS9H6yHjn5/X5NFfx4FvLhwY033shlnBUrVoTmgSBIATC48Jfa5C0Wi67Wv/hMVK7vQCRClikFTHmIZDy73a7beTJv4a/0bGKJBfD5fFi0aFFEikW4F4BdU0FBQejnStH7Zk3fU1vTWoL8eBfy4UHXrl25jLN48WLZyn%2BpUk2UIAXA0DC3v5xw0ssqEQv%2BRKdvWa1WXax%2BsSUodY/BYBBpaWkxKVhSlnUsFtfKlStlm7koVXdjSoA4ar1Xr16q1yqlRJhd8Gtp2MOUTSOmwYkVt1g4dOgQdu3aJXn/lP5HkAJgkA1LbrPS0xqOVPCLe9Hzir9km7CeqUhK7ZSdTicX5YWnVT1z5kzFe1F6pmJrv23btmjSpEm1a5VTssxcIjaSTn2skI%2BR4xdatmyJhg0bchlr9uzZcTMqCIIUgAiFsNymrofwZ94GLRYqixBOS0tDWloanE5nyF3qdDpDP9daoIcpEDabLfS38diE5QQxTxcoLy/AiRMnsGDBAlWlUenZMi/AoEGDIlJYYvVcJAqt5/wswM8Mee%2BCIKBPnz5cxpkzZw4qKyurKUEEQQqAATcs5pbWw9ugJRKaCX273a5JQFutVjgcjpBQZ0qC%2BCNWIOK5%2BSgVVOLpApW7p0jd6u%2B8805Mrnjx395%2B%2B%2B2ygjD8ubIgODMJBvYeafG0GCnATytyClykCsCFCxcwa9Yssv6JpEK3OgBsWLlUMaWcbKUxWRqc2mXrJfzVBEsi6wzoaf1LKVp6zHGs33XixAm0bt0aLpdLmwYso5xZrVZkZ2fjyJEjskcc4vVgtlxwtaqR4Yq0Wdd0WVkZGjZsGPVRknifatiwIfbs2YOMjAwux14EkVQeAHEKHPuwuvTiD0ttYwVXmEAPz9mWSo/TEpEcb%2BHPupqZeaNUEgBSAlkvYSfnVdBaF%2BB///d/NQt/saIqZRkPGjRIcaO3WCyw2Wyw2%2B2mEf7siENrgJ8enfriSXZ2Nm655ZaYrH/G6dOn8dZbb5H1T5ACIN4ofD5fNWEei9IQaYEcBhPC8bb8E130RG9LUeqZ6xV3IJdrryUVcsmSJfjnP/8Z8fqVY/jw4ZoUFjMU8mHvqZbjKzME%2BEXCmDFjotscJe7//fffx4EDB0hyEElB1EcAWkuCxuUmdGw0wiymeAYZGgkpS1GP0sJSFn/4nAeDQVmL/MyZM7jxxhtx%2BvTpqNZPuJWbm5uLw4cPJ4Vy5/f7NbnAk7Wk7cWLF9GoUSO43e6Y1gQApKeno23btli7dm2oPDBBpJQHQKslEQ/BzwLm9ELpyCHZhb%2BcByAeAlFKwZCrtufxeDB69OiohL%2BcF%2BD%2B%2B%2B%2BX7NZntmeXzAF%2BWsnKysJdd90V8d4ite4FQcCPP/6ICRMmUGVAIrUUALahaF344haxrCY9q/oWS%2Bwhc/XrXYVL6eghVYV/vIqfyNXIDxdmPp8P48aNC9VrjxbxerTb7ZgwYYKpn5uWTn3iQj7JzsMPPxyT8A9/57/99ls8/vjjpq77QBCaFQC1fHvxxi1OWWMBUhaLBVarNdQalOXAs/x3pU554bn08XLJSllOeqUXGhGp%2B4%2BnO1zuu1hAoMvlwrhx4/Dvf/875u8Sr7%2BRI0eiSZMmobNws6A1wI8p0cl0zq9GYWEhunXrpkn4SykAUsbGrFmzMG7cuKgbQRFEotEUA6AlYtjhcCTVZhLP1De6/8iv49SpUxg/fjx%2B%2BOEHuN1ubnX4bTYbtm3bhhtuuME00e8sU0OLZy4e8Rv/r70zD4%2Bqytb%2BW5VKKpWJJJCBTCRAEgIhEBLCaIgQ0goCXkVAUUSadqBbwbadLx/2bW/T6lXEVhAbUVG6JbSozAQCNJMhhCEBEgIEQiYykbGoefj%2BuH3qVpJzakrNtX7Ps59EwKo6%2B5za611rr72Ws7Jr1y6jiZ1saxhT/Kg3zHM3efJkbN%2B%2BvU/FSIJw%2BQiAMePvrp4E2zV7irfEnBFn847sTe8KiVqtFt999x3Gjx%2BPc%2BfO6bwza322%2BfPnY%2BzYsS5j/JnW0KZ26vNU4w8Ac%2BbMQUZGhsE5YoPN%2B9dPrDx9%2BjTS0tLw7bffwkZlVQjC/hEAQ8bflpn3zmAA2ZK/PMH7N3TqwVHXz9yPS5cu4ZVXXsHJkyd13izzmVQqlVlZ3lwLfXl5OYYNG%2BYyIs2UPWh3LE5lKYWFhcjNzWVdz9jmSCAQ9FnntFotpFIp69xPnz4dGzduRFJSEk024boRAENH/Ni%2BFO7u/XvCAmrI%2BDvSc%2Bzo6MCqVaswefJknfHv7YUJBIJ%2Bf8ZVq1Y5vfF3l059jmLGjBl4%2BOGHTfp%2BM/lMvTF0AurIkSMYM2YM/uu//otyAwjXjAAYKnwjEAjcvgkG2%2BJqak1/dzT%2BjvL%2BtVotvv76a7z%2B%2ButoaWnhnH%2BRSAQejweNRgOZTGZRZnZcXByuXLmCgIAAp70/ptTdYKpSenKo3xi3b99GamoqxGKxztCzwba1qVarTa40mZSUhM8%2B%2B4w14kAQThkB0O%2BG5onGnyk/zOYNuHPEg63wDjMfjjD%2BV65cwbRp07Bs2TK0tLRwRmYA6EL/fD7f4s/62WefOa3xN7XuBo/Hc5lOfY5kyJAhWLt2LafnzyX4tVqtWV79tWvXMHPmTCxevNjiGhUEYVcBwJVN7QnGn1H4noJ%2B/3euv7f3MTiJRII333wT6enprGf7uUQKszAzXRXNZfXq1SguLna6Z9HUuhv2qIvhLpw9exZffvkl574/c1y5N5YWP/v73/%2BOlJQUfPLJJ1Q8iHAqemwBcIX%2B3Tnhr7cnzHb97hb%2BN%2BXYmK2Mv343Ry8vrx6ics%2BePXjxxRdRXV1t1NNlW7j1m/JIpVKzF1s%2Bn4%2BnnnoKf/rTnxAbG%2BvQ55AS/KxPXV0dVq9eja1bt0Kj0bB%2Bp3k8HkQiEasYM6fJFBdjx47Fhg0bMGnSJLohhHMJALa9b0d4gY6CK7HKUfvf%2Bt6uRqPpYfgsbads6nlxe7X6FQgEqK2txcqVK7Fr1y6zjDWXQRQIBNBoNJBKpRYdyxIKhXj22Wfx6quv2lUImLPP7%2B3t7REROWtQW1uLDz/8EJs2beqxXcQG275/f54lLgH79NNPY%2B3atYiMjKQbRDheAGi1WtaWq%2B6e/GbIODEGyl4LrUaj0Q1TFhtGBDA1ynsLAv2Wyly5DWyG1RY14dnmVyKR4JNPPsGnn34KiUSi2%2BvurwhgFnGNRgOJRGLxZ/b29saiRYvw0ksvITMz06ERGQZPLuRjLiUlJfjkk0/w/fff94jscT03bG2dtVotZDKZTUL3QUFBePvtt7Fy5UqPKTBGOKkAYOsY5ineP1e3NHtcv7N0VbRlNcfeWysajQbbt2/HO%2B%2B80ye7n2krbaonxRUFYU4GWKM%2BAABkZmbi17/%2BNRYuXIiQkBCbP3ts10p7/MZpb2/H9u3bsWXLFpw9e9Zk0ch1tJlpS25Lhg4dir/85S%2BYP38%2BbecQjhEAjmr76qzGH7Bt6N%2BZ2inbsg1sb%2BN/%2BPBhrFmzBhcuXNCF6/VRKpVmZVpziQD9vVxrLuJCoRCzZ8/GwoULMWvWLItPDmg0GoOdJu31HLoD3d3d2Lt3L/Lz87Fv3z7O54fL%2BOsXlOq9Nlhj399UsrKysHbtWkyfPp1uKuF4AeDuC48h428r8eMphl/fg9JqtTh%2B/DjeffddXSEfNuNvbgTAUSJAP8owY8YMPPTQQ3jwwQcRFxdnkuE3JcHPHftrWJOamhocOHAAu3fvRmFhoVFDzTWPtk76s4ScnBysWbMGOTk5dKMJ%2BwiA3p6aO4ccjRlhW127oQJLhoyb/uJl6l6%2BIeyV16BUKrF//378z//8D06dOqX7cy7j359F11EiQJ%2BUlBTk5uZi%2BvTpuO%2B%2B%2BzBw4ECLhJ%2BnHLk1h7t37%2BLEiRM4cuQICgsLUV5ebpbQNcf496eglDW577778MYbb%2BDBBx%2BkrQHCtgJA3zsBYHPP0FEYC73ayvhzJRn2FiZM5MGUL7x%2B8phWq2VNAmSSBPl8vt28SYlEgm3btmH9%2BvWoqKjoE1mxVbjVlIXekgiDpYIkJSVF14Y2IyMDycnJBg07Jfj937NQUVGB4uJiFBUV4dSpU6ioqLAoC9/QM8/kifT%2Bztgq6c9SRo0ahVWrVuGJJ56An58fWS3CNgLAnTEl9GoL42%2Bq5%2BcOXl9VVRU2bdqELVu2oK2trc/iao9wqzERwBQNslb7YHOiEv7%2B/khLS8OYMWOQlpaGkSNHIiUlBUFBQR6b4Nfd3Y0rV66grKwMpaWluHjxIkpLS3Hv3j2bPQsA%2B3E/ez4bljBw4EAsW7YMzz33nEs0rCJIAJhlKJnjamwfiVlM%2BXy%2ByeEwc47V2cIAG6uv7w7nuRUKBXbt2oW//e1vOHz4sE7osC2%2BbKH//h7VM1cE%2BPr6gsfj2Xw7wJRoCxMNiYqKQmJiom4MGzYMQ4YMQVxcnFt4fBKJBNXV1aiursaNGzdQWVmJa9eu4erVq6ivr7dJC113M/69ry03Nxe/%2Bc1vMHfuXDodQrimADD33DubGDAmJkwx0rZKtuKqr898iV15m6W8vBxffvklvvvuOzQ3Nxv0fJnrZTtSKZFIbLLXaooBsIUIMOU5YrrMcf1btVoNpVIJtVqNiIgIJCQkICoqCjExMYiKikJ0dDQiIiIQHh6O8PBwhIWFOUREqlQqtLa2orm5GS0tLWhqakJdXR3q6urQ0NCAuro63L59G01NTbDnMmOu8QfstzVkbcLDw/Hkk0/i17/%2BNUaOHEkWjXBuAcDsW5tr9G1y8TZMdDTUrtVVw/1tbW34/vvv8c033xism2%2Bq92/ukT9nFgGmVGZknjeue6/f6tfc6wwODkZISAhCQ0MREhKCwMBABAQE6IZIJIJQKISvry%2BEQqEuL4TH4%2BkEs1qthlwuh0wmg1wuh1QqhVgs1o3u7m60tbWhvb0dbW1t6OzsdIrTLP01/vY4628PsrKy8PTTT2PRokUIDQ0l60Y4jwAwp9qZPQy/t7e3zTJruRL%2BXLGwEpPJv3XrVuzZs8ckg822yPYOZWu1WkgkEpuLQEMGgan81h8hYmpJZrYqc/pzoVQq3cIIOfI7zXUfeDwehEKhWxt/fYRCIebMmYOnn34av/rVr9w2oZtwEQGgn6nuzoZf34tzdeN/8eJFfPPNN9i2bZuuHa%2BlCzFb%2BN9aFfr6axyYfXhzP4%2Bphp%2BrwhzzTDBHzjwkF9chxp8t8dRdjX9vIiIi8MQTT2Dp0qVIS0ujh4WwrwAwFApn%2B7IyYUn9MCmTJ2Bp9MCeIXeu63WFrm1dXV34%2B9//js2bN%2BPcuXNW87jZvF%2BZTNavhKu8vDzIZDIcP37cakbC1KYvpib4GeqjwYTbnS2E7moYuhdcxp/pe2KtPf/s7Gz4%2BvqioKDAqecqIyMDv/nNb/D4448jKCiIHh7CdgLAWAa8/hfY1HPvvT0ntjwCRkSYc1rAmpEONqPm7Hv%2BZWVl2LBhA7Zt2waxWGz1Bdma4f%2BYmBh8%2BOGHWLBgATQaDb744gu8/fbbaGtr67fXLhQKwePxIJfLWcWmKYbflH1%2BhULhEtnmrmz8uepNWDPbPzQ0FP/93/%2BNZ599Fnw%2BH/n5%2BXjllVdQV1fn1PMWGBiIJ554AitWrKCoAAkA6wsAUyreuXoWPBtcWf/OWFJZrVZj165d%2BOSTT3Ds2DGbLchsC7El5/59fHzw8ssv4z//8z/71N9va2vDn/70J3z%2B%2BedGw/jGRADzefXDw9bY57c0wY8w/x5y3QdriS9fX18899xzWL16dY9qjwAgFovx7rvvYt26dS6xvZCTk4OXXnoJc%2BfOpeqTJABsb/zd0fAbum5nM/4SiQRbtmzBxx9/jKqqKpsvymzV1swN/8%2BaNQvr1q1DUlKSwX9XX1%2BP999/H1u2bDEayTAWOhYKhTqDYQxj%2B/xMm2Pa57et189839gMmTXK%2BwYEBGDZsmV49dVXERMTY/DfXrt2DS%2B//DL27dvnEvM6bNgwrFq1CsuWLaNqgyQArG/8tVqtLsTqjrBl/jtTP4XOzk58%2BumnWL9%2BvVlJff0x/myG0ZzCP6NGjcKHH36IX/3qV2Z9nra2Nvztb3/DF198gZs3b1psTIzBFWbWj3TQPr99vH4%2Bn8%2B5vqjV6n4lWsbHx%2BPZZ5/Fc889Z/bxuoMHD%2BKVV17BlStXXGKew8LCsHLlSvzud7/DgAED6MEjAWAaxvb83b2zIJuHZygJzJ6Gf926dVi/fj06OjrstjBzJWCZUnAlKioK77zzDp555hnO2vhsvQ/YBGlBQQG2bt2Kn376iXXbwdTwfm9jY6yQj0KhcKp68u7s9RuKwFh6xNPPzw/z5s3DkiVLkJeX16/vsUqlwldffYV33nkHDQ0NLjHnwcHBWLlyJV5%2B%2BWUSAiQAjMOV/e7OXQWNRT4cKXokEgnWr1%2BPDz74AO3t7Xb3ythC/8b2/gcOHIhXX30VL774ImcYsndvBVMTLLu6urBr1y7s2LEDBQUFfXIFrJHg50rlZN3B62e%2BY2z3w5JMf19fX%2BTl5eGxxx7D3LlzrZ4pL5FI8Ne//hUffPAB7t696xL3ICQkBK%2B%2B%2BipWrlxJWwMkALgVLpu34wnG39D1O0IAqNVqfP3111izZg3q6%2Bsd4pWxLcparRZSqZRVJA4aNAirVq3Ciy%2B%2BaHDR5TplYW6kRSwW49ChQ9i1axcKCgp0Xpkxg8Pj8SAQCPrksFAhH/sbfkPbL%2BZsvURFRSEvLw9z587FzJkz%2BySY2oKuri789a9/xccff4zW1laXuCfR0dH44x//iKVLl1KyIAmAvkqb7c9dreqdNa/fEeH/o0eP4ve//z0uXrzosMWZreQvwB76j42NxapVq/Dss88aXXgN1ZPoj9DSarW4dOkSCgsLcfToUZw4cQJdXV0mRwKYzH7a57eP4Tfk9TPPiaGQ/4ABA5CdnY37778fM2bMwOjRox2WlyQWi/HFF1/g448/Rm1trUvco7Fjx%2BKjjz7C/fffTw8sCQDuhdnd9/ydyfuvq6vDK6%2B8gvz8fIcuzlwLc%2B9FOTMzEytXrsTChQuNnggxpaOiNYWmWq1GWVkZTp48idOnT6OkpIQzkZDP58PLy4vzGSCsa/gNef1sR/x4PB4SEhIwYcIETJkyBVOmTMHo0aOdzoNVKpXYvn071q9fj5KSEpe4ZwsWLMCHH35o9DQE4cYCgMv79fLy4kzecie49v7tdf0qlQp//etfsWbNGnR3d/dYRPV/17/F5t7u/ja5YUrsCoVCzJ8/HytWrMDkyZNNfr7safzZ7q9arUZzczPOnz%2BPCxcu4MKFCygrK8Pt27d1n4spOkVn/G1j%2BJmjw1yGmzlmGR8fjzFjxiAjIwPjxo1DZmYmwsLCXGpOTp8%2BjQ0bNuCf//ynTRtlWYPAwED88Y9/xIsvvugR6z0JABZvqfeerCeF/rmMkz28/7KyMixfvhwlJSUWhTCZz81WSbG3gDC2OHMdv1KpVIiNjcXy5cvxzDPPmLUYGzP%2B9hSZbB5%2BV1cXysvLUV5ejoqKCly9ehXXrl1DXV2dU3S6dAfDD/TdUuLz%2BYiOjkZiYiKSk5ORnJyMlJQUpKamulV525aWFnz11VfYvHkzrl%2B/7tSfdfz48di8eTNVFfQ0AcAW/vcU759r68PWZX%2BVSiXWrl2LtWvXOjzpjKvimkgkwuzZs/HUU0/h/vvvt0igcM2vo%2BpJmNrNUiKRoKqqClVVVbh16xZu3bqFmzdvorq6GjU1NR6bKGiOsPTx8UF8fDwSExMRHx%2BPoUOHIiEhAUOHDsWwYcM8Khtdq9Xi6NGj2LJlC3bu3Gl2BU174ePjg9WrV%2BONN96gaIAnCACu8L8n7P3bKiHN2Hxfv34dS5YswdmzZx16/Vx7sRkZGVi8eDHmz5%2BPkJAQq8%2BvM0SXLGlrzfSmAIDGxkbU1NSgtrYWdXV1qKurQ0NDA5qamtDY2IimpiZ0dHS4TQRB39vn8XgIDg5GeHg4IiIiEB4ejsGDByM6OhrR0dGIiYlBXFwc4uLiHF4/wxlpb2/HP/7xD3zzzTcoLi52ys84YcIEbNu2DcOGDaMb5u4RALY9KncWAIbC0rY0Tmq1Gt999x1WrlyJ7u5uh3r8vRs3RUVFYcGCBVi8eDFGjBjR7/dwlXbKlggBfTFgqFmVXC5HU1MTmpub0dbWhrt37%2BLu3bu63zs6OtDZ2Ymuri50dXXpfpdIJLh3755NxQOfz4dIJIK/vz%2BCgoIQFBSEAQMG6H4GBwcjJCQEoaGhup%2BhoaEICwtDeHg45/rgKUeGrUV5ebmuXbctj/taQmBgIDZs2IAnn3ySbpQ7C4Dei7UrtLztjxHmKvBiK%2BOk1WrR3d2NVatW4ZtvvjHqaXl5ebEaF6Z7oiUGSyAQQCAQ9PDIRCIR5syZgyeeeAI5OTlW2/Jw1SOlGo0GKpXKbMOr3/raWt8bpt6CWCyGVCqFXC7XNTZiihSp1eoeHTX1nxlmC08oFMLHxwc%2BPj4QCoUQiUQICAjoU%2BBJq9XqXov5ae4cuGNvEHuuS4WFhdi6davTbREsW7YMn376KWtFUMINBACz%2BDFlWd0xbMcYTkMLmy3O/Gs0Gty4cQOLFi1CaWkpp9FnK0xjqvfKLCD6r8cYAjYPNTMzE0899RTmz59vk4QrruN0riIse1cpNOuL%2BO9QuaNaWZtzjf0x%2BMxrGMrqJyyjs7MT33//Pb766iucOXPGKT5Teno6fvjhByQkJNANckcB4GyLk/6CamvDbyvPVK1W48iRI1i8eDFryVAej6cLxxu7Bv2MdMbbYzwvUwxNQEAAFi5ciOXLlyM1NdWm947N%2B3fV0LChiJG5EYLew97GXn/0p%2BAR89y6a5TQmSgrK8PGjRuxbds2h24bAv9b6XPHjh3IycmhG0MCwHoecu9FqbcA0B%2BmGDt9r8aUhc4W%2BQ5qtRpffvklXnrppT574aYYfsbwGBMvzOt5eXnptg7052f48OF44YUX8OSTT9qlPCqXwXT1nBIm2qJSqaxi%2BHoLAf3IU3%2BPg%2BoLxd7fp/5g65MxBDfd3d345ptvsH79ety4ccNhn8Pb2xuff/45li1bRjeFBIDlRr%2B3V2vu4skWqtf3cEz1zGyxb6lSqfDOO%2B9g7dq1rO/JFW1gQs/WKEk7depUvPrqq3jooYfsuqXD9tndcX9YpVJZTQw4M2T0nQu1Wo3du3fjgw8%2BwOnTpx32OVavXo0//vGPFAUiAWDew8skLjkaW%2B1HK5VKPP/88/j6669ZF1OuMDhTBa2/odm8vDy89dZbyM7OdoiX7IlHSp3pue7v/dOPJBHOzb/%2B9S/8%2Bc9/RkFBgUPe/9e//jU2bdpEApEEgGsskLZOWpLL5XjyySexc%2BdOk42/Je1O2cjNzcWf/vQnTJw40WHzy3b0z1MqSrI97xqNxqk9JDL47kFRURH%2B3//7fzh06JDd3/uxxx7Dd999R0c/SQCwGwRT9rBtPjl2SFpSKBR47LHHsGfPHpONv0ajgVQq7ZcwmjBhAt5//32HePxs0Q9PrShp7HugPxwlCvSPmFLo1v04fvw4XnvtNbufHJg3bx7y8/NJBJAA6OkFmZo9zXRj4/JCLCnWop8YZw/DN3/%2BfLOMv0qlglwut9j4JyQk4M9//jMWLlzoFIu5J1eU7O/3hJk/ffFkqlDQarU9vjf6zzuFZj0PrVaL7du346233sKtW7fsKgJ27NhBtSBIAMCktqp8Pr9PNTpLvKreBt8RC/jixYuxY8cOVhHCVjxDrVZbXOjD19cXr7/%2BOl5//XWnKszh6e2kCcKZkEqleO%2B99/Dee%2B9BJpPZ5T0XLlyIbdu2kfD0ZAFgLIPdnTLCtVotXnjhBWzatIk1euHr69vnz/sT9s/Ly8OGDRucrj43V7THFoWVTBGGvY/B6Qsy/eOkBOHuVFVVYcWKFXZLFHz%2B%2BeexYcMG2mKyM06xmhkz/j4%2BPm4VInr33XexadMm1oddv3GMvmCwJOwfGhqKr776CgcOHHA6488cXWT7c3sYWSZ0rlQqIZfLoVQqdUf0eu%2B9M0Kl9791dI4KQdiKYcOG4cCBA9iyZUu/GnuZyueff453332XJt7TBIAh42%2Bo17yrsm3bNqxZs0bnWbKJHbY5MreGPwD4%2B/vrDJizGX%2Bu0wu2Dv0zdfuZExSWGHFmTi29LwThCjAnsAIDA%2B3yfmvWrMG2bdto4u2IQ7cADO35OyIMbGuKiopw//336/bWel8f296/RqOBRCLpt5p/4403sGTJEodn3BrqqGjLbZ7%2B1Ok3BuUrEO6EQqHA1q1b8Ze//AVVVVV2fW9fX18cPXrUoceSSQDYAa62r%2B5q/BsbG5GRkYGGhgadse8dAWDL/Gc6uVmDmJgYvPzyy1i%2BfLlNmvmY6n1zPXK2MqSmJJf2R1h4Wr0Cwj3p6urC5s2bsW7dOtTV1Tnsc0RFReHcuXOIjIykm%2BKuAkChULAaAnc0/iqVCtOnT8eJEyd6eLts6lf/z5nWrtb2WoOCgrBs2TK88MILSEpKstsccBlhWxlRc%2BpJMLkHbDkYwP8V6ekt2qheAeHqXLt2DRs3bsSWLVvQ1dXlFJ8pOzsbhYWF9N1yRwHAlf3trovpW2%2B91aO%2BP1dXNz8/vz4GrL/hf4M3n8fDzJkzsWLFCsyePdsmc2/M67dlR0VT6klY8swxyYFeXl6UtUy4rFOyd%2B9ebNiwAYcOHXLKctRvvvkm/vznP9PNcjcBwOb9u2rbV2McOXIEM2fO7OGFsnmY3t7effa/rRn%2BN8bgwYOxZMkSLF26FCNGjLCL9%2B0o40/96AlPpbKyEl999RW2bt2KO3fuOPVn5fP5OHToEKZPn043zl0EgLu2fWWjvb0daWlpPfbTTPX%2Bgf8tymHLLHPmc/T%2BPBMmTMCiRYswf/58hIeHc4bFuTxjU7s12uKeG9vvpy51hKfR3NyMf/7zn9i2bZtDOwFaQnR0NC5dumSXo4gkAOyAp7R9BYCnnnoK3333nVHjz%2Bb996fqnyGDb07IWiAQICcnBwsWLMBDDz2E0NBQ1v%2B/dzlaY9hqq8eY50/Z%2BoSn0N7ejl27duH777/H4cOHTS6v7ow8%2BeST%2BPbbb%2BmmuroA8KS673v27MGcOXOMGl%2Busr/W9P7NNfxseHt7Y9q0aZg3bx7mzJmD8PBwi17HVvfa0KkSdxWYBKFPU1MTfvrpJ%2BzcuRNHjx7td6dQZ2L37t146KGH6Ca7sgDgWqTdTQB0d3dj1KhRqK2tNWqA2cr%2BWsv7t4bh5zKomZmZePDBBzFr1iykpqYafR9bnu7gEpZMFINC/oQ7otVqUVpair1792LPnj0oLi522%2BqUsbGxuHLlit2KEpEAsNNC7Y4L9CuvvIKPPvrIqBH28fHpEwq31tE/ex6ljI2NRW5uLnJzc5GTk6Pbr7NHO2WAu5okGX/C3Whra8ORI0dQUFCAgwcPoqamxmOu/fe//z0%2B/PBDeghcVQAw3i2zH%2BWOodkrV65g7NixUKlUBo0w274/AF2teVt7/UwrZUPtlJlMflPP0jP3c/z48cjNzUV2djaysrJs2n2Qa9/fXU%2BVEJ6FVCrFL7/8gqNHj%2BLQoUMoKSnx2PLTAoEAFy9exKhRo%2BjBcFUBwHi5zCLtbuTl5eHw4cMGr43L%2BDPNZmzl9TOtjy31yhkRwGT5M93xDIkOoVCIzMxMTJ06FVOmTMH48eMREBBgtflmO1JK1fkIV0UsFqOoqAgnT57EsWPHUFRU1K81wR3X14MHD9JEuLIAcAa0Wi1rLQJLhYlGo8G%2Bffswb948g/%2BOy/j3d9/fmPFn227oPR%2B9j/ExBp8x9EzUwNTtBWaOmaN5arUaAoEAY8eOxZQpUzB58mRMnDgRcXFxVvX%2BKdufcBVqampQVFSE06dP49SpU7h48aJLZ%2Bzbg/379%2BOBBx6giSABYJ6B7m3YDBlTfaNnymuqVCpMnDgRly9f5vS%2BhUIhZ5lZmUxmcTUuQ5/Ry8vLoEFkjKihan1s78dUweO6HuanKVsHgwcPRlZWFiZOnIjMzExkZGSYdO6Xbe%2BfQv%2BEs9Le3o5z586hpKQERUVFKC4udvpiPM7ImDFjcP78ebcrGU8CwAZG31QjZHCSeoW42aIH%2Bfn5WLp0qdlGWKVSQS6X28T4C4VCziQ4pr%2B9M%2B4n8ng8DBs2DOPGjUNGRgbGjh2LtLS0Hs1BPOlIKeF6NDY2oqysDBcvXsS5c%2Bdw/vx5VFVVwUMDrlbnH//4BxYtWkQTQQKA3atlvHN7vV9mZiYqKytZvVE2I8y0xe1PqV9DtQW4og0ajQYKhcIlw4yRkZEYO3YsRo8ejVGjRmHEiBFITk7ukWRIAoCwJ1KpFBUVFbh8%2BTIuX76MS5cu4eLFi2hsbKTJsSEpKSm4fPkyRQFIAFjf4zeXf/7zn1iyZIlJht9aRtjcwkJA/5MMnQnmi%2B/l5YWEhASMGDECo0aN0gmDpKQkOjNMWI2uri5cvXpVNyoqKlBRUYEbN254bFa%2Bo9m%2BfTsWLFhAE0ECwPye70z7196G2dwEQK1Wi0mTJqGsrEyXYc%2BlSplcAWsYYa73YOspwITL3akyGNv19772sLAwxMbGIjExEUlJSUhMTMSwYcMwdOhQq55EINwDsViMmzdvoqqqCtevX8e1a9d0P8mjdz7S09Nx7tw56sjpyQKAMarGvH6tVqurQW/sgWFa2JoiCI4dO4ZHHnnEYCiK%2BYxcBWus5f2zVRXUarWQy%2BVulVnMdv18Pr/P0T%2BVSgWZTMb6GhERERg2bBgSEhIQHx/fY8TFxVEioRuiUChQU1OD6urqHuPWrVuoqqpCU1MTTZKLcejQIeTm5tJEeKIAMFT/Xd9YCASCfu8VcdUumD9/Pue5VGaf3xSB0l/vl%2B14oTsaf67rZ0t4tLSoEp/PR3h4OOLi4hAbG4vY2FjExMQgOjoaUVFRusEWbSEcg0QiQUNDAxoaGlBfX4%2BGhgbU1dWhtrYWtbW1qKmpQXNzs9uWyvVUZs%2BejT179tBEeJoAMMX42zoh7ObNmxg7dqxOHLCde3eU99sfA%2Bhqxp8t70Gr1eLevXs2/SzBwcGIjIzE4MGDMXjwYERERCA8PFw3wsLCEBYWhkGDBiEwMJBClWYiFovR2tqKlpYWNDc360ZTUxOamppw584d3LlzB42Njejo6KAJ80D4fD4qKysxfPhwmgwLELjihzZm/G3ZeEafL774QhdiVqvVrMcDbSEA2K63N8yWg1upVQM9Fdiu39Z0dHSgo6MDV69eNfpvfXx8MGjQIAwaNAihoaE9RnBwMAYMGIDg4GAEBwcjKCgIgYGBCAoK0g1XLJmtVCrR1dWlG93d3ejq6tLNW2dnJzo6OtDW1tZjtLa2orW1tV8nZAjPQKPRYNOmTfjggw9oMjwhAmDM%2BNvrGJhCoUBMTAxaWlrsagB7G0Eu71cikbjVmWOuvAe2GgvueP2%2Bvr4ICAhAQEAA/P39IRKJ4OfnB5FIBJFIBKFQqBs%2BPj49fmdOpOhXcmQGj8frUwWSOUmjVquhUCigUCggl8shl8t7/C6XyyGVSiGVSiGRSCCVSnHv3j2IxWKIxWLO/AuCsCZhYWGoq6ujvB13jwAw4XUuA2HPB2D37t12Nf6cN5ClvK85Vf1c2fgz9Q7c/foBQCaTQSaTobW1lVYtgtCjpaUFu3fvxqOPPkqTYSYuVUWBa2F3RPnXrVu3Wu21EhMTTTaEbB4wW3TC3Y0/wB7t0Wg01DyFIFwAU9c9e6/HJACcEEOV/ext/O/evYv9%2B/db5bWSkpJQWlqK%2BfPnW2Qce%2Bc6MLkIbvFw/jtEzXXPuY48EgTh3MyfPx%2BlpaVWEwH79%2B/H3bt3aWLdVQCwhf61Wq1DSr/u3LnTagl2K1euhEgkwvbt2/HGG28YNIameP/uUJWMq8kQg7e3N%2BvWh7P2NiAI4v%2B%2B22%2B%2B%2BSa2b98OkUiEVatWWeV1lUoldu7cSRNs7v1whSRArrav9sr2701eXh4OHTrU79cJDAxEfX19j5K1%2Bfn5WL58Obq7u3t8adg8YZFI1OfPJRKJy551NhTuZ2ArdgRAl6xGEIRzEhgYiM2bN/co39vd3Y3o6Oge652lzJw5EwUFBTTR7hYBYDNoxrxEW9He3o5jx45Z5bUWL17cp179ggULUFJSgoyMjB7Xyub99/5zWzZAYoyzfga5oWHqmXf91zT0/zCnHcj4E4TrkZmZiZKSkj61%2BwMDA/HEE09Y5T2OHTuG9vZ2mmx3EgDMEaXeOOrIx759%2B6wW/n/mmWdY/zwpKQmnT5/GW2%2B9xXmdbFsf1jaC%2BkbfFO%2Bcy7Dr//%2BWCAWBQMAa7SDjTxDOjUAgwNtvv41Tp04hKSmJ9d8sW7bMKu%2BlVCqxb98%2BmnR3EgDOFs62VtnJlJQUZGVlcf69t7c33nnnHRw7dgxjxozp83ds82St4jeWGn1TxIRZD%2Be/KxyyiSAm4Y%2BMP0E4J%2Bnp6fjll1/w7rvvGnTYsrKykJKS4lTrMwkAJ4oAsKlKR6BWq622x/T4448bFD1M/4Bx48bhxIkTeP/99xEUFKTrONh7jqxhCPUNv0Mfyn8bfq79fo1GA6lU6naVDgnCHQgODsa6detQXFyMzMxMk/6fRYsWWeW9CwoKKBHYnQSAqdnv9qCkpARtbW1Wea2FCxdyGv/eXQMFAgF%2B97vfoaysDCtWrOgjgLiSJG3poXPt/ffn/QUCgUHDz3j9rpzoSBDuikAgwPPPP4/KykqsWrXKLEeNaz00l7a2NpSUlNDNcCcBwLTwdUTBH30KCwut8jqpqal99sP0WwZzERsbi48//hhFRUWYO3cueDyeVQrfmOL18/l8%2BPj46ErQMoa69/Dz84NQKDTagZHH4%2BmiGb6%2BvhCJRKxn%2B/Xnhrx%2BgnA%2BeDweHnnkEVy6dAkbN25EeHi42a%2BRnJyMUaNGOdU6TQLASfDy8tLVNHdkePrIkSNWeZ158%2Bb18eAVCoXB0JW%2B8ElOTsa2bdvwr3/9C3l5ef364hrz2r28vCASieDr66sTYlwwzZD4fL7OsPv5%2BbEOpn69oaOcGo0GCoUCEokEMpmMvH6CcDLDP3fuXJw9exY//PADRowYYdV10VKOHj1KN8fUe6h1t6LpNoDZYx80aBBri1lzp/DUqVOYOHGiruGKsfdma/WrT1lZGd577z3k5%2BebvBVgLOQvEAjg7e3N%2BW%2BY0xlM22O20xpM8xlmGBNvvV%2BT9vIIwvkQCARYsGAB3njjDYwePdpqr3v69GlMmTKl36/j7%2B%2BP9vZ2l%2BygSQLASWAMEePVnj17FtOmTTNJLHBNKY/HQ2hoKGpra03aLzd3y6O6uhqffPIJtmzZgs7OTouMP9Ngx5BXrlQqLWq4w3X0T6PRcB73JAjCOQgODsYzzzyDl156CfHx8VZ/fbVajfDwcKvkWRUVFWHChAl004ytyTQFfY2bXC7XJeIxRu7MmTMme9aGiuNMmzbNJOPv7e1tdr5DfHw8PvroI9TV1eGzzz5DWlqaWcafCfdzZd4zCXhKpdKifgPM6QalUtljMO1nCYJwPlJTU/HZZ5%2BhtrYWH330kU2MP7P%2B5OTkWOW1ioqK6MaRADDP8PfOvtenuLjYKu9l7AFn%2Btv3J6M%2BICAAK1asQGlpKU6ePImlS5fCz89PJwC4BAdbcSFm%2B4Mx/ARBuD/%2B/v54%2Bumncfz4cVy6dAkrVqxAQECAzd93xowZJADsiEdvAWi1WpP3mlNTU3Hz5s1%2Bv%2BfZs2dZs129vLxsWt%2Bgq6sL27dvx7fffovTp0/38OC9vb1Z98vUajXkcjl55wThCcaAx8N9992HJUuW4LHHHkNQUJDdP8OlS5dYI5fmMmzYMNy4cYNuKgkAbq/f1H3s9vZ2DBkyhDV8zogIU4xkcHAw6urqdN49c/bdHj0N9GsF3L59Gzt27EB%2Bfj4qKys5jb9MJgOliBCEe5OWlobHH38cixYtsll435x1edCgQf2u6c/j8XD37l2EhITQDSYB0BOVSmVS9j1zTv3EiROYNWuWSUZWvyEP85Mx8L/61a/w448/mpQRb%2B1IB1elwNraWvz000/4%2BeefcfHiRQDQ5UEQBOGenn56ejoeffRRzJ8/n7NGv6N44IEHcPDgwX6/ztGjR62WU%2BCuCDzpYpmCMoa8da1W26cgzaVLl1iVKvOT0VDMsTeu4ycTJkxwSBljLrEjFAoxfPhw/OEPf8Af/vAH1NTUYPfu3fjxxx9x/Phx2vMnCDfB29sb2dnZmDNnDh5%2B%2BGEMGTLEaT9rVlaWVQRAaWkpCQASAKYZfzbDz1BeXq47psZEDwyJCCa07%2BXl1aOpzrhx4xxy3Wyfla2cclxcHH7729/it7/9LTo7O3Hw4EHs27cPBw4cQFNTE31bCMKFiIiIwIMPPohZs2YhLy8PAwYMcInPbWr/AGNcvnyZHgIjeMQWgDHjz1Su42LatGk4ceKExfvhjAC4desW4uLi7HrtzAkHNu/fnPkrKyvDoUOHUFhYiOPHj0MikdC3hyCcCH9/f9x3332YMWMGZs6cibS0NIc39rKEmpoaq0QoJk%2BejFOnTtGD4ekCwNCev6FStAwDBw7sd3GK0NBQ3L171ymu3ZjgMYZcLsfp06dx7NgxHD9%2BHEVFRZDJZPRtIgg7IhKJMGHCBEybNg05OTmYNGmSWcLembHGmhsSEmK15m0kAFwUQ53yTOkt0NzcjIiIiH5/jqlTp%2BLEiRN2v36FQtEncmHtngpyuRxnzpzB8ePHceLECRQXF6Ojo4O%2BXQRhRYKDg5GVlYX77rsP2dnZmDBhgtsY/N7cd999OHnyZL9fp6mpyaLmRJ6CW%2BcAMKF/S40/AKuc/QdgtU5X5qCfoNhD9Vk5LCgUCpGdnY3s7Gzd%2B5aXl6OoqAinT59GUVERKisrqZ4AQZgIn89HcnIyJk6ciMmTJ2PixIkYOXKkXY4MOwMjR460igC4efMmCQBPFQD9Nf7WFADJyckOiX7Y2vhzLV6pqalITU3F8uXLAfxvIaLz58%2BjpKQExcXFOHfunNXmliBcGR6Ph4SEBGRkZCArKwuZmZkYN26cQwrxOAvWWi9v3ryJiRMn0kPmaQJA/zx%2Bb%2BNkjhG8deuWVT5PYmKiU1y/I44hAkBQUBBycnJ6HMtpb29HaWkpLl68iIsXL6K0tBTl5eWcNQsIwtXx8fHByJEjMWbMGIwdOxZjx47FmDFjqGBNL6xVm8Ba6zcJABeDzfvVarVmJ79Z6wEaNmyYw6MfWq3WqUKIISEhfUSBQqHA1atXcfnyZd24cuUKbt26RVUJCZeBz%2BcjPj4eo0aN0kXDUlNTMWLECLObfHki1lovSQB4oADgOvtuScJMTU1Nvz8Pj8eza4lNrhLHrrDw%2BPj4IC0trU898Hv37qGyshJXr17VjcrKSly7do1OIBAOw9fXF0lJSUhOTsaIESN0Izk5Gf7%2B/jRBFhIfHw8ej9dv0V9bW0uT6WkCgOvInyX73w0NDf3%2BPBERERCJRHYz/lzX78oJRP7%2B/hg3blyfYkoajQa1tbW4fv06bty4gRs3buDatWuoqqpCdXU11Ssg%2Bo2fnx8SEhIwdOhQJCUlYfjw4UhMTERiYiJiYmI8JjHPnohEIoSHh/e7AJk11m8SAC4YAehzoRbufVvjAYqJibGb8OHa%2BvD19XXLB5jP52PIkCEYMmQIcnNz%2B1x3Y2Mjbt261WPU1NToBkUPCJFIhNjYWMTFxSEuLg4JCQk9RmRkpEsW1HF1YmNjSQCQALAObKVvjSGVSvvdlQoAoqOjHer5e%2BqeI4/Hw%2BDBgzF48GBMnjyZVRg1NTWhpqYGdXV1utHQ0ID6%2BnrU1dXhzp07uHfvHq0ULoq/vz8GDx6MmJgYREdH60ZMTAxiYmIQFxeHiIgIMvBOSHR0NEpKSvr1Gm1tbZBKpXaLwJIAcBKvUD8HwNIQXWNjo1U%2BT1RUlE2jHYbKHDP9CAh2gRAZGYnIyEhkZWVx/ruuri40Njbizp07uHPnDhobG9Hc3IympiY0Nzfrfm9paaEtBzvg5%2BeH8PDwHiMiIgLh4eGIjIzUib7IyEiPPkrn6lhr3WxsbERCQgJNqKcIAKbdrlqt1jXmsYTW1larfB5rVBJkw1CVQ2YeHHXsz50ICgpCUFCQSUeTJBIJWltbe4y2tja0t7ejvb0dbW1taGtrQ2dnZ4/R1dVltEW1u31HAwMDERwcjKCgIAQHB2PAgAEIDQ1FaGgoQkJCEBISgtDQUAwaNKjH8PPzo4fSA4iMjLTK67S2tpIA8CQBwHj9/fV8rVW739oCgNnrN5QhS8bfcd4ps5dsDlqtFmKxGN3d3ejq6oJYLIZYLEZXVxfu3buHe/fuQSKR6H6XSqWQSqWQyWS6IZfLoVAooFAodL8zIpEZTH0I/XbWPB6vR9dK5tlhOloKBAIIhUL4%2BPjohlAohK%2Bvr26IRCL4%2BfnBz88P/v7%2Bup/%2B/v4ICgpCQEAAAgICEBQUhMDAQAQEBFDYnTCItSr4OaIHCwkAN6A/EQBmcePxeAgJCenRkY9ZaJmF1xSYRdsUL5FZuAnXgcfjITAwEIGBgTbdMiIIV2HQoEEOX8dJAHgw5ihHfYPfm5CQEIN18BnvS18MaLVa3TC1hr47Z/sTBOFZDBw4kCIANoaywwzQ2dlpkuHXD5%2BysXPnToOeO%2BPZK5VK3WCy%2Bk01/nw%2Bn4w/QRBugVqtxo4dO%2By2jpMAIPrQ3d1tkuE3xt/%2B9jc8%2BuijNmmRy%2BPxIBQKzS5xTBAE4Yy0t7djzpw52Lhxo83XcRIABCddXV39Mvz6FBQUYPLkyTh//rx1bhyfr0vMIgiCcAdKSkqQkZGB/fv323QdJ0gAmK0cTTX8fD4f3t7eEAqFEIlEugzppqYmzJ49G5999pluf99UtFoteDye7nXJ4ycIwl3QaDT44IMPMGXKFKs38KEIAAkAixCLxT2MuiF4PB58fHzg5%2BcHX19feHt76%2BoR6CcIKpVKrFmzBnPnzkV9fb3OmDPHFvWHl5eXzuD7%2BvrCx8eHivoQBOFWXL9%2BHdOmTcNrr71mk1bg%2Bus4QQLAZGQymdGjekwoXiQScZ67ZzL5VSqV7oz2sWPHkJ6ejrVr10KpVMLb27vPEAgEZPAJgnBL5HI53n33XaSlpeHkyZM2XccJEgAWCwAufHx84Ovry3rmXqvVQq1WQy6XQyqVQiKRQCaTQaFQ6DL9u7u78dZbb2H06NHYs2cPTThBEB7Bnj17MHr0aKxevdrmBpoEAAkAs9FoNJDL5Zxev5%2BfH6vHr9VqoVQqdZXalEql0aN8169fx5w5c5Cbm2u1JEGCIAhn4/z585g5cybmzJmD69ev2y3SQJAAMBnGiLM9OF5eXpzn7VUqFaRSKeRyucnn9/UpLCxEZmYmFixYgPLycroRBEG4BeXl5ViwYAEyMzNx%2BPBhu743RQBIAJgFU7ZXv3wvAF1CHle0QCaTWWT4e4uPHTt2YPTo0Vi4cCFKS0vphhAE4ZKUlpZi4cKFGD16NHbs2GHWySdrr%2BcECQCjqFQq3UOqb8yZxDw24y%2BTyaz%2BkGk0GuTn5yM9PR2zZs3CkSNH6OYQBOESHDlyBLNmzUJ6ejry8/P77Rj1dy0lSACY5H3rl%2BxlfmeO4/VGrVZDIpHY9AHTarXYv38/ZsyYgbFjx%2BLLL7%2BEVCqlm0UQhFMhlUrx5ZdfYuzYsZgxYwb279/vEI%2BfbZ0mSACY/aAwrVLZwv5qtdruhri0tBTLly9HdHQ0Vq1ahYqKCrppBEE4lIqKCqxatQrR0dFYvny5021bUgSAG57WGSSak3j/vYtQpKSkoLGxsc8xP41GA6lU6hTqdsqUKVi2bBkee%2BwxBAYG0o0kCMLmdHd3Y8eOHdiyZQtOnTrl1J81Pj7e6tUFSQC4GUz3PX1Gjx6NO3fu9BEKMpnM6cJKfn5%2BePjhh/Hkk08iNzeXSgUTBGFVlEolDh8%2BjO%2B%2B%2Bw4//fQTJBKJS3zuoUOHoqqqim4gCQBuFApFH48%2BOzu7z3E8hUJhk3KV1mTQoEF49NFHsWDBAmRnZ3NWKCQIgjDmGB0/fhz5%2Bfn44Ycf0Nra6nLXkJaWRqepSABwwxb%2BB4AFCxb0yL7XarWQSCRwpSkLCwvDvHnzMG/ePOTm5nLWMCAIggD%2B99z84cOH8fPPP%2BPnn39GS0uLS19Pbm4uDh06RDeWBXINAc5yv3FxcT3%2BW6lUwtX0UktLCzZv3ozNmzcjICAAeXl5mD17NmbNmoXIyEi6%2BQRBoLGxEfv27cPevXtRUFDgVg10EhIS6AaTADAyEQIBVCqV7r%2BFQiFSUlJ6/Bv9v3dFxGIxdu7ciZ07d4LH4yE9PR0PPvgg8vLyMHHiRPj4%2BNCDQBAegEKhQFFREQoKCrB//35cuHAB7hoMHjVqFN1wLueXtgD%2BD41GA41Go2vHW1xcjBkzZuj%2BzlWSXiwhMDAQ06ZNw/3334/p06cjLS2NOhEShButbWVlZThy5AiOHj2Kf/3rX%2Bju7vaIaz99%2BjQmTZpEDwEJAPNQKpUYMmQIuru7IZPJXD4CYA6hoaHIzs7G/fffj%2BzsbIwePZq16yFBEM6HWq3GpUuXcPz4cRw9ehTHjx9HW1ubx81DUFAQWltb6VQUCQDLWLx4Mb7//nuPLyYxYMAATJgwAVOmTMHUqVORlZWFgIAAekAIwgkQi8UoLi7GyZMncerUKZw5cwadnZ0ePy%2BLFi3CP/7xD3pASABYxs8//4yHH36YJqIXAoEAo0aNQlZWFrKysjB%2B/HiMGjWKjhwShI1RqVS4cuUKzp49i%2BLiYhQXF%2BPKlSseFaE0lZ9%2B%2Bgnz5s2jiSABYPmXLSEhAXV1dTQZRvD390dGRgbGjRuH9PR0pKenIyUlhUQBQfRj/amoqMCFCxdw4cIFnD9/HufOncO9e/docowQExODW7du0fpDAqB/vP/%2B%2B3j99ddpIixAJBJh9OjRSE9PR1paGlJTUzF69GiEhITQ5BCEHu3t7bh06RIuX76MsrIyXLhwAZcuXaLmXxby3nvv4bXXXqOJIAHQP8RiMYYOHeryBTGcTZ0zgiAlJQUjR45ESkoK9TMg3J7u7m5UVFSgvLwcFRUVOoNPUUbrERYWhps3b1KeEgkA6/D555/jhRdeoImw5cPI4yE6OhojR47EiBEjkJycjKSkJCQmJiI2NpaOJRIug0ajQW1tLa5fv45r166hsrISV69eRXl5Oerr60HLrm3ZuHEjnn/%2BeZoIEgDWQa1WY9KkSTh79ixNhgMQiUQYPnw4EhMTMWzYMN0YOnQo4uLiaJ%2BPsDsqlQo1NTW4efMmqqqqdOP69eu4ceMGhe4dxPjx4/HLL7/QsWUSANblypUryMjIgFwup8lwIgQCAYYMGYL4%2BHjExcUhPj6%2Bx%2B/R0dF0DpiwyMA3NDSguroa1dXVuH37tm7cunULt2/fpsx7J8PX1xclJSVU/Y8EgG3YuHEjVqxYQRPhQvD5fERGRiImJgaxsbGIiYlBXFwcoqOjERUVhcGDByM6OhoikYgmy0OQSCRoaGjAnTt30NDQgPr6etTU1KCurg719fWoq6vDnTt3nK7tN2GYzz77jNZnEgC2ZcmSJfj2229pItyMkJAQnSCIiIhAZGQkIiIidL%2BHh4cjLCwMYWFh1DfBCVEoFGhpaUFLSwuam5vR2NiIpqYmNDU16X5nDH57eztNmJvx1FNPYevWrTQRJABsi1wux8yZM3HixAmaDA9lwIABOjEwaNAghIaGYuDAgRg4cKDu95CQEAQHB/cYlKtgHJVKhY6Ojh6jvb0dd%2B/eRVtbG%2B7evav7vbW1VWf0qfKd5zJ16lQcPnwYQqGQJoMEgO3p6OjA9OnTceHCBZoMwrQvG4%2BHgIAADBgwAEFBQbqfzAgICOgz/P394efn12OIRCL4%2Bvr2GI4QFiqVCjKZrMeQSqWQSCQ9xr179yAWi/uMrq4u3ejs7NT9FIvFlCVPmEx6ejoKCwuptggJAPvS0tKCmTNnorS0lCaDcCh8Ph8%2BPj664e3tDW9vbwgEgh6Dz%2BeDx%2BP1GFqttsfQaDRQqVQ9hlKphFKphEKh0A1P749BOJ4xY8bg0KFDCAsLo8kgAWB/2tvbMXv2bPzyyy80GQRBEHZi0qRJ2Lt3L3n%2B/XEcaAr6R0hICAoLC/HII4/QZBAEQdiBRx55hML%2BJACcA5FIhB07dmD16tXg8Xg0IQRBELYwWHw%2BVq9ejR07dtCxXStAWwBWZvfu3XjmmWdw9%2B5dmgyCIAgrMXDgQHz11VeYM2cOTQYJAOeltrYWS5YswbFjx2gyCIIg%2BklOTg62bt2K2NhYmgwrQlsANiA2NhaFhYVYt24dhakIgiAsxM/PD%2BvWrUNhYSEZf4oAuB43b97ECy%2B8gIKCApoMgiAIE8nLy8PGjRsxdOhQmgyKALgmQ4cOxcGDB5Gfn4%2B4uDiaEIIgCAPExcUhPz8fBw8eJONPEQD3QSKR4KOPPsIHH3yArq4umhCCIIh/ExQUhFdffRW///3v4efnRxNCAsA9aWlpwdq1a/H5559Tz3CCIDwakUiE559/Hm%2B%2B%2BSZV9CMB4DnU19fjvffew%2BbNm0kIEAThcYZ/%2BfLleP311xEdHU0TQgLAM2lqasL69euxadMmtLW10YQQBOG2hIaG4rnnnsPKlSsRERFBE0ICgAAAsViMr7/%2BGp9%2B%2BikqKytpQgiCcBuSk5Pxu9/9DkuXLkVAQABNCAkAgg2tVotDhw5hw4YN2Lt3L1QqFU0KQRAuh0AgwOzZs7FixQrMnDmTSqWTACDMob6%2BHl9//TW%2B%2BeYbXL9%2BnSaEIAinJzExEU8//TSWLl1K%2B/skAAhrRAVOnTqFrVu34ocffqBcAYIgnIrQ0FA8%2BuijWLJkCaZMmULePgkAwhYoFAocOHAA%2Bfn52L17N9UUIAjCIQQFBWHOnDlYsGABHnjgAfj4%2BNCkkAAg7IVMJkNBQQF%2B/PFH7NmzB62trTQpBEHYjIEDB2LOnDn4j//4D%2BTl5cHX15cmhQQA4WhUKhVOnjyJPXv2YO/evbh69SpNCkEQ/WbEiBGYPXs2HnroIUydOhUCgYAmhQQA4cxUV1fjwIEDOHDgAI4ePUpbBQRBmERQUBBycnLw4IMP4oEHHkB8fDxNCgkAwpWjA2fOnMHhw4dx7NgxFBUVQSaT0cQQBAFfX19MnDgROTk5yM3NxYQJE8jLJwFAuCsymQy//PILjh07hpMnT%2BLMmTO4d%2B8eTQxBeAD%2B/v6YMGECpk6dipycHEyaNIn28kkAEJ6KUqnEhQsXcOrUKfzyyy84c%2BYMampqaGIIwg2Ii4vDhAkTMGnSJEyZMgXp6enw9vamiSEBQAKAYKehoQFFRUU4e/YsiouLce7cOXR2dtLEEIQTM2DAAGRkZCArKwvjx4/HxIkTERUVRRNDkAAgLEej0eDatWu4cOECzp8/jwsXLuDChQtUlIggHERoaCjS09ORnp6OcePGIT09HUlJSeDz%2BTQ5BAkAwrZotVrU1tairKwMZWVlKC0txeXLl3Ht2jXqYUAQVsLb2xuJiYlITU3FmDFjkJaWhrS0NMTGxlLFPYIEAOFcyOVyVFZW4vLlyygvL0d5eTkqKipQVVUFpVJJE0QQHIZ%2B%2BPDhGDFiBEaOHImRI0ciNTUVycnJEAqFNEEECQDCdVEoFLhx4wYqKytx7dq1HqO5uZkmiPAIwsPDkZSU1GMkJydj%2BPDhVE6XIAFAeB5dXV24ceOGbty8eRM3b95EVVUV6uvroVaraZIIl8DLywsxMTEYOnSobgwfPlw3goKCaJIIEgAEYWrkoKamBtXV1aiursbt27dRXV2Nmpoa1NbWor6%2BHgqFgiaKsAs%2BPj6IiYlBTEwM4uLiEB8fjyFDhiA%2BPh7x8fGIi4sjT54gAUAQ9kCj0aCxsRF1dXWoq6tDTU0N6urqUF9fj4aGBt2QSCQ0WYRB/P39ERUVhcGDByMqKgrR0dE6Q88Y/cjISMq0J0gAEIQr0dHRgcbGRt1oaGhAc3Nzj9HS0oLm5mYSC26En58fwsPDER4ejrCwMN3v4eHhiIqKQmRkpG4EBwfThBEkAAjCkxGLxTpRcPfu3R6jra1N97OtrQ2tra3o6OhAd3c36CtlwwWLx0NgYCBCQkIQGhqKgQMH9vmpPxgjHxAQQJNHECQACMJ2qNVqdHd3o6OjQzc6Ozt1o7u7u88Qi8W6nxKJBBKJBGKxGFKp1C0SH728vODn56cb/v7%2BCAgIQGBgoO5n7zFgwADdCA4O1o3AwEB4eXnRg0YQJAAIwr2RyWQ6USCVSiGXyyGTySCXy/sMpVIJhUIBlUoFlUoFpVIJpVIJlUoFjUajG1qtFlqtVvfffD4ffD4fPB4PPB5P9998Ph8CgQDe3t7w9vaGQCCAQCCAj48PvL29IRQK%2BwxfX18IhUKIRCKdwacmMwRBAoAgCIIgCCeB0lgJgiAIggQAQRAEQRAkAAiCIAiCIAFAEARBEAQJAIIgCIIgSAAQBEEQBEECgCAIgiAIEgAEQRAEQZAAIAiCIAiCBABBEARBECQACIIgCIIgAUAQBEEQBAkAgiAIgiBIABAEQRAEQQKAIAiCIAgSAARBEARBkAAgCIIgCIIEAEEQBEGQACAIgiAIggQAQRAEQRAkAAiCIAiCIAFAEARBEAQJAIIgCIIgSAAQBEEQBEECgCAIgiAIp%2BL/A4mvoqflH1zjAAAAK3RFWHRDb3B5cmlnaHQAQ29weXJpZ2h0IKkgMjAwOC0yMDEzIElOQ09SUyBHbWJIcNKUBAAAAABJRU5ErkJggg%3D%3D%22%2C%20%22popupAnchor%22%3A%20%5B-3%2C%20-76%5D%7D%29%3B%0A%20%20%20%20%20%20%20%20marker_842845d9b6ad49e2814b6d7a6c257801.setIcon%28custom_icon_d748bcba29374cf28b2757d1bfb2463d%29%3B%0A%20%20%20%20%20%20%20%20%0A%20%20%20%20%0A%20%20%20%20%20%20%20%20var%20popup_b5cc0fe06e964f8189c65b11c32333de%20%3D%20L.popup%28%7B%22maxWidth%22%3A%20%22100%25%22%7D%29%3B%0A%0A%20%20%20%20%20%20%20%20%0A%20%20%20%20%20%20%20%20%20%20%20%20var%20html_9691a750d2c343d68a11faf14a0f97c2%20%3D%20%24%28%60%3Cdiv%20id%3D%22html_9691a750d2c343d68a11faf14a0f97c2%22%20style%3D%22width%3A%20100.0%25%3B%20height%3A%20100.0%25%3B%22%3ECriminal%3C/div%3E%60%29%5B0%5D%3B%0A%20%20%20%20%20%20%20%20%20%20%20%20popup_b5cc0fe06e964f8189c65b11c32333de.setContent%28html_9691a750d2c343d68a11faf14a0f97c2%29%3B%0A%20%20%20%20%20%20%20%20%0A%0A%20%20%20%20%20%20%20%20marker_842845d9b6ad49e2814b6d7a6c257801.bindPopup%28popup_b5cc0fe06e964f8189c65b11c32333de%29%0A%20%20%20%20%20%20%20%20%3B%0A%0A%20%20%20%20%20%20%20%20%0A%20%20%20%20%0A%3C/script%3E onload=\"this.contentDocument.open();this.contentDocument.write(    decodeURIComponent(this.getAttribute('data-html')));this.contentDocument.close();\" allowfullscreen webkitallowfullscreen mozallowfullscreen></iframe></div></div>"
      ],
      "text/plain": [
       "<folium.folium.Map at 0x1cd571f1730>"
      ]
     },
     "execution_count": 5,
     "metadata": {},
     "output_type": "execute_result"
    }
   ],
   "source": [
    "from folium.features import CustomIcon\n",
    "\n",
    "# Make an empty map\n",
    "icon_map = folium.Map(location=[31, -94], zoom_start=7)\n",
    "# Create marker and customize it befor including it\n",
    "Police_station_icon = CustomIcon(icon_image = 'pl_st.png', icon_size=(50, 50), icon_anchor=(22, 74), popup_anchor=(-3, -76))\n",
    "Crime_icon = CustomIcon(icon_image = 'Crime_icon.png', icon_size=(75, 55), icon_anchor=(40, 10), popup_anchor=(-3, -76))\n",
    "\n",
    "# Define setting fot the marker to be included in the map\n",
    "Dallas = folium.Marker(location=[32.7767, -96.7970], icon=Police_station_icon, popup='Police Station').add_to(icon_map)\n",
    "Tamu = folium.Marker(location=[30.615220, -96.320502], icon=Crime_icon, popup='Criminal').add_to(icon_map)\n",
    "\n",
    "icon_map"
   ]
  },
  {
   "cell_type": "code",
   "execution_count": 6,
   "id": "9ffdf716",
   "metadata": {},
   "outputs": [],
   "source": [
    "from ipywidgets import widgets\n"
   ]
  },
  {
   "cell_type": "code",
   "execution_count": 7,
   "id": "494b6ace",
   "metadata": {},
   "outputs": [
    {
     "data": {
      "application/vnd.jupyter.widget-view+json": {
       "model_id": "6debe1044af7457ba53485be68bbcc5b",
       "version_major": 2,
       "version_minor": 0
      },
      "text/plain": [
       "Label(value='Enter the Unique_Identity_Code/Phone Number')"
      ]
     },
     "metadata": {},
     "output_type": "display_data"
    },
    {
     "data": {
      "application/vnd.jupyter.widget-view+json": {
       "model_id": "d0c9dc0731de4a76846e45a9d9577ab8",
       "version_major": 2,
       "version_minor": 0
      },
      "text/plain": [
       "Text(value='')"
      ]
     },
     "metadata": {},
     "output_type": "display_data"
    },
    {
     "data": {
      "application/vnd.jupyter.widget-view+json": {
       "model_id": "27d6e6f9cc874534bbc7db3d5f491822",
       "version_major": 2,
       "version_minor": 0
      },
      "text/plain": [
       "Button(description='Enter', style=ButtonStyle())"
      ]
     },
     "metadata": {},
     "output_type": "display_data"
    },
    {
     "data": {
      "application/vnd.jupyter.widget-view+json": {
       "model_id": "06ea86c87ae74b99bf938dbccb456802",
       "version_major": 2,
       "version_minor": 0
      },
      "text/plain": [
       "Label(value='')"
      ]
     },
     "metadata": {},
     "output_type": "display_data"
    },
    {
     "ename": "NameError",
     "evalue": "name 'add' is not defined",
     "output_type": "error",
     "traceback": [
      "\u001b[1;31m---------------------------------------------------------------------------\u001b[0m",
      "\u001b[1;31mNameError\u001b[0m                                 Traceback (most recent call last)",
      "\u001b[1;32m<ipython-input-7-1de79132b4ce>\u001b[0m in \u001b[0;36m<module>\u001b[1;34m\u001b[0m\n\u001b[0;32m     13\u001b[0m \u001b[1;33m\u001b[0m\u001b[0m\n\u001b[0;32m     14\u001b[0m \u001b[1;33m\u001b[0m\u001b[0m\n\u001b[1;32m---> 15\u001b[1;33m \u001b[0mbtn\u001b[0m\u001b[1;33m.\u001b[0m \u001b[0mon_click\u001b[0m\u001b[1;33m(\u001b[0m\u001b[0madd\u001b[0m\u001b[1;33m)\u001b[0m\u001b[1;33m\u001b[0m\u001b[1;33m\u001b[0m\u001b[0m\n\u001b[0m",
      "\u001b[1;31mNameError\u001b[0m: name 'add' is not defined"
     ]
    }
   ],
   "source": [
    "lbl1=widgets. Label('Enter the Unique_Identity_Code/Phone Number' )\n",
    "display (lbl1)\n",
    "text1=widgets.Text()\n",
    "display (text1)\n",
    "\n",
    "btn=widgets.Button(description=\"Enter\")\n",
    "display (btn)\n",
    "lb13=widgets.Label()\n",
    "display (lb13)\n",
    "\n",
    "def submit(b) :\n",
    "    x=int(text1.value)\n",
    "    \n",
    "\n",
    "btn. on_click(add)"
   ]
  },
  {
   "cell_type": "code",
   "execution_count": null,
   "id": "b1248cfa",
   "metadata": {},
   "outputs": [],
   "source": []
  },
  {
   "cell_type": "code",
   "execution_count": null,
   "id": "12903e79",
   "metadata": {},
   "outputs": [],
   "source": []
  },
  {
   "cell_type": "code",
   "execution_count": null,
   "id": "15f6cb58",
   "metadata": {},
   "outputs": [],
   "source": []
  },
  {
   "cell_type": "code",
   "execution_count": null,
   "id": "276a56d5",
   "metadata": {},
   "outputs": [],
   "source": []
  },
  {
   "cell_type": "code",
   "execution_count": null,
   "id": "7035827b",
   "metadata": {},
   "outputs": [],
   "source": []
  },
  {
   "cell_type": "code",
   "execution_count": null,
   "id": "30badbc3",
   "metadata": {},
   "outputs": [],
   "source": []
  },
  {
   "cell_type": "code",
   "execution_count": null,
   "id": "84236e16",
   "metadata": {},
   "outputs": [],
   "source": [
    "import folium\n",
    "from folium import plugins\n",
    "import ipywidgets\n",
    "import geocoder\n",
    "import geopy\n",
    "import pandas as pd\n",
    "import numpy as np\n",
    "#from vega_datasets import data as vds\n",
    "import plotly.express as px\n",
    "import json"
   ]
  },
  {
   "cell_type": "code",
   "execution_count": null,
   "id": "dbe403ad",
   "metadata": {},
   "outputs": [],
   "source": [
    "ut_map = folium.Map(location = [30.316496, 78.032188], zoom_start = 12, control_scale = True)\n",
    "ut_map"
   ]
  },
  {
   "cell_type": "code",
   "execution_count": null,
   "id": "12cf2ebe",
   "metadata": {},
   "outputs": [],
   "source": [
    "\n",
    "ut_map_lc = ut_map\n",
    "\n",
    "folium.raster_layers.TileLayer('Open Street Map').add_to(ut_map_lc)\n",
    "folium.raster_layers.TileLayer('Stamen Terrain').add_to(ut_map_lc)\n",
    "folium.raster_layers.TileLayer('Stamen Toner').add_to(ut_map_lc)\n",
    "folium.raster_layers.TileLayer('Stamen Watercolor').add_to(ut_map_lc)\n",
    "folium.raster_layers.TileLayer('CartoDB Positron').add_to(ut_map_lc)\n",
    "folium.raster_layers.TileLayer('CartoDB Dark_Matter').add_to(ut_map_lc)\n",
    "\n",
    "folium.LayerControl().add_to(ut_map_lc)\n",
    "\n",
    "ut_map_lc"
   ]
  },
  {
   "cell_type": "code",
   "execution_count": null,
   "id": "cef2026f",
   "metadata": {},
   "outputs": [],
   "source": [
    "minimap = plugins.MiniMap(toggle_display = True)\n",
    "\n",
    "ut_map_lc.add_child(minimap)\n",
    "\n",
    "#plugins.ScrollZoomToggler().add_to(ut_map_lc)\n",
    "\n",
    "plugins.Fullscreen(position='bottomright').add_to(ut_map_lc)\n",
    "plugins.Draw(export = True).add_to(ut_map_lc)\n",
    "\n",
    "ut_map_lc"
   ]
  },
  {
   "cell_type": "code",
   "execution_count": null,
   "id": "4c243397",
   "metadata": {},
   "outputs": [],
   "source": [
    "criminal_csv = pd.read_csv(\"Police_Stations_Map.csv\") # read the data\n",
    "criminal_csv.drop('0', axis=1, inplace=True)\n",
    "criminal_csv.head()"
   ]
  },
  {
   "cell_type": "code",
   "execution_count": null,
   "id": "40f0ce13",
   "metadata": {},
   "outputs": [],
   "source": [
    "df_criminal_org = pd.DataFrame(criminal_csv) # transfer to dataframe\n",
    "df_criminal_org.dropna(inplace=True)\n",
    "df_criminal_org"
   ]
  },
  {
   "cell_type": "code",
   "execution_count": null,
   "id": "3e7699d7",
   "metadata": {},
   "outputs": [],
   "source": [
    "'''\n",
    "for(index, row) in df_criminal_org.iterrows():\n",
    "    folium.Marker(location= [row.loc['Latitudes'], row.loc['Longitudes']],\n",
    "                 tooltip = 'click').add_to(ut_map_lc)\n",
    "ut_map_lc\n",
    "'''\n",
    "df_criminal_org.apply(lambda row : folium.Marker(location = [row['Latitudes'], row['Longitudes']],\n",
    "                                            popup = row['Police Stations Under Dehradun District of Uttrakhand'] + ' ' + row['Details'],\n",
    "                                            icon = folium.Icon(icon = 'star empty', color = 'blue', prefix = 'glyphicon')).add_to(ut_map_lc), axis = 1)\n",
    "\n",
    "\n",
    "ut_map_lc\n"
   ]
  },
  {
   "cell_type": "code",
   "execution_count": null,
   "id": "06d3eacf",
   "metadata": {},
   "outputs": [],
   "source": [
    "ut_map_lc.add_child(folium.LatLngPopup())\n",
    "\n",
    "\n",
    "measuring_dist = plugins.MeasureControl(position = 'topleft',\n",
    "                                       active_color = 'indigo',\n",
    "                                       completed_color = 'red',\n",
    "                                       primary_length_unit = 'miles')\n",
    "\n",
    "ut_map_lc.add_child(measuring_dist)\n",
    "ut_map_lc"
   ]
  },
  {
   "cell_type": "code",
   "execution_count": null,
   "id": "12df4868",
   "metadata": {},
   "outputs": [],
   "source": [
    "address_text_box = ipywidgets.Text(value='', placeholder='type here', description='address:')\n",
    "\n",
    "# widget function\n",
    "def plot_locations(address):\n",
    "    # location address\n",
    "    location = geocoder.osm(address)\n",
    "    \n",
    "    # latitude and longitude of location\n",
    "    latlng = [location.lat, location.lng]\n",
    "    \n",
    "    # create map\n",
    "    plot_locations_map = folium.Map(location=[40, -100], zoom_start=4)\n",
    "    \n",
    "    # marker\n",
    "    folium.Marker(latlng, popup=str(address), tooltip='click').add_to(plot_locations_map)\n",
    "    \n",
    "    # display map\n",
    "    display(plot_locations_map)\n",
    "    \n",
    "# interaction between widget and function    \n",
    "ipywidgets.interact_manual(plot_locations, address=address_text_box)\n",
    "\n"
   ]
  },
  {
   "cell_type": "code",
   "execution_count": null,
   "id": "4b94782b",
   "metadata": {},
   "outputs": [],
   "source": [
    "ut_map_1 = folium.Map(location = [30.066753, 79.019300], zoom_start = 8, control_scale = True)\n",
    "\n",
    "AL = geocoder.osm('Almora, Uttarakhand')\n",
    "BA = geocoder.osm('Bageshwar, Uttarakhand')\n",
    "CL = geocoder.osm('Chamoli, Uttarakhand')\n",
    "CP = geocoder.osm('Champawat, Uttarakhand')\n",
    "DD = geocoder.osm('Dehradun, Uttarakhand')\n",
    "HA = geocoder.osm('Haridwar, Uttarakhand')\n",
    "NA = geocoder.osm('Nainital, Uttarakhand')\n",
    "PG = geocoder.osm('Pauri Garhwal, Uttarakhand')\n",
    "PI = geocoder.osm('Pithoragarh, Uttarakhand')\n",
    "RP = geocoder.osm('Rudraprayag, Uttarakhand')\n",
    "TG = geocoder.osm('Tehri Garhwal, Uttarakhand')\n",
    "US = geocoder.osm('Udham Singh Nagar, Uttarakhand')\n",
    "UT = geocoder.osm('Uttarkashi, Uttarakhand')\n",
    "\n",
    "#lat,lon\n",
    "AL_latlon = [AL.lat, AL.lng, 9999999/1000]\n",
    "BA_latlon = [BA.lat, BA.lng, 8888888/1000]\n",
    "CL_latlon = [CL.lat, CL.lng, 7777777/1000]\n",
    "CP_latlon = [CP.lat, CP.lng, 6666666/1000]\n",
    "DD_latlon = [DD.lat, DD.lng, 5555555/1000]\n",
    "HA_latlon = [HA.lat, HA.lng, 4444444/1000]\n",
    "NA_latlon = [NA.lat, NA.lng, 3333333/1000]\n",
    "PG_latlon = [PG.lat, PG.lng, 2222222/1000]\n",
    "PI_latlon = [PI.lat, PI.lng, 1111111/1000]\n",
    "RP_latlon = [RP.lat, RP.lng, 999999/1000]\n",
    "TG_latlon = [TG.lat, TG.lng, 888888/1000]\n",
    "US_latlon = [US.lat, US.lng, 777777/1000]\n",
    "UT_latlon = [UT.lat, UT.lng, 666666/1000]\n",
    "\n",
    "districts_ut = [AL_latlon, BA_latlon, CL_latlon, CP_latlon, DD_latlon, HA_latlon, NA_latlon, PG_latlon, PI_latlon,\n",
    "               RP_latlon, TG_latlon, US_latlon, UT_latlon]\n",
    "plugins.HeatMap(districts_ut, radius = 50).add_to(ut_map_1)\n",
    "\n",
    "ut_map_1"
   ]
  },
  {
   "cell_type": "code",
   "execution_count": null,
   "id": "6e64bf5c",
   "metadata": {},
   "outputs": [],
   "source": [
    "ut_map_test = folium.Map(location = [37.733795, -122.446747], zoom_start = 12, control_scale = True)\n",
    "x = folium.Marker(location = [37.733795, -122.446747],\n",
    "                                            icon = folium.Icon(icon = 'star empty', color = 'green', prefix = 'glyphicon'))"
   ]
  },
  {
   "cell_type": "code",
   "execution_count": null,
   "id": "159691bb",
   "metadata": {},
   "outputs": [],
   "source": [
    "ut_map_test"
   ]
  },
  {
   "cell_type": "code",
   "execution_count": null,
   "id": "6f0f9074",
   "metadata": {},
   "outputs": [],
   "source": [
    "\n",
    "ut_map_test.get_root().html.add_child(folium.Element(\n",
    "\"\"\"\n",
    "<div style=\"position: fixed; \n",
    "     top: 50px; left: 70px; width: 150px; height: 70px; \n",
    "     background-color:orange; border:2px solid grey;z-index: 900;\">\n",
    "    <ul id=\"myUL\">\n",
    "  <li><a href=\"#\">Adele</a></li>\n",
    "  <li><a href=\"#\">Agnes</a></li>\n",
    "\n",
    "  <li><a href=\"#\">Billy</a></li>\n",
    "  <li><a href=\"#\">Bob</a></li>\n",
    "\n",
    "  <li><a href=\"#\">Calvin</a></li>\n",
    "  <li><a href=\"#\">Christina</a></li>\n",
    "  <li><a href=\"#\">Cindy</a></li>\n",
    "</ul> \n",
    "</div>\n",
    "\"\"\"))\n",
    "ut_map_test.save('map_2.html')\n"
   ]
  },
  {
   "cell_type": "code",
   "execution_count": null,
   "id": "3b19accb",
   "metadata": {},
   "outputs": [],
   "source": []
  },
  {
   "cell_type": "code",
   "execution_count": null,
   "id": "01517c8c",
   "metadata": {},
   "outputs": [],
   "source": []
  },
  {
   "cell_type": "code",
   "execution_count": null,
   "id": "7dae5743",
   "metadata": {},
   "outputs": [],
   "source": []
  },
  {
   "cell_type": "code",
   "execution_count": null,
   "id": "be6fd1a9",
   "metadata": {},
   "outputs": [],
   "source": []
  },
  {
   "cell_type": "code",
   "execution_count": null,
   "id": "8f5fddf8",
   "metadata": {},
   "outputs": [],
   "source": []
  },
  {
   "cell_type": "code",
   "execution_count": null,
   "id": "b10c7f0b",
   "metadata": {},
   "outputs": [],
   "source": []
  },
  {
   "cell_type": "code",
   "execution_count": null,
   "id": "15b30a91",
   "metadata": {},
   "outputs": [],
   "source": [
    "import folium\n",
    "from folium import plugins\n",
    "import ipywidgets\n",
    "import geocoder\n",
    "import geopy\n",
    "import pandas as pd\n",
    "import numpy as np\n",
    "#from vega_datasets import data as vds\n",
    "import plotly.express as px\n",
    "import json"
   ]
  },
  {
   "cell_type": "code",
   "execution_count": null,
   "id": "8364e8fe",
   "metadata": {},
   "outputs": [],
   "source": [
    "ut_map = folium.Map(location = [37.733795, -122.446747], zoom_start = 12, control_scale = True)\n",
    "ut_map"
   ]
  },
  {
   "cell_type": "code",
   "execution_count": 8,
   "id": "f5135b1f",
   "metadata": {},
   "outputs": [
    {
     "ename": "NameError",
     "evalue": "name 'plugins' is not defined",
     "output_type": "error",
     "traceback": [
      "\u001b[1;31m---------------------------------------------------------------------------\u001b[0m",
      "\u001b[1;31mNameError\u001b[0m                                 Traceback (most recent call last)",
      "\u001b[1;32m<ipython-input-8-926112a00cc6>\u001b[0m in \u001b[0;36m<module>\u001b[1;34m\u001b[0m\n\u001b[1;32m----> 1\u001b[1;33m \u001b[0mminimap\u001b[0m \u001b[1;33m=\u001b[0m \u001b[0mplugins\u001b[0m\u001b[1;33m.\u001b[0m\u001b[0mMiniMap\u001b[0m\u001b[1;33m(\u001b[0m\u001b[0mtoggle_display\u001b[0m \u001b[1;33m=\u001b[0m \u001b[1;32mTrue\u001b[0m\u001b[1;33m)\u001b[0m\u001b[1;33m\u001b[0m\u001b[1;33m\u001b[0m\u001b[0m\n\u001b[0m\u001b[0;32m      2\u001b[0m \u001b[1;33m\u001b[0m\u001b[0m\n\u001b[0;32m      3\u001b[0m \u001b[0mut_map_lc\u001b[0m\u001b[1;33m.\u001b[0m\u001b[0madd_child\u001b[0m\u001b[1;33m(\u001b[0m\u001b[0mminimap\u001b[0m\u001b[1;33m)\u001b[0m\u001b[1;33m\u001b[0m\u001b[1;33m\u001b[0m\u001b[0m\n\u001b[0;32m      4\u001b[0m \u001b[1;33m\u001b[0m\u001b[0m\n\u001b[0;32m      5\u001b[0m \u001b[1;31m#plugins.ScrollZoomToggler().add_to(ut_map_lc)\u001b[0m\u001b[1;33m\u001b[0m\u001b[1;33m\u001b[0m\u001b[1;33m\u001b[0m\u001b[0m\n",
      "\u001b[1;31mNameError\u001b[0m: name 'plugins' is not defined"
     ]
    }
   ],
   "source": [
    "minimap = plugins.MiniMap(toggle_display = True)\n",
    "\n",
    "ut_map_lc.add_child(minimap)\n",
    "\n",
    "#plugins.ScrollZoomToggler().add_to(ut_map_lc)\n",
    "\n",
    "plugins.Fullscreen(position='bottomright').add_to(ut_map_lc)\n",
    "plugins.Draw(export = True).add_to(ut_map_lc)\n",
    "\n",
    "ut_map_lc"
   ]
  },
  {
   "cell_type": "code",
   "execution_count": null,
   "id": "0aa2a234",
   "metadata": {},
   "outputs": [],
   "source": [
    "criminal_csv = pd.read_csv(\"small_data_algo.csv\") # read the data\n",
    "\n",
    "criminal_csv_1 = criminal_csv.iloc[:4]\n",
    "criminal_csv_1"
   ]
  },
  {
   "cell_type": "code",
   "execution_count": null,
   "id": "bf2507e8",
   "metadata": {},
   "outputs": [],
   "source": [
    "df_criminal_org = pd.DataFrame(criminal_csv_1) # transfer to dataframe\n",
    "df_criminal_org.dropna(inplace=True)\n",
    "df_criminal_org"
   ]
  },
  {
   "cell_type": "code",
   "execution_count": 9,
   "id": "4e0b0d33",
   "metadata": {},
   "outputs": [
    {
     "ename": "NameError",
     "evalue": "name 'df_criminal_org' is not defined",
     "output_type": "error",
     "traceback": [
      "\u001b[1;31m---------------------------------------------------------------------------\u001b[0m",
      "\u001b[1;31mNameError\u001b[0m                                 Traceback (most recent call last)",
      "\u001b[1;32m<ipython-input-9-de093731f621>\u001b[0m in \u001b[0;36m<module>\u001b[1;34m\u001b[0m\n\u001b[1;32m----> 1\u001b[1;33m \u001b[0mlist_1\u001b[0m \u001b[1;33m=\u001b[0m \u001b[0mdf_criminal_org\u001b[0m\u001b[1;33m[\u001b[0m\u001b[1;34m'Latitude'\u001b[0m\u001b[1;33m]\u001b[0m\u001b[1;33m[\u001b[0m\u001b[1;36m0\u001b[0m\u001b[1;33m]\u001b[0m\u001b[1;33m\u001b[0m\u001b[1;33m\u001b[0m\u001b[0m\n\u001b[0m\u001b[0;32m      2\u001b[0m \u001b[0mlist_2\u001b[0m \u001b[1;33m=\u001b[0m \u001b[0mdf_criminal_org\u001b[0m\u001b[1;33m[\u001b[0m\u001b[1;34m'Longitude'\u001b[0m\u001b[1;33m]\u001b[0m\u001b[1;33m[\u001b[0m\u001b[1;36m0\u001b[0m\u001b[1;33m]\u001b[0m\u001b[1;33m\u001b[0m\u001b[1;33m\u001b[0m\u001b[0m\n\u001b[0;32m      3\u001b[0m \u001b[0mlist_1\u001b[0m\u001b[1;33m\u001b[0m\u001b[1;33m\u001b[0m\u001b[0m\n",
      "\u001b[1;31mNameError\u001b[0m: name 'df_criminal_org' is not defined"
     ]
    }
   ],
   "source": [
    "list_1 = df_criminal_org['Latitude'][0]\n",
    "list_2 = df_criminal_org['Longitude'][0]\n",
    "list_1"
   ]
  },
  {
   "cell_type": "code",
   "execution_count": 10,
   "id": "2b5ec4d4",
   "metadata": {},
   "outputs": [
    {
     "ename": "NameError",
     "evalue": "name 'df_criminal_org' is not defined",
     "output_type": "error",
     "traceback": [
      "\u001b[1;31m---------------------------------------------------------------------------\u001b[0m",
      "\u001b[1;31mNameError\u001b[0m                                 Traceback (most recent call last)",
      "\u001b[1;32m<ipython-input-10-e952e5c3a83d>\u001b[0m in \u001b[0;36m<module>\u001b[1;34m\u001b[0m\n\u001b[0;32m      2\u001b[0m \u001b[0mx\u001b[0m \u001b[1;33m=\u001b[0m \u001b[1;33m[\u001b[0m\u001b[1;33m]\u001b[0m\u001b[1;33m\u001b[0m\u001b[1;33m\u001b[0m\u001b[0m\n\u001b[0;32m      3\u001b[0m \u001b[1;32mfor\u001b[0m \u001b[0mi\u001b[0m \u001b[1;32min\u001b[0m \u001b[0mrange\u001b[0m\u001b[1;33m(\u001b[0m\u001b[1;36m4\u001b[0m\u001b[1;33m)\u001b[0m\u001b[1;33m:\u001b[0m\u001b[1;33m\u001b[0m\u001b[1;33m\u001b[0m\u001b[0m\n\u001b[1;32m----> 4\u001b[1;33m     x = folium.Marker(location = [df_criminal_org['Latitude'][i], df_criminal_org['Longitude'][i]],\n\u001b[0m\u001b[0;32m      5\u001b[0m                                             icon = folium.Icon(icon = 'star empty', color = 'green', prefix = 'glyphicon'))\n\u001b[0;32m      6\u001b[0m     \u001b[0mx\u001b[0m\u001b[1;33m.\u001b[0m\u001b[0madd_to\u001b[0m\u001b[1;33m(\u001b[0m\u001b[0mut_map_test_1\u001b[0m\u001b[1;33m)\u001b[0m\u001b[1;33m\u001b[0m\u001b[1;33m\u001b[0m\u001b[0m\n",
      "\u001b[1;31mNameError\u001b[0m: name 'df_criminal_org' is not defined"
     ]
    }
   ],
   "source": [
    "ut_map_test_1 = folium.Map(location = [37.733795, -122.446747], zoom_start = 12, control_scale = True)\n",
    "x = []\n",
    "for i in range(4):\n",
    "    x = folium.Marker(location = [df_criminal_org['Latitude'][i], df_criminal_org['Longitude'][i]],\n",
    "                                            icon = folium.Icon(icon = 'star empty', color = 'green', prefix = 'glyphicon'))\n",
    "    x.add_to(ut_map_test_1)\n",
    "    print(x)\n",
    "ut_map_test_1"
   ]
  },
  {
   "cell_type": "code",
   "execution_count": null,
   "id": "fec75341",
   "metadata": {},
   "outputs": [],
   "source": [
    "y = folium.Icon(icon = 'star empty', color = 'green', prefix = 'glyphicon')\n",
    "z = folium.Icon(icon = 'star empty', color = 'red', prefix = 'glyphicon')"
   ]
  },
  {
   "cell_type": "code",
   "execution_count": null,
   "id": "d2880599",
   "metadata": {},
   "outputs": [],
   "source": [
    "df_criminal_org['Penal Code']\n",
    "df_criminal_org['Penal Code'].value_counts()"
   ]
  },
  {
   "cell_type": "code",
   "execution_count": 11,
   "id": "5ff47ffa",
   "metadata": {},
   "outputs": [
    {
     "name": "stdout",
     "output_type": "stream",
     "text": [
      "Enter the Incident_ID: \n"
     ]
    },
    {
     "ename": "ValueError",
     "evalue": "invalid literal for int() with base 10: ''",
     "output_type": "error",
     "traceback": [
      "\u001b[1;31m---------------------------------------------------------------------------\u001b[0m",
      "\u001b[1;31mValueError\u001b[0m                                Traceback (most recent call last)",
      "\u001b[1;32m<ipython-input-11-008b45f7a7d4>\u001b[0m in \u001b[0;36m<module>\u001b[1;34m\u001b[0m\n\u001b[1;32m----> 1\u001b[1;33m \u001b[0mIncident_ID_2\u001b[0m \u001b[1;33m=\u001b[0m \u001b[0mint\u001b[0m\u001b[1;33m(\u001b[0m\u001b[0minput\u001b[0m\u001b[1;33m(\u001b[0m\u001b[1;34m\"Enter the Incident_ID: \"\u001b[0m\u001b[1;33m)\u001b[0m\u001b[1;33m)\u001b[0m\u001b[1;33m\u001b[0m\u001b[1;33m\u001b[0m\u001b[0m\n\u001b[0m\u001b[0;32m      2\u001b[0m \u001b[1;32mif\u001b[0m \u001b[1;33m(\u001b[0m\u001b[0mdf_criminal_org\u001b[0m\u001b[1;33m[\u001b[0m\u001b[1;34m\"Incident ID\"\u001b[0m\u001b[1;33m]\u001b[0m \u001b[1;33m==\u001b[0m \u001b[0mIncident_ID_2\u001b[0m\u001b[1;33m)\u001b[0m \u001b[1;32mis\u001b[0m \u001b[1;32mTrue\u001b[0m\u001b[1;33m:\u001b[0m\u001b[1;33m\u001b[0m\u001b[1;33m\u001b[0m\u001b[0m\n\u001b[0;32m      3\u001b[0m     \u001b[0mdf_criminal_org_2\u001b[0m \u001b[1;33m=\u001b[0m \u001b[1;33m(\u001b[0m\u001b[0mdf_criminal_org\u001b[0m\u001b[1;33m[\u001b[0m\u001b[1;34m\"Incident ID\"\u001b[0m\u001b[1;33m]\u001b[0m \u001b[1;33m==\u001b[0m \u001b[0mIncident_ID_2\u001b[0m\u001b[1;33m)\u001b[0m\u001b[1;33m\u001b[0m\u001b[1;33m\u001b[0m\u001b[0m\n\u001b[0;32m      4\u001b[0m     \u001b[0mx\u001b[0m \u001b[1;33m=\u001b[0m \u001b[1;33m[\u001b[0m\u001b[1;33m]\u001b[0m\u001b[1;33m\u001b[0m\u001b[1;33m\u001b[0m\u001b[0m\n\u001b[0;32m      5\u001b[0m     \u001b[1;32mfor\u001b[0m \u001b[0mi\u001b[0m \u001b[1;32min\u001b[0m \u001b[0mdf_criminal_org\u001b[0m\u001b[1;33m[\u001b[0m\u001b[0mindex\u001b[0m\u001b[1;33m]\u001b[0m\u001b[1;33m:\u001b[0m\u001b[1;33m\u001b[0m\u001b[1;33m\u001b[0m\u001b[0m\n",
      "\u001b[1;31mValueError\u001b[0m: invalid literal for int() with base 10: ''"
     ]
    }
   ],
   "source": [
    "\n",
    "Incident_ID_2 = int(input(\"Enter the Incident_ID: \"))\n",
    "if (df_criminal_org[\"Incident ID\"] == Incident_ID_2) is True:\n",
    "    df_criminal_org_2 = (df_criminal_org[\"Incident ID\"] == Incident_ID_2)\n",
    "    x = []\n",
    "    for i in df_criminal_org[index]:\n",
    " \n",
    "        x = folium.Marker(location = [df_criminal_org_2['Latitude'][i], df_criminal_org_2['Longitude'][i]],\n",
    "                                            icon = y)\n",
    "        x.add_to(ut_map_test_1)\n",
    "    print(x)\n",
    "ut_map_test_1\n"
   ]
  },
  {
   "cell_type": "code",
   "execution_count": null,
   "id": "4fa9dd88",
   "metadata": {},
   "outputs": [],
   "source": [
    "df_criminal_org['Crimes']\n",
    "df_criminal_org['Crimes'].value_counts()"
   ]
  },
  {
   "cell_type": "code",
   "execution_count": null,
   "id": "49603e42",
   "metadata": {},
   "outputs": [],
   "source": [
    "'''\n",
    "for(index, row) in df_criminal.iterrows():\n",
    "    folium.Marker(location= [row.loc['Latitude'], row.loc['Longitude']],\n",
    "                 tooltip = 'click').add_to(ut_map_lc)\n",
    "ut_map_lc\n",
    "'''\n",
    "df_criminal_org.apply(lambda row : folium.Marker(location = [row['Latitude'], row['Longitude']],\n",
    "                                            popup = row['Incident Description'],\n",
    "                                            icon = folium.Icon(icon = 'star empty', color = 'green', prefix = 'glyphicon')).add_to(ut_map_lc), axis = 1)\n",
    "\n",
    "\n",
    "ut_map_lc"
   ]
  },
  {
   "cell_type": "code",
   "execution_count": 12,
   "id": "363ac1c3",
   "metadata": {},
   "outputs": [
    {
     "ename": "NameError",
     "evalue": "name 'ut_map_lc' is not defined",
     "output_type": "error",
     "traceback": [
      "\u001b[1;31m---------------------------------------------------------------------------\u001b[0m",
      "\u001b[1;31mNameError\u001b[0m                                 Traceback (most recent call last)",
      "\u001b[1;32m<ipython-input-12-0b271388dc26>\u001b[0m in \u001b[0;36m<module>\u001b[1;34m\u001b[0m\n\u001b[1;32m----> 1\u001b[1;33m \u001b[0mut_map_lc\u001b[0m\u001b[1;33m.\u001b[0m\u001b[0madd_child\u001b[0m\u001b[1;33m(\u001b[0m\u001b[0mfolium\u001b[0m\u001b[1;33m.\u001b[0m\u001b[0mLatLngPopup\u001b[0m\u001b[1;33m(\u001b[0m\u001b[1;33m)\u001b[0m\u001b[1;33m)\u001b[0m\u001b[1;33m\u001b[0m\u001b[1;33m\u001b[0m\u001b[0m\n\u001b[0m\u001b[0;32m      2\u001b[0m \u001b[1;33m\u001b[0m\u001b[0m\n\u001b[0;32m      3\u001b[0m \u001b[1;33m\u001b[0m\u001b[0m\n\u001b[0;32m      4\u001b[0m measuring_dist = plugins.MeasureControl(position = 'topleft',\n\u001b[0;32m      5\u001b[0m                                        \u001b[0mactive_color\u001b[0m \u001b[1;33m=\u001b[0m \u001b[1;34m'indigo'\u001b[0m\u001b[1;33m,\u001b[0m\u001b[1;33m\u001b[0m\u001b[1;33m\u001b[0m\u001b[0m\n",
      "\u001b[1;31mNameError\u001b[0m: name 'ut_map_lc' is not defined"
     ]
    }
   ],
   "source": [
    "ut_map_lc.add_child(folium.LatLngPopup())\n",
    "\n",
    "\n",
    "measuring_dist = plugins.MeasureControl(position = 'topleft',\n",
    "                                       active_color = 'indigo',\n",
    "                                       completed_color = 'red',\n",
    "                                       primary_length_unit = 'miles')\n",
    "\n",
    "ut_map_lc.add_child(measuring_dist)\n",
    "ut_map_lc"
   ]
  },
  {
   "cell_type": "code",
   "execution_count": null,
   "id": "bbe8c0f8",
   "metadata": {},
   "outputs": [],
   "source": [
    "ut_map_test_1 = ut_map_lc\n"
   ]
  },
  {
   "cell_type": "code",
   "execution_count": 13,
   "id": "3f5ae224",
   "metadata": {},
   "outputs": [
    {
     "ename": "NameError",
     "evalue": "name 'ipywidgets' is not defined",
     "output_type": "error",
     "traceback": [
      "\u001b[1;31m---------------------------------------------------------------------------\u001b[0m",
      "\u001b[1;31mNameError\u001b[0m                                 Traceback (most recent call last)",
      "\u001b[1;32m<ipython-input-13-60e4c3ca61e2>\u001b[0m in \u001b[0;36m<module>\u001b[1;34m\u001b[0m\n\u001b[1;32m----> 1\u001b[1;33m \u001b[0maddress_text_box\u001b[0m \u001b[1;33m=\u001b[0m \u001b[0mipywidgets\u001b[0m\u001b[1;33m.\u001b[0m\u001b[0mText\u001b[0m\u001b[1;33m(\u001b[0m\u001b[0mvalue\u001b[0m\u001b[1;33m=\u001b[0m\u001b[1;34m''\u001b[0m\u001b[1;33m,\u001b[0m \u001b[0mplaceholder\u001b[0m\u001b[1;33m=\u001b[0m\u001b[1;34m'type here'\u001b[0m\u001b[1;33m,\u001b[0m \u001b[0mdescription\u001b[0m\u001b[1;33m=\u001b[0m\u001b[1;34m'address:'\u001b[0m\u001b[1;33m)\u001b[0m\u001b[1;33m\u001b[0m\u001b[1;33m\u001b[0m\u001b[0m\n\u001b[0m\u001b[0;32m      2\u001b[0m \u001b[1;33m\u001b[0m\u001b[0m\n\u001b[0;32m      3\u001b[0m \u001b[1;31m# widget function\u001b[0m\u001b[1;33m\u001b[0m\u001b[1;33m\u001b[0m\u001b[1;33m\u001b[0m\u001b[0m\n\u001b[0;32m      4\u001b[0m \u001b[1;32mdef\u001b[0m \u001b[0mplot_locations\u001b[0m\u001b[1;33m(\u001b[0m\u001b[0maddress\u001b[0m\u001b[1;33m)\u001b[0m\u001b[1;33m:\u001b[0m\u001b[1;33m\u001b[0m\u001b[1;33m\u001b[0m\u001b[0m\n\u001b[0;32m      5\u001b[0m     \u001b[1;31m# location address\u001b[0m\u001b[1;33m\u001b[0m\u001b[1;33m\u001b[0m\u001b[1;33m\u001b[0m\u001b[0m\n",
      "\u001b[1;31mNameError\u001b[0m: name 'ipywidgets' is not defined"
     ]
    }
   ],
   "source": [
    "address_text_box = ipywidgets.Text(value='', placeholder='type here', description='address:')\n",
    "\n",
    "# widget function\n",
    "def plot_locations(address):\n",
    "    # location address\n",
    "    location = geocoder.osm(address)\n",
    "    \n",
    "    # latitude and longitude of location\n",
    "    latlng = [location.lat, location.lng]\n",
    "    \n",
    "    # create map\n",
    "    plot_locations_map = folium.Map(location=[40, -100], zoom_start=4)\n",
    "    \n",
    "    # marker\n",
    "    folium.Marker(latlng, popup=str(address), tooltip='click').add_to(plot_locations_map)\n",
    "    \n",
    "    # display map\n",
    "    display(plot_locations_map)\n",
    "    \n",
    "# interaction between widget and function    \n",
    "ipywidgets.interact_manual(plot_locations, address=address_text_box)\n",
    "\n"
   ]
  },
  {
   "cell_type": "code",
   "execution_count": null,
   "id": "706b4f2a",
   "metadata": {},
   "outputs": [],
   "source": [
    "ut_map_1 = folium.Map(location = [30.066753, 79.019300], zoom_start = 8, control_scale = True)\n",
    "\n",
    "AL = geocoder.osm('Almora, Uttarakhand')\n",
    "BA = geocoder.osm('Bageshwar, Uttarakhand')\n",
    "CL = geocoder.osm('Chamoli, Uttarakhand')\n",
    "CP = geocoder.osm('Champawat, Uttarakhand')\n",
    "DD = geocoder.osm('Dehradun, Uttarakhand')\n",
    "HA = geocoder.osm('Haridwar, Uttarakhand')\n",
    "NA = geocoder.osm('Nainital, Uttarakhand')\n",
    "PG = geocoder.osm('Pauri Garhwal, Uttarakhand')\n",
    "PI = geocoder.osm('Pithoragarh, Uttarakhand')\n",
    "RP = geocoder.osm('Rudraprayag, Uttarakhand')\n",
    "TG = geocoder.osm('Tehri Garhwal, Uttarakhand')\n",
    "US = geocoder.osm('Udham Singh Nagar, Uttarakhand')\n",
    "UT = geocoder.osm('Uttarkashi, Uttarakhand')\n",
    "\n",
    "#lat,lon\n",
    "AL_latlon = [AL.lat, AL.lng, 9999999/1000]\n",
    "BA_latlon = [BA.lat, BA.lng, 8888888/1000]\n",
    "CL_latlon = [CL.lat, CL.lng, 7777777/1000]\n",
    "CP_latlon = [CP.lat, CP.lng, 6666666/1000]\n",
    "DD_latlon = [DD.lat, DD.lng, 5555555/1000]\n",
    "HA_latlon = [HA.lat, HA.lng, 4444444/1000]\n",
    "NA_latlon = [NA.lat, NA.lng, 3333333/1000]\n",
    "PG_latlon = [PG.lat, PG.lng, 2222222/1000]\n",
    "PI_latlon = [PI.lat, PI.lng, 1111111/1000]\n",
    "RP_latlon = [RP.lat, RP.lng, 999999/1000]\n",
    "TG_latlon = [TG.lat, TG.lng, 888888/1000]\n",
    "US_latlon = [US.lat, US.lng, 777777/1000]\n",
    "UT_latlon = [UT.lat, UT.lng, 666666/1000]\n",
    "\n",
    "districts_ut = [AL_latlon, BA_latlon, CL_latlon, CP_latlon, DD_latlon, HA_latlon, NA_latlon, PG_latlon, PI_latlon,\n",
    "               RP_latlon, TG_latlon, US_latlon, UT_latlon]\n",
    "plugins.HeatMap(districts_ut, radius = 50).add_to(ut_map_1)\n",
    "\n",
    "ut_map_1"
   ]
  },
  {
   "cell_type": "code",
   "execution_count": 14,
   "id": "d6db7d68",
   "metadata": {},
   "outputs": [
    {
     "data": {
      "text/plain": [
       "<folium.map.Marker at 0x1cd5728c940>"
      ]
     },
     "execution_count": 14,
     "metadata": {},
     "output_type": "execute_result"
    }
   ],
   "source": [
    "y = 1\n",
    "if y == 1:\n",
    "    x = folium.Marker(location = [37.733795, -122.446747],\n",
    "                                            icon = folium.Icon(icon = 'star empty', color = 'red', prefix = 'glyphicon'))\n",
    "x.add_to(ut_map_test_1)"
   ]
  },
  {
   "cell_type": "code",
   "execution_count": 15,
   "id": "0f61af9b",
   "metadata": {},
   "outputs": [
    {
     "data": {
      "text/html": [
       "<div style=\"width:100%;\"><div style=\"position:relative;width:100%;height:0;padding-bottom:60%;\"><span style=\"color:#565656\">Make this Notebook Trusted to load map: File -> Trust Notebook</span><iframe src=\"about:blank\" style=\"position:absolute;width:100%;height:100%;left:0;top:0;border:none !important;\" data-html=%3C%21DOCTYPE%20html%3E%0A%3Chead%3E%20%20%20%20%0A%20%20%20%20%3Cmeta%20http-equiv%3D%22content-type%22%20content%3D%22text/html%3B%20charset%3DUTF-8%22%20/%3E%0A%20%20%20%20%0A%20%20%20%20%20%20%20%20%3Cscript%3E%0A%20%20%20%20%20%20%20%20%20%20%20%20L_NO_TOUCH%20%3D%20false%3B%0A%20%20%20%20%20%20%20%20%20%20%20%20L_DISABLE_3D%20%3D%20false%3B%0A%20%20%20%20%20%20%20%20%3C/script%3E%0A%20%20%20%20%0A%20%20%20%20%3Cstyle%3Ehtml%2C%20body%20%7Bwidth%3A%20100%25%3Bheight%3A%20100%25%3Bmargin%3A%200%3Bpadding%3A%200%3B%7D%3C/style%3E%0A%20%20%20%20%3Cstyle%3E%23map%20%7Bposition%3Aabsolute%3Btop%3A0%3Bbottom%3A0%3Bright%3A0%3Bleft%3A0%3B%7D%3C/style%3E%0A%20%20%20%20%3Cscript%20src%3D%22https%3A//cdn.jsdelivr.net/npm/leaflet%401.6.0/dist/leaflet.js%22%3E%3C/script%3E%0A%20%20%20%20%3Cscript%20src%3D%22https%3A//code.jquery.com/jquery-1.12.4.min.js%22%3E%3C/script%3E%0A%20%20%20%20%3Cscript%20src%3D%22https%3A//maxcdn.bootstrapcdn.com/bootstrap/3.2.0/js/bootstrap.min.js%22%3E%3C/script%3E%0A%20%20%20%20%3Cscript%20src%3D%22https%3A//cdnjs.cloudflare.com/ajax/libs/Leaflet.awesome-markers/2.0.2/leaflet.awesome-markers.js%22%3E%3C/script%3E%0A%20%20%20%20%3Clink%20rel%3D%22stylesheet%22%20href%3D%22https%3A//cdn.jsdelivr.net/npm/leaflet%401.6.0/dist/leaflet.css%22/%3E%0A%20%20%20%20%3Clink%20rel%3D%22stylesheet%22%20href%3D%22https%3A//maxcdn.bootstrapcdn.com/bootstrap/3.2.0/css/bootstrap.min.css%22/%3E%0A%20%20%20%20%3Clink%20rel%3D%22stylesheet%22%20href%3D%22https%3A//maxcdn.bootstrapcdn.com/bootstrap/3.2.0/css/bootstrap-theme.min.css%22/%3E%0A%20%20%20%20%3Clink%20rel%3D%22stylesheet%22%20href%3D%22https%3A//maxcdn.bootstrapcdn.com/font-awesome/4.6.3/css/font-awesome.min.css%22/%3E%0A%20%20%20%20%3Clink%20rel%3D%22stylesheet%22%20href%3D%22https%3A//cdnjs.cloudflare.com/ajax/libs/Leaflet.awesome-markers/2.0.2/leaflet.awesome-markers.css%22/%3E%0A%20%20%20%20%3Clink%20rel%3D%22stylesheet%22%20href%3D%22https%3A//cdn.jsdelivr.net/gh/python-visualization/folium/folium/templates/leaflet.awesome.rotate.min.css%22/%3E%0A%20%20%20%20%0A%20%20%20%20%20%20%20%20%20%20%20%20%3Cmeta%20name%3D%22viewport%22%20content%3D%22width%3Ddevice-width%2C%0A%20%20%20%20%20%20%20%20%20%20%20%20%20%20%20%20initial-scale%3D1.0%2C%20maximum-scale%3D1.0%2C%20user-scalable%3Dno%22%20/%3E%0A%20%20%20%20%20%20%20%20%20%20%20%20%3Cstyle%3E%0A%20%20%20%20%20%20%20%20%20%20%20%20%20%20%20%20%23map_2687eff2d61944ca9e72f104165f73a0%20%7B%0A%20%20%20%20%20%20%20%20%20%20%20%20%20%20%20%20%20%20%20%20position%3A%20relative%3B%0A%20%20%20%20%20%20%20%20%20%20%20%20%20%20%20%20%20%20%20%20width%3A%20100.0%25%3B%0A%20%20%20%20%20%20%20%20%20%20%20%20%20%20%20%20%20%20%20%20height%3A%20100.0%25%3B%0A%20%20%20%20%20%20%20%20%20%20%20%20%20%20%20%20%20%20%20%20left%3A%200.0%25%3B%0A%20%20%20%20%20%20%20%20%20%20%20%20%20%20%20%20%20%20%20%20top%3A%200.0%25%3B%0A%20%20%20%20%20%20%20%20%20%20%20%20%20%20%20%20%7D%0A%20%20%20%20%20%20%20%20%20%20%20%20%3C/style%3E%0A%20%20%20%20%20%20%20%20%0A%3C/head%3E%0A%3Cbody%3E%20%20%20%20%0A%20%20%20%20%0A%20%20%20%20%20%20%20%20%20%20%20%20%3Cdiv%20class%3D%22folium-map%22%20id%3D%22map_2687eff2d61944ca9e72f104165f73a0%22%20%3E%3C/div%3E%0A%20%20%20%20%20%20%20%20%0A%3C/body%3E%0A%3Cscript%3E%20%20%20%20%0A%20%20%20%20%0A%20%20%20%20%20%20%20%20%20%20%20%20var%20map_2687eff2d61944ca9e72f104165f73a0%20%3D%20L.map%28%0A%20%20%20%20%20%20%20%20%20%20%20%20%20%20%20%20%22map_2687eff2d61944ca9e72f104165f73a0%22%2C%0A%20%20%20%20%20%20%20%20%20%20%20%20%20%20%20%20%7B%0A%20%20%20%20%20%20%20%20%20%20%20%20%20%20%20%20%20%20%20%20center%3A%20%5B37.733795%2C%20-122.446747%5D%2C%0A%20%20%20%20%20%20%20%20%20%20%20%20%20%20%20%20%20%20%20%20crs%3A%20L.CRS.EPSG3857%2C%0A%20%20%20%20%20%20%20%20%20%20%20%20%20%20%20%20%20%20%20%20zoom%3A%2012%2C%0A%20%20%20%20%20%20%20%20%20%20%20%20%20%20%20%20%20%20%20%20zoomControl%3A%20true%2C%0A%20%20%20%20%20%20%20%20%20%20%20%20%20%20%20%20%20%20%20%20preferCanvas%3A%20false%2C%0A%20%20%20%20%20%20%20%20%20%20%20%20%20%20%20%20%7D%0A%20%20%20%20%20%20%20%20%20%20%20%20%29%3B%0A%20%20%20%20%20%20%20%20%20%20%20%20L.control.scale%28%29.addTo%28map_2687eff2d61944ca9e72f104165f73a0%29%3B%0A%0A%20%20%20%20%20%20%20%20%20%20%20%20%0A%0A%20%20%20%20%20%20%20%20%0A%20%20%20%20%0A%20%20%20%20%20%20%20%20%20%20%20%20var%20tile_layer_e24b518ab96849ebba6f5c95bec6ab9a%20%3D%20L.tileLayer%28%0A%20%20%20%20%20%20%20%20%20%20%20%20%20%20%20%20%22https%3A//%7Bs%7D.tile.openstreetmap.org/%7Bz%7D/%7Bx%7D/%7By%7D.png%22%2C%0A%20%20%20%20%20%20%20%20%20%20%20%20%20%20%20%20%7B%22attribution%22%3A%20%22Data%20by%20%5Cu0026copy%3B%20%5Cu003ca%20href%3D%5C%22http%3A//openstreetmap.org%5C%22%5Cu003eOpenStreetMap%5Cu003c/a%5Cu003e%2C%20under%20%5Cu003ca%20href%3D%5C%22http%3A//www.openstreetmap.org/copyright%5C%22%5Cu003eODbL%5Cu003c/a%5Cu003e.%22%2C%20%22detectRetina%22%3A%20false%2C%20%22maxNativeZoom%22%3A%2018%2C%20%22maxZoom%22%3A%2018%2C%20%22minZoom%22%3A%200%2C%20%22noWrap%22%3A%20false%2C%20%22opacity%22%3A%201%2C%20%22subdomains%22%3A%20%22abc%22%2C%20%22tms%22%3A%20false%7D%0A%20%20%20%20%20%20%20%20%20%20%20%20%29.addTo%28map_2687eff2d61944ca9e72f104165f73a0%29%3B%0A%20%20%20%20%20%20%20%20%0A%20%20%20%20%0A%20%20%20%20%20%20%20%20%20%20%20%20var%20marker_96cf02bef1834496be20178088d0873a%20%3D%20L.marker%28%0A%20%20%20%20%20%20%20%20%20%20%20%20%20%20%20%20%5B37.733795%2C%20-122.446747%5D%2C%0A%20%20%20%20%20%20%20%20%20%20%20%20%20%20%20%20%7B%7D%0A%20%20%20%20%20%20%20%20%20%20%20%20%29.addTo%28map_2687eff2d61944ca9e72f104165f73a0%29%3B%0A%20%20%20%20%20%20%20%20%0A%20%20%20%20%0A%20%20%20%20%20%20%20%20%20%20%20%20var%20icon_312aeccc22ed4048925741c94688ad04%20%3D%20L.AwesomeMarkers.icon%28%0A%20%20%20%20%20%20%20%20%20%20%20%20%20%20%20%20%7B%22extraClasses%22%3A%20%22fa-rotate-0%22%2C%20%22icon%22%3A%20%22star%20empty%22%2C%20%22iconColor%22%3A%20%22white%22%2C%20%22markerColor%22%3A%20%22red%22%2C%20%22prefix%22%3A%20%22glyphicon%22%7D%0A%20%20%20%20%20%20%20%20%20%20%20%20%29%3B%0A%20%20%20%20%20%20%20%20%20%20%20%20marker_96cf02bef1834496be20178088d0873a.setIcon%28icon_312aeccc22ed4048925741c94688ad04%29%3B%0A%20%20%20%20%20%20%20%20%0A%3C/script%3E onload=\"this.contentDocument.open();this.contentDocument.write(    decodeURIComponent(this.getAttribute('data-html')));this.contentDocument.close();\" allowfullscreen webkitallowfullscreen mozallowfullscreen></iframe></div></div>"
      ],
      "text/plain": [
       "<folium.folium.Map at 0x1cd57383fd0>"
      ]
     },
     "execution_count": 15,
     "metadata": {},
     "output_type": "execute_result"
    }
   ],
   "source": [
    "ut_map_test_1"
   ]
  },
  {
   "cell_type": "code",
   "execution_count": null,
   "id": "a69014f5",
   "metadata": {},
   "outputs": [],
   "source": []
  },
  {
   "cell_type": "code",
   "execution_count": null,
   "id": "06717acf",
   "metadata": {},
   "outputs": [],
   "source": []
  },
  {
   "cell_type": "code",
   "execution_count": null,
   "id": "aef8c3fd",
   "metadata": {},
   "outputs": [],
   "source": []
  },
  {
   "cell_type": "code",
   "execution_count": null,
   "id": "a8bc2e97",
   "metadata": {},
   "outputs": [],
   "source": []
  },
  {
   "cell_type": "code",
   "execution_count": null,
   "id": "11ee6357",
   "metadata": {},
   "outputs": [],
   "source": []
  },
  {
   "cell_type": "code",
   "execution_count": null,
   "id": "2a60ba6d",
   "metadata": {},
   "outputs": [],
   "source": []
  },
  {
   "cell_type": "code",
   "execution_count": null,
   "id": "5fdf99d4",
   "metadata": {},
   "outputs": [],
   "source": []
  },
  {
   "cell_type": "code",
   "execution_count": 16,
   "id": "51842c34",
   "metadata": {},
   "outputs": [],
   "source": [
    "import folium\n",
    "from folium import plugins\n",
    "import ipywidgets\n",
    "import geocoder\n",
    "import geopy\n",
    "import pandas as pd\n",
    "import numpy as np\n",
    "#from vega_datasets import data as vds\n",
    "import plotly.express as px\n",
    "import json"
   ]
  },
  {
   "cell_type": "code",
   "execution_count": 17,
   "id": "b5648a76",
   "metadata": {},
   "outputs": [
    {
     "data": {
      "text/html": [
       "<div>\n",
       "<style scoped>\n",
       "    .dataframe tbody tr th:only-of-type {\n",
       "        vertical-align: middle;\n",
       "    }\n",
       "\n",
       "    .dataframe tbody tr th {\n",
       "        vertical-align: top;\n",
       "    }\n",
       "\n",
       "    .dataframe thead th {\n",
       "        text-align: right;\n",
       "    }\n",
       "</style>\n",
       "<table border=\"1\" class=\"dataframe\">\n",
       "  <thead>\n",
       "    <tr style=\"text-align: right;\">\n",
       "      <th></th>\n",
       "      <th>Incident Datetime</th>\n",
       "      <th>Report Datetime</th>\n",
       "      <th>Incident ID</th>\n",
       "      <th>Penal Code</th>\n",
       "      <th>Crimes</th>\n",
       "      <th>Incident Description</th>\n",
       "      <th>Resolution</th>\n",
       "      <th>Police District</th>\n",
       "      <th>Latitude</th>\n",
       "      <th>Longitude</th>\n",
       "      <th>Police Stations</th>\n",
       "      <th>Phone_Number</th>\n",
       "      <th>Driving_Licence</th>\n",
       "    </tr>\n",
       "  </thead>\n",
       "  <tbody>\n",
       "    <tr>\n",
       "      <th>0</th>\n",
       "      <td>05-03-2019 21:00</td>\n",
       "      <td>07-03-2019 12:54</td>\n",
       "      <td>778087</td>\n",
       "      <td>378.0</td>\n",
       "      <td>Theft</td>\n",
       "      <td>Theft, Other Property, $50-$200</td>\n",
       "      <td>Open or Active</td>\n",
       "      <td>Dehradun</td>\n",
       "      <td>30.325573</td>\n",
       "      <td>78.036136</td>\n",
       "      <td>PS Kotwali Nagar</td>\n",
       "      <td>9458438723</td>\n",
       "      <td>20200065018</td>\n",
       "    </tr>\n",
       "    <tr>\n",
       "      <th>1</th>\n",
       "      <td>23-12-2018 21:15</td>\n",
       "      <td>24-12-2018 01:57</td>\n",
       "      <td>753433</td>\n",
       "      <td>378.0</td>\n",
       "      <td>Theft</td>\n",
       "      <td>Theft, From Unlocked Vehicle, &gt;$950</td>\n",
       "      <td>Open or Active</td>\n",
       "      <td>Dehradun</td>\n",
       "      <td>30.330315</td>\n",
       "      <td>78.087291</td>\n",
       "      <td>PS Kotwali Nagar</td>\n",
       "      <td>9458438718</td>\n",
       "      <td>20200065001</td>\n",
       "    </tr>\n",
       "    <tr>\n",
       "      <th>2</th>\n",
       "      <td>11-12-2018 22:39</td>\n",
       "      <td>11-12-2018 22:39</td>\n",
       "      <td>747211</td>\n",
       "      <td>NaN</td>\n",
       "      <td>Violation: Excise act</td>\n",
       "      <td>Caught in the act</td>\n",
       "      <td>Cite or Arrest Adult</td>\n",
       "      <td>Dehradun</td>\n",
       "      <td>30.109194</td>\n",
       "      <td>78.299616</td>\n",
       "      <td>PS Kotwali Nagar</td>\n",
       "      <td>9458438714</td>\n",
       "      <td>20200065008</td>\n",
       "    </tr>\n",
       "    <tr>\n",
       "      <th>3</th>\n",
       "      <td>23-08-2018 23:45</td>\n",
       "      <td>23-08-2018 23:53</td>\n",
       "      <td>706394</td>\n",
       "      <td>378.0</td>\n",
       "      <td>Theft</td>\n",
       "      <td>Theft, From Person, &gt;$950 (other than Pickpocket)</td>\n",
       "      <td>Open or Active</td>\n",
       "      <td>Dehradun</td>\n",
       "      <td>30.459383</td>\n",
       "      <td>78.073748</td>\n",
       "      <td>PS Kotwali Nagar</td>\n",
       "      <td>9458438718</td>\n",
       "      <td>20200065004</td>\n",
       "    </tr>\n",
       "    <tr>\n",
       "      <th>4</th>\n",
       "      <td>31-01-2019 18:15</td>\n",
       "      <td>01-02-2019 09:37</td>\n",
       "      <td>767516</td>\n",
       "      <td>378.0</td>\n",
       "      <td>Theft</td>\n",
       "      <td>Theft, Other Property, &gt;$950</td>\n",
       "      <td>Open or Active</td>\n",
       "      <td>Dehradun</td>\n",
       "      <td>30.478837</td>\n",
       "      <td>77.795304</td>\n",
       "      <td>PS Kotwali Nagar</td>\n",
       "      <td>9458438719</td>\n",
       "      <td>20200065020</td>\n",
       "    </tr>\n",
       "    <tr>\n",
       "      <th>5</th>\n",
       "      <td>13-02-2019 12:30</td>\n",
       "      <td>25-02-2019 11:14</td>\n",
       "      <td>773781</td>\n",
       "      <td>351.0</td>\n",
       "      <td>Simple Assault</td>\n",
       "      <td>Battery</td>\n",
       "      <td>Open or Active</td>\n",
       "      <td>Dehradun</td>\n",
       "      <td>30.180019</td>\n",
       "      <td>78.124795</td>\n",
       "      <td>PS Dalanwala</td>\n",
       "      <td>9458438723</td>\n",
       "      <td>20200065009</td>\n",
       "    </tr>\n",
       "    <tr>\n",
       "      <th>6</th>\n",
       "      <td>20-02-2019 10:35</td>\n",
       "      <td>20-02-2019 10:35</td>\n",
       "      <td>772019</td>\n",
       "      <td>359.0</td>\n",
       "      <td>Missing Person</td>\n",
       "      <td>Found Person</td>\n",
       "      <td>Open or Active</td>\n",
       "      <td>Dehradun</td>\n",
       "      <td>30.293049</td>\n",
       "      <td>78.017863</td>\n",
       "      <td>PS Dalanwala</td>\n",
       "      <td>9458438709</td>\n",
       "      <td>20200065018</td>\n",
       "    </tr>\n",
       "    <tr>\n",
       "      <th>7</th>\n",
       "      <td>10-10-2018 16:45</td>\n",
       "      <td>10-10-2018 16:47</td>\n",
       "      <td>724472</td>\n",
       "      <td>NaN</td>\n",
       "      <td>Violation: Excise act</td>\n",
       "      <td>Caught in the act</td>\n",
       "      <td>Open or Active</td>\n",
       "      <td>Dehradun</td>\n",
       "      <td>30.354538</td>\n",
       "      <td>78.024454</td>\n",
       "      <td>PS Dalanwala</td>\n",
       "      <td>9458438700</td>\n",
       "      <td>20200065019</td>\n",
       "    </tr>\n",
       "    <tr>\n",
       "      <th>8</th>\n",
       "      <td>06-06-2019 19:35</td>\n",
       "      <td>06-06-2019 19:35</td>\n",
       "      <td>808994</td>\n",
       "      <td>274.0</td>\n",
       "      <td>Drug Violation</td>\n",
       "      <td>Narcotics Paraphernalia, Possession of</td>\n",
       "      <td>Cite or Arrest Adult</td>\n",
       "      <td>Dehradun</td>\n",
       "      <td>30.319373</td>\n",
       "      <td>77.991684</td>\n",
       "      <td>PS Dalanwala</td>\n",
       "      <td>9458438713</td>\n",
       "      <td>20200065015</td>\n",
       "    </tr>\n",
       "    <tr>\n",
       "      <th>9</th>\n",
       "      <td>02-02-2019 15:15</td>\n",
       "      <td>05-02-2019 07:25</td>\n",
       "      <td>767433</td>\n",
       "      <td>378.0</td>\n",
       "      <td>Theft</td>\n",
       "      <td>Theft, Other Property, &gt;$950</td>\n",
       "      <td>Open or Active</td>\n",
       "      <td>Dehradun</td>\n",
       "      <td>30.291251</td>\n",
       "      <td>78.053556</td>\n",
       "      <td>PS Dalanwala</td>\n",
       "      <td>9458438721</td>\n",
       "      <td>20200065005</td>\n",
       "    </tr>\n",
       "    <tr>\n",
       "      <th>10</th>\n",
       "      <td>01-11-2018 13:57</td>\n",
       "      <td>01-11-2018 13:57</td>\n",
       "      <td>732873</td>\n",
       "      <td>141.0</td>\n",
       "      <td>Weapons Offense</td>\n",
       "      <td>Firearm, Loaded, in Vehicle, Possession or Use</td>\n",
       "      <td>Cite or Arrest Adult</td>\n",
       "      <td>Dehradun</td>\n",
       "      <td>30.402297</td>\n",
       "      <td>78.096217</td>\n",
       "      <td>PS Rishikesh</td>\n",
       "      <td>9458438723</td>\n",
       "      <td>20200065023</td>\n",
       "    </tr>\n",
       "    <tr>\n",
       "      <th>11</th>\n",
       "      <td>05-11-2018 17:24</td>\n",
       "      <td>05-11-2018 17:24</td>\n",
       "      <td>734292</td>\n",
       "      <td>506.0</td>\n",
       "      <td>Traffic Violation Arrest</td>\n",
       "      <td>Traffic Violation Arrest</td>\n",
       "      <td>Cite or Arrest Adult</td>\n",
       "      <td>Dehradun</td>\n",
       "      <td>30.035491</td>\n",
       "      <td>78.209991</td>\n",
       "      <td>PS Rishikesh</td>\n",
       "      <td>9458438702</td>\n",
       "      <td>20200065018</td>\n",
       "    </tr>\n",
       "    <tr>\n",
       "      <th>12</th>\n",
       "      <td>01-11-2018 17:27</td>\n",
       "      <td>01-11-2018 17:33</td>\n",
       "      <td>732970</td>\n",
       "      <td>441.0</td>\n",
       "      <td>Trespass</td>\n",
       "      <td>Trespassing</td>\n",
       "      <td>Open or Active</td>\n",
       "      <td>Dehradun</td>\n",
       "      <td>30.265213</td>\n",
       "      <td>78.001842</td>\n",
       "      <td>PS Rishikesh</td>\n",
       "      <td>9458438711</td>\n",
       "      <td>20200065017</td>\n",
       "    </tr>\n",
       "    <tr>\n",
       "      <th>13</th>\n",
       "      <td>28-10-2018 10:15</td>\n",
       "      <td>29-10-2018 17:37</td>\n",
       "      <td>734475</td>\n",
       "      <td>378.0</td>\n",
       "      <td>Theft</td>\n",
       "      <td>Theft, Other Property, $50-$200</td>\n",
       "      <td>Open or Active</td>\n",
       "      <td>Dehradun</td>\n",
       "      <td>30.393616</td>\n",
       "      <td>77.806483</td>\n",
       "      <td>PS Rishikesh</td>\n",
       "      <td>9458438702</td>\n",
       "      <td>20200065000</td>\n",
       "    </tr>\n",
       "    <tr>\n",
       "      <th>14</th>\n",
       "      <td>05-09-2018 16:50</td>\n",
       "      <td>06-09-2018 15:37</td>\n",
       "      <td>712592</td>\n",
       "      <td>351.0</td>\n",
       "      <td>Aggravated Assault</td>\n",
       "      <td>Assault, Aggravated, W/ Other Weapon</td>\n",
       "      <td>Cite or Arrest Adult</td>\n",
       "      <td>Dehradun</td>\n",
       "      <td>30.615700</td>\n",
       "      <td>77.024613</td>\n",
       "      <td>PS Rishikesh</td>\n",
       "      <td>9458438701</td>\n",
       "      <td>20200065018</td>\n",
       "    </tr>\n",
       "    <tr>\n",
       "      <th>15</th>\n",
       "      <td>04-01-2019 09:31</td>\n",
       "      <td>04-01-2019 09:31</td>\n",
       "      <td>755606</td>\n",
       "      <td>274.0</td>\n",
       "      <td>Drug Violation</td>\n",
       "      <td>Narcotics Paraphernalia, Possession of</td>\n",
       "      <td>Cite or Arrest Adult</td>\n",
       "      <td>Dehradun</td>\n",
       "      <td>30.539434</td>\n",
       "      <td>77.838972</td>\n",
       "      <td>PS Mussoorie</td>\n",
       "      <td>9458438725</td>\n",
       "      <td>20200065007</td>\n",
       "    </tr>\n",
       "    <tr>\n",
       "      <th>16</th>\n",
       "      <td>31-10-2018 21:08</td>\n",
       "      <td>31-10-2018 21:08</td>\n",
       "      <td>732567</td>\n",
       "      <td>378.0</td>\n",
       "      <td>Theft</td>\n",
       "      <td>Vehicle, Recovered, Stolen outside SF</td>\n",
       "      <td>Open or Active</td>\n",
       "      <td>Dehradun</td>\n",
       "      <td>30.523466</td>\n",
       "      <td>77.847528</td>\n",
       "      <td>PS Mussoorie</td>\n",
       "      <td>9458438701</td>\n",
       "      <td>20200065022</td>\n",
       "    </tr>\n",
       "    <tr>\n",
       "      <th>17</th>\n",
       "      <td>21-10-2018 19:35</td>\n",
       "      <td>21-10-2018 19:35</td>\n",
       "      <td>728637</td>\n",
       "      <td>378.0</td>\n",
       "      <td>Recovered Vehicle</td>\n",
       "      <td>Vehicle, Recovered, Auto</td>\n",
       "      <td>Cite or Arrest Adult</td>\n",
       "      <td>Dehradun</td>\n",
       "      <td>30.016134</td>\n",
       "      <td>77.931445</td>\n",
       "      <td>PS Mussoorie</td>\n",
       "      <td>9458438702</td>\n",
       "      <td>20200065025</td>\n",
       "    </tr>\n",
       "    <tr>\n",
       "      <th>18</th>\n",
       "      <td>01-12-2018 23:58</td>\n",
       "      <td>02-12-2018 00:10</td>\n",
       "      <td>743725</td>\n",
       "      <td>NaN</td>\n",
       "      <td>Violation: Excise act</td>\n",
       "      <td>Caught in the act</td>\n",
       "      <td>Cite or Arrest Adult</td>\n",
       "      <td>Dehradun</td>\n",
       "      <td>30.192702</td>\n",
       "      <td>78.236145</td>\n",
       "      <td>PS Mussoorie</td>\n",
       "      <td>9458438717</td>\n",
       "      <td>20200065003</td>\n",
       "    </tr>\n",
       "    <tr>\n",
       "      <th>19</th>\n",
       "      <td>16-10-2018 11:30</td>\n",
       "      <td>16-10-2018 12:26</td>\n",
       "      <td>726751</td>\n",
       "      <td>351.0</td>\n",
       "      <td>Simple Assault</td>\n",
       "      <td>Battery, former Spouse or Dating Relationship</td>\n",
       "      <td>Cite or Arrest Adult</td>\n",
       "      <td>Dehradun</td>\n",
       "      <td>30.336035</td>\n",
       "      <td>77.966547</td>\n",
       "      <td>PS Mussoorie</td>\n",
       "      <td>9458438726</td>\n",
       "      <td>20200065011</td>\n",
       "    </tr>\n",
       "    <tr>\n",
       "      <th>20</th>\n",
       "      <td>24-09-2018 13:57</td>\n",
       "      <td>24-09-2018 14:07</td>\n",
       "      <td>718126</td>\n",
       "      <td>351.0</td>\n",
       "      <td>Simple Assault</td>\n",
       "      <td>Battery</td>\n",
       "      <td>Cite or Arrest Adult</td>\n",
       "      <td>Dehradun</td>\n",
       "      <td>30.340752</td>\n",
       "      <td>78.069429</td>\n",
       "      <td>PS Vikas Nagar</td>\n",
       "      <td>9458438725</td>\n",
       "      <td>20200065024</td>\n",
       "    </tr>\n",
       "    <tr>\n",
       "      <th>21</th>\n",
       "      <td>05-03-2019 13:50</td>\n",
       "      <td>06-03-2019 08:16</td>\n",
       "      <td>777081</td>\n",
       "      <td>378.0</td>\n",
       "      <td>Theft</td>\n",
       "      <td>Theft, Other Property, $50-$200</td>\n",
       "      <td>Open or Active</td>\n",
       "      <td>Dehradun</td>\n",
       "      <td>30.366924</td>\n",
       "      <td>77.845609</td>\n",
       "      <td>PS Vikas Nagar</td>\n",
       "      <td>9458438723</td>\n",
       "      <td>20200065022</td>\n",
       "    </tr>\n",
       "    <tr>\n",
       "      <th>22</th>\n",
       "      <td>26-02-2019 23:00</td>\n",
       "      <td>28-02-2019 13:38</td>\n",
       "      <td>774927</td>\n",
       "      <td>378.0</td>\n",
       "      <td>Theft</td>\n",
       "      <td>Theft, Other Property, $200-$950</td>\n",
       "      <td>Open or Active</td>\n",
       "      <td>Dehradun</td>\n",
       "      <td>30.320832</td>\n",
       "      <td>78.040255</td>\n",
       "      <td>PS Vikas Nagar</td>\n",
       "      <td>9458438700</td>\n",
       "      <td>20200068014</td>\n",
       "    </tr>\n",
       "    <tr>\n",
       "      <th>23</th>\n",
       "      <td>29-10-2018 13:30</td>\n",
       "      <td>05-11-2018 13:26</td>\n",
       "      <td>734171</td>\n",
       "      <td>425.0</td>\n",
       "      <td>Lost Property</td>\n",
       "      <td>Lost Property</td>\n",
       "      <td>Open or Active</td>\n",
       "      <td>Dehradun</td>\n",
       "      <td>30.154383</td>\n",
       "      <td>78.773127</td>\n",
       "      <td>PS Vikas Nagar</td>\n",
       "      <td>9458438708</td>\n",
       "      <td>20200069014</td>\n",
       "    </tr>\n",
       "    <tr>\n",
       "      <th>24</th>\n",
       "      <td>14-05-2021 09:33</td>\n",
       "      <td>14-05-2021 09:53</td>\n",
       "      <td>1030232</td>\n",
       "      <td>351.0</td>\n",
       "      <td>Simple Assault</td>\n",
       "      <td>Battery</td>\n",
       "      <td>Open or Active</td>\n",
       "      <td>Dehradun</td>\n",
       "      <td>30.224217</td>\n",
       "      <td>78.790039</td>\n",
       "      <td>PS Vikas Nagar</td>\n",
       "      <td>9458438721</td>\n",
       "      <td>20200059014</td>\n",
       "    </tr>\n",
       "    <tr>\n",
       "      <th>25</th>\n",
       "      <td>14-05-2021 12:05</td>\n",
       "      <td>14-05-2021 12:15</td>\n",
       "      <td>1030240</td>\n",
       "      <td>351.0</td>\n",
       "      <td>Simple Assault</td>\n",
       "      <td>Battery</td>\n",
       "      <td>Cite or Arrest Adult</td>\n",
       "      <td>Dehradun</td>\n",
       "      <td>30.498837</td>\n",
       "      <td>77.805304</td>\n",
       "      <td>PS Vikas Nagar</td>\n",
       "      <td>9458438710</td>\n",
       "      <td>20200049014</td>\n",
       "    </tr>\n",
       "  </tbody>\n",
       "</table>\n",
       "</div>"
      ],
      "text/plain": [
       "   Incident Datetime   Report Datetime  Incident ID  Penal Code  \\\n",
       "0   05-03-2019 21:00  07-03-2019 12:54       778087       378.0   \n",
       "1   23-12-2018 21:15  24-12-2018 01:57       753433       378.0   \n",
       "2   11-12-2018 22:39  11-12-2018 22:39       747211         NaN   \n",
       "3   23-08-2018 23:45  23-08-2018 23:53       706394       378.0   \n",
       "4   31-01-2019 18:15  01-02-2019 09:37       767516       378.0   \n",
       "5   13-02-2019 12:30  25-02-2019 11:14       773781       351.0   \n",
       "6   20-02-2019 10:35  20-02-2019 10:35       772019       359.0   \n",
       "7   10-10-2018 16:45  10-10-2018 16:47       724472         NaN   \n",
       "8   06-06-2019 19:35  06-06-2019 19:35       808994       274.0   \n",
       "9   02-02-2019 15:15  05-02-2019 07:25       767433       378.0   \n",
       "10  01-11-2018 13:57  01-11-2018 13:57       732873       141.0   \n",
       "11  05-11-2018 17:24  05-11-2018 17:24       734292       506.0   \n",
       "12  01-11-2018 17:27  01-11-2018 17:33       732970       441.0   \n",
       "13  28-10-2018 10:15  29-10-2018 17:37       734475       378.0   \n",
       "14  05-09-2018 16:50  06-09-2018 15:37       712592       351.0   \n",
       "15  04-01-2019 09:31  04-01-2019 09:31       755606       274.0   \n",
       "16  31-10-2018 21:08  31-10-2018 21:08       732567       378.0   \n",
       "17  21-10-2018 19:35  21-10-2018 19:35       728637       378.0   \n",
       "18  01-12-2018 23:58  02-12-2018 00:10       743725         NaN   \n",
       "19  16-10-2018 11:30  16-10-2018 12:26       726751       351.0   \n",
       "20  24-09-2018 13:57  24-09-2018 14:07       718126       351.0   \n",
       "21  05-03-2019 13:50  06-03-2019 08:16       777081       378.0   \n",
       "22  26-02-2019 23:00  28-02-2019 13:38       774927       378.0   \n",
       "23  29-10-2018 13:30  05-11-2018 13:26       734171       425.0   \n",
       "24  14-05-2021 09:33  14-05-2021 09:53      1030232       351.0   \n",
       "25  14-05-2021 12:05  14-05-2021 12:15      1030240       351.0   \n",
       "\n",
       "                      Crimes  \\\n",
       "0                      Theft   \n",
       "1                      Theft   \n",
       "2      Violation: Excise act   \n",
       "3                      Theft   \n",
       "4                      Theft   \n",
       "5             Simple Assault   \n",
       "6             Missing Person   \n",
       "7      Violation: Excise act   \n",
       "8             Drug Violation   \n",
       "9                      Theft   \n",
       "10           Weapons Offense   \n",
       "11  Traffic Violation Arrest   \n",
       "12                  Trespass   \n",
       "13                     Theft   \n",
       "14        Aggravated Assault   \n",
       "15            Drug Violation   \n",
       "16                     Theft   \n",
       "17         Recovered Vehicle   \n",
       "18     Violation: Excise act   \n",
       "19            Simple Assault   \n",
       "20            Simple Assault   \n",
       "21                     Theft   \n",
       "22                     Theft   \n",
       "23             Lost Property   \n",
       "24            Simple Assault   \n",
       "25            Simple Assault   \n",
       "\n",
       "                                 Incident Description            Resolution  \\\n",
       "0                     Theft, Other Property, $50-$200        Open or Active   \n",
       "1                 Theft, From Unlocked Vehicle, >$950        Open or Active   \n",
       "2                                   Caught in the act  Cite or Arrest Adult   \n",
       "3   Theft, From Person, >$950 (other than Pickpocket)        Open or Active   \n",
       "4                        Theft, Other Property, >$950        Open or Active   \n",
       "5                                             Battery        Open or Active   \n",
       "6                                        Found Person        Open or Active   \n",
       "7                                   Caught in the act        Open or Active   \n",
       "8              Narcotics Paraphernalia, Possession of  Cite or Arrest Adult   \n",
       "9                        Theft, Other Property, >$950        Open or Active   \n",
       "10     Firearm, Loaded, in Vehicle, Possession or Use  Cite or Arrest Adult   \n",
       "11                           Traffic Violation Arrest  Cite or Arrest Adult   \n",
       "12                                        Trespassing        Open or Active   \n",
       "13                    Theft, Other Property, $50-$200        Open or Active   \n",
       "14               Assault, Aggravated, W/ Other Weapon  Cite or Arrest Adult   \n",
       "15             Narcotics Paraphernalia, Possession of  Cite or Arrest Adult   \n",
       "16              Vehicle, Recovered, Stolen outside SF        Open or Active   \n",
       "17                           Vehicle, Recovered, Auto  Cite or Arrest Adult   \n",
       "18                                  Caught in the act  Cite or Arrest Adult   \n",
       "19      Battery, former Spouse or Dating Relationship  Cite or Arrest Adult   \n",
       "20                                            Battery  Cite or Arrest Adult   \n",
       "21                    Theft, Other Property, $50-$200        Open or Active   \n",
       "22                   Theft, Other Property, $200-$950        Open or Active   \n",
       "23                                      Lost Property        Open or Active   \n",
       "24                                            Battery        Open or Active   \n",
       "25                                            Battery  Cite or Arrest Adult   \n",
       "\n",
       "   Police District   Latitude  Longitude   Police Stations  Phone_Number  \\\n",
       "0         Dehradun  30.325573  78.036136  PS Kotwali Nagar    9458438723   \n",
       "1         Dehradun  30.330315  78.087291  PS Kotwali Nagar    9458438718   \n",
       "2         Dehradun  30.109194  78.299616  PS Kotwali Nagar    9458438714   \n",
       "3         Dehradun  30.459383  78.073748  PS Kotwali Nagar    9458438718   \n",
       "4         Dehradun  30.478837  77.795304  PS Kotwali Nagar    9458438719   \n",
       "5         Dehradun  30.180019  78.124795      PS Dalanwala    9458438723   \n",
       "6         Dehradun  30.293049  78.017863      PS Dalanwala    9458438709   \n",
       "7         Dehradun  30.354538  78.024454      PS Dalanwala    9458438700   \n",
       "8         Dehradun  30.319373  77.991684      PS Dalanwala    9458438713   \n",
       "9         Dehradun  30.291251  78.053556      PS Dalanwala    9458438721   \n",
       "10        Dehradun  30.402297  78.096217      PS Rishikesh    9458438723   \n",
       "11        Dehradun  30.035491  78.209991      PS Rishikesh    9458438702   \n",
       "12        Dehradun  30.265213  78.001842      PS Rishikesh    9458438711   \n",
       "13        Dehradun  30.393616  77.806483      PS Rishikesh    9458438702   \n",
       "14        Dehradun  30.615700  77.024613      PS Rishikesh    9458438701   \n",
       "15        Dehradun  30.539434  77.838972      PS Mussoorie    9458438725   \n",
       "16        Dehradun  30.523466  77.847528      PS Mussoorie    9458438701   \n",
       "17        Dehradun  30.016134  77.931445      PS Mussoorie    9458438702   \n",
       "18        Dehradun  30.192702  78.236145      PS Mussoorie    9458438717   \n",
       "19        Dehradun  30.336035  77.966547      PS Mussoorie    9458438726   \n",
       "20        Dehradun  30.340752  78.069429    PS Vikas Nagar    9458438725   \n",
       "21        Dehradun  30.366924  77.845609    PS Vikas Nagar    9458438723   \n",
       "22        Dehradun  30.320832  78.040255    PS Vikas Nagar    9458438700   \n",
       "23        Dehradun  30.154383  78.773127    PS Vikas Nagar    9458438708   \n",
       "24        Dehradun  30.224217  78.790039    PS Vikas Nagar    9458438721   \n",
       "25        Dehradun  30.498837  77.805304    PS Vikas Nagar    9458438710   \n",
       "\n",
       "    Driving_Licence  \n",
       "0       20200065018  \n",
       "1       20200065001  \n",
       "2       20200065008  \n",
       "3       20200065004  \n",
       "4       20200065020  \n",
       "5       20200065009  \n",
       "6       20200065018  \n",
       "7       20200065019  \n",
       "8       20200065015  \n",
       "9       20200065005  \n",
       "10      20200065023  \n",
       "11      20200065018  \n",
       "12      20200065017  \n",
       "13      20200065000  \n",
       "14      20200065018  \n",
       "15      20200065007  \n",
       "16      20200065022  \n",
       "17      20200065025  \n",
       "18      20200065003  \n",
       "19      20200065011  \n",
       "20      20200065024  \n",
       "21      20200065022  \n",
       "22      20200068014  \n",
       "23      20200069014  \n",
       "24      20200059014  \n",
       "25      20200049014  "
      ]
     },
     "execution_count": 17,
     "metadata": {},
     "output_type": "execute_result"
    }
   ],
   "source": [
    "criminal_csv = pd.read_csv(\"first_evaluation.csv\") # read the data\n",
    "\n",
    "criminal_csv_1 = criminal_csv\n",
    "criminal_csv_1"
   ]
  },
  {
   "cell_type": "code",
   "execution_count": 18,
   "id": "baa9d442",
   "metadata": {},
   "outputs": [
    {
     "data": {
      "text/html": [
       "<div>\n",
       "<style scoped>\n",
       "    .dataframe tbody tr th:only-of-type {\n",
       "        vertical-align: middle;\n",
       "    }\n",
       "\n",
       "    .dataframe tbody tr th {\n",
       "        vertical-align: top;\n",
       "    }\n",
       "\n",
       "    .dataframe thead th {\n",
       "        text-align: right;\n",
       "    }\n",
       "</style>\n",
       "<table border=\"1\" class=\"dataframe\">\n",
       "  <thead>\n",
       "    <tr style=\"text-align: right;\">\n",
       "      <th></th>\n",
       "      <th>Incident Datetime</th>\n",
       "      <th>Report Datetime</th>\n",
       "      <th>Incident_ID</th>\n",
       "      <th>Penal Code</th>\n",
       "      <th>Crimes</th>\n",
       "      <th>Incident Description</th>\n",
       "      <th>Resolution</th>\n",
       "      <th>Police District</th>\n",
       "      <th>Latitude</th>\n",
       "      <th>Longitude</th>\n",
       "      <th>Police Stations</th>\n",
       "      <th>Phone_Number</th>\n",
       "      <th>Driving_Licence</th>\n",
       "    </tr>\n",
       "  </thead>\n",
       "  <tbody>\n",
       "    <tr>\n",
       "      <th>0</th>\n",
       "      <td>05-03-2019 21:00</td>\n",
       "      <td>07-03-2019 12:54</td>\n",
       "      <td>778087</td>\n",
       "      <td>378.0</td>\n",
       "      <td>Theft</td>\n",
       "      <td>Theft, Other Property, $50-$200</td>\n",
       "      <td>Open or Active</td>\n",
       "      <td>Dehradun</td>\n",
       "      <td>30.325573</td>\n",
       "      <td>78.036136</td>\n",
       "      <td>PS Kotwali Nagar</td>\n",
       "      <td>9458438723</td>\n",
       "      <td>20200065018</td>\n",
       "    </tr>\n",
       "    <tr>\n",
       "      <th>1</th>\n",
       "      <td>23-12-2018 21:15</td>\n",
       "      <td>24-12-2018 01:57</td>\n",
       "      <td>753433</td>\n",
       "      <td>378.0</td>\n",
       "      <td>Theft</td>\n",
       "      <td>Theft, From Unlocked Vehicle, &gt;$950</td>\n",
       "      <td>Open or Active</td>\n",
       "      <td>Dehradun</td>\n",
       "      <td>30.330315</td>\n",
       "      <td>78.087291</td>\n",
       "      <td>PS Kotwali Nagar</td>\n",
       "      <td>9458438718</td>\n",
       "      <td>20200065001</td>\n",
       "    </tr>\n",
       "    <tr>\n",
       "      <th>3</th>\n",
       "      <td>23-08-2018 23:45</td>\n",
       "      <td>23-08-2018 23:53</td>\n",
       "      <td>706394</td>\n",
       "      <td>378.0</td>\n",
       "      <td>Theft</td>\n",
       "      <td>Theft, From Person, &gt;$950 (other than Pickpocket)</td>\n",
       "      <td>Open or Active</td>\n",
       "      <td>Dehradun</td>\n",
       "      <td>30.459383</td>\n",
       "      <td>78.073748</td>\n",
       "      <td>PS Kotwali Nagar</td>\n",
       "      <td>9458438718</td>\n",
       "      <td>20200065004</td>\n",
       "    </tr>\n",
       "    <tr>\n",
       "      <th>4</th>\n",
       "      <td>31-01-2019 18:15</td>\n",
       "      <td>01-02-2019 09:37</td>\n",
       "      <td>767516</td>\n",
       "      <td>378.0</td>\n",
       "      <td>Theft</td>\n",
       "      <td>Theft, Other Property, &gt;$950</td>\n",
       "      <td>Open or Active</td>\n",
       "      <td>Dehradun</td>\n",
       "      <td>30.478837</td>\n",
       "      <td>77.795304</td>\n",
       "      <td>PS Kotwali Nagar</td>\n",
       "      <td>9458438719</td>\n",
       "      <td>20200065020</td>\n",
       "    </tr>\n",
       "    <tr>\n",
       "      <th>5</th>\n",
       "      <td>13-02-2019 12:30</td>\n",
       "      <td>25-02-2019 11:14</td>\n",
       "      <td>773781</td>\n",
       "      <td>351.0</td>\n",
       "      <td>Simple Assault</td>\n",
       "      <td>Battery</td>\n",
       "      <td>Open or Active</td>\n",
       "      <td>Dehradun</td>\n",
       "      <td>30.180019</td>\n",
       "      <td>78.124795</td>\n",
       "      <td>PS Dalanwala</td>\n",
       "      <td>9458438723</td>\n",
       "      <td>20200065009</td>\n",
       "    </tr>\n",
       "    <tr>\n",
       "      <th>6</th>\n",
       "      <td>20-02-2019 10:35</td>\n",
       "      <td>20-02-2019 10:35</td>\n",
       "      <td>772019</td>\n",
       "      <td>359.0</td>\n",
       "      <td>Missing Person</td>\n",
       "      <td>Found Person</td>\n",
       "      <td>Open or Active</td>\n",
       "      <td>Dehradun</td>\n",
       "      <td>30.293049</td>\n",
       "      <td>78.017863</td>\n",
       "      <td>PS Dalanwala</td>\n",
       "      <td>9458438709</td>\n",
       "      <td>20200065018</td>\n",
       "    </tr>\n",
       "    <tr>\n",
       "      <th>8</th>\n",
       "      <td>06-06-2019 19:35</td>\n",
       "      <td>06-06-2019 19:35</td>\n",
       "      <td>808994</td>\n",
       "      <td>274.0</td>\n",
       "      <td>Drug Violation</td>\n",
       "      <td>Narcotics Paraphernalia, Possession of</td>\n",
       "      <td>Cite or Arrest Adult</td>\n",
       "      <td>Dehradun</td>\n",
       "      <td>30.319373</td>\n",
       "      <td>77.991684</td>\n",
       "      <td>PS Dalanwala</td>\n",
       "      <td>9458438713</td>\n",
       "      <td>20200065015</td>\n",
       "    </tr>\n",
       "    <tr>\n",
       "      <th>9</th>\n",
       "      <td>02-02-2019 15:15</td>\n",
       "      <td>05-02-2019 07:25</td>\n",
       "      <td>767433</td>\n",
       "      <td>378.0</td>\n",
       "      <td>Theft</td>\n",
       "      <td>Theft, Other Property, &gt;$950</td>\n",
       "      <td>Open or Active</td>\n",
       "      <td>Dehradun</td>\n",
       "      <td>30.291251</td>\n",
       "      <td>78.053556</td>\n",
       "      <td>PS Dalanwala</td>\n",
       "      <td>9458438721</td>\n",
       "      <td>20200065005</td>\n",
       "    </tr>\n",
       "    <tr>\n",
       "      <th>10</th>\n",
       "      <td>01-11-2018 13:57</td>\n",
       "      <td>01-11-2018 13:57</td>\n",
       "      <td>732873</td>\n",
       "      <td>141.0</td>\n",
       "      <td>Weapons Offense</td>\n",
       "      <td>Firearm, Loaded, in Vehicle, Possession or Use</td>\n",
       "      <td>Cite or Arrest Adult</td>\n",
       "      <td>Dehradun</td>\n",
       "      <td>30.402297</td>\n",
       "      <td>78.096217</td>\n",
       "      <td>PS Rishikesh</td>\n",
       "      <td>9458438723</td>\n",
       "      <td>20200065023</td>\n",
       "    </tr>\n",
       "    <tr>\n",
       "      <th>11</th>\n",
       "      <td>05-11-2018 17:24</td>\n",
       "      <td>05-11-2018 17:24</td>\n",
       "      <td>734292</td>\n",
       "      <td>506.0</td>\n",
       "      <td>Traffic Violation Arrest</td>\n",
       "      <td>Traffic Violation Arrest</td>\n",
       "      <td>Cite or Arrest Adult</td>\n",
       "      <td>Dehradun</td>\n",
       "      <td>30.035491</td>\n",
       "      <td>78.209991</td>\n",
       "      <td>PS Rishikesh</td>\n",
       "      <td>9458438702</td>\n",
       "      <td>20200065018</td>\n",
       "    </tr>\n",
       "    <tr>\n",
       "      <th>12</th>\n",
       "      <td>01-11-2018 17:27</td>\n",
       "      <td>01-11-2018 17:33</td>\n",
       "      <td>732970</td>\n",
       "      <td>441.0</td>\n",
       "      <td>Trespass</td>\n",
       "      <td>Trespassing</td>\n",
       "      <td>Open or Active</td>\n",
       "      <td>Dehradun</td>\n",
       "      <td>30.265213</td>\n",
       "      <td>78.001842</td>\n",
       "      <td>PS Rishikesh</td>\n",
       "      <td>9458438711</td>\n",
       "      <td>20200065017</td>\n",
       "    </tr>\n",
       "    <tr>\n",
       "      <th>13</th>\n",
       "      <td>28-10-2018 10:15</td>\n",
       "      <td>29-10-2018 17:37</td>\n",
       "      <td>734475</td>\n",
       "      <td>378.0</td>\n",
       "      <td>Theft</td>\n",
       "      <td>Theft, Other Property, $50-$200</td>\n",
       "      <td>Open or Active</td>\n",
       "      <td>Dehradun</td>\n",
       "      <td>30.393616</td>\n",
       "      <td>77.806483</td>\n",
       "      <td>PS Rishikesh</td>\n",
       "      <td>9458438702</td>\n",
       "      <td>20200065000</td>\n",
       "    </tr>\n",
       "    <tr>\n",
       "      <th>14</th>\n",
       "      <td>05-09-2018 16:50</td>\n",
       "      <td>06-09-2018 15:37</td>\n",
       "      <td>712592</td>\n",
       "      <td>351.0</td>\n",
       "      <td>Aggravated Assault</td>\n",
       "      <td>Assault, Aggravated, W/ Other Weapon</td>\n",
       "      <td>Cite or Arrest Adult</td>\n",
       "      <td>Dehradun</td>\n",
       "      <td>30.615700</td>\n",
       "      <td>77.024613</td>\n",
       "      <td>PS Rishikesh</td>\n",
       "      <td>9458438701</td>\n",
       "      <td>20200065018</td>\n",
       "    </tr>\n",
       "    <tr>\n",
       "      <th>15</th>\n",
       "      <td>04-01-2019 09:31</td>\n",
       "      <td>04-01-2019 09:31</td>\n",
       "      <td>755606</td>\n",
       "      <td>274.0</td>\n",
       "      <td>Drug Violation</td>\n",
       "      <td>Narcotics Paraphernalia, Possession of</td>\n",
       "      <td>Cite or Arrest Adult</td>\n",
       "      <td>Dehradun</td>\n",
       "      <td>30.539434</td>\n",
       "      <td>77.838972</td>\n",
       "      <td>PS Mussoorie</td>\n",
       "      <td>9458438725</td>\n",
       "      <td>20200065007</td>\n",
       "    </tr>\n",
       "    <tr>\n",
       "      <th>16</th>\n",
       "      <td>31-10-2018 21:08</td>\n",
       "      <td>31-10-2018 21:08</td>\n",
       "      <td>732567</td>\n",
       "      <td>378.0</td>\n",
       "      <td>Theft</td>\n",
       "      <td>Vehicle, Recovered, Stolen outside SF</td>\n",
       "      <td>Open or Active</td>\n",
       "      <td>Dehradun</td>\n",
       "      <td>30.523466</td>\n",
       "      <td>77.847528</td>\n",
       "      <td>PS Mussoorie</td>\n",
       "      <td>9458438701</td>\n",
       "      <td>20200065022</td>\n",
       "    </tr>\n",
       "    <tr>\n",
       "      <th>17</th>\n",
       "      <td>21-10-2018 19:35</td>\n",
       "      <td>21-10-2018 19:35</td>\n",
       "      <td>728637</td>\n",
       "      <td>378.0</td>\n",
       "      <td>Recovered Vehicle</td>\n",
       "      <td>Vehicle, Recovered, Auto</td>\n",
       "      <td>Cite or Arrest Adult</td>\n",
       "      <td>Dehradun</td>\n",
       "      <td>30.016134</td>\n",
       "      <td>77.931445</td>\n",
       "      <td>PS Mussoorie</td>\n",
       "      <td>9458438702</td>\n",
       "      <td>20200065025</td>\n",
       "    </tr>\n",
       "    <tr>\n",
       "      <th>19</th>\n",
       "      <td>16-10-2018 11:30</td>\n",
       "      <td>16-10-2018 12:26</td>\n",
       "      <td>726751</td>\n",
       "      <td>351.0</td>\n",
       "      <td>Simple Assault</td>\n",
       "      <td>Battery, former Spouse or Dating Relationship</td>\n",
       "      <td>Cite or Arrest Adult</td>\n",
       "      <td>Dehradun</td>\n",
       "      <td>30.336035</td>\n",
       "      <td>77.966547</td>\n",
       "      <td>PS Mussoorie</td>\n",
       "      <td>9458438726</td>\n",
       "      <td>20200065011</td>\n",
       "    </tr>\n",
       "    <tr>\n",
       "      <th>20</th>\n",
       "      <td>24-09-2018 13:57</td>\n",
       "      <td>24-09-2018 14:07</td>\n",
       "      <td>718126</td>\n",
       "      <td>351.0</td>\n",
       "      <td>Simple Assault</td>\n",
       "      <td>Battery</td>\n",
       "      <td>Cite or Arrest Adult</td>\n",
       "      <td>Dehradun</td>\n",
       "      <td>30.340752</td>\n",
       "      <td>78.069429</td>\n",
       "      <td>PS Vikas Nagar</td>\n",
       "      <td>9458438725</td>\n",
       "      <td>20200065024</td>\n",
       "    </tr>\n",
       "    <tr>\n",
       "      <th>21</th>\n",
       "      <td>05-03-2019 13:50</td>\n",
       "      <td>06-03-2019 08:16</td>\n",
       "      <td>777081</td>\n",
       "      <td>378.0</td>\n",
       "      <td>Theft</td>\n",
       "      <td>Theft, Other Property, $50-$200</td>\n",
       "      <td>Open or Active</td>\n",
       "      <td>Dehradun</td>\n",
       "      <td>30.366924</td>\n",
       "      <td>77.845609</td>\n",
       "      <td>PS Vikas Nagar</td>\n",
       "      <td>9458438723</td>\n",
       "      <td>20200065022</td>\n",
       "    </tr>\n",
       "    <tr>\n",
       "      <th>22</th>\n",
       "      <td>26-02-2019 23:00</td>\n",
       "      <td>28-02-2019 13:38</td>\n",
       "      <td>774927</td>\n",
       "      <td>378.0</td>\n",
       "      <td>Theft</td>\n",
       "      <td>Theft, Other Property, $200-$950</td>\n",
       "      <td>Open or Active</td>\n",
       "      <td>Dehradun</td>\n",
       "      <td>30.320832</td>\n",
       "      <td>78.040255</td>\n",
       "      <td>PS Vikas Nagar</td>\n",
       "      <td>9458438700</td>\n",
       "      <td>20200068014</td>\n",
       "    </tr>\n",
       "    <tr>\n",
       "      <th>23</th>\n",
       "      <td>29-10-2018 13:30</td>\n",
       "      <td>05-11-2018 13:26</td>\n",
       "      <td>734171</td>\n",
       "      <td>425.0</td>\n",
       "      <td>Lost Property</td>\n",
       "      <td>Lost Property</td>\n",
       "      <td>Open or Active</td>\n",
       "      <td>Dehradun</td>\n",
       "      <td>30.154383</td>\n",
       "      <td>78.773127</td>\n",
       "      <td>PS Vikas Nagar</td>\n",
       "      <td>9458438708</td>\n",
       "      <td>20200069014</td>\n",
       "    </tr>\n",
       "    <tr>\n",
       "      <th>24</th>\n",
       "      <td>14-05-2021 09:33</td>\n",
       "      <td>14-05-2021 09:53</td>\n",
       "      <td>1030232</td>\n",
       "      <td>351.0</td>\n",
       "      <td>Simple Assault</td>\n",
       "      <td>Battery</td>\n",
       "      <td>Open or Active</td>\n",
       "      <td>Dehradun</td>\n",
       "      <td>30.224217</td>\n",
       "      <td>78.790039</td>\n",
       "      <td>PS Vikas Nagar</td>\n",
       "      <td>9458438721</td>\n",
       "      <td>20200059014</td>\n",
       "    </tr>\n",
       "    <tr>\n",
       "      <th>25</th>\n",
       "      <td>14-05-2021 12:05</td>\n",
       "      <td>14-05-2021 12:15</td>\n",
       "      <td>1030240</td>\n",
       "      <td>351.0</td>\n",
       "      <td>Simple Assault</td>\n",
       "      <td>Battery</td>\n",
       "      <td>Cite or Arrest Adult</td>\n",
       "      <td>Dehradun</td>\n",
       "      <td>30.498837</td>\n",
       "      <td>77.805304</td>\n",
       "      <td>PS Vikas Nagar</td>\n",
       "      <td>9458438710</td>\n",
       "      <td>20200049014</td>\n",
       "    </tr>\n",
       "  </tbody>\n",
       "</table>\n",
       "</div>"
      ],
      "text/plain": [
       "   Incident Datetime   Report Datetime  Incident_ID  Penal Code  \\\n",
       "0   05-03-2019 21:00  07-03-2019 12:54       778087       378.0   \n",
       "1   23-12-2018 21:15  24-12-2018 01:57       753433       378.0   \n",
       "3   23-08-2018 23:45  23-08-2018 23:53       706394       378.0   \n",
       "4   31-01-2019 18:15  01-02-2019 09:37       767516       378.0   \n",
       "5   13-02-2019 12:30  25-02-2019 11:14       773781       351.0   \n",
       "6   20-02-2019 10:35  20-02-2019 10:35       772019       359.0   \n",
       "8   06-06-2019 19:35  06-06-2019 19:35       808994       274.0   \n",
       "9   02-02-2019 15:15  05-02-2019 07:25       767433       378.0   \n",
       "10  01-11-2018 13:57  01-11-2018 13:57       732873       141.0   \n",
       "11  05-11-2018 17:24  05-11-2018 17:24       734292       506.0   \n",
       "12  01-11-2018 17:27  01-11-2018 17:33       732970       441.0   \n",
       "13  28-10-2018 10:15  29-10-2018 17:37       734475       378.0   \n",
       "14  05-09-2018 16:50  06-09-2018 15:37       712592       351.0   \n",
       "15  04-01-2019 09:31  04-01-2019 09:31       755606       274.0   \n",
       "16  31-10-2018 21:08  31-10-2018 21:08       732567       378.0   \n",
       "17  21-10-2018 19:35  21-10-2018 19:35       728637       378.0   \n",
       "19  16-10-2018 11:30  16-10-2018 12:26       726751       351.0   \n",
       "20  24-09-2018 13:57  24-09-2018 14:07       718126       351.0   \n",
       "21  05-03-2019 13:50  06-03-2019 08:16       777081       378.0   \n",
       "22  26-02-2019 23:00  28-02-2019 13:38       774927       378.0   \n",
       "23  29-10-2018 13:30  05-11-2018 13:26       734171       425.0   \n",
       "24  14-05-2021 09:33  14-05-2021 09:53      1030232       351.0   \n",
       "25  14-05-2021 12:05  14-05-2021 12:15      1030240       351.0   \n",
       "\n",
       "                      Crimes  \\\n",
       "0                      Theft   \n",
       "1                      Theft   \n",
       "3                      Theft   \n",
       "4                      Theft   \n",
       "5             Simple Assault   \n",
       "6             Missing Person   \n",
       "8             Drug Violation   \n",
       "9                      Theft   \n",
       "10           Weapons Offense   \n",
       "11  Traffic Violation Arrest   \n",
       "12                  Trespass   \n",
       "13                     Theft   \n",
       "14        Aggravated Assault   \n",
       "15            Drug Violation   \n",
       "16                     Theft   \n",
       "17         Recovered Vehicle   \n",
       "19            Simple Assault   \n",
       "20            Simple Assault   \n",
       "21                     Theft   \n",
       "22                     Theft   \n",
       "23             Lost Property   \n",
       "24            Simple Assault   \n",
       "25            Simple Assault   \n",
       "\n",
       "                                 Incident Description            Resolution  \\\n",
       "0                     Theft, Other Property, $50-$200        Open or Active   \n",
       "1                 Theft, From Unlocked Vehicle, >$950        Open or Active   \n",
       "3   Theft, From Person, >$950 (other than Pickpocket)        Open or Active   \n",
       "4                        Theft, Other Property, >$950        Open or Active   \n",
       "5                                             Battery        Open or Active   \n",
       "6                                        Found Person        Open or Active   \n",
       "8              Narcotics Paraphernalia, Possession of  Cite or Arrest Adult   \n",
       "9                        Theft, Other Property, >$950        Open or Active   \n",
       "10     Firearm, Loaded, in Vehicle, Possession or Use  Cite or Arrest Adult   \n",
       "11                           Traffic Violation Arrest  Cite or Arrest Adult   \n",
       "12                                        Trespassing        Open or Active   \n",
       "13                    Theft, Other Property, $50-$200        Open or Active   \n",
       "14               Assault, Aggravated, W/ Other Weapon  Cite or Arrest Adult   \n",
       "15             Narcotics Paraphernalia, Possession of  Cite or Arrest Adult   \n",
       "16              Vehicle, Recovered, Stolen outside SF        Open or Active   \n",
       "17                           Vehicle, Recovered, Auto  Cite or Arrest Adult   \n",
       "19      Battery, former Spouse or Dating Relationship  Cite or Arrest Adult   \n",
       "20                                            Battery  Cite or Arrest Adult   \n",
       "21                    Theft, Other Property, $50-$200        Open or Active   \n",
       "22                   Theft, Other Property, $200-$950        Open or Active   \n",
       "23                                      Lost Property        Open or Active   \n",
       "24                                            Battery        Open or Active   \n",
       "25                                            Battery  Cite or Arrest Adult   \n",
       "\n",
       "   Police District   Latitude  Longitude   Police Stations  Phone_Number  \\\n",
       "0         Dehradun  30.325573  78.036136  PS Kotwali Nagar    9458438723   \n",
       "1         Dehradun  30.330315  78.087291  PS Kotwali Nagar    9458438718   \n",
       "3         Dehradun  30.459383  78.073748  PS Kotwali Nagar    9458438718   \n",
       "4         Dehradun  30.478837  77.795304  PS Kotwali Nagar    9458438719   \n",
       "5         Dehradun  30.180019  78.124795      PS Dalanwala    9458438723   \n",
       "6         Dehradun  30.293049  78.017863      PS Dalanwala    9458438709   \n",
       "8         Dehradun  30.319373  77.991684      PS Dalanwala    9458438713   \n",
       "9         Dehradun  30.291251  78.053556      PS Dalanwala    9458438721   \n",
       "10        Dehradun  30.402297  78.096217      PS Rishikesh    9458438723   \n",
       "11        Dehradun  30.035491  78.209991      PS Rishikesh    9458438702   \n",
       "12        Dehradun  30.265213  78.001842      PS Rishikesh    9458438711   \n",
       "13        Dehradun  30.393616  77.806483      PS Rishikesh    9458438702   \n",
       "14        Dehradun  30.615700  77.024613      PS Rishikesh    9458438701   \n",
       "15        Dehradun  30.539434  77.838972      PS Mussoorie    9458438725   \n",
       "16        Dehradun  30.523466  77.847528      PS Mussoorie    9458438701   \n",
       "17        Dehradun  30.016134  77.931445      PS Mussoorie    9458438702   \n",
       "19        Dehradun  30.336035  77.966547      PS Mussoorie    9458438726   \n",
       "20        Dehradun  30.340752  78.069429    PS Vikas Nagar    9458438725   \n",
       "21        Dehradun  30.366924  77.845609    PS Vikas Nagar    9458438723   \n",
       "22        Dehradun  30.320832  78.040255    PS Vikas Nagar    9458438700   \n",
       "23        Dehradun  30.154383  78.773127    PS Vikas Nagar    9458438708   \n",
       "24        Dehradun  30.224217  78.790039    PS Vikas Nagar    9458438721   \n",
       "25        Dehradun  30.498837  77.805304    PS Vikas Nagar    9458438710   \n",
       "\n",
       "    Driving_Licence  \n",
       "0       20200065018  \n",
       "1       20200065001  \n",
       "3       20200065004  \n",
       "4       20200065020  \n",
       "5       20200065009  \n",
       "6       20200065018  \n",
       "8       20200065015  \n",
       "9       20200065005  \n",
       "10      20200065023  \n",
       "11      20200065018  \n",
       "12      20200065017  \n",
       "13      20200065000  \n",
       "14      20200065018  \n",
       "15      20200065007  \n",
       "16      20200065022  \n",
       "17      20200065025  \n",
       "19      20200065011  \n",
       "20      20200065024  \n",
       "21      20200065022  \n",
       "22      20200068014  \n",
       "23      20200069014  \n",
       "24      20200059014  \n",
       "25      20200049014  "
      ]
     },
     "execution_count": 18,
     "metadata": {},
     "output_type": "execute_result"
    }
   ],
   "source": [
    "df_criminal_org = pd.DataFrame(criminal_csv_1) # transfer to dataframe\n",
    "df_criminal_org.dropna(inplace=True)\n",
    "df_criminal_org = df_criminal_org.rename(columns = {\"Incident ID\":\"Incident_ID\"})\n",
    "df_criminal_org"
   ]
  },
  {
   "cell_type": "code",
   "execution_count": 19,
   "id": "c6e649de",
   "metadata": {},
   "outputs": [
    {
     "data": {
      "text/html": [
       "<div style=\"width:100%;\"><div style=\"position:relative;width:100%;height:0;padding-bottom:60%;\"><span style=\"color:#565656\">Make this Notebook Trusted to load map: File -> Trust Notebook</span><iframe src=\"about:blank\" style=\"position:absolute;width:100%;height:100%;left:0;top:0;border:none !important;\" data-html=%3C%21DOCTYPE%20html%3E%0A%3Chead%3E%20%20%20%20%0A%20%20%20%20%3Cmeta%20http-equiv%3D%22content-type%22%20content%3D%22text/html%3B%20charset%3DUTF-8%22%20/%3E%0A%20%20%20%20%0A%20%20%20%20%20%20%20%20%3Cscript%3E%0A%20%20%20%20%20%20%20%20%20%20%20%20L_NO_TOUCH%20%3D%20false%3B%0A%20%20%20%20%20%20%20%20%20%20%20%20L_DISABLE_3D%20%3D%20false%3B%0A%20%20%20%20%20%20%20%20%3C/script%3E%0A%20%20%20%20%0A%20%20%20%20%3Cstyle%3Ehtml%2C%20body%20%7Bwidth%3A%20100%25%3Bheight%3A%20100%25%3Bmargin%3A%200%3Bpadding%3A%200%3B%7D%3C/style%3E%0A%20%20%20%20%3Cstyle%3E%23map%20%7Bposition%3Aabsolute%3Btop%3A0%3Bbottom%3A0%3Bright%3A0%3Bleft%3A0%3B%7D%3C/style%3E%0A%20%20%20%20%3Cscript%20src%3D%22https%3A//cdn.jsdelivr.net/npm/leaflet%401.6.0/dist/leaflet.js%22%3E%3C/script%3E%0A%20%20%20%20%3Cscript%20src%3D%22https%3A//code.jquery.com/jquery-1.12.4.min.js%22%3E%3C/script%3E%0A%20%20%20%20%3Cscript%20src%3D%22https%3A//maxcdn.bootstrapcdn.com/bootstrap/3.2.0/js/bootstrap.min.js%22%3E%3C/script%3E%0A%20%20%20%20%3Cscript%20src%3D%22https%3A//cdnjs.cloudflare.com/ajax/libs/Leaflet.awesome-markers/2.0.2/leaflet.awesome-markers.js%22%3E%3C/script%3E%0A%20%20%20%20%3Clink%20rel%3D%22stylesheet%22%20href%3D%22https%3A//cdn.jsdelivr.net/npm/leaflet%401.6.0/dist/leaflet.css%22/%3E%0A%20%20%20%20%3Clink%20rel%3D%22stylesheet%22%20href%3D%22https%3A//maxcdn.bootstrapcdn.com/bootstrap/3.2.0/css/bootstrap.min.css%22/%3E%0A%20%20%20%20%3Clink%20rel%3D%22stylesheet%22%20href%3D%22https%3A//maxcdn.bootstrapcdn.com/bootstrap/3.2.0/css/bootstrap-theme.min.css%22/%3E%0A%20%20%20%20%3Clink%20rel%3D%22stylesheet%22%20href%3D%22https%3A//maxcdn.bootstrapcdn.com/font-awesome/4.6.3/css/font-awesome.min.css%22/%3E%0A%20%20%20%20%3Clink%20rel%3D%22stylesheet%22%20href%3D%22https%3A//cdnjs.cloudflare.com/ajax/libs/Leaflet.awesome-markers/2.0.2/leaflet.awesome-markers.css%22/%3E%0A%20%20%20%20%3Clink%20rel%3D%22stylesheet%22%20href%3D%22https%3A//cdn.jsdelivr.net/gh/python-visualization/folium/folium/templates/leaflet.awesome.rotate.min.css%22/%3E%0A%20%20%20%20%0A%20%20%20%20%20%20%20%20%20%20%20%20%3Cmeta%20name%3D%22viewport%22%20content%3D%22width%3Ddevice-width%2C%0A%20%20%20%20%20%20%20%20%20%20%20%20%20%20%20%20initial-scale%3D1.0%2C%20maximum-scale%3D1.0%2C%20user-scalable%3Dno%22%20/%3E%0A%20%20%20%20%20%20%20%20%20%20%20%20%3Cstyle%3E%0A%20%20%20%20%20%20%20%20%20%20%20%20%20%20%20%20%23map_4c9569615bf4401990b9e9b1f6c07a63%20%7B%0A%20%20%20%20%20%20%20%20%20%20%20%20%20%20%20%20%20%20%20%20position%3A%20relative%3B%0A%20%20%20%20%20%20%20%20%20%20%20%20%20%20%20%20%20%20%20%20width%3A%20100.0%25%3B%0A%20%20%20%20%20%20%20%20%20%20%20%20%20%20%20%20%20%20%20%20height%3A%20100.0%25%3B%0A%20%20%20%20%20%20%20%20%20%20%20%20%20%20%20%20%20%20%20%20left%3A%200.0%25%3B%0A%20%20%20%20%20%20%20%20%20%20%20%20%20%20%20%20%20%20%20%20top%3A%200.0%25%3B%0A%20%20%20%20%20%20%20%20%20%20%20%20%20%20%20%20%7D%0A%20%20%20%20%20%20%20%20%20%20%20%20%3C/style%3E%0A%20%20%20%20%20%20%20%20%0A%3C/head%3E%0A%3Cbody%3E%20%20%20%20%0A%20%20%20%20%0A%20%20%20%20%20%20%20%20%20%20%20%20%3Cdiv%20class%3D%22folium-map%22%20id%3D%22map_4c9569615bf4401990b9e9b1f6c07a63%22%20%3E%3C/div%3E%0A%20%20%20%20%20%20%20%20%0A%3C/body%3E%0A%3Cscript%3E%20%20%20%20%0A%20%20%20%20%0A%20%20%20%20%20%20%20%20%20%20%20%20var%20map_4c9569615bf4401990b9e9b1f6c07a63%20%3D%20L.map%28%0A%20%20%20%20%20%20%20%20%20%20%20%20%20%20%20%20%22map_4c9569615bf4401990b9e9b1f6c07a63%22%2C%0A%20%20%20%20%20%20%20%20%20%20%20%20%20%20%20%20%7B%0A%20%20%20%20%20%20%20%20%20%20%20%20%20%20%20%20%20%20%20%20center%3A%20%5B30.316496%2C%2078.032188%5D%2C%0A%20%20%20%20%20%20%20%20%20%20%20%20%20%20%20%20%20%20%20%20crs%3A%20L.CRS.EPSG3857%2C%0A%20%20%20%20%20%20%20%20%20%20%20%20%20%20%20%20%20%20%20%20zoom%3A%2011%2C%0A%20%20%20%20%20%20%20%20%20%20%20%20%20%20%20%20%20%20%20%20zoomControl%3A%20true%2C%0A%20%20%20%20%20%20%20%20%20%20%20%20%20%20%20%20%20%20%20%20preferCanvas%3A%20false%2C%0A%20%20%20%20%20%20%20%20%20%20%20%20%20%20%20%20%7D%0A%20%20%20%20%20%20%20%20%20%20%20%20%29%3B%0A%20%20%20%20%20%20%20%20%20%20%20%20L.control.scale%28%29.addTo%28map_4c9569615bf4401990b9e9b1f6c07a63%29%3B%0A%0A%20%20%20%20%20%20%20%20%20%20%20%20%0A%0A%20%20%20%20%20%20%20%20%0A%20%20%20%20%0A%20%20%20%20%20%20%20%20%20%20%20%20var%20tile_layer_13f08bf58b614172afa5c99d73de3bba%20%3D%20L.tileLayer%28%0A%20%20%20%20%20%20%20%20%20%20%20%20%20%20%20%20%22https%3A//%7Bs%7D.tile.openstreetmap.org/%7Bz%7D/%7Bx%7D/%7By%7D.png%22%2C%0A%20%20%20%20%20%20%20%20%20%20%20%20%20%20%20%20%7B%22attribution%22%3A%20%22Data%20by%20%5Cu0026copy%3B%20%5Cu003ca%20href%3D%5C%22http%3A//openstreetmap.org%5C%22%5Cu003eOpenStreetMap%5Cu003c/a%5Cu003e%2C%20under%20%5Cu003ca%20href%3D%5C%22http%3A//www.openstreetmap.org/copyright%5C%22%5Cu003eODbL%5Cu003c/a%5Cu003e.%22%2C%20%22detectRetina%22%3A%20false%2C%20%22maxNativeZoom%22%3A%2018%2C%20%22maxZoom%22%3A%2018%2C%20%22minZoom%22%3A%200%2C%20%22noWrap%22%3A%20false%2C%20%22opacity%22%3A%201%2C%20%22subdomains%22%3A%20%22abc%22%2C%20%22tms%22%3A%20false%7D%0A%20%20%20%20%20%20%20%20%20%20%20%20%29.addTo%28map_4c9569615bf4401990b9e9b1f6c07a63%29%3B%0A%20%20%20%20%20%20%20%20%0A%20%20%20%20%0A%20%20%20%20%20%20%20%20%20%20%20%20var%20marker_f9362cc0644f49c4a2b9ee079b19c165%20%3D%20L.marker%28%0A%20%20%20%20%20%20%20%20%20%20%20%20%20%20%20%20%5B30.32557323%2C%2078.03613555%5D%2C%0A%20%20%20%20%20%20%20%20%20%20%20%20%20%20%20%20%7B%7D%0A%20%20%20%20%20%20%20%20%20%20%20%20%29.addTo%28map_4c9569615bf4401990b9e9b1f6c07a63%29%3B%0A%20%20%20%20%20%20%20%20%0A%20%20%20%20%0A%20%20%20%20%20%20%20%20%20%20%20%20var%20icon_d360c50a34c84bbeaf3a4b07e37b24ac%20%3D%20L.AwesomeMarkers.icon%28%0A%20%20%20%20%20%20%20%20%20%20%20%20%20%20%20%20%7B%22extraClasses%22%3A%20%22fa-rotate-0%22%2C%20%22icon%22%3A%20%22star%20empty%22%2C%20%22iconColor%22%3A%20%22white%22%2C%20%22markerColor%22%3A%20%22green%22%2C%20%22prefix%22%3A%20%22glyphicon%22%7D%0A%20%20%20%20%20%20%20%20%20%20%20%20%29%3B%0A%20%20%20%20%20%20%20%20%20%20%20%20marker_f9362cc0644f49c4a2b9ee079b19c165.setIcon%28icon_d360c50a34c84bbeaf3a4b07e37b24ac%29%3B%0A%20%20%20%20%20%20%20%20%0A%20%20%20%20%0A%20%20%20%20%20%20%20%20var%20popup_fb564e0d812742f591eef7b6fcff65c7%20%3D%20L.popup%28%7B%22maxWidth%22%3A%20%22100%25%22%7D%29%3B%0A%0A%20%20%20%20%20%20%20%20%0A%20%20%20%20%20%20%20%20%20%20%20%20var%20html_0264576c6a9542a5af4f816d5751a8c5%20%3D%20%24%28%60%3Cdiv%20id%3D%22html_0264576c6a9542a5af4f816d5751a8c5%22%20style%3D%22width%3A%20100.0%25%3B%20height%3A%20100.0%25%3B%22%3ETheft%2C%20Other%20Property%2C%20%2450-%24200378.0%3C/div%3E%60%29%5B0%5D%3B%0A%20%20%20%20%20%20%20%20%20%20%20%20popup_fb564e0d812742f591eef7b6fcff65c7.setContent%28html_0264576c6a9542a5af4f816d5751a8c5%29%3B%0A%20%20%20%20%20%20%20%20%0A%0A%20%20%20%20%20%20%20%20marker_f9362cc0644f49c4a2b9ee079b19c165.bindPopup%28popup_fb564e0d812742f591eef7b6fcff65c7%29%0A%20%20%20%20%20%20%20%20%3B%0A%0A%20%20%20%20%20%20%20%20%0A%20%20%20%20%0A%20%20%20%20%0A%20%20%20%20%20%20%20%20%20%20%20%20var%20marker_45f54da7346a4ee3aff10dd10f177686%20%3D%20L.marker%28%0A%20%20%20%20%20%20%20%20%20%20%20%20%20%20%20%20%5B30.33031465%2C%2078.08729064%5D%2C%0A%20%20%20%20%20%20%20%20%20%20%20%20%20%20%20%20%7B%7D%0A%20%20%20%20%20%20%20%20%20%20%20%20%29.addTo%28map_4c9569615bf4401990b9e9b1f6c07a63%29%3B%0A%20%20%20%20%20%20%20%20%0A%20%20%20%20%0A%20%20%20%20%20%20%20%20%20%20%20%20var%20icon_c12a85df32fd4c9b94e295f36abe6f68%20%3D%20L.AwesomeMarkers.icon%28%0A%20%20%20%20%20%20%20%20%20%20%20%20%20%20%20%20%7B%22extraClasses%22%3A%20%22fa-rotate-0%22%2C%20%22icon%22%3A%20%22star%20empty%22%2C%20%22iconColor%22%3A%20%22white%22%2C%20%22markerColor%22%3A%20%22green%22%2C%20%22prefix%22%3A%20%22glyphicon%22%7D%0A%20%20%20%20%20%20%20%20%20%20%20%20%29%3B%0A%20%20%20%20%20%20%20%20%20%20%20%20marker_45f54da7346a4ee3aff10dd10f177686.setIcon%28icon_c12a85df32fd4c9b94e295f36abe6f68%29%3B%0A%20%20%20%20%20%20%20%20%0A%20%20%20%20%0A%20%20%20%20%20%20%20%20var%20popup_3d5c074b4eae4f2182f007974455576b%20%3D%20L.popup%28%7B%22maxWidth%22%3A%20%22100%25%22%7D%29%3B%0A%0A%20%20%20%20%20%20%20%20%0A%20%20%20%20%20%20%20%20%20%20%20%20var%20html_6b4b7fb446ed4529ad932e83b5b5029a%20%3D%20%24%28%60%3Cdiv%20id%3D%22html_6b4b7fb446ed4529ad932e83b5b5029a%22%20style%3D%22width%3A%20100.0%25%3B%20height%3A%20100.0%25%3B%22%3ETheft%2C%20From%20Unlocked%20Vehicle%2C%20%3E%24950378.0%3C/div%3E%60%29%5B0%5D%3B%0A%20%20%20%20%20%20%20%20%20%20%20%20popup_3d5c074b4eae4f2182f007974455576b.setContent%28html_6b4b7fb446ed4529ad932e83b5b5029a%29%3B%0A%20%20%20%20%20%20%20%20%0A%0A%20%20%20%20%20%20%20%20marker_45f54da7346a4ee3aff10dd10f177686.bindPopup%28popup_3d5c074b4eae4f2182f007974455576b%29%0A%20%20%20%20%20%20%20%20%3B%0A%0A%20%20%20%20%20%20%20%20%0A%20%20%20%20%0A%20%20%20%20%0A%20%20%20%20%20%20%20%20%20%20%20%20var%20marker_50d02d2049ce4aff93dbe072fa9311a0%20%3D%20L.marker%28%0A%20%20%20%20%20%20%20%20%20%20%20%20%20%20%20%20%5B30.45938256%2C%2078.0737483%5D%2C%0A%20%20%20%20%20%20%20%20%20%20%20%20%20%20%20%20%7B%7D%0A%20%20%20%20%20%20%20%20%20%20%20%20%29.addTo%28map_4c9569615bf4401990b9e9b1f6c07a63%29%3B%0A%20%20%20%20%20%20%20%20%0A%20%20%20%20%0A%20%20%20%20%20%20%20%20%20%20%20%20var%20icon_39c4d085f9fe486da11f4fd4f91f878e%20%3D%20L.AwesomeMarkers.icon%28%0A%20%20%20%20%20%20%20%20%20%20%20%20%20%20%20%20%7B%22extraClasses%22%3A%20%22fa-rotate-0%22%2C%20%22icon%22%3A%20%22star%20empty%22%2C%20%22iconColor%22%3A%20%22white%22%2C%20%22markerColor%22%3A%20%22green%22%2C%20%22prefix%22%3A%20%22glyphicon%22%7D%0A%20%20%20%20%20%20%20%20%20%20%20%20%29%3B%0A%20%20%20%20%20%20%20%20%20%20%20%20marker_50d02d2049ce4aff93dbe072fa9311a0.setIcon%28icon_39c4d085f9fe486da11f4fd4f91f878e%29%3B%0A%20%20%20%20%20%20%20%20%0A%20%20%20%20%0A%20%20%20%20%20%20%20%20var%20popup_86fcfac6678d41ceae905f9b23412c81%20%3D%20L.popup%28%7B%22maxWidth%22%3A%20%22100%25%22%7D%29%3B%0A%0A%20%20%20%20%20%20%20%20%0A%20%20%20%20%20%20%20%20%20%20%20%20var%20html_4da5267c9a5645b28e407c6b57f82ee8%20%3D%20%24%28%60%3Cdiv%20id%3D%22html_4da5267c9a5645b28e407c6b57f82ee8%22%20style%3D%22width%3A%20100.0%25%3B%20height%3A%20100.0%25%3B%22%3ETheft%2C%20From%20Person%2C%20%3E%24950%20%28other%20than%20Pickpocket%29378.0%3C/div%3E%60%29%5B0%5D%3B%0A%20%20%20%20%20%20%20%20%20%20%20%20popup_86fcfac6678d41ceae905f9b23412c81.setContent%28html_4da5267c9a5645b28e407c6b57f82ee8%29%3B%0A%20%20%20%20%20%20%20%20%0A%0A%20%20%20%20%20%20%20%20marker_50d02d2049ce4aff93dbe072fa9311a0.bindPopup%28popup_86fcfac6678d41ceae905f9b23412c81%29%0A%20%20%20%20%20%20%20%20%3B%0A%0A%20%20%20%20%20%20%20%20%0A%20%20%20%20%0A%20%20%20%20%0A%20%20%20%20%20%20%20%20%20%20%20%20var%20marker_a4209677888645ddb383327bc5737ac6%20%3D%20L.marker%28%0A%20%20%20%20%20%20%20%20%20%20%20%20%20%20%20%20%5B30.47883671%2C%2077.79530353%5D%2C%0A%20%20%20%20%20%20%20%20%20%20%20%20%20%20%20%20%7B%7D%0A%20%20%20%20%20%20%20%20%20%20%20%20%29.addTo%28map_4c9569615bf4401990b9e9b1f6c07a63%29%3B%0A%20%20%20%20%20%20%20%20%0A%20%20%20%20%0A%20%20%20%20%20%20%20%20%20%20%20%20var%20icon_7f8d12b32c524d97b9c574ca23bd355d%20%3D%20L.AwesomeMarkers.icon%28%0A%20%20%20%20%20%20%20%20%20%20%20%20%20%20%20%20%7B%22extraClasses%22%3A%20%22fa-rotate-0%22%2C%20%22icon%22%3A%20%22star%20empty%22%2C%20%22iconColor%22%3A%20%22white%22%2C%20%22markerColor%22%3A%20%22green%22%2C%20%22prefix%22%3A%20%22glyphicon%22%7D%0A%20%20%20%20%20%20%20%20%20%20%20%20%29%3B%0A%20%20%20%20%20%20%20%20%20%20%20%20marker_a4209677888645ddb383327bc5737ac6.setIcon%28icon_7f8d12b32c524d97b9c574ca23bd355d%29%3B%0A%20%20%20%20%20%20%20%20%0A%20%20%20%20%0A%20%20%20%20%20%20%20%20var%20popup_03ad3355d4dd4e68b8294e497ad79e95%20%3D%20L.popup%28%7B%22maxWidth%22%3A%20%22100%25%22%7D%29%3B%0A%0A%20%20%20%20%20%20%20%20%0A%20%20%20%20%20%20%20%20%20%20%20%20var%20html_ab3261ff27ef4c44a7d6f4f28ffcd966%20%3D%20%24%28%60%3Cdiv%20id%3D%22html_ab3261ff27ef4c44a7d6f4f28ffcd966%22%20style%3D%22width%3A%20100.0%25%3B%20height%3A%20100.0%25%3B%22%3ETheft%2C%20Other%20Property%2C%20%3E%24950378.0%3C/div%3E%60%29%5B0%5D%3B%0A%20%20%20%20%20%20%20%20%20%20%20%20popup_03ad3355d4dd4e68b8294e497ad79e95.setContent%28html_ab3261ff27ef4c44a7d6f4f28ffcd966%29%3B%0A%20%20%20%20%20%20%20%20%0A%0A%20%20%20%20%20%20%20%20marker_a4209677888645ddb383327bc5737ac6.bindPopup%28popup_03ad3355d4dd4e68b8294e497ad79e95%29%0A%20%20%20%20%20%20%20%20%3B%0A%0A%20%20%20%20%20%20%20%20%0A%20%20%20%20%0A%20%20%20%20%0A%20%20%20%20%20%20%20%20%20%20%20%20var%20marker_4cfa398672874db49d0f8386c8c4d352%20%3D%20L.marker%28%0A%20%20%20%20%20%20%20%20%20%20%20%20%20%20%20%20%5B30.18001883%2C%2078.12479473%5D%2C%0A%20%20%20%20%20%20%20%20%20%20%20%20%20%20%20%20%7B%7D%0A%20%20%20%20%20%20%20%20%20%20%20%20%29.addTo%28map_4c9569615bf4401990b9e9b1f6c07a63%29%3B%0A%20%20%20%20%20%20%20%20%0A%20%20%20%20%0A%20%20%20%20%20%20%20%20%20%20%20%20var%20icon_37dcb56b38ab44b1adebe2d8413f2998%20%3D%20L.AwesomeMarkers.icon%28%0A%20%20%20%20%20%20%20%20%20%20%20%20%20%20%20%20%7B%22extraClasses%22%3A%20%22fa-rotate-0%22%2C%20%22icon%22%3A%20%22star%20empty%22%2C%20%22iconColor%22%3A%20%22white%22%2C%20%22markerColor%22%3A%20%22green%22%2C%20%22prefix%22%3A%20%22glyphicon%22%7D%0A%20%20%20%20%20%20%20%20%20%20%20%20%29%3B%0A%20%20%20%20%20%20%20%20%20%20%20%20marker_4cfa398672874db49d0f8386c8c4d352.setIcon%28icon_37dcb56b38ab44b1adebe2d8413f2998%29%3B%0A%20%20%20%20%20%20%20%20%0A%20%20%20%20%0A%20%20%20%20%20%20%20%20var%20popup_5a69518df88c4683984cfee0d2012ac9%20%3D%20L.popup%28%7B%22maxWidth%22%3A%20%22100%25%22%7D%29%3B%0A%0A%20%20%20%20%20%20%20%20%0A%20%20%20%20%20%20%20%20%20%20%20%20var%20html_e307af121f4844da8de9107af3be7e69%20%3D%20%24%28%60%3Cdiv%20id%3D%22html_e307af121f4844da8de9107af3be7e69%22%20style%3D%22width%3A%20100.0%25%3B%20height%3A%20100.0%25%3B%22%3EBattery351.0%3C/div%3E%60%29%5B0%5D%3B%0A%20%20%20%20%20%20%20%20%20%20%20%20popup_5a69518df88c4683984cfee0d2012ac9.setContent%28html_e307af121f4844da8de9107af3be7e69%29%3B%0A%20%20%20%20%20%20%20%20%0A%0A%20%20%20%20%20%20%20%20marker_4cfa398672874db49d0f8386c8c4d352.bindPopup%28popup_5a69518df88c4683984cfee0d2012ac9%29%0A%20%20%20%20%20%20%20%20%3B%0A%0A%20%20%20%20%20%20%20%20%0A%20%20%20%20%0A%20%20%20%20%0A%20%20%20%20%20%20%20%20%20%20%20%20var%20marker_004ec1ea09f94d559b9ea8b8f7879581%20%3D%20L.marker%28%0A%20%20%20%20%20%20%20%20%20%20%20%20%20%20%20%20%5B30.2930492%2C%2078.01786337%5D%2C%0A%20%20%20%20%20%20%20%20%20%20%20%20%20%20%20%20%7B%7D%0A%20%20%20%20%20%20%20%20%20%20%20%20%29.addTo%28map_4c9569615bf4401990b9e9b1f6c07a63%29%3B%0A%20%20%20%20%20%20%20%20%0A%20%20%20%20%0A%20%20%20%20%20%20%20%20%20%20%20%20var%20icon_7e950b4e1763419bbaf3c8e1370cbb98%20%3D%20L.AwesomeMarkers.icon%28%0A%20%20%20%20%20%20%20%20%20%20%20%20%20%20%20%20%7B%22extraClasses%22%3A%20%22fa-rotate-0%22%2C%20%22icon%22%3A%20%22star%20empty%22%2C%20%22iconColor%22%3A%20%22white%22%2C%20%22markerColor%22%3A%20%22green%22%2C%20%22prefix%22%3A%20%22glyphicon%22%7D%0A%20%20%20%20%20%20%20%20%20%20%20%20%29%3B%0A%20%20%20%20%20%20%20%20%20%20%20%20marker_004ec1ea09f94d559b9ea8b8f7879581.setIcon%28icon_7e950b4e1763419bbaf3c8e1370cbb98%29%3B%0A%20%20%20%20%20%20%20%20%0A%20%20%20%20%0A%20%20%20%20%20%20%20%20var%20popup_9e4195ab677544db8c469246dc54637a%20%3D%20L.popup%28%7B%22maxWidth%22%3A%20%22100%25%22%7D%29%3B%0A%0A%20%20%20%20%20%20%20%20%0A%20%20%20%20%20%20%20%20%20%20%20%20var%20html_ef3537b6b76e4e5cbc32b805b747554a%20%3D%20%24%28%60%3Cdiv%20id%3D%22html_ef3537b6b76e4e5cbc32b805b747554a%22%20style%3D%22width%3A%20100.0%25%3B%20height%3A%20100.0%25%3B%22%3EFound%20Person359.0%3C/div%3E%60%29%5B0%5D%3B%0A%20%20%20%20%20%20%20%20%20%20%20%20popup_9e4195ab677544db8c469246dc54637a.setContent%28html_ef3537b6b76e4e5cbc32b805b747554a%29%3B%0A%20%20%20%20%20%20%20%20%0A%0A%20%20%20%20%20%20%20%20marker_004ec1ea09f94d559b9ea8b8f7879581.bindPopup%28popup_9e4195ab677544db8c469246dc54637a%29%0A%20%20%20%20%20%20%20%20%3B%0A%0A%20%20%20%20%20%20%20%20%0A%20%20%20%20%0A%20%20%20%20%0A%20%20%20%20%20%20%20%20%20%20%20%20var%20marker_6d083e5828bc404db0f4a51536c28de3%20%3D%20L.marker%28%0A%20%20%20%20%20%20%20%20%20%20%20%20%20%20%20%20%5B30.31937279%2C%2077.99168358%5D%2C%0A%20%20%20%20%20%20%20%20%20%20%20%20%20%20%20%20%7B%7D%0A%20%20%20%20%20%20%20%20%20%20%20%20%29.addTo%28map_4c9569615bf4401990b9e9b1f6c07a63%29%3B%0A%20%20%20%20%20%20%20%20%0A%20%20%20%20%0A%20%20%20%20%20%20%20%20%20%20%20%20var%20icon_fea73ec6c3aa45ff888bf6b2d36dacac%20%3D%20L.AwesomeMarkers.icon%28%0A%20%20%20%20%20%20%20%20%20%20%20%20%20%20%20%20%7B%22extraClasses%22%3A%20%22fa-rotate-0%22%2C%20%22icon%22%3A%20%22star%20empty%22%2C%20%22iconColor%22%3A%20%22white%22%2C%20%22markerColor%22%3A%20%22green%22%2C%20%22prefix%22%3A%20%22glyphicon%22%7D%0A%20%20%20%20%20%20%20%20%20%20%20%20%29%3B%0A%20%20%20%20%20%20%20%20%20%20%20%20marker_6d083e5828bc404db0f4a51536c28de3.setIcon%28icon_fea73ec6c3aa45ff888bf6b2d36dacac%29%3B%0A%20%20%20%20%20%20%20%20%0A%20%20%20%20%0A%20%20%20%20%20%20%20%20var%20popup_da8e87e75e8c4307a84714e09a5db20c%20%3D%20L.popup%28%7B%22maxWidth%22%3A%20%22100%25%22%7D%29%3B%0A%0A%20%20%20%20%20%20%20%20%0A%20%20%20%20%20%20%20%20%20%20%20%20var%20html_e5ba912b7be5469fa4239acf4a55f474%20%3D%20%24%28%60%3Cdiv%20id%3D%22html_e5ba912b7be5469fa4239acf4a55f474%22%20style%3D%22width%3A%20100.0%25%3B%20height%3A%20100.0%25%3B%22%3ENarcotics%20Paraphernalia%2C%20Possession%20of274.0%3C/div%3E%60%29%5B0%5D%3B%0A%20%20%20%20%20%20%20%20%20%20%20%20popup_da8e87e75e8c4307a84714e09a5db20c.setContent%28html_e5ba912b7be5469fa4239acf4a55f474%29%3B%0A%20%20%20%20%20%20%20%20%0A%0A%20%20%20%20%20%20%20%20marker_6d083e5828bc404db0f4a51536c28de3.bindPopup%28popup_da8e87e75e8c4307a84714e09a5db20c%29%0A%20%20%20%20%20%20%20%20%3B%0A%0A%20%20%20%20%20%20%20%20%0A%20%20%20%20%0A%20%20%20%20%0A%20%20%20%20%20%20%20%20%20%20%20%20var%20marker_e6855d28615e4e228c3c56b2cf1e4efe%20%3D%20L.marker%28%0A%20%20%20%20%20%20%20%20%20%20%20%20%20%20%20%20%5B30.29125109%2C%2078.05355562%5D%2C%0A%20%20%20%20%20%20%20%20%20%20%20%20%20%20%20%20%7B%7D%0A%20%20%20%20%20%20%20%20%20%20%20%20%29.addTo%28map_4c9569615bf4401990b9e9b1f6c07a63%29%3B%0A%20%20%20%20%20%20%20%20%0A%20%20%20%20%0A%20%20%20%20%20%20%20%20%20%20%20%20var%20icon_d9bf66da58c145ca8b400dff7def199f%20%3D%20L.AwesomeMarkers.icon%28%0A%20%20%20%20%20%20%20%20%20%20%20%20%20%20%20%20%7B%22extraClasses%22%3A%20%22fa-rotate-0%22%2C%20%22icon%22%3A%20%22star%20empty%22%2C%20%22iconColor%22%3A%20%22white%22%2C%20%22markerColor%22%3A%20%22green%22%2C%20%22prefix%22%3A%20%22glyphicon%22%7D%0A%20%20%20%20%20%20%20%20%20%20%20%20%29%3B%0A%20%20%20%20%20%20%20%20%20%20%20%20marker_e6855d28615e4e228c3c56b2cf1e4efe.setIcon%28icon_d9bf66da58c145ca8b400dff7def199f%29%3B%0A%20%20%20%20%20%20%20%20%0A%20%20%20%20%0A%20%20%20%20%20%20%20%20var%20popup_a4a9b2f2766145d7b5d0cddab35fcfb2%20%3D%20L.popup%28%7B%22maxWidth%22%3A%20%22100%25%22%7D%29%3B%0A%0A%20%20%20%20%20%20%20%20%0A%20%20%20%20%20%20%20%20%20%20%20%20var%20html_6a231acb43084111a0e01868cf223007%20%3D%20%24%28%60%3Cdiv%20id%3D%22html_6a231acb43084111a0e01868cf223007%22%20style%3D%22width%3A%20100.0%25%3B%20height%3A%20100.0%25%3B%22%3ETheft%2C%20Other%20Property%2C%20%3E%24950378.0%3C/div%3E%60%29%5B0%5D%3B%0A%20%20%20%20%20%20%20%20%20%20%20%20popup_a4a9b2f2766145d7b5d0cddab35fcfb2.setContent%28html_6a231acb43084111a0e01868cf223007%29%3B%0A%20%20%20%20%20%20%20%20%0A%0A%20%20%20%20%20%20%20%20marker_e6855d28615e4e228c3c56b2cf1e4efe.bindPopup%28popup_a4a9b2f2766145d7b5d0cddab35fcfb2%29%0A%20%20%20%20%20%20%20%20%3B%0A%0A%20%20%20%20%20%20%20%20%0A%20%20%20%20%0A%20%20%20%20%0A%20%20%20%20%20%20%20%20%20%20%20%20var%20marker_d1d8dc6eecb24334ad30f589c7bdaa1b%20%3D%20L.marker%28%0A%20%20%20%20%20%20%20%20%20%20%20%20%20%20%20%20%5B30.40229675%2C%2078.09621703%5D%2C%0A%20%20%20%20%20%20%20%20%20%20%20%20%20%20%20%20%7B%7D%0A%20%20%20%20%20%20%20%20%20%20%20%20%29.addTo%28map_4c9569615bf4401990b9e9b1f6c07a63%29%3B%0A%20%20%20%20%20%20%20%20%0A%20%20%20%20%0A%20%20%20%20%20%20%20%20%20%20%20%20var%20icon_9fd2d3f498634b819b92cfe8a7115f05%20%3D%20L.AwesomeMarkers.icon%28%0A%20%20%20%20%20%20%20%20%20%20%20%20%20%20%20%20%7B%22extraClasses%22%3A%20%22fa-rotate-0%22%2C%20%22icon%22%3A%20%22star%20empty%22%2C%20%22iconColor%22%3A%20%22white%22%2C%20%22markerColor%22%3A%20%22green%22%2C%20%22prefix%22%3A%20%22glyphicon%22%7D%0A%20%20%20%20%20%20%20%20%20%20%20%20%29%3B%0A%20%20%20%20%20%20%20%20%20%20%20%20marker_d1d8dc6eecb24334ad30f589c7bdaa1b.setIcon%28icon_9fd2d3f498634b819b92cfe8a7115f05%29%3B%0A%20%20%20%20%20%20%20%20%0A%20%20%20%20%0A%20%20%20%20%20%20%20%20var%20popup_ce094e610f4442e9af54a1cda3af1f2d%20%3D%20L.popup%28%7B%22maxWidth%22%3A%20%22100%25%22%7D%29%3B%0A%0A%20%20%20%20%20%20%20%20%0A%20%20%20%20%20%20%20%20%20%20%20%20var%20html_b0cea48292884a248a8e04835009a477%20%3D%20%24%28%60%3Cdiv%20id%3D%22html_b0cea48292884a248a8e04835009a477%22%20style%3D%22width%3A%20100.0%25%3B%20height%3A%20100.0%25%3B%22%3EFirearm%2C%20Loaded%2C%20in%20Vehicle%2C%20Possession%20or%20Use141.0%3C/div%3E%60%29%5B0%5D%3B%0A%20%20%20%20%20%20%20%20%20%20%20%20popup_ce094e610f4442e9af54a1cda3af1f2d.setContent%28html_b0cea48292884a248a8e04835009a477%29%3B%0A%20%20%20%20%20%20%20%20%0A%0A%20%20%20%20%20%20%20%20marker_d1d8dc6eecb24334ad30f589c7bdaa1b.bindPopup%28popup_ce094e610f4442e9af54a1cda3af1f2d%29%0A%20%20%20%20%20%20%20%20%3B%0A%0A%20%20%20%20%20%20%20%20%0A%20%20%20%20%0A%20%20%20%20%0A%20%20%20%20%20%20%20%20%20%20%20%20var%20marker_2da9519ff322402a8136192b7440283a%20%3D%20L.marker%28%0A%20%20%20%20%20%20%20%20%20%20%20%20%20%20%20%20%5B30.03549113%2C%2078.20999112%5D%2C%0A%20%20%20%20%20%20%20%20%20%20%20%20%20%20%20%20%7B%7D%0A%20%20%20%20%20%20%20%20%20%20%20%20%29.addTo%28map_4c9569615bf4401990b9e9b1f6c07a63%29%3B%0A%20%20%20%20%20%20%20%20%0A%20%20%20%20%0A%20%20%20%20%20%20%20%20%20%20%20%20var%20icon_8649d0527d02490abbf1eedf1e7fc047%20%3D%20L.AwesomeMarkers.icon%28%0A%20%20%20%20%20%20%20%20%20%20%20%20%20%20%20%20%7B%22extraClasses%22%3A%20%22fa-rotate-0%22%2C%20%22icon%22%3A%20%22star%20empty%22%2C%20%22iconColor%22%3A%20%22white%22%2C%20%22markerColor%22%3A%20%22green%22%2C%20%22prefix%22%3A%20%22glyphicon%22%7D%0A%20%20%20%20%20%20%20%20%20%20%20%20%29%3B%0A%20%20%20%20%20%20%20%20%20%20%20%20marker_2da9519ff322402a8136192b7440283a.setIcon%28icon_8649d0527d02490abbf1eedf1e7fc047%29%3B%0A%20%20%20%20%20%20%20%20%0A%20%20%20%20%0A%20%20%20%20%20%20%20%20var%20popup_d9b50fc125da47edabb51290e87ed933%20%3D%20L.popup%28%7B%22maxWidth%22%3A%20%22100%25%22%7D%29%3B%0A%0A%20%20%20%20%20%20%20%20%0A%20%20%20%20%20%20%20%20%20%20%20%20var%20html_187ef6c117a14dad8143f39729753010%20%3D%20%24%28%60%3Cdiv%20id%3D%22html_187ef6c117a14dad8143f39729753010%22%20style%3D%22width%3A%20100.0%25%3B%20height%3A%20100.0%25%3B%22%3ETraffic%20Violation%20Arrest506.0%3C/div%3E%60%29%5B0%5D%3B%0A%20%20%20%20%20%20%20%20%20%20%20%20popup_d9b50fc125da47edabb51290e87ed933.setContent%28html_187ef6c117a14dad8143f39729753010%29%3B%0A%20%20%20%20%20%20%20%20%0A%0A%20%20%20%20%20%20%20%20marker_2da9519ff322402a8136192b7440283a.bindPopup%28popup_d9b50fc125da47edabb51290e87ed933%29%0A%20%20%20%20%20%20%20%20%3B%0A%0A%20%20%20%20%20%20%20%20%0A%20%20%20%20%0A%20%20%20%20%0A%20%20%20%20%20%20%20%20%20%20%20%20var%20marker_478e6d4e3cda437a8cd71730d600de7e%20%3D%20L.marker%28%0A%20%20%20%20%20%20%20%20%20%20%20%20%20%20%20%20%5B30.26521338%2C%2078.00184242%5D%2C%0A%20%20%20%20%20%20%20%20%20%20%20%20%20%20%20%20%7B%7D%0A%20%20%20%20%20%20%20%20%20%20%20%20%29.addTo%28map_4c9569615bf4401990b9e9b1f6c07a63%29%3B%0A%20%20%20%20%20%20%20%20%0A%20%20%20%20%0A%20%20%20%20%20%20%20%20%20%20%20%20var%20icon_44a60b9c33824e02aad218554c05fae6%20%3D%20L.AwesomeMarkers.icon%28%0A%20%20%20%20%20%20%20%20%20%20%20%20%20%20%20%20%7B%22extraClasses%22%3A%20%22fa-rotate-0%22%2C%20%22icon%22%3A%20%22star%20empty%22%2C%20%22iconColor%22%3A%20%22white%22%2C%20%22markerColor%22%3A%20%22green%22%2C%20%22prefix%22%3A%20%22glyphicon%22%7D%0A%20%20%20%20%20%20%20%20%20%20%20%20%29%3B%0A%20%20%20%20%20%20%20%20%20%20%20%20marker_478e6d4e3cda437a8cd71730d600de7e.setIcon%28icon_44a60b9c33824e02aad218554c05fae6%29%3B%0A%20%20%20%20%20%20%20%20%0A%20%20%20%20%0A%20%20%20%20%20%20%20%20var%20popup_c8631f349b9641cf8a0d72896d108cbf%20%3D%20L.popup%28%7B%22maxWidth%22%3A%20%22100%25%22%7D%29%3B%0A%0A%20%20%20%20%20%20%20%20%0A%20%20%20%20%20%20%20%20%20%20%20%20var%20html_c49467a619ec48f9bbec0ff8163899b4%20%3D%20%24%28%60%3Cdiv%20id%3D%22html_c49467a619ec48f9bbec0ff8163899b4%22%20style%3D%22width%3A%20100.0%25%3B%20height%3A%20100.0%25%3B%22%3ETrespassing441.0%3C/div%3E%60%29%5B0%5D%3B%0A%20%20%20%20%20%20%20%20%20%20%20%20popup_c8631f349b9641cf8a0d72896d108cbf.setContent%28html_c49467a619ec48f9bbec0ff8163899b4%29%3B%0A%20%20%20%20%20%20%20%20%0A%0A%20%20%20%20%20%20%20%20marker_478e6d4e3cda437a8cd71730d600de7e.bindPopup%28popup_c8631f349b9641cf8a0d72896d108cbf%29%0A%20%20%20%20%20%20%20%20%3B%0A%0A%20%20%20%20%20%20%20%20%0A%20%20%20%20%0A%20%20%20%20%0A%20%20%20%20%20%20%20%20%20%20%20%20var%20marker_410993229e814bd793cfc98ffc7be7fe%20%3D%20L.marker%28%0A%20%20%20%20%20%20%20%20%20%20%20%20%20%20%20%20%5B30.3936164%2C%2077.80648334%5D%2C%0A%20%20%20%20%20%20%20%20%20%20%20%20%20%20%20%20%7B%7D%0A%20%20%20%20%20%20%20%20%20%20%20%20%29.addTo%28map_4c9569615bf4401990b9e9b1f6c07a63%29%3B%0A%20%20%20%20%20%20%20%20%0A%20%20%20%20%0A%20%20%20%20%20%20%20%20%20%20%20%20var%20icon_4ad10e2370fa4161a7787b8f0dd205ff%20%3D%20L.AwesomeMarkers.icon%28%0A%20%20%20%20%20%20%20%20%20%20%20%20%20%20%20%20%7B%22extraClasses%22%3A%20%22fa-rotate-0%22%2C%20%22icon%22%3A%20%22star%20empty%22%2C%20%22iconColor%22%3A%20%22white%22%2C%20%22markerColor%22%3A%20%22green%22%2C%20%22prefix%22%3A%20%22glyphicon%22%7D%0A%20%20%20%20%20%20%20%20%20%20%20%20%29%3B%0A%20%20%20%20%20%20%20%20%20%20%20%20marker_410993229e814bd793cfc98ffc7be7fe.setIcon%28icon_4ad10e2370fa4161a7787b8f0dd205ff%29%3B%0A%20%20%20%20%20%20%20%20%0A%20%20%20%20%0A%20%20%20%20%20%20%20%20var%20popup_5ce51c86ffd5452a91eb53fdbdd2047f%20%3D%20L.popup%28%7B%22maxWidth%22%3A%20%22100%25%22%7D%29%3B%0A%0A%20%20%20%20%20%20%20%20%0A%20%20%20%20%20%20%20%20%20%20%20%20var%20html_bd86af1097954936ba9b25341e4784e0%20%3D%20%24%28%60%3Cdiv%20id%3D%22html_bd86af1097954936ba9b25341e4784e0%22%20style%3D%22width%3A%20100.0%25%3B%20height%3A%20100.0%25%3B%22%3ETheft%2C%20Other%20Property%2C%20%2450-%24200378.0%3C/div%3E%60%29%5B0%5D%3B%0A%20%20%20%20%20%20%20%20%20%20%20%20popup_5ce51c86ffd5452a91eb53fdbdd2047f.setContent%28html_bd86af1097954936ba9b25341e4784e0%29%3B%0A%20%20%20%20%20%20%20%20%0A%0A%20%20%20%20%20%20%20%20marker_410993229e814bd793cfc98ffc7be7fe.bindPopup%28popup_5ce51c86ffd5452a91eb53fdbdd2047f%29%0A%20%20%20%20%20%20%20%20%3B%0A%0A%20%20%20%20%20%20%20%20%0A%20%20%20%20%0A%20%20%20%20%0A%20%20%20%20%20%20%20%20%20%20%20%20var%20marker_f582e73d93b14475b012c7a66558c9f3%20%3D%20L.marker%28%0A%20%20%20%20%20%20%20%20%20%20%20%20%20%20%20%20%5B30.61570025%2C%2077.02461281%5D%2C%0A%20%20%20%20%20%20%20%20%20%20%20%20%20%20%20%20%7B%7D%0A%20%20%20%20%20%20%20%20%20%20%20%20%29.addTo%28map_4c9569615bf4401990b9e9b1f6c07a63%29%3B%0A%20%20%20%20%20%20%20%20%0A%20%20%20%20%0A%20%20%20%20%20%20%20%20%20%20%20%20var%20icon_5dc310f5fce541c3bbd87480140b5bcb%20%3D%20L.AwesomeMarkers.icon%28%0A%20%20%20%20%20%20%20%20%20%20%20%20%20%20%20%20%7B%22extraClasses%22%3A%20%22fa-rotate-0%22%2C%20%22icon%22%3A%20%22star%20empty%22%2C%20%22iconColor%22%3A%20%22white%22%2C%20%22markerColor%22%3A%20%22green%22%2C%20%22prefix%22%3A%20%22glyphicon%22%7D%0A%20%20%20%20%20%20%20%20%20%20%20%20%29%3B%0A%20%20%20%20%20%20%20%20%20%20%20%20marker_f582e73d93b14475b012c7a66558c9f3.setIcon%28icon_5dc310f5fce541c3bbd87480140b5bcb%29%3B%0A%20%20%20%20%20%20%20%20%0A%20%20%20%20%0A%20%20%20%20%20%20%20%20var%20popup_1aca8ae1f4d34a44a7379185e433da09%20%3D%20L.popup%28%7B%22maxWidth%22%3A%20%22100%25%22%7D%29%3B%0A%0A%20%20%20%20%20%20%20%20%0A%20%20%20%20%20%20%20%20%20%20%20%20var%20html_a329167085ca4749b6e6bd6d6def32ef%20%3D%20%24%28%60%3Cdiv%20id%3D%22html_a329167085ca4749b6e6bd6d6def32ef%22%20style%3D%22width%3A%20100.0%25%3B%20height%3A%20100.0%25%3B%22%3EAssault%2C%20Aggravated%2C%20W/%20Other%20Weapon351.0%3C/div%3E%60%29%5B0%5D%3B%0A%20%20%20%20%20%20%20%20%20%20%20%20popup_1aca8ae1f4d34a44a7379185e433da09.setContent%28html_a329167085ca4749b6e6bd6d6def32ef%29%3B%0A%20%20%20%20%20%20%20%20%0A%0A%20%20%20%20%20%20%20%20marker_f582e73d93b14475b012c7a66558c9f3.bindPopup%28popup_1aca8ae1f4d34a44a7379185e433da09%29%0A%20%20%20%20%20%20%20%20%3B%0A%0A%20%20%20%20%20%20%20%20%0A%20%20%20%20%0A%20%20%20%20%0A%20%20%20%20%20%20%20%20%20%20%20%20var%20marker_ceac5095926d49a4ae730574c5884343%20%3D%20L.marker%28%0A%20%20%20%20%20%20%20%20%20%20%20%20%20%20%20%20%5B30.53943372%2C%2077.83897212%5D%2C%0A%20%20%20%20%20%20%20%20%20%20%20%20%20%20%20%20%7B%7D%0A%20%20%20%20%20%20%20%20%20%20%20%20%29.addTo%28map_4c9569615bf4401990b9e9b1f6c07a63%29%3B%0A%20%20%20%20%20%20%20%20%0A%20%20%20%20%0A%20%20%20%20%20%20%20%20%20%20%20%20var%20icon_034faa367f9d4179a3c391a3598273ff%20%3D%20L.AwesomeMarkers.icon%28%0A%20%20%20%20%20%20%20%20%20%20%20%20%20%20%20%20%7B%22extraClasses%22%3A%20%22fa-rotate-0%22%2C%20%22icon%22%3A%20%22star%20empty%22%2C%20%22iconColor%22%3A%20%22white%22%2C%20%22markerColor%22%3A%20%22green%22%2C%20%22prefix%22%3A%20%22glyphicon%22%7D%0A%20%20%20%20%20%20%20%20%20%20%20%20%29%3B%0A%20%20%20%20%20%20%20%20%20%20%20%20marker_ceac5095926d49a4ae730574c5884343.setIcon%28icon_034faa367f9d4179a3c391a3598273ff%29%3B%0A%20%20%20%20%20%20%20%20%0A%20%20%20%20%0A%20%20%20%20%20%20%20%20var%20popup_2190006b653b4916aef4bb6cae3ab079%20%3D%20L.popup%28%7B%22maxWidth%22%3A%20%22100%25%22%7D%29%3B%0A%0A%20%20%20%20%20%20%20%20%0A%20%20%20%20%20%20%20%20%20%20%20%20var%20html_f6ba26269ffa44d5be75f6ad14fdd8f4%20%3D%20%24%28%60%3Cdiv%20id%3D%22html_f6ba26269ffa44d5be75f6ad14fdd8f4%22%20style%3D%22width%3A%20100.0%25%3B%20height%3A%20100.0%25%3B%22%3ENarcotics%20Paraphernalia%2C%20Possession%20of274.0%3C/div%3E%60%29%5B0%5D%3B%0A%20%20%20%20%20%20%20%20%20%20%20%20popup_2190006b653b4916aef4bb6cae3ab079.setContent%28html_f6ba26269ffa44d5be75f6ad14fdd8f4%29%3B%0A%20%20%20%20%20%20%20%20%0A%0A%20%20%20%20%20%20%20%20marker_ceac5095926d49a4ae730574c5884343.bindPopup%28popup_2190006b653b4916aef4bb6cae3ab079%29%0A%20%20%20%20%20%20%20%20%3B%0A%0A%20%20%20%20%20%20%20%20%0A%20%20%20%20%0A%20%20%20%20%0A%20%20%20%20%20%20%20%20%20%20%20%20var%20marker_2a9e2cb90ebb45d791bdda2c0028ba85%20%3D%20L.marker%28%0A%20%20%20%20%20%20%20%20%20%20%20%20%20%20%20%20%5B30.52346564%2C%2077.84752808%5D%2C%0A%20%20%20%20%20%20%20%20%20%20%20%20%20%20%20%20%7B%7D%0A%20%20%20%20%20%20%20%20%20%20%20%20%29.addTo%28map_4c9569615bf4401990b9e9b1f6c07a63%29%3B%0A%20%20%20%20%20%20%20%20%0A%20%20%20%20%0A%20%20%20%20%20%20%20%20%20%20%20%20var%20icon_b89ad87f3f804f8eaf858b72bc329fe6%20%3D%20L.AwesomeMarkers.icon%28%0A%20%20%20%20%20%20%20%20%20%20%20%20%20%20%20%20%7B%22extraClasses%22%3A%20%22fa-rotate-0%22%2C%20%22icon%22%3A%20%22star%20empty%22%2C%20%22iconColor%22%3A%20%22white%22%2C%20%22markerColor%22%3A%20%22green%22%2C%20%22prefix%22%3A%20%22glyphicon%22%7D%0A%20%20%20%20%20%20%20%20%20%20%20%20%29%3B%0A%20%20%20%20%20%20%20%20%20%20%20%20marker_2a9e2cb90ebb45d791bdda2c0028ba85.setIcon%28icon_b89ad87f3f804f8eaf858b72bc329fe6%29%3B%0A%20%20%20%20%20%20%20%20%0A%20%20%20%20%0A%20%20%20%20%20%20%20%20var%20popup_8cefb8a7713d494ca3d913273e0aa7fc%20%3D%20L.popup%28%7B%22maxWidth%22%3A%20%22100%25%22%7D%29%3B%0A%0A%20%20%20%20%20%20%20%20%0A%20%20%20%20%20%20%20%20%20%20%20%20var%20html_6f847e2162784ac9b8c1c4a91b11fa5e%20%3D%20%24%28%60%3Cdiv%20id%3D%22html_6f847e2162784ac9b8c1c4a91b11fa5e%22%20style%3D%22width%3A%20100.0%25%3B%20height%3A%20100.0%25%3B%22%3EVehicle%2C%20Recovered%2C%20Stolen%20outside%20SF378.0%3C/div%3E%60%29%5B0%5D%3B%0A%20%20%20%20%20%20%20%20%20%20%20%20popup_8cefb8a7713d494ca3d913273e0aa7fc.setContent%28html_6f847e2162784ac9b8c1c4a91b11fa5e%29%3B%0A%20%20%20%20%20%20%20%20%0A%0A%20%20%20%20%20%20%20%20marker_2a9e2cb90ebb45d791bdda2c0028ba85.bindPopup%28popup_8cefb8a7713d494ca3d913273e0aa7fc%29%0A%20%20%20%20%20%20%20%20%3B%0A%0A%20%20%20%20%20%20%20%20%0A%20%20%20%20%0A%20%20%20%20%0A%20%20%20%20%20%20%20%20%20%20%20%20var%20marker_512481de22624aa2abcb4bdeb1aabd70%20%3D%20L.marker%28%0A%20%20%20%20%20%20%20%20%20%20%20%20%20%20%20%20%5B30.0161343%2C%2077.93144478%5D%2C%0A%20%20%20%20%20%20%20%20%20%20%20%20%20%20%20%20%7B%7D%0A%20%20%20%20%20%20%20%20%20%20%20%20%29.addTo%28map_4c9569615bf4401990b9e9b1f6c07a63%29%3B%0A%20%20%20%20%20%20%20%20%0A%20%20%20%20%0A%20%20%20%20%20%20%20%20%20%20%20%20var%20icon_fd329266de6a4a63a45f9df60e2e65e4%20%3D%20L.AwesomeMarkers.icon%28%0A%20%20%20%20%20%20%20%20%20%20%20%20%20%20%20%20%7B%22extraClasses%22%3A%20%22fa-rotate-0%22%2C%20%22icon%22%3A%20%22star%20empty%22%2C%20%22iconColor%22%3A%20%22white%22%2C%20%22markerColor%22%3A%20%22green%22%2C%20%22prefix%22%3A%20%22glyphicon%22%7D%0A%20%20%20%20%20%20%20%20%20%20%20%20%29%3B%0A%20%20%20%20%20%20%20%20%20%20%20%20marker_512481de22624aa2abcb4bdeb1aabd70.setIcon%28icon_fd329266de6a4a63a45f9df60e2e65e4%29%3B%0A%20%20%20%20%20%20%20%20%0A%20%20%20%20%0A%20%20%20%20%20%20%20%20var%20popup_26058f7aedee4374aa641e8937776a1f%20%3D%20L.popup%28%7B%22maxWidth%22%3A%20%22100%25%22%7D%29%3B%0A%0A%20%20%20%20%20%20%20%20%0A%20%20%20%20%20%20%20%20%20%20%20%20var%20html_80155abd474b4f2c86482ed7081607f3%20%3D%20%24%28%60%3Cdiv%20id%3D%22html_80155abd474b4f2c86482ed7081607f3%22%20style%3D%22width%3A%20100.0%25%3B%20height%3A%20100.0%25%3B%22%3EVehicle%2C%20Recovered%2C%20Auto378.0%3C/div%3E%60%29%5B0%5D%3B%0A%20%20%20%20%20%20%20%20%20%20%20%20popup_26058f7aedee4374aa641e8937776a1f.setContent%28html_80155abd474b4f2c86482ed7081607f3%29%3B%0A%20%20%20%20%20%20%20%20%0A%0A%20%20%20%20%20%20%20%20marker_512481de22624aa2abcb4bdeb1aabd70.bindPopup%28popup_26058f7aedee4374aa641e8937776a1f%29%0A%20%20%20%20%20%20%20%20%3B%0A%0A%20%20%20%20%20%20%20%20%0A%20%20%20%20%0A%20%20%20%20%0A%20%20%20%20%20%20%20%20%20%20%20%20var%20marker_e37525e626cd4428a3e42a48e1ed5194%20%3D%20L.marker%28%0A%20%20%20%20%20%20%20%20%20%20%20%20%20%20%20%20%5B30.33603466%2C%2077.96654721%5D%2C%0A%20%20%20%20%20%20%20%20%20%20%20%20%20%20%20%20%7B%7D%0A%20%20%20%20%20%20%20%20%20%20%20%20%29.addTo%28map_4c9569615bf4401990b9e9b1f6c07a63%29%3B%0A%20%20%20%20%20%20%20%20%0A%20%20%20%20%0A%20%20%20%20%20%20%20%20%20%20%20%20var%20icon_c91a8f24bd844c32be7ab14e39d43119%20%3D%20L.AwesomeMarkers.icon%28%0A%20%20%20%20%20%20%20%20%20%20%20%20%20%20%20%20%7B%22extraClasses%22%3A%20%22fa-rotate-0%22%2C%20%22icon%22%3A%20%22star%20empty%22%2C%20%22iconColor%22%3A%20%22white%22%2C%20%22markerColor%22%3A%20%22green%22%2C%20%22prefix%22%3A%20%22glyphicon%22%7D%0A%20%20%20%20%20%20%20%20%20%20%20%20%29%3B%0A%20%20%20%20%20%20%20%20%20%20%20%20marker_e37525e626cd4428a3e42a48e1ed5194.setIcon%28icon_c91a8f24bd844c32be7ab14e39d43119%29%3B%0A%20%20%20%20%20%20%20%20%0A%20%20%20%20%0A%20%20%20%20%20%20%20%20var%20popup_88d834299c4143e49f3f304f5e3d1364%20%3D%20L.popup%28%7B%22maxWidth%22%3A%20%22100%25%22%7D%29%3B%0A%0A%20%20%20%20%20%20%20%20%0A%20%20%20%20%20%20%20%20%20%20%20%20var%20html_d01e09b13702416686d405506632d1d5%20%3D%20%24%28%60%3Cdiv%20id%3D%22html_d01e09b13702416686d405506632d1d5%22%20style%3D%22width%3A%20100.0%25%3B%20height%3A%20100.0%25%3B%22%3EBattery%2C%20former%20Spouse%20or%20Dating%20Relationship351.0%3C/div%3E%60%29%5B0%5D%3B%0A%20%20%20%20%20%20%20%20%20%20%20%20popup_88d834299c4143e49f3f304f5e3d1364.setContent%28html_d01e09b13702416686d405506632d1d5%29%3B%0A%20%20%20%20%20%20%20%20%0A%0A%20%20%20%20%20%20%20%20marker_e37525e626cd4428a3e42a48e1ed5194.bindPopup%28popup_88d834299c4143e49f3f304f5e3d1364%29%0A%20%20%20%20%20%20%20%20%3B%0A%0A%20%20%20%20%20%20%20%20%0A%20%20%20%20%0A%20%20%20%20%0A%20%20%20%20%20%20%20%20%20%20%20%20var%20marker_59c8ea865f7045a9ba7518433afb8d7b%20%3D%20L.marker%28%0A%20%20%20%20%20%20%20%20%20%20%20%20%20%20%20%20%5B30.34075184%2C%2078.06942937%5D%2C%0A%20%20%20%20%20%20%20%20%20%20%20%20%20%20%20%20%7B%7D%0A%20%20%20%20%20%20%20%20%20%20%20%20%29.addTo%28map_4c9569615bf4401990b9e9b1f6c07a63%29%3B%0A%20%20%20%20%20%20%20%20%0A%20%20%20%20%0A%20%20%20%20%20%20%20%20%20%20%20%20var%20icon_343b0a1bdc934d6a8d6e8aed73d9916e%20%3D%20L.AwesomeMarkers.icon%28%0A%20%20%20%20%20%20%20%20%20%20%20%20%20%20%20%20%7B%22extraClasses%22%3A%20%22fa-rotate-0%22%2C%20%22icon%22%3A%20%22star%20empty%22%2C%20%22iconColor%22%3A%20%22white%22%2C%20%22markerColor%22%3A%20%22green%22%2C%20%22prefix%22%3A%20%22glyphicon%22%7D%0A%20%20%20%20%20%20%20%20%20%20%20%20%29%3B%0A%20%20%20%20%20%20%20%20%20%20%20%20marker_59c8ea865f7045a9ba7518433afb8d7b.setIcon%28icon_343b0a1bdc934d6a8d6e8aed73d9916e%29%3B%0A%20%20%20%20%20%20%20%20%0A%20%20%20%20%0A%20%20%20%20%20%20%20%20var%20popup_4da5bd616a9d4ec788c97108b2cd41eb%20%3D%20L.popup%28%7B%22maxWidth%22%3A%20%22100%25%22%7D%29%3B%0A%0A%20%20%20%20%20%20%20%20%0A%20%20%20%20%20%20%20%20%20%20%20%20var%20html_232b893b64cd41d2b887c9b2e0eb119e%20%3D%20%24%28%60%3Cdiv%20id%3D%22html_232b893b64cd41d2b887c9b2e0eb119e%22%20style%3D%22width%3A%20100.0%25%3B%20height%3A%20100.0%25%3B%22%3EBattery351.0%3C/div%3E%60%29%5B0%5D%3B%0A%20%20%20%20%20%20%20%20%20%20%20%20popup_4da5bd616a9d4ec788c97108b2cd41eb.setContent%28html_232b893b64cd41d2b887c9b2e0eb119e%29%3B%0A%20%20%20%20%20%20%20%20%0A%0A%20%20%20%20%20%20%20%20marker_59c8ea865f7045a9ba7518433afb8d7b.bindPopup%28popup_4da5bd616a9d4ec788c97108b2cd41eb%29%0A%20%20%20%20%20%20%20%20%3B%0A%0A%20%20%20%20%20%20%20%20%0A%20%20%20%20%0A%20%20%20%20%0A%20%20%20%20%20%20%20%20%20%20%20%20var%20marker_e9068218cb20438195806d932f5e1e55%20%3D%20L.marker%28%0A%20%20%20%20%20%20%20%20%20%20%20%20%20%20%20%20%5B30.36692375%2C%2077.84560939%5D%2C%0A%20%20%20%20%20%20%20%20%20%20%20%20%20%20%20%20%7B%7D%0A%20%20%20%20%20%20%20%20%20%20%20%20%29.addTo%28map_4c9569615bf4401990b9e9b1f6c07a63%29%3B%0A%20%20%20%20%20%20%20%20%0A%20%20%20%20%0A%20%20%20%20%20%20%20%20%20%20%20%20var%20icon_dd162af181cf47e2a1ae7451a3414adf%20%3D%20L.AwesomeMarkers.icon%28%0A%20%20%20%20%20%20%20%20%20%20%20%20%20%20%20%20%7B%22extraClasses%22%3A%20%22fa-rotate-0%22%2C%20%22icon%22%3A%20%22star%20empty%22%2C%20%22iconColor%22%3A%20%22white%22%2C%20%22markerColor%22%3A%20%22green%22%2C%20%22prefix%22%3A%20%22glyphicon%22%7D%0A%20%20%20%20%20%20%20%20%20%20%20%20%29%3B%0A%20%20%20%20%20%20%20%20%20%20%20%20marker_e9068218cb20438195806d932f5e1e55.setIcon%28icon_dd162af181cf47e2a1ae7451a3414adf%29%3B%0A%20%20%20%20%20%20%20%20%0A%20%20%20%20%0A%20%20%20%20%20%20%20%20var%20popup_efb05a8af84341a88446a301b5016d2e%20%3D%20L.popup%28%7B%22maxWidth%22%3A%20%22100%25%22%7D%29%3B%0A%0A%20%20%20%20%20%20%20%20%0A%20%20%20%20%20%20%20%20%20%20%20%20var%20html_a0fc28c6bcdb48a9aa49a011d1ec88a6%20%3D%20%24%28%60%3Cdiv%20id%3D%22html_a0fc28c6bcdb48a9aa49a011d1ec88a6%22%20style%3D%22width%3A%20100.0%25%3B%20height%3A%20100.0%25%3B%22%3ETheft%2C%20Other%20Property%2C%20%2450-%24200378.0%3C/div%3E%60%29%5B0%5D%3B%0A%20%20%20%20%20%20%20%20%20%20%20%20popup_efb05a8af84341a88446a301b5016d2e.setContent%28html_a0fc28c6bcdb48a9aa49a011d1ec88a6%29%3B%0A%20%20%20%20%20%20%20%20%0A%0A%20%20%20%20%20%20%20%20marker_e9068218cb20438195806d932f5e1e55.bindPopup%28popup_efb05a8af84341a88446a301b5016d2e%29%0A%20%20%20%20%20%20%20%20%3B%0A%0A%20%20%20%20%20%20%20%20%0A%20%20%20%20%0A%20%20%20%20%0A%20%20%20%20%20%20%20%20%20%20%20%20var%20marker_d6fab69fddf749c1ab45db6245001cda%20%3D%20L.marker%28%0A%20%20%20%20%20%20%20%20%20%20%20%20%20%20%20%20%5B30.32083158%2C%2078.04025542%5D%2C%0A%20%20%20%20%20%20%20%20%20%20%20%20%20%20%20%20%7B%7D%0A%20%20%20%20%20%20%20%20%20%20%20%20%29.addTo%28map_4c9569615bf4401990b9e9b1f6c07a63%29%3B%0A%20%20%20%20%20%20%20%20%0A%20%20%20%20%0A%20%20%20%20%20%20%20%20%20%20%20%20var%20icon_bc77eacca19346f4b95ef2cf482224e3%20%3D%20L.AwesomeMarkers.icon%28%0A%20%20%20%20%20%20%20%20%20%20%20%20%20%20%20%20%7B%22extraClasses%22%3A%20%22fa-rotate-0%22%2C%20%22icon%22%3A%20%22star%20empty%22%2C%20%22iconColor%22%3A%20%22white%22%2C%20%22markerColor%22%3A%20%22green%22%2C%20%22prefix%22%3A%20%22glyphicon%22%7D%0A%20%20%20%20%20%20%20%20%20%20%20%20%29%3B%0A%20%20%20%20%20%20%20%20%20%20%20%20marker_d6fab69fddf749c1ab45db6245001cda.setIcon%28icon_bc77eacca19346f4b95ef2cf482224e3%29%3B%0A%20%20%20%20%20%20%20%20%0A%20%20%20%20%0A%20%20%20%20%20%20%20%20var%20popup_86ffbfca8f534eb9b5f3a78cead3340a%20%3D%20L.popup%28%7B%22maxWidth%22%3A%20%22100%25%22%7D%29%3B%0A%0A%20%20%20%20%20%20%20%20%0A%20%20%20%20%20%20%20%20%20%20%20%20var%20html_bfa7f55f32df4bdda9946e9a30ff9404%20%3D%20%24%28%60%3Cdiv%20id%3D%22html_bfa7f55f32df4bdda9946e9a30ff9404%22%20style%3D%22width%3A%20100.0%25%3B%20height%3A%20100.0%25%3B%22%3ETheft%2C%20Other%20Property%2C%20%24200-%24950378.0%3C/div%3E%60%29%5B0%5D%3B%0A%20%20%20%20%20%20%20%20%20%20%20%20popup_86ffbfca8f534eb9b5f3a78cead3340a.setContent%28html_bfa7f55f32df4bdda9946e9a30ff9404%29%3B%0A%20%20%20%20%20%20%20%20%0A%0A%20%20%20%20%20%20%20%20marker_d6fab69fddf749c1ab45db6245001cda.bindPopup%28popup_86ffbfca8f534eb9b5f3a78cead3340a%29%0A%20%20%20%20%20%20%20%20%3B%0A%0A%20%20%20%20%20%20%20%20%0A%20%20%20%20%0A%20%20%20%20%0A%20%20%20%20%20%20%20%20%20%20%20%20var%20marker_90858ff1f8c9412b91eebc7f1e31947c%20%3D%20L.marker%28%0A%20%20%20%20%20%20%20%20%20%20%20%20%20%20%20%20%5B30.15438326%2C%2078.77312738%5D%2C%0A%20%20%20%20%20%20%20%20%20%20%20%20%20%20%20%20%7B%7D%0A%20%20%20%20%20%20%20%20%20%20%20%20%29.addTo%28map_4c9569615bf4401990b9e9b1f6c07a63%29%3B%0A%20%20%20%20%20%20%20%20%0A%20%20%20%20%0A%20%20%20%20%20%20%20%20%20%20%20%20var%20icon_7c38a90ee049413ea40a19cc23608336%20%3D%20L.AwesomeMarkers.icon%28%0A%20%20%20%20%20%20%20%20%20%20%20%20%20%20%20%20%7B%22extraClasses%22%3A%20%22fa-rotate-0%22%2C%20%22icon%22%3A%20%22star%20empty%22%2C%20%22iconColor%22%3A%20%22white%22%2C%20%22markerColor%22%3A%20%22green%22%2C%20%22prefix%22%3A%20%22glyphicon%22%7D%0A%20%20%20%20%20%20%20%20%20%20%20%20%29%3B%0A%20%20%20%20%20%20%20%20%20%20%20%20marker_90858ff1f8c9412b91eebc7f1e31947c.setIcon%28icon_7c38a90ee049413ea40a19cc23608336%29%3B%0A%20%20%20%20%20%20%20%20%0A%20%20%20%20%0A%20%20%20%20%20%20%20%20var%20popup_5b9e1dd261f2489691130682dc6130b3%20%3D%20L.popup%28%7B%22maxWidth%22%3A%20%22100%25%22%7D%29%3B%0A%0A%20%20%20%20%20%20%20%20%0A%20%20%20%20%20%20%20%20%20%20%20%20var%20html_a9f03c5dbb8c495597d9a3e2a4dce71e%20%3D%20%24%28%60%3Cdiv%20id%3D%22html_a9f03c5dbb8c495597d9a3e2a4dce71e%22%20style%3D%22width%3A%20100.0%25%3B%20height%3A%20100.0%25%3B%22%3ELost%20Property425.0%3C/div%3E%60%29%5B0%5D%3B%0A%20%20%20%20%20%20%20%20%20%20%20%20popup_5b9e1dd261f2489691130682dc6130b3.setContent%28html_a9f03c5dbb8c495597d9a3e2a4dce71e%29%3B%0A%20%20%20%20%20%20%20%20%0A%0A%20%20%20%20%20%20%20%20marker_90858ff1f8c9412b91eebc7f1e31947c.bindPopup%28popup_5b9e1dd261f2489691130682dc6130b3%29%0A%20%20%20%20%20%20%20%20%3B%0A%0A%20%20%20%20%20%20%20%20%0A%20%20%20%20%0A%20%20%20%20%0A%20%20%20%20%20%20%20%20%20%20%20%20var%20marker_6b810f3df9014268b4f7e35144e4b1c9%20%3D%20L.marker%28%0A%20%20%20%20%20%20%20%20%20%20%20%20%20%20%20%20%5B30.22421721%2C%2078.7900388%5D%2C%0A%20%20%20%20%20%20%20%20%20%20%20%20%20%20%20%20%7B%7D%0A%20%20%20%20%20%20%20%20%20%20%20%20%29.addTo%28map_4c9569615bf4401990b9e9b1f6c07a63%29%3B%0A%20%20%20%20%20%20%20%20%0A%20%20%20%20%0A%20%20%20%20%20%20%20%20%20%20%20%20var%20icon_a54121b4a7d842ecac15ed63142d0d1c%20%3D%20L.AwesomeMarkers.icon%28%0A%20%20%20%20%20%20%20%20%20%20%20%20%20%20%20%20%7B%22extraClasses%22%3A%20%22fa-rotate-0%22%2C%20%22icon%22%3A%20%22star%20empty%22%2C%20%22iconColor%22%3A%20%22white%22%2C%20%22markerColor%22%3A%20%22green%22%2C%20%22prefix%22%3A%20%22glyphicon%22%7D%0A%20%20%20%20%20%20%20%20%20%20%20%20%29%3B%0A%20%20%20%20%20%20%20%20%20%20%20%20marker_6b810f3df9014268b4f7e35144e4b1c9.setIcon%28icon_a54121b4a7d842ecac15ed63142d0d1c%29%3B%0A%20%20%20%20%20%20%20%20%0A%20%20%20%20%0A%20%20%20%20%20%20%20%20var%20popup_5abc41d1d68042fd934b6565bfbd941b%20%3D%20L.popup%28%7B%22maxWidth%22%3A%20%22100%25%22%7D%29%3B%0A%0A%20%20%20%20%20%20%20%20%0A%20%20%20%20%20%20%20%20%20%20%20%20var%20html_33857d6444f447ed8f0c14042c022458%20%3D%20%24%28%60%3Cdiv%20id%3D%22html_33857d6444f447ed8f0c14042c022458%22%20style%3D%22width%3A%20100.0%25%3B%20height%3A%20100.0%25%3B%22%3EBattery351.0%3C/div%3E%60%29%5B0%5D%3B%0A%20%20%20%20%20%20%20%20%20%20%20%20popup_5abc41d1d68042fd934b6565bfbd941b.setContent%28html_33857d6444f447ed8f0c14042c022458%29%3B%0A%20%20%20%20%20%20%20%20%0A%0A%20%20%20%20%20%20%20%20marker_6b810f3df9014268b4f7e35144e4b1c9.bindPopup%28popup_5abc41d1d68042fd934b6565bfbd941b%29%0A%20%20%20%20%20%20%20%20%3B%0A%0A%20%20%20%20%20%20%20%20%0A%20%20%20%20%0A%20%20%20%20%0A%20%20%20%20%20%20%20%20%20%20%20%20var%20marker_7e70288f6da84c0aaed13bf7558cd03b%20%3D%20L.marker%28%0A%20%20%20%20%20%20%20%20%20%20%20%20%20%20%20%20%5B30.49883671%2C%2077.80530353%5D%2C%0A%20%20%20%20%20%20%20%20%20%20%20%20%20%20%20%20%7B%7D%0A%20%20%20%20%20%20%20%20%20%20%20%20%29.addTo%28map_4c9569615bf4401990b9e9b1f6c07a63%29%3B%0A%20%20%20%20%20%20%20%20%0A%20%20%20%20%0A%20%20%20%20%20%20%20%20%20%20%20%20var%20icon_938fe214930c4e5cac30577468c7f172%20%3D%20L.AwesomeMarkers.icon%28%0A%20%20%20%20%20%20%20%20%20%20%20%20%20%20%20%20%7B%22extraClasses%22%3A%20%22fa-rotate-0%22%2C%20%22icon%22%3A%20%22star%20empty%22%2C%20%22iconColor%22%3A%20%22white%22%2C%20%22markerColor%22%3A%20%22green%22%2C%20%22prefix%22%3A%20%22glyphicon%22%7D%0A%20%20%20%20%20%20%20%20%20%20%20%20%29%3B%0A%20%20%20%20%20%20%20%20%20%20%20%20marker_7e70288f6da84c0aaed13bf7558cd03b.setIcon%28icon_938fe214930c4e5cac30577468c7f172%29%3B%0A%20%20%20%20%20%20%20%20%0A%20%20%20%20%0A%20%20%20%20%20%20%20%20var%20popup_3e3100699cb44cad843911baace0442d%20%3D%20L.popup%28%7B%22maxWidth%22%3A%20%22100%25%22%7D%29%3B%0A%0A%20%20%20%20%20%20%20%20%0A%20%20%20%20%20%20%20%20%20%20%20%20var%20html_ea8d0e1ceec64433926a0cbb99929e9c%20%3D%20%24%28%60%3Cdiv%20id%3D%22html_ea8d0e1ceec64433926a0cbb99929e9c%22%20style%3D%22width%3A%20100.0%25%3B%20height%3A%20100.0%25%3B%22%3EBattery351.0%3C/div%3E%60%29%5B0%5D%3B%0A%20%20%20%20%20%20%20%20%20%20%20%20popup_3e3100699cb44cad843911baace0442d.setContent%28html_ea8d0e1ceec64433926a0cbb99929e9c%29%3B%0A%20%20%20%20%20%20%20%20%0A%0A%20%20%20%20%20%20%20%20marker_7e70288f6da84c0aaed13bf7558cd03b.bindPopup%28popup_3e3100699cb44cad843911baace0442d%29%0A%20%20%20%20%20%20%20%20%3B%0A%0A%20%20%20%20%20%20%20%20%0A%20%20%20%20%0A%3C/script%3E onload=\"this.contentDocument.open();this.contentDocument.write(    decodeURIComponent(this.getAttribute('data-html')));this.contentDocument.close();\" allowfullscreen webkitallowfullscreen mozallowfullscreen></iframe></div></div>"
      ],
      "text/plain": [
       "<folium.folium.Map at 0x1cd5797f5b0>"
      ]
     },
     "execution_count": 19,
     "metadata": {},
     "output_type": "execute_result"
    }
   ],
   "source": [
    "ut_map_lc = folium.Map(location = [30.316496, 78.032188], zoom_start = 11, control_scale = True)\n",
    "df_criminal_org.apply(lambda row : folium.Marker(location = [row['Latitude'], row['Longitude']],\n",
    "                                            popup = row['Incident Description'] + str(row['Penal Code']),\n",
    "                                            icon = folium.Icon(icon = 'star empty', color = 'green', prefix = 'glyphicon')).add_to(ut_map_lc), axis = 1)\n",
    "\n",
    "\n",
    "ut_map_lc"
   ]
  },
  {
   "cell_type": "code",
   "execution_count": 20,
   "id": "44fdba2d",
   "metadata": {},
   "outputs": [
    {
     "name": "stdout",
     "output_type": "stream",
     "text": [
      "Enter the Phone Number: \n"
     ]
    },
    {
     "ename": "ValueError",
     "evalue": "invalid literal for int() with base 10: ''",
     "output_type": "error",
     "traceback": [
      "\u001b[1;31m---------------------------------------------------------------------------\u001b[0m",
      "\u001b[1;31mValueError\u001b[0m                                Traceback (most recent call last)",
      "\u001b[1;32m<ipython-input-20-9f15d26d455c>\u001b[0m in \u001b[0;36m<module>\u001b[1;34m\u001b[0m\n\u001b[1;32m----> 1\u001b[1;33m \u001b[0mdf_criminal_org_1\u001b[0m \u001b[1;33m=\u001b[0m \u001b[0mdf_criminal_org\u001b[0m\u001b[1;33m[\u001b[0m\u001b[0mdf_criminal_org\u001b[0m\u001b[1;33m.\u001b[0m\u001b[0mPhone_Number\u001b[0m \u001b[1;33m==\u001b[0m \u001b[0mint\u001b[0m\u001b[1;33m(\u001b[0m\u001b[0minput\u001b[0m\u001b[1;33m(\u001b[0m\u001b[1;34m\"Enter the Phone Number: \"\u001b[0m\u001b[1;33m)\u001b[0m\u001b[1;33m)\u001b[0m\u001b[1;33m]\u001b[0m\u001b[1;33m\u001b[0m\u001b[1;33m\u001b[0m\u001b[0m\n\u001b[0m\u001b[0;32m      2\u001b[0m \u001b[1;33m\u001b[0m\u001b[0m\n\u001b[0;32m      3\u001b[0m df_criminal_org_1.apply(lambda row : folium.Marker(location = [row['Latitude'], row['Longitude']],\n\u001b[0;32m      4\u001b[0m \u001b[1;33m\u001b[0m\u001b[0m\n\u001b[0;32m      5\u001b[0m                                             icon = folium.Icon(icon = 'star empty', color = 'red', prefix = 'glyphicon')).add_to(ut_map_lc), axis = 1)\n",
      "\u001b[1;31mValueError\u001b[0m: invalid literal for int() with base 10: ''"
     ]
    }
   ],
   "source": [
    "df_criminal_org_1 = df_criminal_org[df_criminal_org.Phone_Number == int(input(\"Enter the Phone Number: \"))]\n",
    "\n",
    "df_criminal_org_1.apply(lambda row : folium.Marker(location = [row['Latitude'], row['Longitude']],\n",
    "                                            \n",
    "                                            icon = folium.Icon(icon = 'star empty', color = 'red', prefix = 'glyphicon')).add_to(ut_map_lc), axis = 1)\n",
    "\n",
    "ut_map_lc"
   ]
  },
  {
   "cell_type": "code",
   "execution_count": null,
   "id": "81f9b39f",
   "metadata": {},
   "outputs": [],
   "source": [
    "df_criminal_org_1 = df_criminal_org[df_criminal_org.Driving_Licence == int(input(\"Enter the Driving License: \"))]\n",
    "\n",
    "df_criminal_org_1.apply(lambda row : folium.Marker(location = [row['Latitude'], row['Longitude']],\n",
    "                                            \n",
    "                                            icon = folium.Icon(icon = 'star empty', color = 'red', prefix = 'glyphicon')).add_to(ut_map_lc), axis = 1)\n",
    "\n",
    "ut_map_lc"
   ]
  },
  {
   "cell_type": "code",
   "execution_count": null,
   "id": "191b47f4",
   "metadata": {},
   "outputs": [],
   "source": [
    "df_criminal_org_1"
   ]
  },
  {
   "cell_type": "code",
   "execution_count": 21,
   "id": "a585e7c8",
   "metadata": {},
   "outputs": [
    {
     "data": {
      "text/html": [
       "<div style=\"width:100%;\"><div style=\"position:relative;width:100%;height:0;padding-bottom:60%;\"><span style=\"color:#565656\">Make this Notebook Trusted to load map: File -> Trust Notebook</span><iframe src=\"about:blank\" style=\"position:absolute;width:100%;height:100%;left:0;top:0;border:none !important;\" data-html=%3C%21DOCTYPE%20html%3E%0A%3Chead%3E%20%20%20%20%0A%20%20%20%20%3Cmeta%20http-equiv%3D%22content-type%22%20content%3D%22text/html%3B%20charset%3DUTF-8%22%20/%3E%0A%20%20%20%20%0A%20%20%20%20%20%20%20%20%3Cscript%3E%0A%20%20%20%20%20%20%20%20%20%20%20%20L_NO_TOUCH%20%3D%20false%3B%0A%20%20%20%20%20%20%20%20%20%20%20%20L_DISABLE_3D%20%3D%20false%3B%0A%20%20%20%20%20%20%20%20%3C/script%3E%0A%20%20%20%20%0A%20%20%20%20%3Cstyle%3Ehtml%2C%20body%20%7Bwidth%3A%20100%25%3Bheight%3A%20100%25%3Bmargin%3A%200%3Bpadding%3A%200%3B%7D%3C/style%3E%0A%20%20%20%20%3Cstyle%3E%23map%20%7Bposition%3Aabsolute%3Btop%3A0%3Bbottom%3A0%3Bright%3A0%3Bleft%3A0%3B%7D%3C/style%3E%0A%20%20%20%20%3Cscript%20src%3D%22https%3A//cdn.jsdelivr.net/npm/leaflet%401.6.0/dist/leaflet.js%22%3E%3C/script%3E%0A%20%20%20%20%3Cscript%20src%3D%22https%3A//code.jquery.com/jquery-1.12.4.min.js%22%3E%3C/script%3E%0A%20%20%20%20%3Cscript%20src%3D%22https%3A//maxcdn.bootstrapcdn.com/bootstrap/3.2.0/js/bootstrap.min.js%22%3E%3C/script%3E%0A%20%20%20%20%3Cscript%20src%3D%22https%3A//cdnjs.cloudflare.com/ajax/libs/Leaflet.awesome-markers/2.0.2/leaflet.awesome-markers.js%22%3E%3C/script%3E%0A%20%20%20%20%3Clink%20rel%3D%22stylesheet%22%20href%3D%22https%3A//cdn.jsdelivr.net/npm/leaflet%401.6.0/dist/leaflet.css%22/%3E%0A%20%20%20%20%3Clink%20rel%3D%22stylesheet%22%20href%3D%22https%3A//maxcdn.bootstrapcdn.com/bootstrap/3.2.0/css/bootstrap.min.css%22/%3E%0A%20%20%20%20%3Clink%20rel%3D%22stylesheet%22%20href%3D%22https%3A//maxcdn.bootstrapcdn.com/bootstrap/3.2.0/css/bootstrap-theme.min.css%22/%3E%0A%20%20%20%20%3Clink%20rel%3D%22stylesheet%22%20href%3D%22https%3A//maxcdn.bootstrapcdn.com/font-awesome/4.6.3/css/font-awesome.min.css%22/%3E%0A%20%20%20%20%3Clink%20rel%3D%22stylesheet%22%20href%3D%22https%3A//cdnjs.cloudflare.com/ajax/libs/Leaflet.awesome-markers/2.0.2/leaflet.awesome-markers.css%22/%3E%0A%20%20%20%20%3Clink%20rel%3D%22stylesheet%22%20href%3D%22https%3A//cdn.jsdelivr.net/gh/python-visualization/folium/folium/templates/leaflet.awesome.rotate.min.css%22/%3E%0A%20%20%20%20%0A%20%20%20%20%20%20%20%20%20%20%20%20%3Cmeta%20name%3D%22viewport%22%20content%3D%22width%3Ddevice-width%2C%0A%20%20%20%20%20%20%20%20%20%20%20%20%20%20%20%20initial-scale%3D1.0%2C%20maximum-scale%3D1.0%2C%20user-scalable%3Dno%22%20/%3E%0A%20%20%20%20%20%20%20%20%20%20%20%20%3Cstyle%3E%0A%20%20%20%20%20%20%20%20%20%20%20%20%20%20%20%20%23map_4c9569615bf4401990b9e9b1f6c07a63%20%7B%0A%20%20%20%20%20%20%20%20%20%20%20%20%20%20%20%20%20%20%20%20position%3A%20relative%3B%0A%20%20%20%20%20%20%20%20%20%20%20%20%20%20%20%20%20%20%20%20width%3A%20100.0%25%3B%0A%20%20%20%20%20%20%20%20%20%20%20%20%20%20%20%20%20%20%20%20height%3A%20100.0%25%3B%0A%20%20%20%20%20%20%20%20%20%20%20%20%20%20%20%20%20%20%20%20left%3A%200.0%25%3B%0A%20%20%20%20%20%20%20%20%20%20%20%20%20%20%20%20%20%20%20%20top%3A%200.0%25%3B%0A%20%20%20%20%20%20%20%20%20%20%20%20%20%20%20%20%7D%0A%20%20%20%20%20%20%20%20%20%20%20%20%3C/style%3E%0A%20%20%20%20%20%20%20%20%0A%3C/head%3E%0A%3Cbody%3E%20%20%20%20%0A%20%20%20%20%0A%20%20%20%20%20%20%20%20%20%20%20%20%3Cdiv%20class%3D%22folium-map%22%20id%3D%22map_4c9569615bf4401990b9e9b1f6c07a63%22%20%3E%3C/div%3E%0A%20%20%20%20%20%20%20%20%0A%3C/body%3E%0A%3Cscript%3E%20%20%20%20%0A%20%20%20%20%0A%20%20%20%20%20%20%20%20%20%20%20%20var%20map_4c9569615bf4401990b9e9b1f6c07a63%20%3D%20L.map%28%0A%20%20%20%20%20%20%20%20%20%20%20%20%20%20%20%20%22map_4c9569615bf4401990b9e9b1f6c07a63%22%2C%0A%20%20%20%20%20%20%20%20%20%20%20%20%20%20%20%20%7B%0A%20%20%20%20%20%20%20%20%20%20%20%20%20%20%20%20%20%20%20%20center%3A%20%5B30.316496%2C%2078.032188%5D%2C%0A%20%20%20%20%20%20%20%20%20%20%20%20%20%20%20%20%20%20%20%20crs%3A%20L.CRS.EPSG3857%2C%0A%20%20%20%20%20%20%20%20%20%20%20%20%20%20%20%20%20%20%20%20zoom%3A%2011%2C%0A%20%20%20%20%20%20%20%20%20%20%20%20%20%20%20%20%20%20%20%20zoomControl%3A%20true%2C%0A%20%20%20%20%20%20%20%20%20%20%20%20%20%20%20%20%20%20%20%20preferCanvas%3A%20false%2C%0A%20%20%20%20%20%20%20%20%20%20%20%20%20%20%20%20%7D%0A%20%20%20%20%20%20%20%20%20%20%20%20%29%3B%0A%20%20%20%20%20%20%20%20%20%20%20%20L.control.scale%28%29.addTo%28map_4c9569615bf4401990b9e9b1f6c07a63%29%3B%0A%0A%20%20%20%20%20%20%20%20%20%20%20%20%0A%0A%20%20%20%20%20%20%20%20%0A%20%20%20%20%0A%20%20%20%20%20%20%20%20%20%20%20%20var%20tile_layer_13f08bf58b614172afa5c99d73de3bba%20%3D%20L.tileLayer%28%0A%20%20%20%20%20%20%20%20%20%20%20%20%20%20%20%20%22https%3A//%7Bs%7D.tile.openstreetmap.org/%7Bz%7D/%7Bx%7D/%7By%7D.png%22%2C%0A%20%20%20%20%20%20%20%20%20%20%20%20%20%20%20%20%7B%22attribution%22%3A%20%22Data%20by%20%5Cu0026copy%3B%20%5Cu003ca%20href%3D%5C%22http%3A//openstreetmap.org%5C%22%5Cu003eOpenStreetMap%5Cu003c/a%5Cu003e%2C%20under%20%5Cu003ca%20href%3D%5C%22http%3A//www.openstreetmap.org/copyright%5C%22%5Cu003eODbL%5Cu003c/a%5Cu003e.%22%2C%20%22detectRetina%22%3A%20false%2C%20%22maxNativeZoom%22%3A%2018%2C%20%22maxZoom%22%3A%2018%2C%20%22minZoom%22%3A%200%2C%20%22noWrap%22%3A%20false%2C%20%22opacity%22%3A%201%2C%20%22subdomains%22%3A%20%22abc%22%2C%20%22tms%22%3A%20false%7D%0A%20%20%20%20%20%20%20%20%20%20%20%20%29.addTo%28map_4c9569615bf4401990b9e9b1f6c07a63%29%3B%0A%20%20%20%20%20%20%20%20%0A%20%20%20%20%0A%20%20%20%20%20%20%20%20%20%20%20%20var%20marker_f9362cc0644f49c4a2b9ee079b19c165%20%3D%20L.marker%28%0A%20%20%20%20%20%20%20%20%20%20%20%20%20%20%20%20%5B30.32557323%2C%2078.03613555%5D%2C%0A%20%20%20%20%20%20%20%20%20%20%20%20%20%20%20%20%7B%7D%0A%20%20%20%20%20%20%20%20%20%20%20%20%29.addTo%28map_4c9569615bf4401990b9e9b1f6c07a63%29%3B%0A%20%20%20%20%20%20%20%20%0A%20%20%20%20%0A%20%20%20%20%20%20%20%20%20%20%20%20var%20icon_d360c50a34c84bbeaf3a4b07e37b24ac%20%3D%20L.AwesomeMarkers.icon%28%0A%20%20%20%20%20%20%20%20%20%20%20%20%20%20%20%20%7B%22extraClasses%22%3A%20%22fa-rotate-0%22%2C%20%22icon%22%3A%20%22star%20empty%22%2C%20%22iconColor%22%3A%20%22white%22%2C%20%22markerColor%22%3A%20%22green%22%2C%20%22prefix%22%3A%20%22glyphicon%22%7D%0A%20%20%20%20%20%20%20%20%20%20%20%20%29%3B%0A%20%20%20%20%20%20%20%20%20%20%20%20marker_f9362cc0644f49c4a2b9ee079b19c165.setIcon%28icon_d360c50a34c84bbeaf3a4b07e37b24ac%29%3B%0A%20%20%20%20%20%20%20%20%0A%20%20%20%20%0A%20%20%20%20%20%20%20%20var%20popup_fb564e0d812742f591eef7b6fcff65c7%20%3D%20L.popup%28%7B%22maxWidth%22%3A%20%22100%25%22%7D%29%3B%0A%0A%20%20%20%20%20%20%20%20%0A%20%20%20%20%20%20%20%20%20%20%20%20var%20html_0264576c6a9542a5af4f816d5751a8c5%20%3D%20%24%28%60%3Cdiv%20id%3D%22html_0264576c6a9542a5af4f816d5751a8c5%22%20style%3D%22width%3A%20100.0%25%3B%20height%3A%20100.0%25%3B%22%3ETheft%2C%20Other%20Property%2C%20%2450-%24200378.0%3C/div%3E%60%29%5B0%5D%3B%0A%20%20%20%20%20%20%20%20%20%20%20%20popup_fb564e0d812742f591eef7b6fcff65c7.setContent%28html_0264576c6a9542a5af4f816d5751a8c5%29%3B%0A%20%20%20%20%20%20%20%20%0A%0A%20%20%20%20%20%20%20%20marker_f9362cc0644f49c4a2b9ee079b19c165.bindPopup%28popup_fb564e0d812742f591eef7b6fcff65c7%29%0A%20%20%20%20%20%20%20%20%3B%0A%0A%20%20%20%20%20%20%20%20%0A%20%20%20%20%0A%20%20%20%20%0A%20%20%20%20%20%20%20%20%20%20%20%20var%20marker_45f54da7346a4ee3aff10dd10f177686%20%3D%20L.marker%28%0A%20%20%20%20%20%20%20%20%20%20%20%20%20%20%20%20%5B30.33031465%2C%2078.08729064%5D%2C%0A%20%20%20%20%20%20%20%20%20%20%20%20%20%20%20%20%7B%7D%0A%20%20%20%20%20%20%20%20%20%20%20%20%29.addTo%28map_4c9569615bf4401990b9e9b1f6c07a63%29%3B%0A%20%20%20%20%20%20%20%20%0A%20%20%20%20%0A%20%20%20%20%20%20%20%20%20%20%20%20var%20icon_c12a85df32fd4c9b94e295f36abe6f68%20%3D%20L.AwesomeMarkers.icon%28%0A%20%20%20%20%20%20%20%20%20%20%20%20%20%20%20%20%7B%22extraClasses%22%3A%20%22fa-rotate-0%22%2C%20%22icon%22%3A%20%22star%20empty%22%2C%20%22iconColor%22%3A%20%22white%22%2C%20%22markerColor%22%3A%20%22green%22%2C%20%22prefix%22%3A%20%22glyphicon%22%7D%0A%20%20%20%20%20%20%20%20%20%20%20%20%29%3B%0A%20%20%20%20%20%20%20%20%20%20%20%20marker_45f54da7346a4ee3aff10dd10f177686.setIcon%28icon_c12a85df32fd4c9b94e295f36abe6f68%29%3B%0A%20%20%20%20%20%20%20%20%0A%20%20%20%20%0A%20%20%20%20%20%20%20%20var%20popup_3d5c074b4eae4f2182f007974455576b%20%3D%20L.popup%28%7B%22maxWidth%22%3A%20%22100%25%22%7D%29%3B%0A%0A%20%20%20%20%20%20%20%20%0A%20%20%20%20%20%20%20%20%20%20%20%20var%20html_6b4b7fb446ed4529ad932e83b5b5029a%20%3D%20%24%28%60%3Cdiv%20id%3D%22html_6b4b7fb446ed4529ad932e83b5b5029a%22%20style%3D%22width%3A%20100.0%25%3B%20height%3A%20100.0%25%3B%22%3ETheft%2C%20From%20Unlocked%20Vehicle%2C%20%3E%24950378.0%3C/div%3E%60%29%5B0%5D%3B%0A%20%20%20%20%20%20%20%20%20%20%20%20popup_3d5c074b4eae4f2182f007974455576b.setContent%28html_6b4b7fb446ed4529ad932e83b5b5029a%29%3B%0A%20%20%20%20%20%20%20%20%0A%0A%20%20%20%20%20%20%20%20marker_45f54da7346a4ee3aff10dd10f177686.bindPopup%28popup_3d5c074b4eae4f2182f007974455576b%29%0A%20%20%20%20%20%20%20%20%3B%0A%0A%20%20%20%20%20%20%20%20%0A%20%20%20%20%0A%20%20%20%20%0A%20%20%20%20%20%20%20%20%20%20%20%20var%20marker_50d02d2049ce4aff93dbe072fa9311a0%20%3D%20L.marker%28%0A%20%20%20%20%20%20%20%20%20%20%20%20%20%20%20%20%5B30.45938256%2C%2078.0737483%5D%2C%0A%20%20%20%20%20%20%20%20%20%20%20%20%20%20%20%20%7B%7D%0A%20%20%20%20%20%20%20%20%20%20%20%20%29.addTo%28map_4c9569615bf4401990b9e9b1f6c07a63%29%3B%0A%20%20%20%20%20%20%20%20%0A%20%20%20%20%0A%20%20%20%20%20%20%20%20%20%20%20%20var%20icon_39c4d085f9fe486da11f4fd4f91f878e%20%3D%20L.AwesomeMarkers.icon%28%0A%20%20%20%20%20%20%20%20%20%20%20%20%20%20%20%20%7B%22extraClasses%22%3A%20%22fa-rotate-0%22%2C%20%22icon%22%3A%20%22star%20empty%22%2C%20%22iconColor%22%3A%20%22white%22%2C%20%22markerColor%22%3A%20%22green%22%2C%20%22prefix%22%3A%20%22glyphicon%22%7D%0A%20%20%20%20%20%20%20%20%20%20%20%20%29%3B%0A%20%20%20%20%20%20%20%20%20%20%20%20marker_50d02d2049ce4aff93dbe072fa9311a0.setIcon%28icon_39c4d085f9fe486da11f4fd4f91f878e%29%3B%0A%20%20%20%20%20%20%20%20%0A%20%20%20%20%0A%20%20%20%20%20%20%20%20var%20popup_86fcfac6678d41ceae905f9b23412c81%20%3D%20L.popup%28%7B%22maxWidth%22%3A%20%22100%25%22%7D%29%3B%0A%0A%20%20%20%20%20%20%20%20%0A%20%20%20%20%20%20%20%20%20%20%20%20var%20html_4da5267c9a5645b28e407c6b57f82ee8%20%3D%20%24%28%60%3Cdiv%20id%3D%22html_4da5267c9a5645b28e407c6b57f82ee8%22%20style%3D%22width%3A%20100.0%25%3B%20height%3A%20100.0%25%3B%22%3ETheft%2C%20From%20Person%2C%20%3E%24950%20%28other%20than%20Pickpocket%29378.0%3C/div%3E%60%29%5B0%5D%3B%0A%20%20%20%20%20%20%20%20%20%20%20%20popup_86fcfac6678d41ceae905f9b23412c81.setContent%28html_4da5267c9a5645b28e407c6b57f82ee8%29%3B%0A%20%20%20%20%20%20%20%20%0A%0A%20%20%20%20%20%20%20%20marker_50d02d2049ce4aff93dbe072fa9311a0.bindPopup%28popup_86fcfac6678d41ceae905f9b23412c81%29%0A%20%20%20%20%20%20%20%20%3B%0A%0A%20%20%20%20%20%20%20%20%0A%20%20%20%20%0A%20%20%20%20%0A%20%20%20%20%20%20%20%20%20%20%20%20var%20marker_a4209677888645ddb383327bc5737ac6%20%3D%20L.marker%28%0A%20%20%20%20%20%20%20%20%20%20%20%20%20%20%20%20%5B30.47883671%2C%2077.79530353%5D%2C%0A%20%20%20%20%20%20%20%20%20%20%20%20%20%20%20%20%7B%7D%0A%20%20%20%20%20%20%20%20%20%20%20%20%29.addTo%28map_4c9569615bf4401990b9e9b1f6c07a63%29%3B%0A%20%20%20%20%20%20%20%20%0A%20%20%20%20%0A%20%20%20%20%20%20%20%20%20%20%20%20var%20icon_7f8d12b32c524d97b9c574ca23bd355d%20%3D%20L.AwesomeMarkers.icon%28%0A%20%20%20%20%20%20%20%20%20%20%20%20%20%20%20%20%7B%22extraClasses%22%3A%20%22fa-rotate-0%22%2C%20%22icon%22%3A%20%22star%20empty%22%2C%20%22iconColor%22%3A%20%22white%22%2C%20%22markerColor%22%3A%20%22green%22%2C%20%22prefix%22%3A%20%22glyphicon%22%7D%0A%20%20%20%20%20%20%20%20%20%20%20%20%29%3B%0A%20%20%20%20%20%20%20%20%20%20%20%20marker_a4209677888645ddb383327bc5737ac6.setIcon%28icon_7f8d12b32c524d97b9c574ca23bd355d%29%3B%0A%20%20%20%20%20%20%20%20%0A%20%20%20%20%0A%20%20%20%20%20%20%20%20var%20popup_03ad3355d4dd4e68b8294e497ad79e95%20%3D%20L.popup%28%7B%22maxWidth%22%3A%20%22100%25%22%7D%29%3B%0A%0A%20%20%20%20%20%20%20%20%0A%20%20%20%20%20%20%20%20%20%20%20%20var%20html_ab3261ff27ef4c44a7d6f4f28ffcd966%20%3D%20%24%28%60%3Cdiv%20id%3D%22html_ab3261ff27ef4c44a7d6f4f28ffcd966%22%20style%3D%22width%3A%20100.0%25%3B%20height%3A%20100.0%25%3B%22%3ETheft%2C%20Other%20Property%2C%20%3E%24950378.0%3C/div%3E%60%29%5B0%5D%3B%0A%20%20%20%20%20%20%20%20%20%20%20%20popup_03ad3355d4dd4e68b8294e497ad79e95.setContent%28html_ab3261ff27ef4c44a7d6f4f28ffcd966%29%3B%0A%20%20%20%20%20%20%20%20%0A%0A%20%20%20%20%20%20%20%20marker_a4209677888645ddb383327bc5737ac6.bindPopup%28popup_03ad3355d4dd4e68b8294e497ad79e95%29%0A%20%20%20%20%20%20%20%20%3B%0A%0A%20%20%20%20%20%20%20%20%0A%20%20%20%20%0A%20%20%20%20%0A%20%20%20%20%20%20%20%20%20%20%20%20var%20marker_4cfa398672874db49d0f8386c8c4d352%20%3D%20L.marker%28%0A%20%20%20%20%20%20%20%20%20%20%20%20%20%20%20%20%5B30.18001883%2C%2078.12479473%5D%2C%0A%20%20%20%20%20%20%20%20%20%20%20%20%20%20%20%20%7B%7D%0A%20%20%20%20%20%20%20%20%20%20%20%20%29.addTo%28map_4c9569615bf4401990b9e9b1f6c07a63%29%3B%0A%20%20%20%20%20%20%20%20%0A%20%20%20%20%0A%20%20%20%20%20%20%20%20%20%20%20%20var%20icon_37dcb56b38ab44b1adebe2d8413f2998%20%3D%20L.AwesomeMarkers.icon%28%0A%20%20%20%20%20%20%20%20%20%20%20%20%20%20%20%20%7B%22extraClasses%22%3A%20%22fa-rotate-0%22%2C%20%22icon%22%3A%20%22star%20empty%22%2C%20%22iconColor%22%3A%20%22white%22%2C%20%22markerColor%22%3A%20%22green%22%2C%20%22prefix%22%3A%20%22glyphicon%22%7D%0A%20%20%20%20%20%20%20%20%20%20%20%20%29%3B%0A%20%20%20%20%20%20%20%20%20%20%20%20marker_4cfa398672874db49d0f8386c8c4d352.setIcon%28icon_37dcb56b38ab44b1adebe2d8413f2998%29%3B%0A%20%20%20%20%20%20%20%20%0A%20%20%20%20%0A%20%20%20%20%20%20%20%20var%20popup_5a69518df88c4683984cfee0d2012ac9%20%3D%20L.popup%28%7B%22maxWidth%22%3A%20%22100%25%22%7D%29%3B%0A%0A%20%20%20%20%20%20%20%20%0A%20%20%20%20%20%20%20%20%20%20%20%20var%20html_e307af121f4844da8de9107af3be7e69%20%3D%20%24%28%60%3Cdiv%20id%3D%22html_e307af121f4844da8de9107af3be7e69%22%20style%3D%22width%3A%20100.0%25%3B%20height%3A%20100.0%25%3B%22%3EBattery351.0%3C/div%3E%60%29%5B0%5D%3B%0A%20%20%20%20%20%20%20%20%20%20%20%20popup_5a69518df88c4683984cfee0d2012ac9.setContent%28html_e307af121f4844da8de9107af3be7e69%29%3B%0A%20%20%20%20%20%20%20%20%0A%0A%20%20%20%20%20%20%20%20marker_4cfa398672874db49d0f8386c8c4d352.bindPopup%28popup_5a69518df88c4683984cfee0d2012ac9%29%0A%20%20%20%20%20%20%20%20%3B%0A%0A%20%20%20%20%20%20%20%20%0A%20%20%20%20%0A%20%20%20%20%0A%20%20%20%20%20%20%20%20%20%20%20%20var%20marker_004ec1ea09f94d559b9ea8b8f7879581%20%3D%20L.marker%28%0A%20%20%20%20%20%20%20%20%20%20%20%20%20%20%20%20%5B30.2930492%2C%2078.01786337%5D%2C%0A%20%20%20%20%20%20%20%20%20%20%20%20%20%20%20%20%7B%7D%0A%20%20%20%20%20%20%20%20%20%20%20%20%29.addTo%28map_4c9569615bf4401990b9e9b1f6c07a63%29%3B%0A%20%20%20%20%20%20%20%20%0A%20%20%20%20%0A%20%20%20%20%20%20%20%20%20%20%20%20var%20icon_7e950b4e1763419bbaf3c8e1370cbb98%20%3D%20L.AwesomeMarkers.icon%28%0A%20%20%20%20%20%20%20%20%20%20%20%20%20%20%20%20%7B%22extraClasses%22%3A%20%22fa-rotate-0%22%2C%20%22icon%22%3A%20%22star%20empty%22%2C%20%22iconColor%22%3A%20%22white%22%2C%20%22markerColor%22%3A%20%22green%22%2C%20%22prefix%22%3A%20%22glyphicon%22%7D%0A%20%20%20%20%20%20%20%20%20%20%20%20%29%3B%0A%20%20%20%20%20%20%20%20%20%20%20%20marker_004ec1ea09f94d559b9ea8b8f7879581.setIcon%28icon_7e950b4e1763419bbaf3c8e1370cbb98%29%3B%0A%20%20%20%20%20%20%20%20%0A%20%20%20%20%0A%20%20%20%20%20%20%20%20var%20popup_9e4195ab677544db8c469246dc54637a%20%3D%20L.popup%28%7B%22maxWidth%22%3A%20%22100%25%22%7D%29%3B%0A%0A%20%20%20%20%20%20%20%20%0A%20%20%20%20%20%20%20%20%20%20%20%20var%20html_ef3537b6b76e4e5cbc32b805b747554a%20%3D%20%24%28%60%3Cdiv%20id%3D%22html_ef3537b6b76e4e5cbc32b805b747554a%22%20style%3D%22width%3A%20100.0%25%3B%20height%3A%20100.0%25%3B%22%3EFound%20Person359.0%3C/div%3E%60%29%5B0%5D%3B%0A%20%20%20%20%20%20%20%20%20%20%20%20popup_9e4195ab677544db8c469246dc54637a.setContent%28html_ef3537b6b76e4e5cbc32b805b747554a%29%3B%0A%20%20%20%20%20%20%20%20%0A%0A%20%20%20%20%20%20%20%20marker_004ec1ea09f94d559b9ea8b8f7879581.bindPopup%28popup_9e4195ab677544db8c469246dc54637a%29%0A%20%20%20%20%20%20%20%20%3B%0A%0A%20%20%20%20%20%20%20%20%0A%20%20%20%20%0A%20%20%20%20%0A%20%20%20%20%20%20%20%20%20%20%20%20var%20marker_6d083e5828bc404db0f4a51536c28de3%20%3D%20L.marker%28%0A%20%20%20%20%20%20%20%20%20%20%20%20%20%20%20%20%5B30.31937279%2C%2077.99168358%5D%2C%0A%20%20%20%20%20%20%20%20%20%20%20%20%20%20%20%20%7B%7D%0A%20%20%20%20%20%20%20%20%20%20%20%20%29.addTo%28map_4c9569615bf4401990b9e9b1f6c07a63%29%3B%0A%20%20%20%20%20%20%20%20%0A%20%20%20%20%0A%20%20%20%20%20%20%20%20%20%20%20%20var%20icon_fea73ec6c3aa45ff888bf6b2d36dacac%20%3D%20L.AwesomeMarkers.icon%28%0A%20%20%20%20%20%20%20%20%20%20%20%20%20%20%20%20%7B%22extraClasses%22%3A%20%22fa-rotate-0%22%2C%20%22icon%22%3A%20%22star%20empty%22%2C%20%22iconColor%22%3A%20%22white%22%2C%20%22markerColor%22%3A%20%22green%22%2C%20%22prefix%22%3A%20%22glyphicon%22%7D%0A%20%20%20%20%20%20%20%20%20%20%20%20%29%3B%0A%20%20%20%20%20%20%20%20%20%20%20%20marker_6d083e5828bc404db0f4a51536c28de3.setIcon%28icon_fea73ec6c3aa45ff888bf6b2d36dacac%29%3B%0A%20%20%20%20%20%20%20%20%0A%20%20%20%20%0A%20%20%20%20%20%20%20%20var%20popup_da8e87e75e8c4307a84714e09a5db20c%20%3D%20L.popup%28%7B%22maxWidth%22%3A%20%22100%25%22%7D%29%3B%0A%0A%20%20%20%20%20%20%20%20%0A%20%20%20%20%20%20%20%20%20%20%20%20var%20html_e5ba912b7be5469fa4239acf4a55f474%20%3D%20%24%28%60%3Cdiv%20id%3D%22html_e5ba912b7be5469fa4239acf4a55f474%22%20style%3D%22width%3A%20100.0%25%3B%20height%3A%20100.0%25%3B%22%3ENarcotics%20Paraphernalia%2C%20Possession%20of274.0%3C/div%3E%60%29%5B0%5D%3B%0A%20%20%20%20%20%20%20%20%20%20%20%20popup_da8e87e75e8c4307a84714e09a5db20c.setContent%28html_e5ba912b7be5469fa4239acf4a55f474%29%3B%0A%20%20%20%20%20%20%20%20%0A%0A%20%20%20%20%20%20%20%20marker_6d083e5828bc404db0f4a51536c28de3.bindPopup%28popup_da8e87e75e8c4307a84714e09a5db20c%29%0A%20%20%20%20%20%20%20%20%3B%0A%0A%20%20%20%20%20%20%20%20%0A%20%20%20%20%0A%20%20%20%20%0A%20%20%20%20%20%20%20%20%20%20%20%20var%20marker_e6855d28615e4e228c3c56b2cf1e4efe%20%3D%20L.marker%28%0A%20%20%20%20%20%20%20%20%20%20%20%20%20%20%20%20%5B30.29125109%2C%2078.05355562%5D%2C%0A%20%20%20%20%20%20%20%20%20%20%20%20%20%20%20%20%7B%7D%0A%20%20%20%20%20%20%20%20%20%20%20%20%29.addTo%28map_4c9569615bf4401990b9e9b1f6c07a63%29%3B%0A%20%20%20%20%20%20%20%20%0A%20%20%20%20%0A%20%20%20%20%20%20%20%20%20%20%20%20var%20icon_d9bf66da58c145ca8b400dff7def199f%20%3D%20L.AwesomeMarkers.icon%28%0A%20%20%20%20%20%20%20%20%20%20%20%20%20%20%20%20%7B%22extraClasses%22%3A%20%22fa-rotate-0%22%2C%20%22icon%22%3A%20%22star%20empty%22%2C%20%22iconColor%22%3A%20%22white%22%2C%20%22markerColor%22%3A%20%22green%22%2C%20%22prefix%22%3A%20%22glyphicon%22%7D%0A%20%20%20%20%20%20%20%20%20%20%20%20%29%3B%0A%20%20%20%20%20%20%20%20%20%20%20%20marker_e6855d28615e4e228c3c56b2cf1e4efe.setIcon%28icon_d9bf66da58c145ca8b400dff7def199f%29%3B%0A%20%20%20%20%20%20%20%20%0A%20%20%20%20%0A%20%20%20%20%20%20%20%20var%20popup_a4a9b2f2766145d7b5d0cddab35fcfb2%20%3D%20L.popup%28%7B%22maxWidth%22%3A%20%22100%25%22%7D%29%3B%0A%0A%20%20%20%20%20%20%20%20%0A%20%20%20%20%20%20%20%20%20%20%20%20var%20html_6a231acb43084111a0e01868cf223007%20%3D%20%24%28%60%3Cdiv%20id%3D%22html_6a231acb43084111a0e01868cf223007%22%20style%3D%22width%3A%20100.0%25%3B%20height%3A%20100.0%25%3B%22%3ETheft%2C%20Other%20Property%2C%20%3E%24950378.0%3C/div%3E%60%29%5B0%5D%3B%0A%20%20%20%20%20%20%20%20%20%20%20%20popup_a4a9b2f2766145d7b5d0cddab35fcfb2.setContent%28html_6a231acb43084111a0e01868cf223007%29%3B%0A%20%20%20%20%20%20%20%20%0A%0A%20%20%20%20%20%20%20%20marker_e6855d28615e4e228c3c56b2cf1e4efe.bindPopup%28popup_a4a9b2f2766145d7b5d0cddab35fcfb2%29%0A%20%20%20%20%20%20%20%20%3B%0A%0A%20%20%20%20%20%20%20%20%0A%20%20%20%20%0A%20%20%20%20%0A%20%20%20%20%20%20%20%20%20%20%20%20var%20marker_d1d8dc6eecb24334ad30f589c7bdaa1b%20%3D%20L.marker%28%0A%20%20%20%20%20%20%20%20%20%20%20%20%20%20%20%20%5B30.40229675%2C%2078.09621703%5D%2C%0A%20%20%20%20%20%20%20%20%20%20%20%20%20%20%20%20%7B%7D%0A%20%20%20%20%20%20%20%20%20%20%20%20%29.addTo%28map_4c9569615bf4401990b9e9b1f6c07a63%29%3B%0A%20%20%20%20%20%20%20%20%0A%20%20%20%20%0A%20%20%20%20%20%20%20%20%20%20%20%20var%20icon_9fd2d3f498634b819b92cfe8a7115f05%20%3D%20L.AwesomeMarkers.icon%28%0A%20%20%20%20%20%20%20%20%20%20%20%20%20%20%20%20%7B%22extraClasses%22%3A%20%22fa-rotate-0%22%2C%20%22icon%22%3A%20%22star%20empty%22%2C%20%22iconColor%22%3A%20%22white%22%2C%20%22markerColor%22%3A%20%22green%22%2C%20%22prefix%22%3A%20%22glyphicon%22%7D%0A%20%20%20%20%20%20%20%20%20%20%20%20%29%3B%0A%20%20%20%20%20%20%20%20%20%20%20%20marker_d1d8dc6eecb24334ad30f589c7bdaa1b.setIcon%28icon_9fd2d3f498634b819b92cfe8a7115f05%29%3B%0A%20%20%20%20%20%20%20%20%0A%20%20%20%20%0A%20%20%20%20%20%20%20%20var%20popup_ce094e610f4442e9af54a1cda3af1f2d%20%3D%20L.popup%28%7B%22maxWidth%22%3A%20%22100%25%22%7D%29%3B%0A%0A%20%20%20%20%20%20%20%20%0A%20%20%20%20%20%20%20%20%20%20%20%20var%20html_b0cea48292884a248a8e04835009a477%20%3D%20%24%28%60%3Cdiv%20id%3D%22html_b0cea48292884a248a8e04835009a477%22%20style%3D%22width%3A%20100.0%25%3B%20height%3A%20100.0%25%3B%22%3EFirearm%2C%20Loaded%2C%20in%20Vehicle%2C%20Possession%20or%20Use141.0%3C/div%3E%60%29%5B0%5D%3B%0A%20%20%20%20%20%20%20%20%20%20%20%20popup_ce094e610f4442e9af54a1cda3af1f2d.setContent%28html_b0cea48292884a248a8e04835009a477%29%3B%0A%20%20%20%20%20%20%20%20%0A%0A%20%20%20%20%20%20%20%20marker_d1d8dc6eecb24334ad30f589c7bdaa1b.bindPopup%28popup_ce094e610f4442e9af54a1cda3af1f2d%29%0A%20%20%20%20%20%20%20%20%3B%0A%0A%20%20%20%20%20%20%20%20%0A%20%20%20%20%0A%20%20%20%20%0A%20%20%20%20%20%20%20%20%20%20%20%20var%20marker_2da9519ff322402a8136192b7440283a%20%3D%20L.marker%28%0A%20%20%20%20%20%20%20%20%20%20%20%20%20%20%20%20%5B30.03549113%2C%2078.20999112%5D%2C%0A%20%20%20%20%20%20%20%20%20%20%20%20%20%20%20%20%7B%7D%0A%20%20%20%20%20%20%20%20%20%20%20%20%29.addTo%28map_4c9569615bf4401990b9e9b1f6c07a63%29%3B%0A%20%20%20%20%20%20%20%20%0A%20%20%20%20%0A%20%20%20%20%20%20%20%20%20%20%20%20var%20icon_8649d0527d02490abbf1eedf1e7fc047%20%3D%20L.AwesomeMarkers.icon%28%0A%20%20%20%20%20%20%20%20%20%20%20%20%20%20%20%20%7B%22extraClasses%22%3A%20%22fa-rotate-0%22%2C%20%22icon%22%3A%20%22star%20empty%22%2C%20%22iconColor%22%3A%20%22white%22%2C%20%22markerColor%22%3A%20%22green%22%2C%20%22prefix%22%3A%20%22glyphicon%22%7D%0A%20%20%20%20%20%20%20%20%20%20%20%20%29%3B%0A%20%20%20%20%20%20%20%20%20%20%20%20marker_2da9519ff322402a8136192b7440283a.setIcon%28icon_8649d0527d02490abbf1eedf1e7fc047%29%3B%0A%20%20%20%20%20%20%20%20%0A%20%20%20%20%0A%20%20%20%20%20%20%20%20var%20popup_d9b50fc125da47edabb51290e87ed933%20%3D%20L.popup%28%7B%22maxWidth%22%3A%20%22100%25%22%7D%29%3B%0A%0A%20%20%20%20%20%20%20%20%0A%20%20%20%20%20%20%20%20%20%20%20%20var%20html_187ef6c117a14dad8143f39729753010%20%3D%20%24%28%60%3Cdiv%20id%3D%22html_187ef6c117a14dad8143f39729753010%22%20style%3D%22width%3A%20100.0%25%3B%20height%3A%20100.0%25%3B%22%3ETraffic%20Violation%20Arrest506.0%3C/div%3E%60%29%5B0%5D%3B%0A%20%20%20%20%20%20%20%20%20%20%20%20popup_d9b50fc125da47edabb51290e87ed933.setContent%28html_187ef6c117a14dad8143f39729753010%29%3B%0A%20%20%20%20%20%20%20%20%0A%0A%20%20%20%20%20%20%20%20marker_2da9519ff322402a8136192b7440283a.bindPopup%28popup_d9b50fc125da47edabb51290e87ed933%29%0A%20%20%20%20%20%20%20%20%3B%0A%0A%20%20%20%20%20%20%20%20%0A%20%20%20%20%0A%20%20%20%20%0A%20%20%20%20%20%20%20%20%20%20%20%20var%20marker_478e6d4e3cda437a8cd71730d600de7e%20%3D%20L.marker%28%0A%20%20%20%20%20%20%20%20%20%20%20%20%20%20%20%20%5B30.26521338%2C%2078.00184242%5D%2C%0A%20%20%20%20%20%20%20%20%20%20%20%20%20%20%20%20%7B%7D%0A%20%20%20%20%20%20%20%20%20%20%20%20%29.addTo%28map_4c9569615bf4401990b9e9b1f6c07a63%29%3B%0A%20%20%20%20%20%20%20%20%0A%20%20%20%20%0A%20%20%20%20%20%20%20%20%20%20%20%20var%20icon_44a60b9c33824e02aad218554c05fae6%20%3D%20L.AwesomeMarkers.icon%28%0A%20%20%20%20%20%20%20%20%20%20%20%20%20%20%20%20%7B%22extraClasses%22%3A%20%22fa-rotate-0%22%2C%20%22icon%22%3A%20%22star%20empty%22%2C%20%22iconColor%22%3A%20%22white%22%2C%20%22markerColor%22%3A%20%22green%22%2C%20%22prefix%22%3A%20%22glyphicon%22%7D%0A%20%20%20%20%20%20%20%20%20%20%20%20%29%3B%0A%20%20%20%20%20%20%20%20%20%20%20%20marker_478e6d4e3cda437a8cd71730d600de7e.setIcon%28icon_44a60b9c33824e02aad218554c05fae6%29%3B%0A%20%20%20%20%20%20%20%20%0A%20%20%20%20%0A%20%20%20%20%20%20%20%20var%20popup_c8631f349b9641cf8a0d72896d108cbf%20%3D%20L.popup%28%7B%22maxWidth%22%3A%20%22100%25%22%7D%29%3B%0A%0A%20%20%20%20%20%20%20%20%0A%20%20%20%20%20%20%20%20%20%20%20%20var%20html_c49467a619ec48f9bbec0ff8163899b4%20%3D%20%24%28%60%3Cdiv%20id%3D%22html_c49467a619ec48f9bbec0ff8163899b4%22%20style%3D%22width%3A%20100.0%25%3B%20height%3A%20100.0%25%3B%22%3ETrespassing441.0%3C/div%3E%60%29%5B0%5D%3B%0A%20%20%20%20%20%20%20%20%20%20%20%20popup_c8631f349b9641cf8a0d72896d108cbf.setContent%28html_c49467a619ec48f9bbec0ff8163899b4%29%3B%0A%20%20%20%20%20%20%20%20%0A%0A%20%20%20%20%20%20%20%20marker_478e6d4e3cda437a8cd71730d600de7e.bindPopup%28popup_c8631f349b9641cf8a0d72896d108cbf%29%0A%20%20%20%20%20%20%20%20%3B%0A%0A%20%20%20%20%20%20%20%20%0A%20%20%20%20%0A%20%20%20%20%0A%20%20%20%20%20%20%20%20%20%20%20%20var%20marker_410993229e814bd793cfc98ffc7be7fe%20%3D%20L.marker%28%0A%20%20%20%20%20%20%20%20%20%20%20%20%20%20%20%20%5B30.3936164%2C%2077.80648334%5D%2C%0A%20%20%20%20%20%20%20%20%20%20%20%20%20%20%20%20%7B%7D%0A%20%20%20%20%20%20%20%20%20%20%20%20%29.addTo%28map_4c9569615bf4401990b9e9b1f6c07a63%29%3B%0A%20%20%20%20%20%20%20%20%0A%20%20%20%20%0A%20%20%20%20%20%20%20%20%20%20%20%20var%20icon_4ad10e2370fa4161a7787b8f0dd205ff%20%3D%20L.AwesomeMarkers.icon%28%0A%20%20%20%20%20%20%20%20%20%20%20%20%20%20%20%20%7B%22extraClasses%22%3A%20%22fa-rotate-0%22%2C%20%22icon%22%3A%20%22star%20empty%22%2C%20%22iconColor%22%3A%20%22white%22%2C%20%22markerColor%22%3A%20%22green%22%2C%20%22prefix%22%3A%20%22glyphicon%22%7D%0A%20%20%20%20%20%20%20%20%20%20%20%20%29%3B%0A%20%20%20%20%20%20%20%20%20%20%20%20marker_410993229e814bd793cfc98ffc7be7fe.setIcon%28icon_4ad10e2370fa4161a7787b8f0dd205ff%29%3B%0A%20%20%20%20%20%20%20%20%0A%20%20%20%20%0A%20%20%20%20%20%20%20%20var%20popup_5ce51c86ffd5452a91eb53fdbdd2047f%20%3D%20L.popup%28%7B%22maxWidth%22%3A%20%22100%25%22%7D%29%3B%0A%0A%20%20%20%20%20%20%20%20%0A%20%20%20%20%20%20%20%20%20%20%20%20var%20html_bd86af1097954936ba9b25341e4784e0%20%3D%20%24%28%60%3Cdiv%20id%3D%22html_bd86af1097954936ba9b25341e4784e0%22%20style%3D%22width%3A%20100.0%25%3B%20height%3A%20100.0%25%3B%22%3ETheft%2C%20Other%20Property%2C%20%2450-%24200378.0%3C/div%3E%60%29%5B0%5D%3B%0A%20%20%20%20%20%20%20%20%20%20%20%20popup_5ce51c86ffd5452a91eb53fdbdd2047f.setContent%28html_bd86af1097954936ba9b25341e4784e0%29%3B%0A%20%20%20%20%20%20%20%20%0A%0A%20%20%20%20%20%20%20%20marker_410993229e814bd793cfc98ffc7be7fe.bindPopup%28popup_5ce51c86ffd5452a91eb53fdbdd2047f%29%0A%20%20%20%20%20%20%20%20%3B%0A%0A%20%20%20%20%20%20%20%20%0A%20%20%20%20%0A%20%20%20%20%0A%20%20%20%20%20%20%20%20%20%20%20%20var%20marker_f582e73d93b14475b012c7a66558c9f3%20%3D%20L.marker%28%0A%20%20%20%20%20%20%20%20%20%20%20%20%20%20%20%20%5B30.61570025%2C%2077.02461281%5D%2C%0A%20%20%20%20%20%20%20%20%20%20%20%20%20%20%20%20%7B%7D%0A%20%20%20%20%20%20%20%20%20%20%20%20%29.addTo%28map_4c9569615bf4401990b9e9b1f6c07a63%29%3B%0A%20%20%20%20%20%20%20%20%0A%20%20%20%20%0A%20%20%20%20%20%20%20%20%20%20%20%20var%20icon_5dc310f5fce541c3bbd87480140b5bcb%20%3D%20L.AwesomeMarkers.icon%28%0A%20%20%20%20%20%20%20%20%20%20%20%20%20%20%20%20%7B%22extraClasses%22%3A%20%22fa-rotate-0%22%2C%20%22icon%22%3A%20%22star%20empty%22%2C%20%22iconColor%22%3A%20%22white%22%2C%20%22markerColor%22%3A%20%22green%22%2C%20%22prefix%22%3A%20%22glyphicon%22%7D%0A%20%20%20%20%20%20%20%20%20%20%20%20%29%3B%0A%20%20%20%20%20%20%20%20%20%20%20%20marker_f582e73d93b14475b012c7a66558c9f3.setIcon%28icon_5dc310f5fce541c3bbd87480140b5bcb%29%3B%0A%20%20%20%20%20%20%20%20%0A%20%20%20%20%0A%20%20%20%20%20%20%20%20var%20popup_1aca8ae1f4d34a44a7379185e433da09%20%3D%20L.popup%28%7B%22maxWidth%22%3A%20%22100%25%22%7D%29%3B%0A%0A%20%20%20%20%20%20%20%20%0A%20%20%20%20%20%20%20%20%20%20%20%20var%20html_a329167085ca4749b6e6bd6d6def32ef%20%3D%20%24%28%60%3Cdiv%20id%3D%22html_a329167085ca4749b6e6bd6d6def32ef%22%20style%3D%22width%3A%20100.0%25%3B%20height%3A%20100.0%25%3B%22%3EAssault%2C%20Aggravated%2C%20W/%20Other%20Weapon351.0%3C/div%3E%60%29%5B0%5D%3B%0A%20%20%20%20%20%20%20%20%20%20%20%20popup_1aca8ae1f4d34a44a7379185e433da09.setContent%28html_a329167085ca4749b6e6bd6d6def32ef%29%3B%0A%20%20%20%20%20%20%20%20%0A%0A%20%20%20%20%20%20%20%20marker_f582e73d93b14475b012c7a66558c9f3.bindPopup%28popup_1aca8ae1f4d34a44a7379185e433da09%29%0A%20%20%20%20%20%20%20%20%3B%0A%0A%20%20%20%20%20%20%20%20%0A%20%20%20%20%0A%20%20%20%20%0A%20%20%20%20%20%20%20%20%20%20%20%20var%20marker_ceac5095926d49a4ae730574c5884343%20%3D%20L.marker%28%0A%20%20%20%20%20%20%20%20%20%20%20%20%20%20%20%20%5B30.53943372%2C%2077.83897212%5D%2C%0A%20%20%20%20%20%20%20%20%20%20%20%20%20%20%20%20%7B%7D%0A%20%20%20%20%20%20%20%20%20%20%20%20%29.addTo%28map_4c9569615bf4401990b9e9b1f6c07a63%29%3B%0A%20%20%20%20%20%20%20%20%0A%20%20%20%20%0A%20%20%20%20%20%20%20%20%20%20%20%20var%20icon_034faa367f9d4179a3c391a3598273ff%20%3D%20L.AwesomeMarkers.icon%28%0A%20%20%20%20%20%20%20%20%20%20%20%20%20%20%20%20%7B%22extraClasses%22%3A%20%22fa-rotate-0%22%2C%20%22icon%22%3A%20%22star%20empty%22%2C%20%22iconColor%22%3A%20%22white%22%2C%20%22markerColor%22%3A%20%22green%22%2C%20%22prefix%22%3A%20%22glyphicon%22%7D%0A%20%20%20%20%20%20%20%20%20%20%20%20%29%3B%0A%20%20%20%20%20%20%20%20%20%20%20%20marker_ceac5095926d49a4ae730574c5884343.setIcon%28icon_034faa367f9d4179a3c391a3598273ff%29%3B%0A%20%20%20%20%20%20%20%20%0A%20%20%20%20%0A%20%20%20%20%20%20%20%20var%20popup_2190006b653b4916aef4bb6cae3ab079%20%3D%20L.popup%28%7B%22maxWidth%22%3A%20%22100%25%22%7D%29%3B%0A%0A%20%20%20%20%20%20%20%20%0A%20%20%20%20%20%20%20%20%20%20%20%20var%20html_f6ba26269ffa44d5be75f6ad14fdd8f4%20%3D%20%24%28%60%3Cdiv%20id%3D%22html_f6ba26269ffa44d5be75f6ad14fdd8f4%22%20style%3D%22width%3A%20100.0%25%3B%20height%3A%20100.0%25%3B%22%3ENarcotics%20Paraphernalia%2C%20Possession%20of274.0%3C/div%3E%60%29%5B0%5D%3B%0A%20%20%20%20%20%20%20%20%20%20%20%20popup_2190006b653b4916aef4bb6cae3ab079.setContent%28html_f6ba26269ffa44d5be75f6ad14fdd8f4%29%3B%0A%20%20%20%20%20%20%20%20%0A%0A%20%20%20%20%20%20%20%20marker_ceac5095926d49a4ae730574c5884343.bindPopup%28popup_2190006b653b4916aef4bb6cae3ab079%29%0A%20%20%20%20%20%20%20%20%3B%0A%0A%20%20%20%20%20%20%20%20%0A%20%20%20%20%0A%20%20%20%20%0A%20%20%20%20%20%20%20%20%20%20%20%20var%20marker_2a9e2cb90ebb45d791bdda2c0028ba85%20%3D%20L.marker%28%0A%20%20%20%20%20%20%20%20%20%20%20%20%20%20%20%20%5B30.52346564%2C%2077.84752808%5D%2C%0A%20%20%20%20%20%20%20%20%20%20%20%20%20%20%20%20%7B%7D%0A%20%20%20%20%20%20%20%20%20%20%20%20%29.addTo%28map_4c9569615bf4401990b9e9b1f6c07a63%29%3B%0A%20%20%20%20%20%20%20%20%0A%20%20%20%20%0A%20%20%20%20%20%20%20%20%20%20%20%20var%20icon_b89ad87f3f804f8eaf858b72bc329fe6%20%3D%20L.AwesomeMarkers.icon%28%0A%20%20%20%20%20%20%20%20%20%20%20%20%20%20%20%20%7B%22extraClasses%22%3A%20%22fa-rotate-0%22%2C%20%22icon%22%3A%20%22star%20empty%22%2C%20%22iconColor%22%3A%20%22white%22%2C%20%22markerColor%22%3A%20%22green%22%2C%20%22prefix%22%3A%20%22glyphicon%22%7D%0A%20%20%20%20%20%20%20%20%20%20%20%20%29%3B%0A%20%20%20%20%20%20%20%20%20%20%20%20marker_2a9e2cb90ebb45d791bdda2c0028ba85.setIcon%28icon_b89ad87f3f804f8eaf858b72bc329fe6%29%3B%0A%20%20%20%20%20%20%20%20%0A%20%20%20%20%0A%20%20%20%20%20%20%20%20var%20popup_8cefb8a7713d494ca3d913273e0aa7fc%20%3D%20L.popup%28%7B%22maxWidth%22%3A%20%22100%25%22%7D%29%3B%0A%0A%20%20%20%20%20%20%20%20%0A%20%20%20%20%20%20%20%20%20%20%20%20var%20html_6f847e2162784ac9b8c1c4a91b11fa5e%20%3D%20%24%28%60%3Cdiv%20id%3D%22html_6f847e2162784ac9b8c1c4a91b11fa5e%22%20style%3D%22width%3A%20100.0%25%3B%20height%3A%20100.0%25%3B%22%3EVehicle%2C%20Recovered%2C%20Stolen%20outside%20SF378.0%3C/div%3E%60%29%5B0%5D%3B%0A%20%20%20%20%20%20%20%20%20%20%20%20popup_8cefb8a7713d494ca3d913273e0aa7fc.setContent%28html_6f847e2162784ac9b8c1c4a91b11fa5e%29%3B%0A%20%20%20%20%20%20%20%20%0A%0A%20%20%20%20%20%20%20%20marker_2a9e2cb90ebb45d791bdda2c0028ba85.bindPopup%28popup_8cefb8a7713d494ca3d913273e0aa7fc%29%0A%20%20%20%20%20%20%20%20%3B%0A%0A%20%20%20%20%20%20%20%20%0A%20%20%20%20%0A%20%20%20%20%0A%20%20%20%20%20%20%20%20%20%20%20%20var%20marker_512481de22624aa2abcb4bdeb1aabd70%20%3D%20L.marker%28%0A%20%20%20%20%20%20%20%20%20%20%20%20%20%20%20%20%5B30.0161343%2C%2077.93144478%5D%2C%0A%20%20%20%20%20%20%20%20%20%20%20%20%20%20%20%20%7B%7D%0A%20%20%20%20%20%20%20%20%20%20%20%20%29.addTo%28map_4c9569615bf4401990b9e9b1f6c07a63%29%3B%0A%20%20%20%20%20%20%20%20%0A%20%20%20%20%0A%20%20%20%20%20%20%20%20%20%20%20%20var%20icon_fd329266de6a4a63a45f9df60e2e65e4%20%3D%20L.AwesomeMarkers.icon%28%0A%20%20%20%20%20%20%20%20%20%20%20%20%20%20%20%20%7B%22extraClasses%22%3A%20%22fa-rotate-0%22%2C%20%22icon%22%3A%20%22star%20empty%22%2C%20%22iconColor%22%3A%20%22white%22%2C%20%22markerColor%22%3A%20%22green%22%2C%20%22prefix%22%3A%20%22glyphicon%22%7D%0A%20%20%20%20%20%20%20%20%20%20%20%20%29%3B%0A%20%20%20%20%20%20%20%20%20%20%20%20marker_512481de22624aa2abcb4bdeb1aabd70.setIcon%28icon_fd329266de6a4a63a45f9df60e2e65e4%29%3B%0A%20%20%20%20%20%20%20%20%0A%20%20%20%20%0A%20%20%20%20%20%20%20%20var%20popup_26058f7aedee4374aa641e8937776a1f%20%3D%20L.popup%28%7B%22maxWidth%22%3A%20%22100%25%22%7D%29%3B%0A%0A%20%20%20%20%20%20%20%20%0A%20%20%20%20%20%20%20%20%20%20%20%20var%20html_80155abd474b4f2c86482ed7081607f3%20%3D%20%24%28%60%3Cdiv%20id%3D%22html_80155abd474b4f2c86482ed7081607f3%22%20style%3D%22width%3A%20100.0%25%3B%20height%3A%20100.0%25%3B%22%3EVehicle%2C%20Recovered%2C%20Auto378.0%3C/div%3E%60%29%5B0%5D%3B%0A%20%20%20%20%20%20%20%20%20%20%20%20popup_26058f7aedee4374aa641e8937776a1f.setContent%28html_80155abd474b4f2c86482ed7081607f3%29%3B%0A%20%20%20%20%20%20%20%20%0A%0A%20%20%20%20%20%20%20%20marker_512481de22624aa2abcb4bdeb1aabd70.bindPopup%28popup_26058f7aedee4374aa641e8937776a1f%29%0A%20%20%20%20%20%20%20%20%3B%0A%0A%20%20%20%20%20%20%20%20%0A%20%20%20%20%0A%20%20%20%20%0A%20%20%20%20%20%20%20%20%20%20%20%20var%20marker_e37525e626cd4428a3e42a48e1ed5194%20%3D%20L.marker%28%0A%20%20%20%20%20%20%20%20%20%20%20%20%20%20%20%20%5B30.33603466%2C%2077.96654721%5D%2C%0A%20%20%20%20%20%20%20%20%20%20%20%20%20%20%20%20%7B%7D%0A%20%20%20%20%20%20%20%20%20%20%20%20%29.addTo%28map_4c9569615bf4401990b9e9b1f6c07a63%29%3B%0A%20%20%20%20%20%20%20%20%0A%20%20%20%20%0A%20%20%20%20%20%20%20%20%20%20%20%20var%20icon_c91a8f24bd844c32be7ab14e39d43119%20%3D%20L.AwesomeMarkers.icon%28%0A%20%20%20%20%20%20%20%20%20%20%20%20%20%20%20%20%7B%22extraClasses%22%3A%20%22fa-rotate-0%22%2C%20%22icon%22%3A%20%22star%20empty%22%2C%20%22iconColor%22%3A%20%22white%22%2C%20%22markerColor%22%3A%20%22green%22%2C%20%22prefix%22%3A%20%22glyphicon%22%7D%0A%20%20%20%20%20%20%20%20%20%20%20%20%29%3B%0A%20%20%20%20%20%20%20%20%20%20%20%20marker_e37525e626cd4428a3e42a48e1ed5194.setIcon%28icon_c91a8f24bd844c32be7ab14e39d43119%29%3B%0A%20%20%20%20%20%20%20%20%0A%20%20%20%20%0A%20%20%20%20%20%20%20%20var%20popup_88d834299c4143e49f3f304f5e3d1364%20%3D%20L.popup%28%7B%22maxWidth%22%3A%20%22100%25%22%7D%29%3B%0A%0A%20%20%20%20%20%20%20%20%0A%20%20%20%20%20%20%20%20%20%20%20%20var%20html_d01e09b13702416686d405506632d1d5%20%3D%20%24%28%60%3Cdiv%20id%3D%22html_d01e09b13702416686d405506632d1d5%22%20style%3D%22width%3A%20100.0%25%3B%20height%3A%20100.0%25%3B%22%3EBattery%2C%20former%20Spouse%20or%20Dating%20Relationship351.0%3C/div%3E%60%29%5B0%5D%3B%0A%20%20%20%20%20%20%20%20%20%20%20%20popup_88d834299c4143e49f3f304f5e3d1364.setContent%28html_d01e09b13702416686d405506632d1d5%29%3B%0A%20%20%20%20%20%20%20%20%0A%0A%20%20%20%20%20%20%20%20marker_e37525e626cd4428a3e42a48e1ed5194.bindPopup%28popup_88d834299c4143e49f3f304f5e3d1364%29%0A%20%20%20%20%20%20%20%20%3B%0A%0A%20%20%20%20%20%20%20%20%0A%20%20%20%20%0A%20%20%20%20%0A%20%20%20%20%20%20%20%20%20%20%20%20var%20marker_59c8ea865f7045a9ba7518433afb8d7b%20%3D%20L.marker%28%0A%20%20%20%20%20%20%20%20%20%20%20%20%20%20%20%20%5B30.34075184%2C%2078.06942937%5D%2C%0A%20%20%20%20%20%20%20%20%20%20%20%20%20%20%20%20%7B%7D%0A%20%20%20%20%20%20%20%20%20%20%20%20%29.addTo%28map_4c9569615bf4401990b9e9b1f6c07a63%29%3B%0A%20%20%20%20%20%20%20%20%0A%20%20%20%20%0A%20%20%20%20%20%20%20%20%20%20%20%20var%20icon_343b0a1bdc934d6a8d6e8aed73d9916e%20%3D%20L.AwesomeMarkers.icon%28%0A%20%20%20%20%20%20%20%20%20%20%20%20%20%20%20%20%7B%22extraClasses%22%3A%20%22fa-rotate-0%22%2C%20%22icon%22%3A%20%22star%20empty%22%2C%20%22iconColor%22%3A%20%22white%22%2C%20%22markerColor%22%3A%20%22green%22%2C%20%22prefix%22%3A%20%22glyphicon%22%7D%0A%20%20%20%20%20%20%20%20%20%20%20%20%29%3B%0A%20%20%20%20%20%20%20%20%20%20%20%20marker_59c8ea865f7045a9ba7518433afb8d7b.setIcon%28icon_343b0a1bdc934d6a8d6e8aed73d9916e%29%3B%0A%20%20%20%20%20%20%20%20%0A%20%20%20%20%0A%20%20%20%20%20%20%20%20var%20popup_4da5bd616a9d4ec788c97108b2cd41eb%20%3D%20L.popup%28%7B%22maxWidth%22%3A%20%22100%25%22%7D%29%3B%0A%0A%20%20%20%20%20%20%20%20%0A%20%20%20%20%20%20%20%20%20%20%20%20var%20html_232b893b64cd41d2b887c9b2e0eb119e%20%3D%20%24%28%60%3Cdiv%20id%3D%22html_232b893b64cd41d2b887c9b2e0eb119e%22%20style%3D%22width%3A%20100.0%25%3B%20height%3A%20100.0%25%3B%22%3EBattery351.0%3C/div%3E%60%29%5B0%5D%3B%0A%20%20%20%20%20%20%20%20%20%20%20%20popup_4da5bd616a9d4ec788c97108b2cd41eb.setContent%28html_232b893b64cd41d2b887c9b2e0eb119e%29%3B%0A%20%20%20%20%20%20%20%20%0A%0A%20%20%20%20%20%20%20%20marker_59c8ea865f7045a9ba7518433afb8d7b.bindPopup%28popup_4da5bd616a9d4ec788c97108b2cd41eb%29%0A%20%20%20%20%20%20%20%20%3B%0A%0A%20%20%20%20%20%20%20%20%0A%20%20%20%20%0A%20%20%20%20%0A%20%20%20%20%20%20%20%20%20%20%20%20var%20marker_e9068218cb20438195806d932f5e1e55%20%3D%20L.marker%28%0A%20%20%20%20%20%20%20%20%20%20%20%20%20%20%20%20%5B30.36692375%2C%2077.84560939%5D%2C%0A%20%20%20%20%20%20%20%20%20%20%20%20%20%20%20%20%7B%7D%0A%20%20%20%20%20%20%20%20%20%20%20%20%29.addTo%28map_4c9569615bf4401990b9e9b1f6c07a63%29%3B%0A%20%20%20%20%20%20%20%20%0A%20%20%20%20%0A%20%20%20%20%20%20%20%20%20%20%20%20var%20icon_dd162af181cf47e2a1ae7451a3414adf%20%3D%20L.AwesomeMarkers.icon%28%0A%20%20%20%20%20%20%20%20%20%20%20%20%20%20%20%20%7B%22extraClasses%22%3A%20%22fa-rotate-0%22%2C%20%22icon%22%3A%20%22star%20empty%22%2C%20%22iconColor%22%3A%20%22white%22%2C%20%22markerColor%22%3A%20%22green%22%2C%20%22prefix%22%3A%20%22glyphicon%22%7D%0A%20%20%20%20%20%20%20%20%20%20%20%20%29%3B%0A%20%20%20%20%20%20%20%20%20%20%20%20marker_e9068218cb20438195806d932f5e1e55.setIcon%28icon_dd162af181cf47e2a1ae7451a3414adf%29%3B%0A%20%20%20%20%20%20%20%20%0A%20%20%20%20%0A%20%20%20%20%20%20%20%20var%20popup_efb05a8af84341a88446a301b5016d2e%20%3D%20L.popup%28%7B%22maxWidth%22%3A%20%22100%25%22%7D%29%3B%0A%0A%20%20%20%20%20%20%20%20%0A%20%20%20%20%20%20%20%20%20%20%20%20var%20html_a0fc28c6bcdb48a9aa49a011d1ec88a6%20%3D%20%24%28%60%3Cdiv%20id%3D%22html_a0fc28c6bcdb48a9aa49a011d1ec88a6%22%20style%3D%22width%3A%20100.0%25%3B%20height%3A%20100.0%25%3B%22%3ETheft%2C%20Other%20Property%2C%20%2450-%24200378.0%3C/div%3E%60%29%5B0%5D%3B%0A%20%20%20%20%20%20%20%20%20%20%20%20popup_efb05a8af84341a88446a301b5016d2e.setContent%28html_a0fc28c6bcdb48a9aa49a011d1ec88a6%29%3B%0A%20%20%20%20%20%20%20%20%0A%0A%20%20%20%20%20%20%20%20marker_e9068218cb20438195806d932f5e1e55.bindPopup%28popup_efb05a8af84341a88446a301b5016d2e%29%0A%20%20%20%20%20%20%20%20%3B%0A%0A%20%20%20%20%20%20%20%20%0A%20%20%20%20%0A%20%20%20%20%0A%20%20%20%20%20%20%20%20%20%20%20%20var%20marker_d6fab69fddf749c1ab45db6245001cda%20%3D%20L.marker%28%0A%20%20%20%20%20%20%20%20%20%20%20%20%20%20%20%20%5B30.32083158%2C%2078.04025542%5D%2C%0A%20%20%20%20%20%20%20%20%20%20%20%20%20%20%20%20%7B%7D%0A%20%20%20%20%20%20%20%20%20%20%20%20%29.addTo%28map_4c9569615bf4401990b9e9b1f6c07a63%29%3B%0A%20%20%20%20%20%20%20%20%0A%20%20%20%20%0A%20%20%20%20%20%20%20%20%20%20%20%20var%20icon_bc77eacca19346f4b95ef2cf482224e3%20%3D%20L.AwesomeMarkers.icon%28%0A%20%20%20%20%20%20%20%20%20%20%20%20%20%20%20%20%7B%22extraClasses%22%3A%20%22fa-rotate-0%22%2C%20%22icon%22%3A%20%22star%20empty%22%2C%20%22iconColor%22%3A%20%22white%22%2C%20%22markerColor%22%3A%20%22green%22%2C%20%22prefix%22%3A%20%22glyphicon%22%7D%0A%20%20%20%20%20%20%20%20%20%20%20%20%29%3B%0A%20%20%20%20%20%20%20%20%20%20%20%20marker_d6fab69fddf749c1ab45db6245001cda.setIcon%28icon_bc77eacca19346f4b95ef2cf482224e3%29%3B%0A%20%20%20%20%20%20%20%20%0A%20%20%20%20%0A%20%20%20%20%20%20%20%20var%20popup_86ffbfca8f534eb9b5f3a78cead3340a%20%3D%20L.popup%28%7B%22maxWidth%22%3A%20%22100%25%22%7D%29%3B%0A%0A%20%20%20%20%20%20%20%20%0A%20%20%20%20%20%20%20%20%20%20%20%20var%20html_bfa7f55f32df4bdda9946e9a30ff9404%20%3D%20%24%28%60%3Cdiv%20id%3D%22html_bfa7f55f32df4bdda9946e9a30ff9404%22%20style%3D%22width%3A%20100.0%25%3B%20height%3A%20100.0%25%3B%22%3ETheft%2C%20Other%20Property%2C%20%24200-%24950378.0%3C/div%3E%60%29%5B0%5D%3B%0A%20%20%20%20%20%20%20%20%20%20%20%20popup_86ffbfca8f534eb9b5f3a78cead3340a.setContent%28html_bfa7f55f32df4bdda9946e9a30ff9404%29%3B%0A%20%20%20%20%20%20%20%20%0A%0A%20%20%20%20%20%20%20%20marker_d6fab69fddf749c1ab45db6245001cda.bindPopup%28popup_86ffbfca8f534eb9b5f3a78cead3340a%29%0A%20%20%20%20%20%20%20%20%3B%0A%0A%20%20%20%20%20%20%20%20%0A%20%20%20%20%0A%20%20%20%20%0A%20%20%20%20%20%20%20%20%20%20%20%20var%20marker_90858ff1f8c9412b91eebc7f1e31947c%20%3D%20L.marker%28%0A%20%20%20%20%20%20%20%20%20%20%20%20%20%20%20%20%5B30.15438326%2C%2078.77312738%5D%2C%0A%20%20%20%20%20%20%20%20%20%20%20%20%20%20%20%20%7B%7D%0A%20%20%20%20%20%20%20%20%20%20%20%20%29.addTo%28map_4c9569615bf4401990b9e9b1f6c07a63%29%3B%0A%20%20%20%20%20%20%20%20%0A%20%20%20%20%0A%20%20%20%20%20%20%20%20%20%20%20%20var%20icon_7c38a90ee049413ea40a19cc23608336%20%3D%20L.AwesomeMarkers.icon%28%0A%20%20%20%20%20%20%20%20%20%20%20%20%20%20%20%20%7B%22extraClasses%22%3A%20%22fa-rotate-0%22%2C%20%22icon%22%3A%20%22star%20empty%22%2C%20%22iconColor%22%3A%20%22white%22%2C%20%22markerColor%22%3A%20%22green%22%2C%20%22prefix%22%3A%20%22glyphicon%22%7D%0A%20%20%20%20%20%20%20%20%20%20%20%20%29%3B%0A%20%20%20%20%20%20%20%20%20%20%20%20marker_90858ff1f8c9412b91eebc7f1e31947c.setIcon%28icon_7c38a90ee049413ea40a19cc23608336%29%3B%0A%20%20%20%20%20%20%20%20%0A%20%20%20%20%0A%20%20%20%20%20%20%20%20var%20popup_5b9e1dd261f2489691130682dc6130b3%20%3D%20L.popup%28%7B%22maxWidth%22%3A%20%22100%25%22%7D%29%3B%0A%0A%20%20%20%20%20%20%20%20%0A%20%20%20%20%20%20%20%20%20%20%20%20var%20html_a9f03c5dbb8c495597d9a3e2a4dce71e%20%3D%20%24%28%60%3Cdiv%20id%3D%22html_a9f03c5dbb8c495597d9a3e2a4dce71e%22%20style%3D%22width%3A%20100.0%25%3B%20height%3A%20100.0%25%3B%22%3ELost%20Property425.0%3C/div%3E%60%29%5B0%5D%3B%0A%20%20%20%20%20%20%20%20%20%20%20%20popup_5b9e1dd261f2489691130682dc6130b3.setContent%28html_a9f03c5dbb8c495597d9a3e2a4dce71e%29%3B%0A%20%20%20%20%20%20%20%20%0A%0A%20%20%20%20%20%20%20%20marker_90858ff1f8c9412b91eebc7f1e31947c.bindPopup%28popup_5b9e1dd261f2489691130682dc6130b3%29%0A%20%20%20%20%20%20%20%20%3B%0A%0A%20%20%20%20%20%20%20%20%0A%20%20%20%20%0A%20%20%20%20%0A%20%20%20%20%20%20%20%20%20%20%20%20var%20marker_6b810f3df9014268b4f7e35144e4b1c9%20%3D%20L.marker%28%0A%20%20%20%20%20%20%20%20%20%20%20%20%20%20%20%20%5B30.22421721%2C%2078.7900388%5D%2C%0A%20%20%20%20%20%20%20%20%20%20%20%20%20%20%20%20%7B%7D%0A%20%20%20%20%20%20%20%20%20%20%20%20%29.addTo%28map_4c9569615bf4401990b9e9b1f6c07a63%29%3B%0A%20%20%20%20%20%20%20%20%0A%20%20%20%20%0A%20%20%20%20%20%20%20%20%20%20%20%20var%20icon_a54121b4a7d842ecac15ed63142d0d1c%20%3D%20L.AwesomeMarkers.icon%28%0A%20%20%20%20%20%20%20%20%20%20%20%20%20%20%20%20%7B%22extraClasses%22%3A%20%22fa-rotate-0%22%2C%20%22icon%22%3A%20%22star%20empty%22%2C%20%22iconColor%22%3A%20%22white%22%2C%20%22markerColor%22%3A%20%22green%22%2C%20%22prefix%22%3A%20%22glyphicon%22%7D%0A%20%20%20%20%20%20%20%20%20%20%20%20%29%3B%0A%20%20%20%20%20%20%20%20%20%20%20%20marker_6b810f3df9014268b4f7e35144e4b1c9.setIcon%28icon_a54121b4a7d842ecac15ed63142d0d1c%29%3B%0A%20%20%20%20%20%20%20%20%0A%20%20%20%20%0A%20%20%20%20%20%20%20%20var%20popup_5abc41d1d68042fd934b6565bfbd941b%20%3D%20L.popup%28%7B%22maxWidth%22%3A%20%22100%25%22%7D%29%3B%0A%0A%20%20%20%20%20%20%20%20%0A%20%20%20%20%20%20%20%20%20%20%20%20var%20html_33857d6444f447ed8f0c14042c022458%20%3D%20%24%28%60%3Cdiv%20id%3D%22html_33857d6444f447ed8f0c14042c022458%22%20style%3D%22width%3A%20100.0%25%3B%20height%3A%20100.0%25%3B%22%3EBattery351.0%3C/div%3E%60%29%5B0%5D%3B%0A%20%20%20%20%20%20%20%20%20%20%20%20popup_5abc41d1d68042fd934b6565bfbd941b.setContent%28html_33857d6444f447ed8f0c14042c022458%29%3B%0A%20%20%20%20%20%20%20%20%0A%0A%20%20%20%20%20%20%20%20marker_6b810f3df9014268b4f7e35144e4b1c9.bindPopup%28popup_5abc41d1d68042fd934b6565bfbd941b%29%0A%20%20%20%20%20%20%20%20%3B%0A%0A%20%20%20%20%20%20%20%20%0A%20%20%20%20%0A%20%20%20%20%0A%20%20%20%20%20%20%20%20%20%20%20%20var%20marker_7e70288f6da84c0aaed13bf7558cd03b%20%3D%20L.marker%28%0A%20%20%20%20%20%20%20%20%20%20%20%20%20%20%20%20%5B30.49883671%2C%2077.80530353%5D%2C%0A%20%20%20%20%20%20%20%20%20%20%20%20%20%20%20%20%7B%7D%0A%20%20%20%20%20%20%20%20%20%20%20%20%29.addTo%28map_4c9569615bf4401990b9e9b1f6c07a63%29%3B%0A%20%20%20%20%20%20%20%20%0A%20%20%20%20%0A%20%20%20%20%20%20%20%20%20%20%20%20var%20icon_938fe214930c4e5cac30577468c7f172%20%3D%20L.AwesomeMarkers.icon%28%0A%20%20%20%20%20%20%20%20%20%20%20%20%20%20%20%20%7B%22extraClasses%22%3A%20%22fa-rotate-0%22%2C%20%22icon%22%3A%20%22star%20empty%22%2C%20%22iconColor%22%3A%20%22white%22%2C%20%22markerColor%22%3A%20%22green%22%2C%20%22prefix%22%3A%20%22glyphicon%22%7D%0A%20%20%20%20%20%20%20%20%20%20%20%20%29%3B%0A%20%20%20%20%20%20%20%20%20%20%20%20marker_7e70288f6da84c0aaed13bf7558cd03b.setIcon%28icon_938fe214930c4e5cac30577468c7f172%29%3B%0A%20%20%20%20%20%20%20%20%0A%20%20%20%20%0A%20%20%20%20%20%20%20%20var%20popup_3e3100699cb44cad843911baace0442d%20%3D%20L.popup%28%7B%22maxWidth%22%3A%20%22100%25%22%7D%29%3B%0A%0A%20%20%20%20%20%20%20%20%0A%20%20%20%20%20%20%20%20%20%20%20%20var%20html_ea8d0e1ceec64433926a0cbb99929e9c%20%3D%20%24%28%60%3Cdiv%20id%3D%22html_ea8d0e1ceec64433926a0cbb99929e9c%22%20style%3D%22width%3A%20100.0%25%3B%20height%3A%20100.0%25%3B%22%3EBattery351.0%3C/div%3E%60%29%5B0%5D%3B%0A%20%20%20%20%20%20%20%20%20%20%20%20popup_3e3100699cb44cad843911baace0442d.setContent%28html_ea8d0e1ceec64433926a0cbb99929e9c%29%3B%0A%20%20%20%20%20%20%20%20%0A%0A%20%20%20%20%20%20%20%20marker_7e70288f6da84c0aaed13bf7558cd03b.bindPopup%28popup_3e3100699cb44cad843911baace0442d%29%0A%20%20%20%20%20%20%20%20%3B%0A%0A%20%20%20%20%20%20%20%20%0A%20%20%20%20%0A%3C/script%3E onload=\"this.contentDocument.open();this.contentDocument.write(    decodeURIComponent(this.getAttribute('data-html')));this.contentDocument.close();\" allowfullscreen webkitallowfullscreen mozallowfullscreen></iframe></div></div>"
      ],
      "text/plain": [
       "<folium.folium.Map at 0x1cd5797f5b0>"
      ]
     },
     "execution_count": 21,
     "metadata": {},
     "output_type": "execute_result"
    }
   ],
   "source": [
    "ut_map_lc"
   ]
  },
  {
   "cell_type": "code",
   "execution_count": 22,
   "id": "5e1ac74d",
   "metadata": {},
   "outputs": [],
   "source": [
    "from ipywidgets import widgets"
   ]
  },
  {
   "cell_type": "code",
   "execution_count": 23,
   "id": "36a7d44b",
   "metadata": {},
   "outputs": [
    {
     "data": {
      "application/vnd.jupyter.widget-view+json": {
       "model_id": "caaed48d7b7b4126aba5a537d601961b",
       "version_major": 2,
       "version_minor": 0
      },
      "text/plain": [
       "Label(value='Enter the Unique_Identity_Code/Phone Number')"
      ]
     },
     "metadata": {},
     "output_type": "display_data"
    },
    {
     "data": {
      "application/vnd.jupyter.widget-view+json": {
       "model_id": "bd25e1ef722a481d952f205afe0c5d79",
       "version_major": 2,
       "version_minor": 0
      },
      "text/plain": [
       "Text(value='')"
      ]
     },
     "metadata": {},
     "output_type": "display_data"
    },
    {
     "data": {
      "application/vnd.jupyter.widget-view+json": {
       "model_id": "9cddae528b5d4e63a1cd2e2e8528fdfb",
       "version_major": 2,
       "version_minor": 0
      },
      "text/plain": [
       "Button(description='Enter', style=ButtonStyle())"
      ]
     },
     "metadata": {},
     "output_type": "display_data"
    },
    {
     "data": {
      "application/vnd.jupyter.widget-view+json": {
       "model_id": "5d420ea8dc064acfa6c24a88f7930f17",
       "version_major": 2,
       "version_minor": 0
      },
      "text/plain": [
       "Label(value='')"
      ]
     },
     "metadata": {},
     "output_type": "display_data"
    }
   ],
   "source": [
    "lbl1=widgets. Label('Enter the Unique_Identity_Code/Phone Number' )\n",
    "display (lbl1)\n",
    "text1=widgets.Text()\n",
    "display (text1)\n",
    "\n",
    "btn=widgets.Button(description=\"Enter\")\n",
    "display(btn)\n",
    "lb13=widgets.Label()\n",
    "display(lb13)\n",
    "\n",
    "def submit(b) :\n",
    "    x=int(text1.value)\n",
    "    df_criminal_org_1 = df_criminal_org[df_criminal_org.Incident_ID == x]\n",
    "    df_criminal_org_1.apply(lambda row : folium.Marker(location = [row['Latitude'], row['Longitude']],\n",
    "                                            popup = row['Incident Description'],\n",
    "                                            icon = folium.Icon(icon = 'star empty', color = 'red', prefix = 'glyphicon')).add_to(ut_map_lc), axis = 1)\n",
    "    print(ut_map_lc)\n",
    "\n",
    "btn.on_click(submit)\n"
   ]
  },
  {
   "cell_type": "code",
   "execution_count": 24,
   "id": "c993dab0",
   "metadata": {},
   "outputs": [
    {
     "data": {
      "text/html": [
       "<div style=\"width:100%;\"><div style=\"position:relative;width:100%;height:0;padding-bottom:60%;\"><span style=\"color:#565656\">Make this Notebook Trusted to load map: File -> Trust Notebook</span><iframe src=\"about:blank\" style=\"position:absolute;width:100%;height:100%;left:0;top:0;border:none !important;\" data-html=%3C%21DOCTYPE%20html%3E%0A%3Chead%3E%20%20%20%20%0A%20%20%20%20%3Cmeta%20http-equiv%3D%22content-type%22%20content%3D%22text/html%3B%20charset%3DUTF-8%22%20/%3E%0A%20%20%20%20%0A%20%20%20%20%20%20%20%20%3Cscript%3E%0A%20%20%20%20%20%20%20%20%20%20%20%20L_NO_TOUCH%20%3D%20false%3B%0A%20%20%20%20%20%20%20%20%20%20%20%20L_DISABLE_3D%20%3D%20false%3B%0A%20%20%20%20%20%20%20%20%3C/script%3E%0A%20%20%20%20%0A%20%20%20%20%3Cstyle%3Ehtml%2C%20body%20%7Bwidth%3A%20100%25%3Bheight%3A%20100%25%3Bmargin%3A%200%3Bpadding%3A%200%3B%7D%3C/style%3E%0A%20%20%20%20%3Cstyle%3E%23map%20%7Bposition%3Aabsolute%3Btop%3A0%3Bbottom%3A0%3Bright%3A0%3Bleft%3A0%3B%7D%3C/style%3E%0A%20%20%20%20%3Cscript%20src%3D%22https%3A//cdn.jsdelivr.net/npm/leaflet%401.6.0/dist/leaflet.js%22%3E%3C/script%3E%0A%20%20%20%20%3Cscript%20src%3D%22https%3A//code.jquery.com/jquery-1.12.4.min.js%22%3E%3C/script%3E%0A%20%20%20%20%3Cscript%20src%3D%22https%3A//maxcdn.bootstrapcdn.com/bootstrap/3.2.0/js/bootstrap.min.js%22%3E%3C/script%3E%0A%20%20%20%20%3Cscript%20src%3D%22https%3A//cdnjs.cloudflare.com/ajax/libs/Leaflet.awesome-markers/2.0.2/leaflet.awesome-markers.js%22%3E%3C/script%3E%0A%20%20%20%20%3Clink%20rel%3D%22stylesheet%22%20href%3D%22https%3A//cdn.jsdelivr.net/npm/leaflet%401.6.0/dist/leaflet.css%22/%3E%0A%20%20%20%20%3Clink%20rel%3D%22stylesheet%22%20href%3D%22https%3A//maxcdn.bootstrapcdn.com/bootstrap/3.2.0/css/bootstrap.min.css%22/%3E%0A%20%20%20%20%3Clink%20rel%3D%22stylesheet%22%20href%3D%22https%3A//maxcdn.bootstrapcdn.com/bootstrap/3.2.0/css/bootstrap-theme.min.css%22/%3E%0A%20%20%20%20%3Clink%20rel%3D%22stylesheet%22%20href%3D%22https%3A//maxcdn.bootstrapcdn.com/font-awesome/4.6.3/css/font-awesome.min.css%22/%3E%0A%20%20%20%20%3Clink%20rel%3D%22stylesheet%22%20href%3D%22https%3A//cdnjs.cloudflare.com/ajax/libs/Leaflet.awesome-markers/2.0.2/leaflet.awesome-markers.css%22/%3E%0A%20%20%20%20%3Clink%20rel%3D%22stylesheet%22%20href%3D%22https%3A//cdn.jsdelivr.net/gh/python-visualization/folium/folium/templates/leaflet.awesome.rotate.min.css%22/%3E%0A%20%20%20%20%0A%20%20%20%20%20%20%20%20%20%20%20%20%3Cmeta%20name%3D%22viewport%22%20content%3D%22width%3Ddevice-width%2C%0A%20%20%20%20%20%20%20%20%20%20%20%20%20%20%20%20initial-scale%3D1.0%2C%20maximum-scale%3D1.0%2C%20user-scalable%3Dno%22%20/%3E%0A%20%20%20%20%20%20%20%20%20%20%20%20%3Cstyle%3E%0A%20%20%20%20%20%20%20%20%20%20%20%20%20%20%20%20%23map_2b96f7275e8044b39da349952c70f8ed%20%7B%0A%20%20%20%20%20%20%20%20%20%20%20%20%20%20%20%20%20%20%20%20position%3A%20relative%3B%0A%20%20%20%20%20%20%20%20%20%20%20%20%20%20%20%20%20%20%20%20width%3A%20100.0%25%3B%0A%20%20%20%20%20%20%20%20%20%20%20%20%20%20%20%20%20%20%20%20height%3A%20100.0%25%3B%0A%20%20%20%20%20%20%20%20%20%20%20%20%20%20%20%20%20%20%20%20left%3A%200.0%25%3B%0A%20%20%20%20%20%20%20%20%20%20%20%20%20%20%20%20%20%20%20%20top%3A%200.0%25%3B%0A%20%20%20%20%20%20%20%20%20%20%20%20%20%20%20%20%7D%0A%20%20%20%20%20%20%20%20%20%20%20%20%3C/style%3E%0A%20%20%20%20%20%20%20%20%0A%3C/head%3E%0A%3Cbody%3E%20%20%20%20%0A%20%20%20%20%0A%20%20%20%20%20%20%20%20%20%20%20%20%3Cdiv%20class%3D%22folium-map%22%20id%3D%22map_2b96f7275e8044b39da349952c70f8ed%22%20%3E%3C/div%3E%0A%20%20%20%20%20%20%20%20%0A%3C/body%3E%0A%3Cscript%3E%20%20%20%20%0A%20%20%20%20%0A%20%20%20%20%20%20%20%20%20%20%20%20var%20map_2b96f7275e8044b39da349952c70f8ed%20%3D%20L.map%28%0A%20%20%20%20%20%20%20%20%20%20%20%20%20%20%20%20%22map_2b96f7275e8044b39da349952c70f8ed%22%2C%0A%20%20%20%20%20%20%20%20%20%20%20%20%20%20%20%20%7B%0A%20%20%20%20%20%20%20%20%20%20%20%20%20%20%20%20%20%20%20%20center%3A%20%5B30.316496%2C%2078.032188%5D%2C%0A%20%20%20%20%20%20%20%20%20%20%20%20%20%20%20%20%20%20%20%20crs%3A%20L.CRS.EPSG3857%2C%0A%20%20%20%20%20%20%20%20%20%20%20%20%20%20%20%20%20%20%20%20zoom%3A%2011%2C%0A%20%20%20%20%20%20%20%20%20%20%20%20%20%20%20%20%20%20%20%20zoomControl%3A%20true%2C%0A%20%20%20%20%20%20%20%20%20%20%20%20%20%20%20%20%20%20%20%20preferCanvas%3A%20false%2C%0A%20%20%20%20%20%20%20%20%20%20%20%20%20%20%20%20%7D%0A%20%20%20%20%20%20%20%20%20%20%20%20%29%3B%0A%20%20%20%20%20%20%20%20%20%20%20%20L.control.scale%28%29.addTo%28map_2b96f7275e8044b39da349952c70f8ed%29%3B%0A%0A%20%20%20%20%20%20%20%20%20%20%20%20%0A%0A%20%20%20%20%20%20%20%20%0A%20%20%20%20%0A%20%20%20%20%20%20%20%20%20%20%20%20var%20tile_layer_ab141317dfcc4908bb9808e49618b198%20%3D%20L.tileLayer%28%0A%20%20%20%20%20%20%20%20%20%20%20%20%20%20%20%20%22https%3A//%7Bs%7D.tile.openstreetmap.org/%7Bz%7D/%7Bx%7D/%7By%7D.png%22%2C%0A%20%20%20%20%20%20%20%20%20%20%20%20%20%20%20%20%7B%22attribution%22%3A%20%22Data%20by%20%5Cu0026copy%3B%20%5Cu003ca%20href%3D%5C%22http%3A//openstreetmap.org%5C%22%5Cu003eOpenStreetMap%5Cu003c/a%5Cu003e%2C%20under%20%5Cu003ca%20href%3D%5C%22http%3A//www.openstreetmap.org/copyright%5C%22%5Cu003eODbL%5Cu003c/a%5Cu003e.%22%2C%20%22detectRetina%22%3A%20false%2C%20%22maxNativeZoom%22%3A%2018%2C%20%22maxZoom%22%3A%2018%2C%20%22minZoom%22%3A%200%2C%20%22noWrap%22%3A%20false%2C%20%22opacity%22%3A%201%2C%20%22subdomains%22%3A%20%22abc%22%2C%20%22tms%22%3A%20false%7D%0A%20%20%20%20%20%20%20%20%20%20%20%20%29.addTo%28map_2b96f7275e8044b39da349952c70f8ed%29%3B%0A%20%20%20%20%20%20%20%20%0A%20%20%20%20%0A%20%20%20%20%20%20%20%20%20%20%20%20var%20marker_fc5e90a84adc4cf7a68b2e02f0047607%20%3D%20L.marker%28%0A%20%20%20%20%20%20%20%20%20%20%20%20%20%20%20%20%5B30.32557323%2C%2078.03613555%5D%2C%0A%20%20%20%20%20%20%20%20%20%20%20%20%20%20%20%20%7B%7D%0A%20%20%20%20%20%20%20%20%20%20%20%20%29.addTo%28map_2b96f7275e8044b39da349952c70f8ed%29%3B%0A%20%20%20%20%20%20%20%20%0A%20%20%20%20%0A%20%20%20%20%20%20%20%20%20%20%20%20var%20icon_1987f22ea8c24b6dab1d43a1269cce8f%20%3D%20L.AwesomeMarkers.icon%28%0A%20%20%20%20%20%20%20%20%20%20%20%20%20%20%20%20%7B%22extraClasses%22%3A%20%22fa-rotate-0%22%2C%20%22icon%22%3A%20%22star%20empty%22%2C%20%22iconColor%22%3A%20%22white%22%2C%20%22markerColor%22%3A%20%22green%22%2C%20%22prefix%22%3A%20%22glyphicon%22%7D%0A%20%20%20%20%20%20%20%20%20%20%20%20%29%3B%0A%20%20%20%20%20%20%20%20%20%20%20%20marker_fc5e90a84adc4cf7a68b2e02f0047607.setIcon%28icon_1987f22ea8c24b6dab1d43a1269cce8f%29%3B%0A%20%20%20%20%20%20%20%20%0A%20%20%20%20%0A%20%20%20%20%20%20%20%20var%20popup_9a8cf9bc222c44f38a571665bd807d6b%20%3D%20L.popup%28%7B%22maxWidth%22%3A%20%22100%25%22%7D%29%3B%0A%0A%20%20%20%20%20%20%20%20%0A%20%20%20%20%20%20%20%20%20%20%20%20var%20html_9b41648615274a8dbea28a940c46e811%20%3D%20%24%28%60%3Cdiv%20id%3D%22html_9b41648615274a8dbea28a940c46e811%22%20style%3D%22width%3A%20100.0%25%3B%20height%3A%20100.0%25%3B%22%3ETheft%2C%20Other%20Property%2C%20%2450-%24200378.0%3C/div%3E%60%29%5B0%5D%3B%0A%20%20%20%20%20%20%20%20%20%20%20%20popup_9a8cf9bc222c44f38a571665bd807d6b.setContent%28html_9b41648615274a8dbea28a940c46e811%29%3B%0A%20%20%20%20%20%20%20%20%0A%0A%20%20%20%20%20%20%20%20marker_fc5e90a84adc4cf7a68b2e02f0047607.bindPopup%28popup_9a8cf9bc222c44f38a571665bd807d6b%29%0A%20%20%20%20%20%20%20%20%3B%0A%0A%20%20%20%20%20%20%20%20%0A%20%20%20%20%0A%20%20%20%20%0A%20%20%20%20%20%20%20%20%20%20%20%20var%20marker_c6c8701154a244e2a7b2311a535321a3%20%3D%20L.marker%28%0A%20%20%20%20%20%20%20%20%20%20%20%20%20%20%20%20%5B30.33031465%2C%2078.08729064%5D%2C%0A%20%20%20%20%20%20%20%20%20%20%20%20%20%20%20%20%7B%7D%0A%20%20%20%20%20%20%20%20%20%20%20%20%29.addTo%28map_2b96f7275e8044b39da349952c70f8ed%29%3B%0A%20%20%20%20%20%20%20%20%0A%20%20%20%20%0A%20%20%20%20%20%20%20%20%20%20%20%20var%20icon_38389c2d589c45d1ae429979792bfad8%20%3D%20L.AwesomeMarkers.icon%28%0A%20%20%20%20%20%20%20%20%20%20%20%20%20%20%20%20%7B%22extraClasses%22%3A%20%22fa-rotate-0%22%2C%20%22icon%22%3A%20%22star%20empty%22%2C%20%22iconColor%22%3A%20%22white%22%2C%20%22markerColor%22%3A%20%22green%22%2C%20%22prefix%22%3A%20%22glyphicon%22%7D%0A%20%20%20%20%20%20%20%20%20%20%20%20%29%3B%0A%20%20%20%20%20%20%20%20%20%20%20%20marker_c6c8701154a244e2a7b2311a535321a3.setIcon%28icon_38389c2d589c45d1ae429979792bfad8%29%3B%0A%20%20%20%20%20%20%20%20%0A%20%20%20%20%0A%20%20%20%20%20%20%20%20var%20popup_b30c8f78ed96459b9c7f49931cccdf2f%20%3D%20L.popup%28%7B%22maxWidth%22%3A%20%22100%25%22%7D%29%3B%0A%0A%20%20%20%20%20%20%20%20%0A%20%20%20%20%20%20%20%20%20%20%20%20var%20html_0701ce75f4704d96a37328d02f56ce1f%20%3D%20%24%28%60%3Cdiv%20id%3D%22html_0701ce75f4704d96a37328d02f56ce1f%22%20style%3D%22width%3A%20100.0%25%3B%20height%3A%20100.0%25%3B%22%3ETheft%2C%20From%20Unlocked%20Vehicle%2C%20%3E%24950378.0%3C/div%3E%60%29%5B0%5D%3B%0A%20%20%20%20%20%20%20%20%20%20%20%20popup_b30c8f78ed96459b9c7f49931cccdf2f.setContent%28html_0701ce75f4704d96a37328d02f56ce1f%29%3B%0A%20%20%20%20%20%20%20%20%0A%0A%20%20%20%20%20%20%20%20marker_c6c8701154a244e2a7b2311a535321a3.bindPopup%28popup_b30c8f78ed96459b9c7f49931cccdf2f%29%0A%20%20%20%20%20%20%20%20%3B%0A%0A%20%20%20%20%20%20%20%20%0A%20%20%20%20%0A%20%20%20%20%0A%20%20%20%20%20%20%20%20%20%20%20%20var%20marker_2546ff22394248908719cbf3466f1be0%20%3D%20L.marker%28%0A%20%20%20%20%20%20%20%20%20%20%20%20%20%20%20%20%5B30.45938256%2C%2078.0737483%5D%2C%0A%20%20%20%20%20%20%20%20%20%20%20%20%20%20%20%20%7B%7D%0A%20%20%20%20%20%20%20%20%20%20%20%20%29.addTo%28map_2b96f7275e8044b39da349952c70f8ed%29%3B%0A%20%20%20%20%20%20%20%20%0A%20%20%20%20%0A%20%20%20%20%20%20%20%20%20%20%20%20var%20icon_49c5859a8abd4b1b91204b5396752909%20%3D%20L.AwesomeMarkers.icon%28%0A%20%20%20%20%20%20%20%20%20%20%20%20%20%20%20%20%7B%22extraClasses%22%3A%20%22fa-rotate-0%22%2C%20%22icon%22%3A%20%22star%20empty%22%2C%20%22iconColor%22%3A%20%22white%22%2C%20%22markerColor%22%3A%20%22green%22%2C%20%22prefix%22%3A%20%22glyphicon%22%7D%0A%20%20%20%20%20%20%20%20%20%20%20%20%29%3B%0A%20%20%20%20%20%20%20%20%20%20%20%20marker_2546ff22394248908719cbf3466f1be0.setIcon%28icon_49c5859a8abd4b1b91204b5396752909%29%3B%0A%20%20%20%20%20%20%20%20%0A%20%20%20%20%0A%20%20%20%20%20%20%20%20var%20popup_e6d84f6159024c67878df3297a095d18%20%3D%20L.popup%28%7B%22maxWidth%22%3A%20%22100%25%22%7D%29%3B%0A%0A%20%20%20%20%20%20%20%20%0A%20%20%20%20%20%20%20%20%20%20%20%20var%20html_1049d86caa6e46e69e30df404225d83a%20%3D%20%24%28%60%3Cdiv%20id%3D%22html_1049d86caa6e46e69e30df404225d83a%22%20style%3D%22width%3A%20100.0%25%3B%20height%3A%20100.0%25%3B%22%3ETheft%2C%20From%20Person%2C%20%3E%24950%20%28other%20than%20Pickpocket%29378.0%3C/div%3E%60%29%5B0%5D%3B%0A%20%20%20%20%20%20%20%20%20%20%20%20popup_e6d84f6159024c67878df3297a095d18.setContent%28html_1049d86caa6e46e69e30df404225d83a%29%3B%0A%20%20%20%20%20%20%20%20%0A%0A%20%20%20%20%20%20%20%20marker_2546ff22394248908719cbf3466f1be0.bindPopup%28popup_e6d84f6159024c67878df3297a095d18%29%0A%20%20%20%20%20%20%20%20%3B%0A%0A%20%20%20%20%20%20%20%20%0A%20%20%20%20%0A%20%20%20%20%0A%20%20%20%20%20%20%20%20%20%20%20%20var%20marker_ec54ac966f3f40ada8986792d1505357%20%3D%20L.marker%28%0A%20%20%20%20%20%20%20%20%20%20%20%20%20%20%20%20%5B30.47883671%2C%2077.79530353%5D%2C%0A%20%20%20%20%20%20%20%20%20%20%20%20%20%20%20%20%7B%7D%0A%20%20%20%20%20%20%20%20%20%20%20%20%29.addTo%28map_2b96f7275e8044b39da349952c70f8ed%29%3B%0A%20%20%20%20%20%20%20%20%0A%20%20%20%20%0A%20%20%20%20%20%20%20%20%20%20%20%20var%20icon_069be69d95e74735848f8ad48ff554cf%20%3D%20L.AwesomeMarkers.icon%28%0A%20%20%20%20%20%20%20%20%20%20%20%20%20%20%20%20%7B%22extraClasses%22%3A%20%22fa-rotate-0%22%2C%20%22icon%22%3A%20%22star%20empty%22%2C%20%22iconColor%22%3A%20%22white%22%2C%20%22markerColor%22%3A%20%22green%22%2C%20%22prefix%22%3A%20%22glyphicon%22%7D%0A%20%20%20%20%20%20%20%20%20%20%20%20%29%3B%0A%20%20%20%20%20%20%20%20%20%20%20%20marker_ec54ac966f3f40ada8986792d1505357.setIcon%28icon_069be69d95e74735848f8ad48ff554cf%29%3B%0A%20%20%20%20%20%20%20%20%0A%20%20%20%20%0A%20%20%20%20%20%20%20%20var%20popup_31915a4d987f4bb68a7418a120cd0a20%20%3D%20L.popup%28%7B%22maxWidth%22%3A%20%22100%25%22%7D%29%3B%0A%0A%20%20%20%20%20%20%20%20%0A%20%20%20%20%20%20%20%20%20%20%20%20var%20html_0e0b886d5ab5417aa4929a69c8f9da7e%20%3D%20%24%28%60%3Cdiv%20id%3D%22html_0e0b886d5ab5417aa4929a69c8f9da7e%22%20style%3D%22width%3A%20100.0%25%3B%20height%3A%20100.0%25%3B%22%3ETheft%2C%20Other%20Property%2C%20%3E%24950378.0%3C/div%3E%60%29%5B0%5D%3B%0A%20%20%20%20%20%20%20%20%20%20%20%20popup_31915a4d987f4bb68a7418a120cd0a20.setContent%28html_0e0b886d5ab5417aa4929a69c8f9da7e%29%3B%0A%20%20%20%20%20%20%20%20%0A%0A%20%20%20%20%20%20%20%20marker_ec54ac966f3f40ada8986792d1505357.bindPopup%28popup_31915a4d987f4bb68a7418a120cd0a20%29%0A%20%20%20%20%20%20%20%20%3B%0A%0A%20%20%20%20%20%20%20%20%0A%20%20%20%20%0A%20%20%20%20%0A%20%20%20%20%20%20%20%20%20%20%20%20var%20marker_45525e69f48d424e8a1b5a66fbd08e2b%20%3D%20L.marker%28%0A%20%20%20%20%20%20%20%20%20%20%20%20%20%20%20%20%5B30.18001883%2C%2078.12479473%5D%2C%0A%20%20%20%20%20%20%20%20%20%20%20%20%20%20%20%20%7B%7D%0A%20%20%20%20%20%20%20%20%20%20%20%20%29.addTo%28map_2b96f7275e8044b39da349952c70f8ed%29%3B%0A%20%20%20%20%20%20%20%20%0A%20%20%20%20%0A%20%20%20%20%20%20%20%20%20%20%20%20var%20icon_f9bd5aa0c4b845efadf7fad1dcdcc5ff%20%3D%20L.AwesomeMarkers.icon%28%0A%20%20%20%20%20%20%20%20%20%20%20%20%20%20%20%20%7B%22extraClasses%22%3A%20%22fa-rotate-0%22%2C%20%22icon%22%3A%20%22star%20empty%22%2C%20%22iconColor%22%3A%20%22white%22%2C%20%22markerColor%22%3A%20%22green%22%2C%20%22prefix%22%3A%20%22glyphicon%22%7D%0A%20%20%20%20%20%20%20%20%20%20%20%20%29%3B%0A%20%20%20%20%20%20%20%20%20%20%20%20marker_45525e69f48d424e8a1b5a66fbd08e2b.setIcon%28icon_f9bd5aa0c4b845efadf7fad1dcdcc5ff%29%3B%0A%20%20%20%20%20%20%20%20%0A%20%20%20%20%0A%20%20%20%20%20%20%20%20var%20popup_d5df05a2700e4a30b16d0e8563958c31%20%3D%20L.popup%28%7B%22maxWidth%22%3A%20%22100%25%22%7D%29%3B%0A%0A%20%20%20%20%20%20%20%20%0A%20%20%20%20%20%20%20%20%20%20%20%20var%20html_92cb24a8924f42edb0765f37e06ec7de%20%3D%20%24%28%60%3Cdiv%20id%3D%22html_92cb24a8924f42edb0765f37e06ec7de%22%20style%3D%22width%3A%20100.0%25%3B%20height%3A%20100.0%25%3B%22%3EBattery351.0%3C/div%3E%60%29%5B0%5D%3B%0A%20%20%20%20%20%20%20%20%20%20%20%20popup_d5df05a2700e4a30b16d0e8563958c31.setContent%28html_92cb24a8924f42edb0765f37e06ec7de%29%3B%0A%20%20%20%20%20%20%20%20%0A%0A%20%20%20%20%20%20%20%20marker_45525e69f48d424e8a1b5a66fbd08e2b.bindPopup%28popup_d5df05a2700e4a30b16d0e8563958c31%29%0A%20%20%20%20%20%20%20%20%3B%0A%0A%20%20%20%20%20%20%20%20%0A%20%20%20%20%0A%20%20%20%20%0A%20%20%20%20%20%20%20%20%20%20%20%20var%20marker_465da5ed46514e4198ee1f250bc1c05a%20%3D%20L.marker%28%0A%20%20%20%20%20%20%20%20%20%20%20%20%20%20%20%20%5B30.2930492%2C%2078.01786337%5D%2C%0A%20%20%20%20%20%20%20%20%20%20%20%20%20%20%20%20%7B%7D%0A%20%20%20%20%20%20%20%20%20%20%20%20%29.addTo%28map_2b96f7275e8044b39da349952c70f8ed%29%3B%0A%20%20%20%20%20%20%20%20%0A%20%20%20%20%0A%20%20%20%20%20%20%20%20%20%20%20%20var%20icon_3fc0b818bdfa41b78d8bfd775736bd28%20%3D%20L.AwesomeMarkers.icon%28%0A%20%20%20%20%20%20%20%20%20%20%20%20%20%20%20%20%7B%22extraClasses%22%3A%20%22fa-rotate-0%22%2C%20%22icon%22%3A%20%22star%20empty%22%2C%20%22iconColor%22%3A%20%22white%22%2C%20%22markerColor%22%3A%20%22green%22%2C%20%22prefix%22%3A%20%22glyphicon%22%7D%0A%20%20%20%20%20%20%20%20%20%20%20%20%29%3B%0A%20%20%20%20%20%20%20%20%20%20%20%20marker_465da5ed46514e4198ee1f250bc1c05a.setIcon%28icon_3fc0b818bdfa41b78d8bfd775736bd28%29%3B%0A%20%20%20%20%20%20%20%20%0A%20%20%20%20%0A%20%20%20%20%20%20%20%20var%20popup_d9a0ce1dc2fd44bdad40dccf40a7a72b%20%3D%20L.popup%28%7B%22maxWidth%22%3A%20%22100%25%22%7D%29%3B%0A%0A%20%20%20%20%20%20%20%20%0A%20%20%20%20%20%20%20%20%20%20%20%20var%20html_26f5cbdea6da4349b9fbbbdcdd70eea9%20%3D%20%24%28%60%3Cdiv%20id%3D%22html_26f5cbdea6da4349b9fbbbdcdd70eea9%22%20style%3D%22width%3A%20100.0%25%3B%20height%3A%20100.0%25%3B%22%3EFound%20Person359.0%3C/div%3E%60%29%5B0%5D%3B%0A%20%20%20%20%20%20%20%20%20%20%20%20popup_d9a0ce1dc2fd44bdad40dccf40a7a72b.setContent%28html_26f5cbdea6da4349b9fbbbdcdd70eea9%29%3B%0A%20%20%20%20%20%20%20%20%0A%0A%20%20%20%20%20%20%20%20marker_465da5ed46514e4198ee1f250bc1c05a.bindPopup%28popup_d9a0ce1dc2fd44bdad40dccf40a7a72b%29%0A%20%20%20%20%20%20%20%20%3B%0A%0A%20%20%20%20%20%20%20%20%0A%20%20%20%20%0A%20%20%20%20%0A%20%20%20%20%20%20%20%20%20%20%20%20var%20marker_ebc4aa6c28604f3e99e9be1542740c8b%20%3D%20L.marker%28%0A%20%20%20%20%20%20%20%20%20%20%20%20%20%20%20%20%5B30.31937279%2C%2077.99168358%5D%2C%0A%20%20%20%20%20%20%20%20%20%20%20%20%20%20%20%20%7B%7D%0A%20%20%20%20%20%20%20%20%20%20%20%20%29.addTo%28map_2b96f7275e8044b39da349952c70f8ed%29%3B%0A%20%20%20%20%20%20%20%20%0A%20%20%20%20%0A%20%20%20%20%20%20%20%20%20%20%20%20var%20icon_81acbc2d936a41f594f1a4ac89294f2a%20%3D%20L.AwesomeMarkers.icon%28%0A%20%20%20%20%20%20%20%20%20%20%20%20%20%20%20%20%7B%22extraClasses%22%3A%20%22fa-rotate-0%22%2C%20%22icon%22%3A%20%22star%20empty%22%2C%20%22iconColor%22%3A%20%22white%22%2C%20%22markerColor%22%3A%20%22green%22%2C%20%22prefix%22%3A%20%22glyphicon%22%7D%0A%20%20%20%20%20%20%20%20%20%20%20%20%29%3B%0A%20%20%20%20%20%20%20%20%20%20%20%20marker_ebc4aa6c28604f3e99e9be1542740c8b.setIcon%28icon_81acbc2d936a41f594f1a4ac89294f2a%29%3B%0A%20%20%20%20%20%20%20%20%0A%20%20%20%20%0A%20%20%20%20%20%20%20%20var%20popup_06571276e46f4b1dbbcdd67fe93797f3%20%3D%20L.popup%28%7B%22maxWidth%22%3A%20%22100%25%22%7D%29%3B%0A%0A%20%20%20%20%20%20%20%20%0A%20%20%20%20%20%20%20%20%20%20%20%20var%20html_31a951cc9c3945c9a5fd060a6b81f23c%20%3D%20%24%28%60%3Cdiv%20id%3D%22html_31a951cc9c3945c9a5fd060a6b81f23c%22%20style%3D%22width%3A%20100.0%25%3B%20height%3A%20100.0%25%3B%22%3ENarcotics%20Paraphernalia%2C%20Possession%20of274.0%3C/div%3E%60%29%5B0%5D%3B%0A%20%20%20%20%20%20%20%20%20%20%20%20popup_06571276e46f4b1dbbcdd67fe93797f3.setContent%28html_31a951cc9c3945c9a5fd060a6b81f23c%29%3B%0A%20%20%20%20%20%20%20%20%0A%0A%20%20%20%20%20%20%20%20marker_ebc4aa6c28604f3e99e9be1542740c8b.bindPopup%28popup_06571276e46f4b1dbbcdd67fe93797f3%29%0A%20%20%20%20%20%20%20%20%3B%0A%0A%20%20%20%20%20%20%20%20%0A%20%20%20%20%0A%20%20%20%20%0A%20%20%20%20%20%20%20%20%20%20%20%20var%20marker_640c19c96190452caddcc687d21455dd%20%3D%20L.marker%28%0A%20%20%20%20%20%20%20%20%20%20%20%20%20%20%20%20%5B30.29125109%2C%2078.05355562%5D%2C%0A%20%20%20%20%20%20%20%20%20%20%20%20%20%20%20%20%7B%7D%0A%20%20%20%20%20%20%20%20%20%20%20%20%29.addTo%28map_2b96f7275e8044b39da349952c70f8ed%29%3B%0A%20%20%20%20%20%20%20%20%0A%20%20%20%20%0A%20%20%20%20%20%20%20%20%20%20%20%20var%20icon_20da3ac448f74a28aa67a499c3a811ad%20%3D%20L.AwesomeMarkers.icon%28%0A%20%20%20%20%20%20%20%20%20%20%20%20%20%20%20%20%7B%22extraClasses%22%3A%20%22fa-rotate-0%22%2C%20%22icon%22%3A%20%22star%20empty%22%2C%20%22iconColor%22%3A%20%22white%22%2C%20%22markerColor%22%3A%20%22green%22%2C%20%22prefix%22%3A%20%22glyphicon%22%7D%0A%20%20%20%20%20%20%20%20%20%20%20%20%29%3B%0A%20%20%20%20%20%20%20%20%20%20%20%20marker_640c19c96190452caddcc687d21455dd.setIcon%28icon_20da3ac448f74a28aa67a499c3a811ad%29%3B%0A%20%20%20%20%20%20%20%20%0A%20%20%20%20%0A%20%20%20%20%20%20%20%20var%20popup_a1467092098849a7996e7b3dd0e91c39%20%3D%20L.popup%28%7B%22maxWidth%22%3A%20%22100%25%22%7D%29%3B%0A%0A%20%20%20%20%20%20%20%20%0A%20%20%20%20%20%20%20%20%20%20%20%20var%20html_6aebf6e5a7f04c2e871daaf651a26013%20%3D%20%24%28%60%3Cdiv%20id%3D%22html_6aebf6e5a7f04c2e871daaf651a26013%22%20style%3D%22width%3A%20100.0%25%3B%20height%3A%20100.0%25%3B%22%3ETheft%2C%20Other%20Property%2C%20%3E%24950378.0%3C/div%3E%60%29%5B0%5D%3B%0A%20%20%20%20%20%20%20%20%20%20%20%20popup_a1467092098849a7996e7b3dd0e91c39.setContent%28html_6aebf6e5a7f04c2e871daaf651a26013%29%3B%0A%20%20%20%20%20%20%20%20%0A%0A%20%20%20%20%20%20%20%20marker_640c19c96190452caddcc687d21455dd.bindPopup%28popup_a1467092098849a7996e7b3dd0e91c39%29%0A%20%20%20%20%20%20%20%20%3B%0A%0A%20%20%20%20%20%20%20%20%0A%20%20%20%20%0A%20%20%20%20%0A%20%20%20%20%20%20%20%20%20%20%20%20var%20marker_3c2f661cad6d41b6a967fa54a6996209%20%3D%20L.marker%28%0A%20%20%20%20%20%20%20%20%20%20%20%20%20%20%20%20%5B30.40229675%2C%2078.09621703%5D%2C%0A%20%20%20%20%20%20%20%20%20%20%20%20%20%20%20%20%7B%7D%0A%20%20%20%20%20%20%20%20%20%20%20%20%29.addTo%28map_2b96f7275e8044b39da349952c70f8ed%29%3B%0A%20%20%20%20%20%20%20%20%0A%20%20%20%20%0A%20%20%20%20%20%20%20%20%20%20%20%20var%20icon_030a4122ede24109be7cfbfdc599465b%20%3D%20L.AwesomeMarkers.icon%28%0A%20%20%20%20%20%20%20%20%20%20%20%20%20%20%20%20%7B%22extraClasses%22%3A%20%22fa-rotate-0%22%2C%20%22icon%22%3A%20%22star%20empty%22%2C%20%22iconColor%22%3A%20%22white%22%2C%20%22markerColor%22%3A%20%22green%22%2C%20%22prefix%22%3A%20%22glyphicon%22%7D%0A%20%20%20%20%20%20%20%20%20%20%20%20%29%3B%0A%20%20%20%20%20%20%20%20%20%20%20%20marker_3c2f661cad6d41b6a967fa54a6996209.setIcon%28icon_030a4122ede24109be7cfbfdc599465b%29%3B%0A%20%20%20%20%20%20%20%20%0A%20%20%20%20%0A%20%20%20%20%20%20%20%20var%20popup_9bd404ab09194c8c867d9ad9c5ee483e%20%3D%20L.popup%28%7B%22maxWidth%22%3A%20%22100%25%22%7D%29%3B%0A%0A%20%20%20%20%20%20%20%20%0A%20%20%20%20%20%20%20%20%20%20%20%20var%20html_426a216b86bb47e0b1646a6f2adc30ee%20%3D%20%24%28%60%3Cdiv%20id%3D%22html_426a216b86bb47e0b1646a6f2adc30ee%22%20style%3D%22width%3A%20100.0%25%3B%20height%3A%20100.0%25%3B%22%3EFirearm%2C%20Loaded%2C%20in%20Vehicle%2C%20Possession%20or%20Use141.0%3C/div%3E%60%29%5B0%5D%3B%0A%20%20%20%20%20%20%20%20%20%20%20%20popup_9bd404ab09194c8c867d9ad9c5ee483e.setContent%28html_426a216b86bb47e0b1646a6f2adc30ee%29%3B%0A%20%20%20%20%20%20%20%20%0A%0A%20%20%20%20%20%20%20%20marker_3c2f661cad6d41b6a967fa54a6996209.bindPopup%28popup_9bd404ab09194c8c867d9ad9c5ee483e%29%0A%20%20%20%20%20%20%20%20%3B%0A%0A%20%20%20%20%20%20%20%20%0A%20%20%20%20%0A%20%20%20%20%0A%20%20%20%20%20%20%20%20%20%20%20%20var%20marker_d502848616c14c1ea008c5e1cad42731%20%3D%20L.marker%28%0A%20%20%20%20%20%20%20%20%20%20%20%20%20%20%20%20%5B30.03549113%2C%2078.20999112%5D%2C%0A%20%20%20%20%20%20%20%20%20%20%20%20%20%20%20%20%7B%7D%0A%20%20%20%20%20%20%20%20%20%20%20%20%29.addTo%28map_2b96f7275e8044b39da349952c70f8ed%29%3B%0A%20%20%20%20%20%20%20%20%0A%20%20%20%20%0A%20%20%20%20%20%20%20%20%20%20%20%20var%20icon_877df76f30a44978aba107161e495d84%20%3D%20L.AwesomeMarkers.icon%28%0A%20%20%20%20%20%20%20%20%20%20%20%20%20%20%20%20%7B%22extraClasses%22%3A%20%22fa-rotate-0%22%2C%20%22icon%22%3A%20%22star%20empty%22%2C%20%22iconColor%22%3A%20%22white%22%2C%20%22markerColor%22%3A%20%22green%22%2C%20%22prefix%22%3A%20%22glyphicon%22%7D%0A%20%20%20%20%20%20%20%20%20%20%20%20%29%3B%0A%20%20%20%20%20%20%20%20%20%20%20%20marker_d502848616c14c1ea008c5e1cad42731.setIcon%28icon_877df76f30a44978aba107161e495d84%29%3B%0A%20%20%20%20%20%20%20%20%0A%20%20%20%20%0A%20%20%20%20%20%20%20%20var%20popup_10906a41a1f8405f9cd5fb1e28979dc5%20%3D%20L.popup%28%7B%22maxWidth%22%3A%20%22100%25%22%7D%29%3B%0A%0A%20%20%20%20%20%20%20%20%0A%20%20%20%20%20%20%20%20%20%20%20%20var%20html_55ca0b39a20b4380adcd89b789e94159%20%3D%20%24%28%60%3Cdiv%20id%3D%22html_55ca0b39a20b4380adcd89b789e94159%22%20style%3D%22width%3A%20100.0%25%3B%20height%3A%20100.0%25%3B%22%3ETraffic%20Violation%20Arrest506.0%3C/div%3E%60%29%5B0%5D%3B%0A%20%20%20%20%20%20%20%20%20%20%20%20popup_10906a41a1f8405f9cd5fb1e28979dc5.setContent%28html_55ca0b39a20b4380adcd89b789e94159%29%3B%0A%20%20%20%20%20%20%20%20%0A%0A%20%20%20%20%20%20%20%20marker_d502848616c14c1ea008c5e1cad42731.bindPopup%28popup_10906a41a1f8405f9cd5fb1e28979dc5%29%0A%20%20%20%20%20%20%20%20%3B%0A%0A%20%20%20%20%20%20%20%20%0A%20%20%20%20%0A%20%20%20%20%0A%20%20%20%20%20%20%20%20%20%20%20%20var%20marker_d3d7ca7b17c445d09312192e6fc27317%20%3D%20L.marker%28%0A%20%20%20%20%20%20%20%20%20%20%20%20%20%20%20%20%5B30.26521338%2C%2078.00184242%5D%2C%0A%20%20%20%20%20%20%20%20%20%20%20%20%20%20%20%20%7B%7D%0A%20%20%20%20%20%20%20%20%20%20%20%20%29.addTo%28map_2b96f7275e8044b39da349952c70f8ed%29%3B%0A%20%20%20%20%20%20%20%20%0A%20%20%20%20%0A%20%20%20%20%20%20%20%20%20%20%20%20var%20icon_74e807cd37f349ac9ae2c3974e2a8d43%20%3D%20L.AwesomeMarkers.icon%28%0A%20%20%20%20%20%20%20%20%20%20%20%20%20%20%20%20%7B%22extraClasses%22%3A%20%22fa-rotate-0%22%2C%20%22icon%22%3A%20%22star%20empty%22%2C%20%22iconColor%22%3A%20%22white%22%2C%20%22markerColor%22%3A%20%22green%22%2C%20%22prefix%22%3A%20%22glyphicon%22%7D%0A%20%20%20%20%20%20%20%20%20%20%20%20%29%3B%0A%20%20%20%20%20%20%20%20%20%20%20%20marker_d3d7ca7b17c445d09312192e6fc27317.setIcon%28icon_74e807cd37f349ac9ae2c3974e2a8d43%29%3B%0A%20%20%20%20%20%20%20%20%0A%20%20%20%20%0A%20%20%20%20%20%20%20%20var%20popup_591847750636403e90c95a54aaf29fde%20%3D%20L.popup%28%7B%22maxWidth%22%3A%20%22100%25%22%7D%29%3B%0A%0A%20%20%20%20%20%20%20%20%0A%20%20%20%20%20%20%20%20%20%20%20%20var%20html_d8733824aae2460ab257e80e6178e1b9%20%3D%20%24%28%60%3Cdiv%20id%3D%22html_d8733824aae2460ab257e80e6178e1b9%22%20style%3D%22width%3A%20100.0%25%3B%20height%3A%20100.0%25%3B%22%3ETrespassing441.0%3C/div%3E%60%29%5B0%5D%3B%0A%20%20%20%20%20%20%20%20%20%20%20%20popup_591847750636403e90c95a54aaf29fde.setContent%28html_d8733824aae2460ab257e80e6178e1b9%29%3B%0A%20%20%20%20%20%20%20%20%0A%0A%20%20%20%20%20%20%20%20marker_d3d7ca7b17c445d09312192e6fc27317.bindPopup%28popup_591847750636403e90c95a54aaf29fde%29%0A%20%20%20%20%20%20%20%20%3B%0A%0A%20%20%20%20%20%20%20%20%0A%20%20%20%20%0A%20%20%20%20%0A%20%20%20%20%20%20%20%20%20%20%20%20var%20marker_5beaf8c0051c4ab68425d1e0943763c1%20%3D%20L.marker%28%0A%20%20%20%20%20%20%20%20%20%20%20%20%20%20%20%20%5B30.3936164%2C%2077.80648334%5D%2C%0A%20%20%20%20%20%20%20%20%20%20%20%20%20%20%20%20%7B%7D%0A%20%20%20%20%20%20%20%20%20%20%20%20%29.addTo%28map_2b96f7275e8044b39da349952c70f8ed%29%3B%0A%20%20%20%20%20%20%20%20%0A%20%20%20%20%0A%20%20%20%20%20%20%20%20%20%20%20%20var%20icon_0d7627a6f4d84d239cb47708f109ac12%20%3D%20L.AwesomeMarkers.icon%28%0A%20%20%20%20%20%20%20%20%20%20%20%20%20%20%20%20%7B%22extraClasses%22%3A%20%22fa-rotate-0%22%2C%20%22icon%22%3A%20%22star%20empty%22%2C%20%22iconColor%22%3A%20%22white%22%2C%20%22markerColor%22%3A%20%22green%22%2C%20%22prefix%22%3A%20%22glyphicon%22%7D%0A%20%20%20%20%20%20%20%20%20%20%20%20%29%3B%0A%20%20%20%20%20%20%20%20%20%20%20%20marker_5beaf8c0051c4ab68425d1e0943763c1.setIcon%28icon_0d7627a6f4d84d239cb47708f109ac12%29%3B%0A%20%20%20%20%20%20%20%20%0A%20%20%20%20%0A%20%20%20%20%20%20%20%20var%20popup_fe1bf6c1e7dc46deaccc03aa542e0625%20%3D%20L.popup%28%7B%22maxWidth%22%3A%20%22100%25%22%7D%29%3B%0A%0A%20%20%20%20%20%20%20%20%0A%20%20%20%20%20%20%20%20%20%20%20%20var%20html_0c294d8338484f16a0ee0da5ba1525cc%20%3D%20%24%28%60%3Cdiv%20id%3D%22html_0c294d8338484f16a0ee0da5ba1525cc%22%20style%3D%22width%3A%20100.0%25%3B%20height%3A%20100.0%25%3B%22%3ETheft%2C%20Other%20Property%2C%20%2450-%24200378.0%3C/div%3E%60%29%5B0%5D%3B%0A%20%20%20%20%20%20%20%20%20%20%20%20popup_fe1bf6c1e7dc46deaccc03aa542e0625.setContent%28html_0c294d8338484f16a0ee0da5ba1525cc%29%3B%0A%20%20%20%20%20%20%20%20%0A%0A%20%20%20%20%20%20%20%20marker_5beaf8c0051c4ab68425d1e0943763c1.bindPopup%28popup_fe1bf6c1e7dc46deaccc03aa542e0625%29%0A%20%20%20%20%20%20%20%20%3B%0A%0A%20%20%20%20%20%20%20%20%0A%20%20%20%20%0A%20%20%20%20%0A%20%20%20%20%20%20%20%20%20%20%20%20var%20marker_587cd2d7e3d046598ae2d396e0717d41%20%3D%20L.marker%28%0A%20%20%20%20%20%20%20%20%20%20%20%20%20%20%20%20%5B30.61570025%2C%2077.02461281%5D%2C%0A%20%20%20%20%20%20%20%20%20%20%20%20%20%20%20%20%7B%7D%0A%20%20%20%20%20%20%20%20%20%20%20%20%29.addTo%28map_2b96f7275e8044b39da349952c70f8ed%29%3B%0A%20%20%20%20%20%20%20%20%0A%20%20%20%20%0A%20%20%20%20%20%20%20%20%20%20%20%20var%20icon_5da9ac2117c548dfaabe8a0bfbcfb08e%20%3D%20L.AwesomeMarkers.icon%28%0A%20%20%20%20%20%20%20%20%20%20%20%20%20%20%20%20%7B%22extraClasses%22%3A%20%22fa-rotate-0%22%2C%20%22icon%22%3A%20%22star%20empty%22%2C%20%22iconColor%22%3A%20%22white%22%2C%20%22markerColor%22%3A%20%22green%22%2C%20%22prefix%22%3A%20%22glyphicon%22%7D%0A%20%20%20%20%20%20%20%20%20%20%20%20%29%3B%0A%20%20%20%20%20%20%20%20%20%20%20%20marker_587cd2d7e3d046598ae2d396e0717d41.setIcon%28icon_5da9ac2117c548dfaabe8a0bfbcfb08e%29%3B%0A%20%20%20%20%20%20%20%20%0A%20%20%20%20%0A%20%20%20%20%20%20%20%20var%20popup_e269a9e08cac451cb76fe92c003130a8%20%3D%20L.popup%28%7B%22maxWidth%22%3A%20%22100%25%22%7D%29%3B%0A%0A%20%20%20%20%20%20%20%20%0A%20%20%20%20%20%20%20%20%20%20%20%20var%20html_4ee6d8cdcd71477184ef614abf1b8491%20%3D%20%24%28%60%3Cdiv%20id%3D%22html_4ee6d8cdcd71477184ef614abf1b8491%22%20style%3D%22width%3A%20100.0%25%3B%20height%3A%20100.0%25%3B%22%3EAssault%2C%20Aggravated%2C%20W/%20Other%20Weapon351.0%3C/div%3E%60%29%5B0%5D%3B%0A%20%20%20%20%20%20%20%20%20%20%20%20popup_e269a9e08cac451cb76fe92c003130a8.setContent%28html_4ee6d8cdcd71477184ef614abf1b8491%29%3B%0A%20%20%20%20%20%20%20%20%0A%0A%20%20%20%20%20%20%20%20marker_587cd2d7e3d046598ae2d396e0717d41.bindPopup%28popup_e269a9e08cac451cb76fe92c003130a8%29%0A%20%20%20%20%20%20%20%20%3B%0A%0A%20%20%20%20%20%20%20%20%0A%20%20%20%20%0A%20%20%20%20%0A%20%20%20%20%20%20%20%20%20%20%20%20var%20marker_532ace84ea114c15b9eee936e9fa6d36%20%3D%20L.marker%28%0A%20%20%20%20%20%20%20%20%20%20%20%20%20%20%20%20%5B30.53943372%2C%2077.83897212%5D%2C%0A%20%20%20%20%20%20%20%20%20%20%20%20%20%20%20%20%7B%7D%0A%20%20%20%20%20%20%20%20%20%20%20%20%29.addTo%28map_2b96f7275e8044b39da349952c70f8ed%29%3B%0A%20%20%20%20%20%20%20%20%0A%20%20%20%20%0A%20%20%20%20%20%20%20%20%20%20%20%20var%20icon_f0265c5606d24bc5b3898404b514cb07%20%3D%20L.AwesomeMarkers.icon%28%0A%20%20%20%20%20%20%20%20%20%20%20%20%20%20%20%20%7B%22extraClasses%22%3A%20%22fa-rotate-0%22%2C%20%22icon%22%3A%20%22star%20empty%22%2C%20%22iconColor%22%3A%20%22white%22%2C%20%22markerColor%22%3A%20%22green%22%2C%20%22prefix%22%3A%20%22glyphicon%22%7D%0A%20%20%20%20%20%20%20%20%20%20%20%20%29%3B%0A%20%20%20%20%20%20%20%20%20%20%20%20marker_532ace84ea114c15b9eee936e9fa6d36.setIcon%28icon_f0265c5606d24bc5b3898404b514cb07%29%3B%0A%20%20%20%20%20%20%20%20%0A%20%20%20%20%0A%20%20%20%20%20%20%20%20var%20popup_9706f45bca504248aadfc819f8f9e4db%20%3D%20L.popup%28%7B%22maxWidth%22%3A%20%22100%25%22%7D%29%3B%0A%0A%20%20%20%20%20%20%20%20%0A%20%20%20%20%20%20%20%20%20%20%20%20var%20html_a51d984308e4431083c6336aadcfd909%20%3D%20%24%28%60%3Cdiv%20id%3D%22html_a51d984308e4431083c6336aadcfd909%22%20style%3D%22width%3A%20100.0%25%3B%20height%3A%20100.0%25%3B%22%3ENarcotics%20Paraphernalia%2C%20Possession%20of274.0%3C/div%3E%60%29%5B0%5D%3B%0A%20%20%20%20%20%20%20%20%20%20%20%20popup_9706f45bca504248aadfc819f8f9e4db.setContent%28html_a51d984308e4431083c6336aadcfd909%29%3B%0A%20%20%20%20%20%20%20%20%0A%0A%20%20%20%20%20%20%20%20marker_532ace84ea114c15b9eee936e9fa6d36.bindPopup%28popup_9706f45bca504248aadfc819f8f9e4db%29%0A%20%20%20%20%20%20%20%20%3B%0A%0A%20%20%20%20%20%20%20%20%0A%20%20%20%20%0A%20%20%20%20%0A%20%20%20%20%20%20%20%20%20%20%20%20var%20marker_c3635751528d486d953ccb0f9cd08ab8%20%3D%20L.marker%28%0A%20%20%20%20%20%20%20%20%20%20%20%20%20%20%20%20%5B30.52346564%2C%2077.84752808%5D%2C%0A%20%20%20%20%20%20%20%20%20%20%20%20%20%20%20%20%7B%7D%0A%20%20%20%20%20%20%20%20%20%20%20%20%29.addTo%28map_2b96f7275e8044b39da349952c70f8ed%29%3B%0A%20%20%20%20%20%20%20%20%0A%20%20%20%20%0A%20%20%20%20%20%20%20%20%20%20%20%20var%20icon_d04a170294df40b2bf27c34ca377c222%20%3D%20L.AwesomeMarkers.icon%28%0A%20%20%20%20%20%20%20%20%20%20%20%20%20%20%20%20%7B%22extraClasses%22%3A%20%22fa-rotate-0%22%2C%20%22icon%22%3A%20%22star%20empty%22%2C%20%22iconColor%22%3A%20%22white%22%2C%20%22markerColor%22%3A%20%22green%22%2C%20%22prefix%22%3A%20%22glyphicon%22%7D%0A%20%20%20%20%20%20%20%20%20%20%20%20%29%3B%0A%20%20%20%20%20%20%20%20%20%20%20%20marker_c3635751528d486d953ccb0f9cd08ab8.setIcon%28icon_d04a170294df40b2bf27c34ca377c222%29%3B%0A%20%20%20%20%20%20%20%20%0A%20%20%20%20%0A%20%20%20%20%20%20%20%20var%20popup_7cd6fd6ab30f4defb4de2b40263598ce%20%3D%20L.popup%28%7B%22maxWidth%22%3A%20%22100%25%22%7D%29%3B%0A%0A%20%20%20%20%20%20%20%20%0A%20%20%20%20%20%20%20%20%20%20%20%20var%20html_d144e261abfc42a4a64b4d8f664bc3de%20%3D%20%24%28%60%3Cdiv%20id%3D%22html_d144e261abfc42a4a64b4d8f664bc3de%22%20style%3D%22width%3A%20100.0%25%3B%20height%3A%20100.0%25%3B%22%3EVehicle%2C%20Recovered%2C%20Stolen%20outside%20SF378.0%3C/div%3E%60%29%5B0%5D%3B%0A%20%20%20%20%20%20%20%20%20%20%20%20popup_7cd6fd6ab30f4defb4de2b40263598ce.setContent%28html_d144e261abfc42a4a64b4d8f664bc3de%29%3B%0A%20%20%20%20%20%20%20%20%0A%0A%20%20%20%20%20%20%20%20marker_c3635751528d486d953ccb0f9cd08ab8.bindPopup%28popup_7cd6fd6ab30f4defb4de2b40263598ce%29%0A%20%20%20%20%20%20%20%20%3B%0A%0A%20%20%20%20%20%20%20%20%0A%20%20%20%20%0A%20%20%20%20%0A%20%20%20%20%20%20%20%20%20%20%20%20var%20marker_95e9af708d5345bcb236c5034976885f%20%3D%20L.marker%28%0A%20%20%20%20%20%20%20%20%20%20%20%20%20%20%20%20%5B30.0161343%2C%2077.93144478%5D%2C%0A%20%20%20%20%20%20%20%20%20%20%20%20%20%20%20%20%7B%7D%0A%20%20%20%20%20%20%20%20%20%20%20%20%29.addTo%28map_2b96f7275e8044b39da349952c70f8ed%29%3B%0A%20%20%20%20%20%20%20%20%0A%20%20%20%20%0A%20%20%20%20%20%20%20%20%20%20%20%20var%20icon_b798354156434e24b85810010cb0d99b%20%3D%20L.AwesomeMarkers.icon%28%0A%20%20%20%20%20%20%20%20%20%20%20%20%20%20%20%20%7B%22extraClasses%22%3A%20%22fa-rotate-0%22%2C%20%22icon%22%3A%20%22star%20empty%22%2C%20%22iconColor%22%3A%20%22white%22%2C%20%22markerColor%22%3A%20%22green%22%2C%20%22prefix%22%3A%20%22glyphicon%22%7D%0A%20%20%20%20%20%20%20%20%20%20%20%20%29%3B%0A%20%20%20%20%20%20%20%20%20%20%20%20marker_95e9af708d5345bcb236c5034976885f.setIcon%28icon_b798354156434e24b85810010cb0d99b%29%3B%0A%20%20%20%20%20%20%20%20%0A%20%20%20%20%0A%20%20%20%20%20%20%20%20var%20popup_b1165f78aa3e4b17ab1f626c43b58ae6%20%3D%20L.popup%28%7B%22maxWidth%22%3A%20%22100%25%22%7D%29%3B%0A%0A%20%20%20%20%20%20%20%20%0A%20%20%20%20%20%20%20%20%20%20%20%20var%20html_7279ee26b5fa4f1e89a94fff0d1ea868%20%3D%20%24%28%60%3Cdiv%20id%3D%22html_7279ee26b5fa4f1e89a94fff0d1ea868%22%20style%3D%22width%3A%20100.0%25%3B%20height%3A%20100.0%25%3B%22%3EVehicle%2C%20Recovered%2C%20Auto378.0%3C/div%3E%60%29%5B0%5D%3B%0A%20%20%20%20%20%20%20%20%20%20%20%20popup_b1165f78aa3e4b17ab1f626c43b58ae6.setContent%28html_7279ee26b5fa4f1e89a94fff0d1ea868%29%3B%0A%20%20%20%20%20%20%20%20%0A%0A%20%20%20%20%20%20%20%20marker_95e9af708d5345bcb236c5034976885f.bindPopup%28popup_b1165f78aa3e4b17ab1f626c43b58ae6%29%0A%20%20%20%20%20%20%20%20%3B%0A%0A%20%20%20%20%20%20%20%20%0A%20%20%20%20%0A%20%20%20%20%0A%20%20%20%20%20%20%20%20%20%20%20%20var%20marker_c279377ff1cc4e1abef0e63c031b7ab7%20%3D%20L.marker%28%0A%20%20%20%20%20%20%20%20%20%20%20%20%20%20%20%20%5B30.33603466%2C%2077.96654721%5D%2C%0A%20%20%20%20%20%20%20%20%20%20%20%20%20%20%20%20%7B%7D%0A%20%20%20%20%20%20%20%20%20%20%20%20%29.addTo%28map_2b96f7275e8044b39da349952c70f8ed%29%3B%0A%20%20%20%20%20%20%20%20%0A%20%20%20%20%0A%20%20%20%20%20%20%20%20%20%20%20%20var%20icon_4a28a0eda3574c718b6302546ebf15ba%20%3D%20L.AwesomeMarkers.icon%28%0A%20%20%20%20%20%20%20%20%20%20%20%20%20%20%20%20%7B%22extraClasses%22%3A%20%22fa-rotate-0%22%2C%20%22icon%22%3A%20%22star%20empty%22%2C%20%22iconColor%22%3A%20%22white%22%2C%20%22markerColor%22%3A%20%22green%22%2C%20%22prefix%22%3A%20%22glyphicon%22%7D%0A%20%20%20%20%20%20%20%20%20%20%20%20%29%3B%0A%20%20%20%20%20%20%20%20%20%20%20%20marker_c279377ff1cc4e1abef0e63c031b7ab7.setIcon%28icon_4a28a0eda3574c718b6302546ebf15ba%29%3B%0A%20%20%20%20%20%20%20%20%0A%20%20%20%20%0A%20%20%20%20%20%20%20%20var%20popup_2f7bbb50921647438e8ff286e0b1c642%20%3D%20L.popup%28%7B%22maxWidth%22%3A%20%22100%25%22%7D%29%3B%0A%0A%20%20%20%20%20%20%20%20%0A%20%20%20%20%20%20%20%20%20%20%20%20var%20html_bee51976f4824e5b960d14e9e67dda41%20%3D%20%24%28%60%3Cdiv%20id%3D%22html_bee51976f4824e5b960d14e9e67dda41%22%20style%3D%22width%3A%20100.0%25%3B%20height%3A%20100.0%25%3B%22%3EBattery%2C%20former%20Spouse%20or%20Dating%20Relationship351.0%3C/div%3E%60%29%5B0%5D%3B%0A%20%20%20%20%20%20%20%20%20%20%20%20popup_2f7bbb50921647438e8ff286e0b1c642.setContent%28html_bee51976f4824e5b960d14e9e67dda41%29%3B%0A%20%20%20%20%20%20%20%20%0A%0A%20%20%20%20%20%20%20%20marker_c279377ff1cc4e1abef0e63c031b7ab7.bindPopup%28popup_2f7bbb50921647438e8ff286e0b1c642%29%0A%20%20%20%20%20%20%20%20%3B%0A%0A%20%20%20%20%20%20%20%20%0A%20%20%20%20%0A%20%20%20%20%0A%20%20%20%20%20%20%20%20%20%20%20%20var%20marker_3e598c923cda423ab2533314a3d16ebb%20%3D%20L.marker%28%0A%20%20%20%20%20%20%20%20%20%20%20%20%20%20%20%20%5B30.34075184%2C%2078.06942937%5D%2C%0A%20%20%20%20%20%20%20%20%20%20%20%20%20%20%20%20%7B%7D%0A%20%20%20%20%20%20%20%20%20%20%20%20%29.addTo%28map_2b96f7275e8044b39da349952c70f8ed%29%3B%0A%20%20%20%20%20%20%20%20%0A%20%20%20%20%0A%20%20%20%20%20%20%20%20%20%20%20%20var%20icon_2e8b339382984706bca340829050633b%20%3D%20L.AwesomeMarkers.icon%28%0A%20%20%20%20%20%20%20%20%20%20%20%20%20%20%20%20%7B%22extraClasses%22%3A%20%22fa-rotate-0%22%2C%20%22icon%22%3A%20%22star%20empty%22%2C%20%22iconColor%22%3A%20%22white%22%2C%20%22markerColor%22%3A%20%22green%22%2C%20%22prefix%22%3A%20%22glyphicon%22%7D%0A%20%20%20%20%20%20%20%20%20%20%20%20%29%3B%0A%20%20%20%20%20%20%20%20%20%20%20%20marker_3e598c923cda423ab2533314a3d16ebb.setIcon%28icon_2e8b339382984706bca340829050633b%29%3B%0A%20%20%20%20%20%20%20%20%0A%20%20%20%20%0A%20%20%20%20%20%20%20%20var%20popup_a47a852207b446c1ae886eb0cb96480e%20%3D%20L.popup%28%7B%22maxWidth%22%3A%20%22100%25%22%7D%29%3B%0A%0A%20%20%20%20%20%20%20%20%0A%20%20%20%20%20%20%20%20%20%20%20%20var%20html_8d4fceaa4b884ee196c5c1fe7df55555%20%3D%20%24%28%60%3Cdiv%20id%3D%22html_8d4fceaa4b884ee196c5c1fe7df55555%22%20style%3D%22width%3A%20100.0%25%3B%20height%3A%20100.0%25%3B%22%3EBattery351.0%3C/div%3E%60%29%5B0%5D%3B%0A%20%20%20%20%20%20%20%20%20%20%20%20popup_a47a852207b446c1ae886eb0cb96480e.setContent%28html_8d4fceaa4b884ee196c5c1fe7df55555%29%3B%0A%20%20%20%20%20%20%20%20%0A%0A%20%20%20%20%20%20%20%20marker_3e598c923cda423ab2533314a3d16ebb.bindPopup%28popup_a47a852207b446c1ae886eb0cb96480e%29%0A%20%20%20%20%20%20%20%20%3B%0A%0A%20%20%20%20%20%20%20%20%0A%20%20%20%20%0A%20%20%20%20%0A%20%20%20%20%20%20%20%20%20%20%20%20var%20marker_2fd1726a9ffd4ffab043951921c246e2%20%3D%20L.marker%28%0A%20%20%20%20%20%20%20%20%20%20%20%20%20%20%20%20%5B30.36692375%2C%2077.84560939%5D%2C%0A%20%20%20%20%20%20%20%20%20%20%20%20%20%20%20%20%7B%7D%0A%20%20%20%20%20%20%20%20%20%20%20%20%29.addTo%28map_2b96f7275e8044b39da349952c70f8ed%29%3B%0A%20%20%20%20%20%20%20%20%0A%20%20%20%20%0A%20%20%20%20%20%20%20%20%20%20%20%20var%20icon_fad55a844a1c4dfaad21c85d836f6d14%20%3D%20L.AwesomeMarkers.icon%28%0A%20%20%20%20%20%20%20%20%20%20%20%20%20%20%20%20%7B%22extraClasses%22%3A%20%22fa-rotate-0%22%2C%20%22icon%22%3A%20%22star%20empty%22%2C%20%22iconColor%22%3A%20%22white%22%2C%20%22markerColor%22%3A%20%22green%22%2C%20%22prefix%22%3A%20%22glyphicon%22%7D%0A%20%20%20%20%20%20%20%20%20%20%20%20%29%3B%0A%20%20%20%20%20%20%20%20%20%20%20%20marker_2fd1726a9ffd4ffab043951921c246e2.setIcon%28icon_fad55a844a1c4dfaad21c85d836f6d14%29%3B%0A%20%20%20%20%20%20%20%20%0A%20%20%20%20%0A%20%20%20%20%20%20%20%20var%20popup_ef4edc2ecfb1441684dff89d36a63bd7%20%3D%20L.popup%28%7B%22maxWidth%22%3A%20%22100%25%22%7D%29%3B%0A%0A%20%20%20%20%20%20%20%20%0A%20%20%20%20%20%20%20%20%20%20%20%20var%20html_2cfac78e26ff4afc84109ba7dc2c50c2%20%3D%20%24%28%60%3Cdiv%20id%3D%22html_2cfac78e26ff4afc84109ba7dc2c50c2%22%20style%3D%22width%3A%20100.0%25%3B%20height%3A%20100.0%25%3B%22%3ETheft%2C%20Other%20Property%2C%20%2450-%24200378.0%3C/div%3E%60%29%5B0%5D%3B%0A%20%20%20%20%20%20%20%20%20%20%20%20popup_ef4edc2ecfb1441684dff89d36a63bd7.setContent%28html_2cfac78e26ff4afc84109ba7dc2c50c2%29%3B%0A%20%20%20%20%20%20%20%20%0A%0A%20%20%20%20%20%20%20%20marker_2fd1726a9ffd4ffab043951921c246e2.bindPopup%28popup_ef4edc2ecfb1441684dff89d36a63bd7%29%0A%20%20%20%20%20%20%20%20%3B%0A%0A%20%20%20%20%20%20%20%20%0A%20%20%20%20%0A%20%20%20%20%0A%20%20%20%20%20%20%20%20%20%20%20%20var%20marker_a98c83ac6d5343eaadb8556e073b54c9%20%3D%20L.marker%28%0A%20%20%20%20%20%20%20%20%20%20%20%20%20%20%20%20%5B30.32083158%2C%2078.04025542%5D%2C%0A%20%20%20%20%20%20%20%20%20%20%20%20%20%20%20%20%7B%7D%0A%20%20%20%20%20%20%20%20%20%20%20%20%29.addTo%28map_2b96f7275e8044b39da349952c70f8ed%29%3B%0A%20%20%20%20%20%20%20%20%0A%20%20%20%20%0A%20%20%20%20%20%20%20%20%20%20%20%20var%20icon_f3623dbf7ffc45eaabb496e3d5e5fa49%20%3D%20L.AwesomeMarkers.icon%28%0A%20%20%20%20%20%20%20%20%20%20%20%20%20%20%20%20%7B%22extraClasses%22%3A%20%22fa-rotate-0%22%2C%20%22icon%22%3A%20%22star%20empty%22%2C%20%22iconColor%22%3A%20%22white%22%2C%20%22markerColor%22%3A%20%22green%22%2C%20%22prefix%22%3A%20%22glyphicon%22%7D%0A%20%20%20%20%20%20%20%20%20%20%20%20%29%3B%0A%20%20%20%20%20%20%20%20%20%20%20%20marker_a98c83ac6d5343eaadb8556e073b54c9.setIcon%28icon_f3623dbf7ffc45eaabb496e3d5e5fa49%29%3B%0A%20%20%20%20%20%20%20%20%0A%20%20%20%20%0A%20%20%20%20%20%20%20%20var%20popup_d8ebfef477c54e51937dad7d1004886a%20%3D%20L.popup%28%7B%22maxWidth%22%3A%20%22100%25%22%7D%29%3B%0A%0A%20%20%20%20%20%20%20%20%0A%20%20%20%20%20%20%20%20%20%20%20%20var%20html_9f2469c0f0634cf986524fc3b5e946ca%20%3D%20%24%28%60%3Cdiv%20id%3D%22html_9f2469c0f0634cf986524fc3b5e946ca%22%20style%3D%22width%3A%20100.0%25%3B%20height%3A%20100.0%25%3B%22%3ETheft%2C%20Other%20Property%2C%20%24200-%24950378.0%3C/div%3E%60%29%5B0%5D%3B%0A%20%20%20%20%20%20%20%20%20%20%20%20popup_d8ebfef477c54e51937dad7d1004886a.setContent%28html_9f2469c0f0634cf986524fc3b5e946ca%29%3B%0A%20%20%20%20%20%20%20%20%0A%0A%20%20%20%20%20%20%20%20marker_a98c83ac6d5343eaadb8556e073b54c9.bindPopup%28popup_d8ebfef477c54e51937dad7d1004886a%29%0A%20%20%20%20%20%20%20%20%3B%0A%0A%20%20%20%20%20%20%20%20%0A%20%20%20%20%0A%20%20%20%20%0A%20%20%20%20%20%20%20%20%20%20%20%20var%20marker_7c2d12d4c9d548a48e27a35ea0a5bd6c%20%3D%20L.marker%28%0A%20%20%20%20%20%20%20%20%20%20%20%20%20%20%20%20%5B30.15438326%2C%2078.77312738%5D%2C%0A%20%20%20%20%20%20%20%20%20%20%20%20%20%20%20%20%7B%7D%0A%20%20%20%20%20%20%20%20%20%20%20%20%29.addTo%28map_2b96f7275e8044b39da349952c70f8ed%29%3B%0A%20%20%20%20%20%20%20%20%0A%20%20%20%20%0A%20%20%20%20%20%20%20%20%20%20%20%20var%20icon_c0c72a6f16c44b44b018b84dc53d7d9d%20%3D%20L.AwesomeMarkers.icon%28%0A%20%20%20%20%20%20%20%20%20%20%20%20%20%20%20%20%7B%22extraClasses%22%3A%20%22fa-rotate-0%22%2C%20%22icon%22%3A%20%22star%20empty%22%2C%20%22iconColor%22%3A%20%22white%22%2C%20%22markerColor%22%3A%20%22green%22%2C%20%22prefix%22%3A%20%22glyphicon%22%7D%0A%20%20%20%20%20%20%20%20%20%20%20%20%29%3B%0A%20%20%20%20%20%20%20%20%20%20%20%20marker_7c2d12d4c9d548a48e27a35ea0a5bd6c.setIcon%28icon_c0c72a6f16c44b44b018b84dc53d7d9d%29%3B%0A%20%20%20%20%20%20%20%20%0A%20%20%20%20%0A%20%20%20%20%20%20%20%20var%20popup_6c4f2470dfbd415cb7be2ea412ccbaa0%20%3D%20L.popup%28%7B%22maxWidth%22%3A%20%22100%25%22%7D%29%3B%0A%0A%20%20%20%20%20%20%20%20%0A%20%20%20%20%20%20%20%20%20%20%20%20var%20html_853690666efb45fb8c0356dc88cea9f6%20%3D%20%24%28%60%3Cdiv%20id%3D%22html_853690666efb45fb8c0356dc88cea9f6%22%20style%3D%22width%3A%20100.0%25%3B%20height%3A%20100.0%25%3B%22%3ELost%20Property425.0%3C/div%3E%60%29%5B0%5D%3B%0A%20%20%20%20%20%20%20%20%20%20%20%20popup_6c4f2470dfbd415cb7be2ea412ccbaa0.setContent%28html_853690666efb45fb8c0356dc88cea9f6%29%3B%0A%20%20%20%20%20%20%20%20%0A%0A%20%20%20%20%20%20%20%20marker_7c2d12d4c9d548a48e27a35ea0a5bd6c.bindPopup%28popup_6c4f2470dfbd415cb7be2ea412ccbaa0%29%0A%20%20%20%20%20%20%20%20%3B%0A%0A%20%20%20%20%20%20%20%20%0A%20%20%20%20%0A%20%20%20%20%0A%20%20%20%20%20%20%20%20%20%20%20%20var%20marker_1edd4e2a7ade44f09062b2f7c1025b98%20%3D%20L.marker%28%0A%20%20%20%20%20%20%20%20%20%20%20%20%20%20%20%20%5B30.22421721%2C%2078.7900388%5D%2C%0A%20%20%20%20%20%20%20%20%20%20%20%20%20%20%20%20%7B%7D%0A%20%20%20%20%20%20%20%20%20%20%20%20%29.addTo%28map_2b96f7275e8044b39da349952c70f8ed%29%3B%0A%20%20%20%20%20%20%20%20%0A%20%20%20%20%0A%20%20%20%20%20%20%20%20%20%20%20%20var%20icon_dbc908534201488393a49d734021fca2%20%3D%20L.AwesomeMarkers.icon%28%0A%20%20%20%20%20%20%20%20%20%20%20%20%20%20%20%20%7B%22extraClasses%22%3A%20%22fa-rotate-0%22%2C%20%22icon%22%3A%20%22star%20empty%22%2C%20%22iconColor%22%3A%20%22white%22%2C%20%22markerColor%22%3A%20%22green%22%2C%20%22prefix%22%3A%20%22glyphicon%22%7D%0A%20%20%20%20%20%20%20%20%20%20%20%20%29%3B%0A%20%20%20%20%20%20%20%20%20%20%20%20marker_1edd4e2a7ade44f09062b2f7c1025b98.setIcon%28icon_dbc908534201488393a49d734021fca2%29%3B%0A%20%20%20%20%20%20%20%20%0A%20%20%20%20%0A%20%20%20%20%20%20%20%20var%20popup_65db5a4e1aad4b3f953de4b0e234b686%20%3D%20L.popup%28%7B%22maxWidth%22%3A%20%22100%25%22%7D%29%3B%0A%0A%20%20%20%20%20%20%20%20%0A%20%20%20%20%20%20%20%20%20%20%20%20var%20html_5788bde782a140d59b93dcbf9b70d293%20%3D%20%24%28%60%3Cdiv%20id%3D%22html_5788bde782a140d59b93dcbf9b70d293%22%20style%3D%22width%3A%20100.0%25%3B%20height%3A%20100.0%25%3B%22%3EBattery351.0%3C/div%3E%60%29%5B0%5D%3B%0A%20%20%20%20%20%20%20%20%20%20%20%20popup_65db5a4e1aad4b3f953de4b0e234b686.setContent%28html_5788bde782a140d59b93dcbf9b70d293%29%3B%0A%20%20%20%20%20%20%20%20%0A%0A%20%20%20%20%20%20%20%20marker_1edd4e2a7ade44f09062b2f7c1025b98.bindPopup%28popup_65db5a4e1aad4b3f953de4b0e234b686%29%0A%20%20%20%20%20%20%20%20%3B%0A%0A%20%20%20%20%20%20%20%20%0A%20%20%20%20%0A%20%20%20%20%0A%20%20%20%20%20%20%20%20%20%20%20%20var%20marker_4b22f59b672f40c689b29712a2556946%20%3D%20L.marker%28%0A%20%20%20%20%20%20%20%20%20%20%20%20%20%20%20%20%5B30.49883671%2C%2077.80530353%5D%2C%0A%20%20%20%20%20%20%20%20%20%20%20%20%20%20%20%20%7B%7D%0A%20%20%20%20%20%20%20%20%20%20%20%20%29.addTo%28map_2b96f7275e8044b39da349952c70f8ed%29%3B%0A%20%20%20%20%20%20%20%20%0A%20%20%20%20%0A%20%20%20%20%20%20%20%20%20%20%20%20var%20icon_e0488f9d5de3408492f0961df3a2c21f%20%3D%20L.AwesomeMarkers.icon%28%0A%20%20%20%20%20%20%20%20%20%20%20%20%20%20%20%20%7B%22extraClasses%22%3A%20%22fa-rotate-0%22%2C%20%22icon%22%3A%20%22star%20empty%22%2C%20%22iconColor%22%3A%20%22white%22%2C%20%22markerColor%22%3A%20%22green%22%2C%20%22prefix%22%3A%20%22glyphicon%22%7D%0A%20%20%20%20%20%20%20%20%20%20%20%20%29%3B%0A%20%20%20%20%20%20%20%20%20%20%20%20marker_4b22f59b672f40c689b29712a2556946.setIcon%28icon_e0488f9d5de3408492f0961df3a2c21f%29%3B%0A%20%20%20%20%20%20%20%20%0A%20%20%20%20%0A%20%20%20%20%20%20%20%20var%20popup_cb53765a565542029e9901dc11507b08%20%3D%20L.popup%28%7B%22maxWidth%22%3A%20%22100%25%22%7D%29%3B%0A%0A%20%20%20%20%20%20%20%20%0A%20%20%20%20%20%20%20%20%20%20%20%20var%20html_6ee80793055749469ad1f47210ffbd98%20%3D%20%24%28%60%3Cdiv%20id%3D%22html_6ee80793055749469ad1f47210ffbd98%22%20style%3D%22width%3A%20100.0%25%3B%20height%3A%20100.0%25%3B%22%3EBattery351.0%3C/div%3E%60%29%5B0%5D%3B%0A%20%20%20%20%20%20%20%20%20%20%20%20popup_cb53765a565542029e9901dc11507b08.setContent%28html_6ee80793055749469ad1f47210ffbd98%29%3B%0A%20%20%20%20%20%20%20%20%0A%0A%20%20%20%20%20%20%20%20marker_4b22f59b672f40c689b29712a2556946.bindPopup%28popup_cb53765a565542029e9901dc11507b08%29%0A%20%20%20%20%20%20%20%20%3B%0A%0A%20%20%20%20%20%20%20%20%0A%20%20%20%20%0A%3C/script%3E onload=\"this.contentDocument.open();this.contentDocument.write(    decodeURIComponent(this.getAttribute('data-html')));this.contentDocument.close();\" allowfullscreen webkitallowfullscreen mozallowfullscreen></iframe></div></div>"
      ],
      "text/plain": [
       "<folium.folium.Map at 0x1cd573836d0>"
      ]
     },
     "execution_count": 24,
     "metadata": {},
     "output_type": "execute_result"
    }
   ],
   "source": [
    "ut_map_lc = folium.Map(location = [30.316496, 78.032188], zoom_start = 11, control_scale = True)\n",
    "df_criminal_org.apply(lambda row : folium.Marker(location = [row['Latitude'], row['Longitude']],\n",
    "                                            popup = row['Incident Description'] + str(row['Penal Code']),\n",
    "                                            icon = folium.Icon(icon = 'star empty', color = 'green', prefix = 'glyphicon')).add_to(ut_map_lc), axis = 1)\n",
    "\n",
    "\n",
    "ut_map_lc"
   ]
  },
  {
   "cell_type": "code",
   "execution_count": 25,
   "id": "81dc38a6",
   "metadata": {},
   "outputs": [
    {
     "name": "stdout",
     "output_type": "stream",
     "text": [
      "Enter the Phone Number: \n"
     ]
    },
    {
     "ename": "ValueError",
     "evalue": "invalid literal for int() with base 10: ''",
     "output_type": "error",
     "traceback": [
      "\u001b[1;31m---------------------------------------------------------------------------\u001b[0m",
      "\u001b[1;31mValueError\u001b[0m                                Traceback (most recent call last)",
      "\u001b[1;32m<ipython-input-25-07e9b5849741>\u001b[0m in \u001b[0;36m<module>\u001b[1;34m\u001b[0m\n\u001b[1;32m----> 1\u001b[1;33m \u001b[0mdf_criminal_org_1\u001b[0m \u001b[1;33m=\u001b[0m \u001b[0mdf_criminal_org\u001b[0m\u001b[1;33m[\u001b[0m\u001b[0mdf_criminal_org\u001b[0m\u001b[1;33m.\u001b[0m\u001b[0mPhone_Number\u001b[0m \u001b[1;33m==\u001b[0m \u001b[0mint\u001b[0m\u001b[1;33m(\u001b[0m\u001b[0minput\u001b[0m\u001b[1;33m(\u001b[0m\u001b[1;34m\"Enter the Phone Number: \"\u001b[0m\u001b[1;33m)\u001b[0m\u001b[1;33m)\u001b[0m\u001b[1;33m]\u001b[0m\u001b[1;33m\u001b[0m\u001b[1;33m\u001b[0m\u001b[0m\n\u001b[0m\u001b[0;32m      2\u001b[0m \u001b[1;33m\u001b[0m\u001b[0m\n\u001b[0;32m      3\u001b[0m df_criminal_org_1.apply(lambda row : folium.Marker(location = [row['Latitude'], row['Longitude']],\n\u001b[0;32m      4\u001b[0m \u001b[1;33m\u001b[0m\u001b[0m\n\u001b[0;32m      5\u001b[0m                                             icon = folium.Icon(icon = 'star empty', color = 'red', prefix = 'glyphicon')).add_to(ut_map_lc), axis = 1)\n",
      "\u001b[1;31mValueError\u001b[0m: invalid literal for int() with base 10: ''"
     ]
    }
   ],
   "source": [
    "df_criminal_org_1 = df_criminal_org[df_criminal_org.Phone_Number == int(input(\"Enter the Phone Number: \"))]\n",
    "\n",
    "df_criminal_org_1.apply(lambda row : folium.Marker(location = [row['Latitude'], row['Longitude']],\n",
    "                                            \n",
    "                                            icon = folium.Icon(icon = 'star empty', color = 'red', prefix = 'glyphicon')).add_to(ut_map_lc), axis = 1)\n",
    "\n",
    "\n",
    "df_criminal_org_1"
   ]
  },
  {
   "cell_type": "code",
   "execution_count": null,
   "id": "c53ce54f",
   "metadata": {},
   "outputs": [],
   "source": [
    "ut_map_lc"
   ]
  },
  {
   "cell_type": "code",
   "execution_count": 26,
   "id": "51cbbfeb",
   "metadata": {},
   "outputs": [],
   "source": [
    "from ipywidgets import widgets"
   ]
  },
  {
   "cell_type": "code",
   "execution_count": 27,
   "id": "fd57ec94",
   "metadata": {},
   "outputs": [
    {
     "data": {
      "application/vnd.jupyter.widget-view+json": {
       "model_id": "70e134f7f08e4c7e8bba4a9017e2d2dc",
       "version_major": 2,
       "version_minor": 0
      },
      "text/plain": [
       "Label(value='Enter the Unique_Identity_Code/Phone Number')"
      ]
     },
     "metadata": {},
     "output_type": "display_data"
    },
    {
     "data": {
      "application/vnd.jupyter.widget-view+json": {
       "model_id": "e0d2db9c19e2430dae6a8324684b91ce",
       "version_major": 2,
       "version_minor": 0
      },
      "text/plain": [
       "Text(value='')"
      ]
     },
     "metadata": {},
     "output_type": "display_data"
    },
    {
     "data": {
      "application/vnd.jupyter.widget-view+json": {
       "model_id": "06f14bc9c12a40058db6ebb77c4db741",
       "version_major": 2,
       "version_minor": 0
      },
      "text/plain": [
       "Button(description='Enter', style=ButtonStyle())"
      ]
     },
     "metadata": {},
     "output_type": "display_data"
    },
    {
     "data": {
      "application/vnd.jupyter.widget-view+json": {
       "model_id": "ab0f96d765254bb5b2b796335ca9e378",
       "version_major": 2,
       "version_minor": 0
      },
      "text/plain": [
       "Label(value='')"
      ]
     },
     "metadata": {},
     "output_type": "display_data"
    }
   ],
   "source": [
    "lbl1=widgets. Label('Enter the Unique_Identity_Code/Phone Number' )\n",
    "display (lbl1)\n",
    "text1=widgets.Text()\n",
    "display (text1)\n",
    "\n",
    "btn=widgets.Button(description=\"Enter\")\n",
    "display(btn)\n",
    "lb13=widgets.Label()\n",
    "display(lb13)\n",
    "\n",
    "def submit(b) :\n",
    "    x=int(text1.value)\n",
    "    df_criminal_org_1 = df_criminal_org[df_criminal_org.Incident_ID == x]\n",
    "    df_criminal_org_1.apply(lambda row : folium.Marker(location = [row['Latitude'], row['Longitude']],\n",
    "                                            popup = row['Incident Description'],\n",
    "                                            icon = folium.Icon(icon = 'star empty', color = 'red', prefix = 'glyphicon')).add_to(ut_map_lc), axis = 1)\n",
    "    print(ut_map_lc)\n",
    "\n",
    "btn.on_click(submit)\n"
   ]
  },
  {
   "cell_type": "code",
   "execution_count": 28,
   "id": "664e56e4",
   "metadata": {},
   "outputs": [
    {
     "data": {
      "text/html": [
       "<div style=\"width:100%;\"><div style=\"position:relative;width:100%;height:0;padding-bottom:60%;\"><span style=\"color:#565656\">Make this Notebook Trusted to load map: File -> Trust Notebook</span><iframe src=\"about:blank\" style=\"position:absolute;width:100%;height:100%;left:0;top:0;border:none !important;\" data-html=%3C%21DOCTYPE%20html%3E%0A%3Chead%3E%20%20%20%20%0A%20%20%20%20%3Cmeta%20http-equiv%3D%22content-type%22%20content%3D%22text/html%3B%20charset%3DUTF-8%22%20/%3E%0A%20%20%20%20%0A%20%20%20%20%20%20%20%20%3Cscript%3E%0A%20%20%20%20%20%20%20%20%20%20%20%20L_NO_TOUCH%20%3D%20false%3B%0A%20%20%20%20%20%20%20%20%20%20%20%20L_DISABLE_3D%20%3D%20false%3B%0A%20%20%20%20%20%20%20%20%3C/script%3E%0A%20%20%20%20%0A%20%20%20%20%3Cstyle%3Ehtml%2C%20body%20%7Bwidth%3A%20100%25%3Bheight%3A%20100%25%3Bmargin%3A%200%3Bpadding%3A%200%3B%7D%3C/style%3E%0A%20%20%20%20%3Cstyle%3E%23map%20%7Bposition%3Aabsolute%3Btop%3A0%3Bbottom%3A0%3Bright%3A0%3Bleft%3A0%3B%7D%3C/style%3E%0A%20%20%20%20%3Cscript%20src%3D%22https%3A//cdn.jsdelivr.net/npm/leaflet%401.6.0/dist/leaflet.js%22%3E%3C/script%3E%0A%20%20%20%20%3Cscript%20src%3D%22https%3A//code.jquery.com/jquery-1.12.4.min.js%22%3E%3C/script%3E%0A%20%20%20%20%3Cscript%20src%3D%22https%3A//maxcdn.bootstrapcdn.com/bootstrap/3.2.0/js/bootstrap.min.js%22%3E%3C/script%3E%0A%20%20%20%20%3Cscript%20src%3D%22https%3A//cdnjs.cloudflare.com/ajax/libs/Leaflet.awesome-markers/2.0.2/leaflet.awesome-markers.js%22%3E%3C/script%3E%0A%20%20%20%20%3Clink%20rel%3D%22stylesheet%22%20href%3D%22https%3A//cdn.jsdelivr.net/npm/leaflet%401.6.0/dist/leaflet.css%22/%3E%0A%20%20%20%20%3Clink%20rel%3D%22stylesheet%22%20href%3D%22https%3A//maxcdn.bootstrapcdn.com/bootstrap/3.2.0/css/bootstrap.min.css%22/%3E%0A%20%20%20%20%3Clink%20rel%3D%22stylesheet%22%20href%3D%22https%3A//maxcdn.bootstrapcdn.com/bootstrap/3.2.0/css/bootstrap-theme.min.css%22/%3E%0A%20%20%20%20%3Clink%20rel%3D%22stylesheet%22%20href%3D%22https%3A//maxcdn.bootstrapcdn.com/font-awesome/4.6.3/css/font-awesome.min.css%22/%3E%0A%20%20%20%20%3Clink%20rel%3D%22stylesheet%22%20href%3D%22https%3A//cdnjs.cloudflare.com/ajax/libs/Leaflet.awesome-markers/2.0.2/leaflet.awesome-markers.css%22/%3E%0A%20%20%20%20%3Clink%20rel%3D%22stylesheet%22%20href%3D%22https%3A//cdn.jsdelivr.net/gh/python-visualization/folium/folium/templates/leaflet.awesome.rotate.min.css%22/%3E%0A%20%20%20%20%0A%20%20%20%20%20%20%20%20%20%20%20%20%3Cmeta%20name%3D%22viewport%22%20content%3D%22width%3Ddevice-width%2C%0A%20%20%20%20%20%20%20%20%20%20%20%20%20%20%20%20initial-scale%3D1.0%2C%20maximum-scale%3D1.0%2C%20user-scalable%3Dno%22%20/%3E%0A%20%20%20%20%20%20%20%20%20%20%20%20%3Cstyle%3E%0A%20%20%20%20%20%20%20%20%20%20%20%20%20%20%20%20%23map_2b96f7275e8044b39da349952c70f8ed%20%7B%0A%20%20%20%20%20%20%20%20%20%20%20%20%20%20%20%20%20%20%20%20position%3A%20relative%3B%0A%20%20%20%20%20%20%20%20%20%20%20%20%20%20%20%20%20%20%20%20width%3A%20100.0%25%3B%0A%20%20%20%20%20%20%20%20%20%20%20%20%20%20%20%20%20%20%20%20height%3A%20100.0%25%3B%0A%20%20%20%20%20%20%20%20%20%20%20%20%20%20%20%20%20%20%20%20left%3A%200.0%25%3B%0A%20%20%20%20%20%20%20%20%20%20%20%20%20%20%20%20%20%20%20%20top%3A%200.0%25%3B%0A%20%20%20%20%20%20%20%20%20%20%20%20%20%20%20%20%7D%0A%20%20%20%20%20%20%20%20%20%20%20%20%3C/style%3E%0A%20%20%20%20%20%20%20%20%0A%3C/head%3E%0A%3Cbody%3E%20%20%20%20%0A%20%20%20%20%0A%20%20%20%20%20%20%20%20%20%20%20%20%3Cdiv%20class%3D%22folium-map%22%20id%3D%22map_2b96f7275e8044b39da349952c70f8ed%22%20%3E%3C/div%3E%0A%20%20%20%20%20%20%20%20%0A%3C/body%3E%0A%3Cscript%3E%20%20%20%20%0A%20%20%20%20%0A%20%20%20%20%20%20%20%20%20%20%20%20var%20map_2b96f7275e8044b39da349952c70f8ed%20%3D%20L.map%28%0A%20%20%20%20%20%20%20%20%20%20%20%20%20%20%20%20%22map_2b96f7275e8044b39da349952c70f8ed%22%2C%0A%20%20%20%20%20%20%20%20%20%20%20%20%20%20%20%20%7B%0A%20%20%20%20%20%20%20%20%20%20%20%20%20%20%20%20%20%20%20%20center%3A%20%5B30.316496%2C%2078.032188%5D%2C%0A%20%20%20%20%20%20%20%20%20%20%20%20%20%20%20%20%20%20%20%20crs%3A%20L.CRS.EPSG3857%2C%0A%20%20%20%20%20%20%20%20%20%20%20%20%20%20%20%20%20%20%20%20zoom%3A%2011%2C%0A%20%20%20%20%20%20%20%20%20%20%20%20%20%20%20%20%20%20%20%20zoomControl%3A%20true%2C%0A%20%20%20%20%20%20%20%20%20%20%20%20%20%20%20%20%20%20%20%20preferCanvas%3A%20false%2C%0A%20%20%20%20%20%20%20%20%20%20%20%20%20%20%20%20%7D%0A%20%20%20%20%20%20%20%20%20%20%20%20%29%3B%0A%20%20%20%20%20%20%20%20%20%20%20%20L.control.scale%28%29.addTo%28map_2b96f7275e8044b39da349952c70f8ed%29%3B%0A%0A%20%20%20%20%20%20%20%20%20%20%20%20%0A%0A%20%20%20%20%20%20%20%20%0A%20%20%20%20%0A%20%20%20%20%20%20%20%20%20%20%20%20var%20tile_layer_ab141317dfcc4908bb9808e49618b198%20%3D%20L.tileLayer%28%0A%20%20%20%20%20%20%20%20%20%20%20%20%20%20%20%20%22https%3A//%7Bs%7D.tile.openstreetmap.org/%7Bz%7D/%7Bx%7D/%7By%7D.png%22%2C%0A%20%20%20%20%20%20%20%20%20%20%20%20%20%20%20%20%7B%22attribution%22%3A%20%22Data%20by%20%5Cu0026copy%3B%20%5Cu003ca%20href%3D%5C%22http%3A//openstreetmap.org%5C%22%5Cu003eOpenStreetMap%5Cu003c/a%5Cu003e%2C%20under%20%5Cu003ca%20href%3D%5C%22http%3A//www.openstreetmap.org/copyright%5C%22%5Cu003eODbL%5Cu003c/a%5Cu003e.%22%2C%20%22detectRetina%22%3A%20false%2C%20%22maxNativeZoom%22%3A%2018%2C%20%22maxZoom%22%3A%2018%2C%20%22minZoom%22%3A%200%2C%20%22noWrap%22%3A%20false%2C%20%22opacity%22%3A%201%2C%20%22subdomains%22%3A%20%22abc%22%2C%20%22tms%22%3A%20false%7D%0A%20%20%20%20%20%20%20%20%20%20%20%20%29.addTo%28map_2b96f7275e8044b39da349952c70f8ed%29%3B%0A%20%20%20%20%20%20%20%20%0A%20%20%20%20%0A%20%20%20%20%20%20%20%20%20%20%20%20var%20marker_fc5e90a84adc4cf7a68b2e02f0047607%20%3D%20L.marker%28%0A%20%20%20%20%20%20%20%20%20%20%20%20%20%20%20%20%5B30.32557323%2C%2078.03613555%5D%2C%0A%20%20%20%20%20%20%20%20%20%20%20%20%20%20%20%20%7B%7D%0A%20%20%20%20%20%20%20%20%20%20%20%20%29.addTo%28map_2b96f7275e8044b39da349952c70f8ed%29%3B%0A%20%20%20%20%20%20%20%20%0A%20%20%20%20%0A%20%20%20%20%20%20%20%20%20%20%20%20var%20icon_1987f22ea8c24b6dab1d43a1269cce8f%20%3D%20L.AwesomeMarkers.icon%28%0A%20%20%20%20%20%20%20%20%20%20%20%20%20%20%20%20%7B%22extraClasses%22%3A%20%22fa-rotate-0%22%2C%20%22icon%22%3A%20%22star%20empty%22%2C%20%22iconColor%22%3A%20%22white%22%2C%20%22markerColor%22%3A%20%22green%22%2C%20%22prefix%22%3A%20%22glyphicon%22%7D%0A%20%20%20%20%20%20%20%20%20%20%20%20%29%3B%0A%20%20%20%20%20%20%20%20%20%20%20%20marker_fc5e90a84adc4cf7a68b2e02f0047607.setIcon%28icon_1987f22ea8c24b6dab1d43a1269cce8f%29%3B%0A%20%20%20%20%20%20%20%20%0A%20%20%20%20%0A%20%20%20%20%20%20%20%20var%20popup_9a8cf9bc222c44f38a571665bd807d6b%20%3D%20L.popup%28%7B%22maxWidth%22%3A%20%22100%25%22%7D%29%3B%0A%0A%20%20%20%20%20%20%20%20%0A%20%20%20%20%20%20%20%20%20%20%20%20var%20html_9b41648615274a8dbea28a940c46e811%20%3D%20%24%28%60%3Cdiv%20id%3D%22html_9b41648615274a8dbea28a940c46e811%22%20style%3D%22width%3A%20100.0%25%3B%20height%3A%20100.0%25%3B%22%3ETheft%2C%20Other%20Property%2C%20%2450-%24200378.0%3C/div%3E%60%29%5B0%5D%3B%0A%20%20%20%20%20%20%20%20%20%20%20%20popup_9a8cf9bc222c44f38a571665bd807d6b.setContent%28html_9b41648615274a8dbea28a940c46e811%29%3B%0A%20%20%20%20%20%20%20%20%0A%0A%20%20%20%20%20%20%20%20marker_fc5e90a84adc4cf7a68b2e02f0047607.bindPopup%28popup_9a8cf9bc222c44f38a571665bd807d6b%29%0A%20%20%20%20%20%20%20%20%3B%0A%0A%20%20%20%20%20%20%20%20%0A%20%20%20%20%0A%20%20%20%20%0A%20%20%20%20%20%20%20%20%20%20%20%20var%20marker_c6c8701154a244e2a7b2311a535321a3%20%3D%20L.marker%28%0A%20%20%20%20%20%20%20%20%20%20%20%20%20%20%20%20%5B30.33031465%2C%2078.08729064%5D%2C%0A%20%20%20%20%20%20%20%20%20%20%20%20%20%20%20%20%7B%7D%0A%20%20%20%20%20%20%20%20%20%20%20%20%29.addTo%28map_2b96f7275e8044b39da349952c70f8ed%29%3B%0A%20%20%20%20%20%20%20%20%0A%20%20%20%20%0A%20%20%20%20%20%20%20%20%20%20%20%20var%20icon_38389c2d589c45d1ae429979792bfad8%20%3D%20L.AwesomeMarkers.icon%28%0A%20%20%20%20%20%20%20%20%20%20%20%20%20%20%20%20%7B%22extraClasses%22%3A%20%22fa-rotate-0%22%2C%20%22icon%22%3A%20%22star%20empty%22%2C%20%22iconColor%22%3A%20%22white%22%2C%20%22markerColor%22%3A%20%22green%22%2C%20%22prefix%22%3A%20%22glyphicon%22%7D%0A%20%20%20%20%20%20%20%20%20%20%20%20%29%3B%0A%20%20%20%20%20%20%20%20%20%20%20%20marker_c6c8701154a244e2a7b2311a535321a3.setIcon%28icon_38389c2d589c45d1ae429979792bfad8%29%3B%0A%20%20%20%20%20%20%20%20%0A%20%20%20%20%0A%20%20%20%20%20%20%20%20var%20popup_b30c8f78ed96459b9c7f49931cccdf2f%20%3D%20L.popup%28%7B%22maxWidth%22%3A%20%22100%25%22%7D%29%3B%0A%0A%20%20%20%20%20%20%20%20%0A%20%20%20%20%20%20%20%20%20%20%20%20var%20html_0701ce75f4704d96a37328d02f56ce1f%20%3D%20%24%28%60%3Cdiv%20id%3D%22html_0701ce75f4704d96a37328d02f56ce1f%22%20style%3D%22width%3A%20100.0%25%3B%20height%3A%20100.0%25%3B%22%3ETheft%2C%20From%20Unlocked%20Vehicle%2C%20%3E%24950378.0%3C/div%3E%60%29%5B0%5D%3B%0A%20%20%20%20%20%20%20%20%20%20%20%20popup_b30c8f78ed96459b9c7f49931cccdf2f.setContent%28html_0701ce75f4704d96a37328d02f56ce1f%29%3B%0A%20%20%20%20%20%20%20%20%0A%0A%20%20%20%20%20%20%20%20marker_c6c8701154a244e2a7b2311a535321a3.bindPopup%28popup_b30c8f78ed96459b9c7f49931cccdf2f%29%0A%20%20%20%20%20%20%20%20%3B%0A%0A%20%20%20%20%20%20%20%20%0A%20%20%20%20%0A%20%20%20%20%0A%20%20%20%20%20%20%20%20%20%20%20%20var%20marker_2546ff22394248908719cbf3466f1be0%20%3D%20L.marker%28%0A%20%20%20%20%20%20%20%20%20%20%20%20%20%20%20%20%5B30.45938256%2C%2078.0737483%5D%2C%0A%20%20%20%20%20%20%20%20%20%20%20%20%20%20%20%20%7B%7D%0A%20%20%20%20%20%20%20%20%20%20%20%20%29.addTo%28map_2b96f7275e8044b39da349952c70f8ed%29%3B%0A%20%20%20%20%20%20%20%20%0A%20%20%20%20%0A%20%20%20%20%20%20%20%20%20%20%20%20var%20icon_49c5859a8abd4b1b91204b5396752909%20%3D%20L.AwesomeMarkers.icon%28%0A%20%20%20%20%20%20%20%20%20%20%20%20%20%20%20%20%7B%22extraClasses%22%3A%20%22fa-rotate-0%22%2C%20%22icon%22%3A%20%22star%20empty%22%2C%20%22iconColor%22%3A%20%22white%22%2C%20%22markerColor%22%3A%20%22green%22%2C%20%22prefix%22%3A%20%22glyphicon%22%7D%0A%20%20%20%20%20%20%20%20%20%20%20%20%29%3B%0A%20%20%20%20%20%20%20%20%20%20%20%20marker_2546ff22394248908719cbf3466f1be0.setIcon%28icon_49c5859a8abd4b1b91204b5396752909%29%3B%0A%20%20%20%20%20%20%20%20%0A%20%20%20%20%0A%20%20%20%20%20%20%20%20var%20popup_e6d84f6159024c67878df3297a095d18%20%3D%20L.popup%28%7B%22maxWidth%22%3A%20%22100%25%22%7D%29%3B%0A%0A%20%20%20%20%20%20%20%20%0A%20%20%20%20%20%20%20%20%20%20%20%20var%20html_1049d86caa6e46e69e30df404225d83a%20%3D%20%24%28%60%3Cdiv%20id%3D%22html_1049d86caa6e46e69e30df404225d83a%22%20style%3D%22width%3A%20100.0%25%3B%20height%3A%20100.0%25%3B%22%3ETheft%2C%20From%20Person%2C%20%3E%24950%20%28other%20than%20Pickpocket%29378.0%3C/div%3E%60%29%5B0%5D%3B%0A%20%20%20%20%20%20%20%20%20%20%20%20popup_e6d84f6159024c67878df3297a095d18.setContent%28html_1049d86caa6e46e69e30df404225d83a%29%3B%0A%20%20%20%20%20%20%20%20%0A%0A%20%20%20%20%20%20%20%20marker_2546ff22394248908719cbf3466f1be0.bindPopup%28popup_e6d84f6159024c67878df3297a095d18%29%0A%20%20%20%20%20%20%20%20%3B%0A%0A%20%20%20%20%20%20%20%20%0A%20%20%20%20%0A%20%20%20%20%0A%20%20%20%20%20%20%20%20%20%20%20%20var%20marker_ec54ac966f3f40ada8986792d1505357%20%3D%20L.marker%28%0A%20%20%20%20%20%20%20%20%20%20%20%20%20%20%20%20%5B30.47883671%2C%2077.79530353%5D%2C%0A%20%20%20%20%20%20%20%20%20%20%20%20%20%20%20%20%7B%7D%0A%20%20%20%20%20%20%20%20%20%20%20%20%29.addTo%28map_2b96f7275e8044b39da349952c70f8ed%29%3B%0A%20%20%20%20%20%20%20%20%0A%20%20%20%20%0A%20%20%20%20%20%20%20%20%20%20%20%20var%20icon_069be69d95e74735848f8ad48ff554cf%20%3D%20L.AwesomeMarkers.icon%28%0A%20%20%20%20%20%20%20%20%20%20%20%20%20%20%20%20%7B%22extraClasses%22%3A%20%22fa-rotate-0%22%2C%20%22icon%22%3A%20%22star%20empty%22%2C%20%22iconColor%22%3A%20%22white%22%2C%20%22markerColor%22%3A%20%22green%22%2C%20%22prefix%22%3A%20%22glyphicon%22%7D%0A%20%20%20%20%20%20%20%20%20%20%20%20%29%3B%0A%20%20%20%20%20%20%20%20%20%20%20%20marker_ec54ac966f3f40ada8986792d1505357.setIcon%28icon_069be69d95e74735848f8ad48ff554cf%29%3B%0A%20%20%20%20%20%20%20%20%0A%20%20%20%20%0A%20%20%20%20%20%20%20%20var%20popup_31915a4d987f4bb68a7418a120cd0a20%20%3D%20L.popup%28%7B%22maxWidth%22%3A%20%22100%25%22%7D%29%3B%0A%0A%20%20%20%20%20%20%20%20%0A%20%20%20%20%20%20%20%20%20%20%20%20var%20html_0e0b886d5ab5417aa4929a69c8f9da7e%20%3D%20%24%28%60%3Cdiv%20id%3D%22html_0e0b886d5ab5417aa4929a69c8f9da7e%22%20style%3D%22width%3A%20100.0%25%3B%20height%3A%20100.0%25%3B%22%3ETheft%2C%20Other%20Property%2C%20%3E%24950378.0%3C/div%3E%60%29%5B0%5D%3B%0A%20%20%20%20%20%20%20%20%20%20%20%20popup_31915a4d987f4bb68a7418a120cd0a20.setContent%28html_0e0b886d5ab5417aa4929a69c8f9da7e%29%3B%0A%20%20%20%20%20%20%20%20%0A%0A%20%20%20%20%20%20%20%20marker_ec54ac966f3f40ada8986792d1505357.bindPopup%28popup_31915a4d987f4bb68a7418a120cd0a20%29%0A%20%20%20%20%20%20%20%20%3B%0A%0A%20%20%20%20%20%20%20%20%0A%20%20%20%20%0A%20%20%20%20%0A%20%20%20%20%20%20%20%20%20%20%20%20var%20marker_45525e69f48d424e8a1b5a66fbd08e2b%20%3D%20L.marker%28%0A%20%20%20%20%20%20%20%20%20%20%20%20%20%20%20%20%5B30.18001883%2C%2078.12479473%5D%2C%0A%20%20%20%20%20%20%20%20%20%20%20%20%20%20%20%20%7B%7D%0A%20%20%20%20%20%20%20%20%20%20%20%20%29.addTo%28map_2b96f7275e8044b39da349952c70f8ed%29%3B%0A%20%20%20%20%20%20%20%20%0A%20%20%20%20%0A%20%20%20%20%20%20%20%20%20%20%20%20var%20icon_f9bd5aa0c4b845efadf7fad1dcdcc5ff%20%3D%20L.AwesomeMarkers.icon%28%0A%20%20%20%20%20%20%20%20%20%20%20%20%20%20%20%20%7B%22extraClasses%22%3A%20%22fa-rotate-0%22%2C%20%22icon%22%3A%20%22star%20empty%22%2C%20%22iconColor%22%3A%20%22white%22%2C%20%22markerColor%22%3A%20%22green%22%2C%20%22prefix%22%3A%20%22glyphicon%22%7D%0A%20%20%20%20%20%20%20%20%20%20%20%20%29%3B%0A%20%20%20%20%20%20%20%20%20%20%20%20marker_45525e69f48d424e8a1b5a66fbd08e2b.setIcon%28icon_f9bd5aa0c4b845efadf7fad1dcdcc5ff%29%3B%0A%20%20%20%20%20%20%20%20%0A%20%20%20%20%0A%20%20%20%20%20%20%20%20var%20popup_d5df05a2700e4a30b16d0e8563958c31%20%3D%20L.popup%28%7B%22maxWidth%22%3A%20%22100%25%22%7D%29%3B%0A%0A%20%20%20%20%20%20%20%20%0A%20%20%20%20%20%20%20%20%20%20%20%20var%20html_92cb24a8924f42edb0765f37e06ec7de%20%3D%20%24%28%60%3Cdiv%20id%3D%22html_92cb24a8924f42edb0765f37e06ec7de%22%20style%3D%22width%3A%20100.0%25%3B%20height%3A%20100.0%25%3B%22%3EBattery351.0%3C/div%3E%60%29%5B0%5D%3B%0A%20%20%20%20%20%20%20%20%20%20%20%20popup_d5df05a2700e4a30b16d0e8563958c31.setContent%28html_92cb24a8924f42edb0765f37e06ec7de%29%3B%0A%20%20%20%20%20%20%20%20%0A%0A%20%20%20%20%20%20%20%20marker_45525e69f48d424e8a1b5a66fbd08e2b.bindPopup%28popup_d5df05a2700e4a30b16d0e8563958c31%29%0A%20%20%20%20%20%20%20%20%3B%0A%0A%20%20%20%20%20%20%20%20%0A%20%20%20%20%0A%20%20%20%20%0A%20%20%20%20%20%20%20%20%20%20%20%20var%20marker_465da5ed46514e4198ee1f250bc1c05a%20%3D%20L.marker%28%0A%20%20%20%20%20%20%20%20%20%20%20%20%20%20%20%20%5B30.2930492%2C%2078.01786337%5D%2C%0A%20%20%20%20%20%20%20%20%20%20%20%20%20%20%20%20%7B%7D%0A%20%20%20%20%20%20%20%20%20%20%20%20%29.addTo%28map_2b96f7275e8044b39da349952c70f8ed%29%3B%0A%20%20%20%20%20%20%20%20%0A%20%20%20%20%0A%20%20%20%20%20%20%20%20%20%20%20%20var%20icon_3fc0b818bdfa41b78d8bfd775736bd28%20%3D%20L.AwesomeMarkers.icon%28%0A%20%20%20%20%20%20%20%20%20%20%20%20%20%20%20%20%7B%22extraClasses%22%3A%20%22fa-rotate-0%22%2C%20%22icon%22%3A%20%22star%20empty%22%2C%20%22iconColor%22%3A%20%22white%22%2C%20%22markerColor%22%3A%20%22green%22%2C%20%22prefix%22%3A%20%22glyphicon%22%7D%0A%20%20%20%20%20%20%20%20%20%20%20%20%29%3B%0A%20%20%20%20%20%20%20%20%20%20%20%20marker_465da5ed46514e4198ee1f250bc1c05a.setIcon%28icon_3fc0b818bdfa41b78d8bfd775736bd28%29%3B%0A%20%20%20%20%20%20%20%20%0A%20%20%20%20%0A%20%20%20%20%20%20%20%20var%20popup_d9a0ce1dc2fd44bdad40dccf40a7a72b%20%3D%20L.popup%28%7B%22maxWidth%22%3A%20%22100%25%22%7D%29%3B%0A%0A%20%20%20%20%20%20%20%20%0A%20%20%20%20%20%20%20%20%20%20%20%20var%20html_26f5cbdea6da4349b9fbbbdcdd70eea9%20%3D%20%24%28%60%3Cdiv%20id%3D%22html_26f5cbdea6da4349b9fbbbdcdd70eea9%22%20style%3D%22width%3A%20100.0%25%3B%20height%3A%20100.0%25%3B%22%3EFound%20Person359.0%3C/div%3E%60%29%5B0%5D%3B%0A%20%20%20%20%20%20%20%20%20%20%20%20popup_d9a0ce1dc2fd44bdad40dccf40a7a72b.setContent%28html_26f5cbdea6da4349b9fbbbdcdd70eea9%29%3B%0A%20%20%20%20%20%20%20%20%0A%0A%20%20%20%20%20%20%20%20marker_465da5ed46514e4198ee1f250bc1c05a.bindPopup%28popup_d9a0ce1dc2fd44bdad40dccf40a7a72b%29%0A%20%20%20%20%20%20%20%20%3B%0A%0A%20%20%20%20%20%20%20%20%0A%20%20%20%20%0A%20%20%20%20%0A%20%20%20%20%20%20%20%20%20%20%20%20var%20marker_ebc4aa6c28604f3e99e9be1542740c8b%20%3D%20L.marker%28%0A%20%20%20%20%20%20%20%20%20%20%20%20%20%20%20%20%5B30.31937279%2C%2077.99168358%5D%2C%0A%20%20%20%20%20%20%20%20%20%20%20%20%20%20%20%20%7B%7D%0A%20%20%20%20%20%20%20%20%20%20%20%20%29.addTo%28map_2b96f7275e8044b39da349952c70f8ed%29%3B%0A%20%20%20%20%20%20%20%20%0A%20%20%20%20%0A%20%20%20%20%20%20%20%20%20%20%20%20var%20icon_81acbc2d936a41f594f1a4ac89294f2a%20%3D%20L.AwesomeMarkers.icon%28%0A%20%20%20%20%20%20%20%20%20%20%20%20%20%20%20%20%7B%22extraClasses%22%3A%20%22fa-rotate-0%22%2C%20%22icon%22%3A%20%22star%20empty%22%2C%20%22iconColor%22%3A%20%22white%22%2C%20%22markerColor%22%3A%20%22green%22%2C%20%22prefix%22%3A%20%22glyphicon%22%7D%0A%20%20%20%20%20%20%20%20%20%20%20%20%29%3B%0A%20%20%20%20%20%20%20%20%20%20%20%20marker_ebc4aa6c28604f3e99e9be1542740c8b.setIcon%28icon_81acbc2d936a41f594f1a4ac89294f2a%29%3B%0A%20%20%20%20%20%20%20%20%0A%20%20%20%20%0A%20%20%20%20%20%20%20%20var%20popup_06571276e46f4b1dbbcdd67fe93797f3%20%3D%20L.popup%28%7B%22maxWidth%22%3A%20%22100%25%22%7D%29%3B%0A%0A%20%20%20%20%20%20%20%20%0A%20%20%20%20%20%20%20%20%20%20%20%20var%20html_31a951cc9c3945c9a5fd060a6b81f23c%20%3D%20%24%28%60%3Cdiv%20id%3D%22html_31a951cc9c3945c9a5fd060a6b81f23c%22%20style%3D%22width%3A%20100.0%25%3B%20height%3A%20100.0%25%3B%22%3ENarcotics%20Paraphernalia%2C%20Possession%20of274.0%3C/div%3E%60%29%5B0%5D%3B%0A%20%20%20%20%20%20%20%20%20%20%20%20popup_06571276e46f4b1dbbcdd67fe93797f3.setContent%28html_31a951cc9c3945c9a5fd060a6b81f23c%29%3B%0A%20%20%20%20%20%20%20%20%0A%0A%20%20%20%20%20%20%20%20marker_ebc4aa6c28604f3e99e9be1542740c8b.bindPopup%28popup_06571276e46f4b1dbbcdd67fe93797f3%29%0A%20%20%20%20%20%20%20%20%3B%0A%0A%20%20%20%20%20%20%20%20%0A%20%20%20%20%0A%20%20%20%20%0A%20%20%20%20%20%20%20%20%20%20%20%20var%20marker_640c19c96190452caddcc687d21455dd%20%3D%20L.marker%28%0A%20%20%20%20%20%20%20%20%20%20%20%20%20%20%20%20%5B30.29125109%2C%2078.05355562%5D%2C%0A%20%20%20%20%20%20%20%20%20%20%20%20%20%20%20%20%7B%7D%0A%20%20%20%20%20%20%20%20%20%20%20%20%29.addTo%28map_2b96f7275e8044b39da349952c70f8ed%29%3B%0A%20%20%20%20%20%20%20%20%0A%20%20%20%20%0A%20%20%20%20%20%20%20%20%20%20%20%20var%20icon_20da3ac448f74a28aa67a499c3a811ad%20%3D%20L.AwesomeMarkers.icon%28%0A%20%20%20%20%20%20%20%20%20%20%20%20%20%20%20%20%7B%22extraClasses%22%3A%20%22fa-rotate-0%22%2C%20%22icon%22%3A%20%22star%20empty%22%2C%20%22iconColor%22%3A%20%22white%22%2C%20%22markerColor%22%3A%20%22green%22%2C%20%22prefix%22%3A%20%22glyphicon%22%7D%0A%20%20%20%20%20%20%20%20%20%20%20%20%29%3B%0A%20%20%20%20%20%20%20%20%20%20%20%20marker_640c19c96190452caddcc687d21455dd.setIcon%28icon_20da3ac448f74a28aa67a499c3a811ad%29%3B%0A%20%20%20%20%20%20%20%20%0A%20%20%20%20%0A%20%20%20%20%20%20%20%20var%20popup_a1467092098849a7996e7b3dd0e91c39%20%3D%20L.popup%28%7B%22maxWidth%22%3A%20%22100%25%22%7D%29%3B%0A%0A%20%20%20%20%20%20%20%20%0A%20%20%20%20%20%20%20%20%20%20%20%20var%20html_6aebf6e5a7f04c2e871daaf651a26013%20%3D%20%24%28%60%3Cdiv%20id%3D%22html_6aebf6e5a7f04c2e871daaf651a26013%22%20style%3D%22width%3A%20100.0%25%3B%20height%3A%20100.0%25%3B%22%3ETheft%2C%20Other%20Property%2C%20%3E%24950378.0%3C/div%3E%60%29%5B0%5D%3B%0A%20%20%20%20%20%20%20%20%20%20%20%20popup_a1467092098849a7996e7b3dd0e91c39.setContent%28html_6aebf6e5a7f04c2e871daaf651a26013%29%3B%0A%20%20%20%20%20%20%20%20%0A%0A%20%20%20%20%20%20%20%20marker_640c19c96190452caddcc687d21455dd.bindPopup%28popup_a1467092098849a7996e7b3dd0e91c39%29%0A%20%20%20%20%20%20%20%20%3B%0A%0A%20%20%20%20%20%20%20%20%0A%20%20%20%20%0A%20%20%20%20%0A%20%20%20%20%20%20%20%20%20%20%20%20var%20marker_3c2f661cad6d41b6a967fa54a6996209%20%3D%20L.marker%28%0A%20%20%20%20%20%20%20%20%20%20%20%20%20%20%20%20%5B30.40229675%2C%2078.09621703%5D%2C%0A%20%20%20%20%20%20%20%20%20%20%20%20%20%20%20%20%7B%7D%0A%20%20%20%20%20%20%20%20%20%20%20%20%29.addTo%28map_2b96f7275e8044b39da349952c70f8ed%29%3B%0A%20%20%20%20%20%20%20%20%0A%20%20%20%20%0A%20%20%20%20%20%20%20%20%20%20%20%20var%20icon_030a4122ede24109be7cfbfdc599465b%20%3D%20L.AwesomeMarkers.icon%28%0A%20%20%20%20%20%20%20%20%20%20%20%20%20%20%20%20%7B%22extraClasses%22%3A%20%22fa-rotate-0%22%2C%20%22icon%22%3A%20%22star%20empty%22%2C%20%22iconColor%22%3A%20%22white%22%2C%20%22markerColor%22%3A%20%22green%22%2C%20%22prefix%22%3A%20%22glyphicon%22%7D%0A%20%20%20%20%20%20%20%20%20%20%20%20%29%3B%0A%20%20%20%20%20%20%20%20%20%20%20%20marker_3c2f661cad6d41b6a967fa54a6996209.setIcon%28icon_030a4122ede24109be7cfbfdc599465b%29%3B%0A%20%20%20%20%20%20%20%20%0A%20%20%20%20%0A%20%20%20%20%20%20%20%20var%20popup_9bd404ab09194c8c867d9ad9c5ee483e%20%3D%20L.popup%28%7B%22maxWidth%22%3A%20%22100%25%22%7D%29%3B%0A%0A%20%20%20%20%20%20%20%20%0A%20%20%20%20%20%20%20%20%20%20%20%20var%20html_426a216b86bb47e0b1646a6f2adc30ee%20%3D%20%24%28%60%3Cdiv%20id%3D%22html_426a216b86bb47e0b1646a6f2adc30ee%22%20style%3D%22width%3A%20100.0%25%3B%20height%3A%20100.0%25%3B%22%3EFirearm%2C%20Loaded%2C%20in%20Vehicle%2C%20Possession%20or%20Use141.0%3C/div%3E%60%29%5B0%5D%3B%0A%20%20%20%20%20%20%20%20%20%20%20%20popup_9bd404ab09194c8c867d9ad9c5ee483e.setContent%28html_426a216b86bb47e0b1646a6f2adc30ee%29%3B%0A%20%20%20%20%20%20%20%20%0A%0A%20%20%20%20%20%20%20%20marker_3c2f661cad6d41b6a967fa54a6996209.bindPopup%28popup_9bd404ab09194c8c867d9ad9c5ee483e%29%0A%20%20%20%20%20%20%20%20%3B%0A%0A%20%20%20%20%20%20%20%20%0A%20%20%20%20%0A%20%20%20%20%0A%20%20%20%20%20%20%20%20%20%20%20%20var%20marker_d502848616c14c1ea008c5e1cad42731%20%3D%20L.marker%28%0A%20%20%20%20%20%20%20%20%20%20%20%20%20%20%20%20%5B30.03549113%2C%2078.20999112%5D%2C%0A%20%20%20%20%20%20%20%20%20%20%20%20%20%20%20%20%7B%7D%0A%20%20%20%20%20%20%20%20%20%20%20%20%29.addTo%28map_2b96f7275e8044b39da349952c70f8ed%29%3B%0A%20%20%20%20%20%20%20%20%0A%20%20%20%20%0A%20%20%20%20%20%20%20%20%20%20%20%20var%20icon_877df76f30a44978aba107161e495d84%20%3D%20L.AwesomeMarkers.icon%28%0A%20%20%20%20%20%20%20%20%20%20%20%20%20%20%20%20%7B%22extraClasses%22%3A%20%22fa-rotate-0%22%2C%20%22icon%22%3A%20%22star%20empty%22%2C%20%22iconColor%22%3A%20%22white%22%2C%20%22markerColor%22%3A%20%22green%22%2C%20%22prefix%22%3A%20%22glyphicon%22%7D%0A%20%20%20%20%20%20%20%20%20%20%20%20%29%3B%0A%20%20%20%20%20%20%20%20%20%20%20%20marker_d502848616c14c1ea008c5e1cad42731.setIcon%28icon_877df76f30a44978aba107161e495d84%29%3B%0A%20%20%20%20%20%20%20%20%0A%20%20%20%20%0A%20%20%20%20%20%20%20%20var%20popup_10906a41a1f8405f9cd5fb1e28979dc5%20%3D%20L.popup%28%7B%22maxWidth%22%3A%20%22100%25%22%7D%29%3B%0A%0A%20%20%20%20%20%20%20%20%0A%20%20%20%20%20%20%20%20%20%20%20%20var%20html_55ca0b39a20b4380adcd89b789e94159%20%3D%20%24%28%60%3Cdiv%20id%3D%22html_55ca0b39a20b4380adcd89b789e94159%22%20style%3D%22width%3A%20100.0%25%3B%20height%3A%20100.0%25%3B%22%3ETraffic%20Violation%20Arrest506.0%3C/div%3E%60%29%5B0%5D%3B%0A%20%20%20%20%20%20%20%20%20%20%20%20popup_10906a41a1f8405f9cd5fb1e28979dc5.setContent%28html_55ca0b39a20b4380adcd89b789e94159%29%3B%0A%20%20%20%20%20%20%20%20%0A%0A%20%20%20%20%20%20%20%20marker_d502848616c14c1ea008c5e1cad42731.bindPopup%28popup_10906a41a1f8405f9cd5fb1e28979dc5%29%0A%20%20%20%20%20%20%20%20%3B%0A%0A%20%20%20%20%20%20%20%20%0A%20%20%20%20%0A%20%20%20%20%0A%20%20%20%20%20%20%20%20%20%20%20%20var%20marker_d3d7ca7b17c445d09312192e6fc27317%20%3D%20L.marker%28%0A%20%20%20%20%20%20%20%20%20%20%20%20%20%20%20%20%5B30.26521338%2C%2078.00184242%5D%2C%0A%20%20%20%20%20%20%20%20%20%20%20%20%20%20%20%20%7B%7D%0A%20%20%20%20%20%20%20%20%20%20%20%20%29.addTo%28map_2b96f7275e8044b39da349952c70f8ed%29%3B%0A%20%20%20%20%20%20%20%20%0A%20%20%20%20%0A%20%20%20%20%20%20%20%20%20%20%20%20var%20icon_74e807cd37f349ac9ae2c3974e2a8d43%20%3D%20L.AwesomeMarkers.icon%28%0A%20%20%20%20%20%20%20%20%20%20%20%20%20%20%20%20%7B%22extraClasses%22%3A%20%22fa-rotate-0%22%2C%20%22icon%22%3A%20%22star%20empty%22%2C%20%22iconColor%22%3A%20%22white%22%2C%20%22markerColor%22%3A%20%22green%22%2C%20%22prefix%22%3A%20%22glyphicon%22%7D%0A%20%20%20%20%20%20%20%20%20%20%20%20%29%3B%0A%20%20%20%20%20%20%20%20%20%20%20%20marker_d3d7ca7b17c445d09312192e6fc27317.setIcon%28icon_74e807cd37f349ac9ae2c3974e2a8d43%29%3B%0A%20%20%20%20%20%20%20%20%0A%20%20%20%20%0A%20%20%20%20%20%20%20%20var%20popup_591847750636403e90c95a54aaf29fde%20%3D%20L.popup%28%7B%22maxWidth%22%3A%20%22100%25%22%7D%29%3B%0A%0A%20%20%20%20%20%20%20%20%0A%20%20%20%20%20%20%20%20%20%20%20%20var%20html_d8733824aae2460ab257e80e6178e1b9%20%3D%20%24%28%60%3Cdiv%20id%3D%22html_d8733824aae2460ab257e80e6178e1b9%22%20style%3D%22width%3A%20100.0%25%3B%20height%3A%20100.0%25%3B%22%3ETrespassing441.0%3C/div%3E%60%29%5B0%5D%3B%0A%20%20%20%20%20%20%20%20%20%20%20%20popup_591847750636403e90c95a54aaf29fde.setContent%28html_d8733824aae2460ab257e80e6178e1b9%29%3B%0A%20%20%20%20%20%20%20%20%0A%0A%20%20%20%20%20%20%20%20marker_d3d7ca7b17c445d09312192e6fc27317.bindPopup%28popup_591847750636403e90c95a54aaf29fde%29%0A%20%20%20%20%20%20%20%20%3B%0A%0A%20%20%20%20%20%20%20%20%0A%20%20%20%20%0A%20%20%20%20%0A%20%20%20%20%20%20%20%20%20%20%20%20var%20marker_5beaf8c0051c4ab68425d1e0943763c1%20%3D%20L.marker%28%0A%20%20%20%20%20%20%20%20%20%20%20%20%20%20%20%20%5B30.3936164%2C%2077.80648334%5D%2C%0A%20%20%20%20%20%20%20%20%20%20%20%20%20%20%20%20%7B%7D%0A%20%20%20%20%20%20%20%20%20%20%20%20%29.addTo%28map_2b96f7275e8044b39da349952c70f8ed%29%3B%0A%20%20%20%20%20%20%20%20%0A%20%20%20%20%0A%20%20%20%20%20%20%20%20%20%20%20%20var%20icon_0d7627a6f4d84d239cb47708f109ac12%20%3D%20L.AwesomeMarkers.icon%28%0A%20%20%20%20%20%20%20%20%20%20%20%20%20%20%20%20%7B%22extraClasses%22%3A%20%22fa-rotate-0%22%2C%20%22icon%22%3A%20%22star%20empty%22%2C%20%22iconColor%22%3A%20%22white%22%2C%20%22markerColor%22%3A%20%22green%22%2C%20%22prefix%22%3A%20%22glyphicon%22%7D%0A%20%20%20%20%20%20%20%20%20%20%20%20%29%3B%0A%20%20%20%20%20%20%20%20%20%20%20%20marker_5beaf8c0051c4ab68425d1e0943763c1.setIcon%28icon_0d7627a6f4d84d239cb47708f109ac12%29%3B%0A%20%20%20%20%20%20%20%20%0A%20%20%20%20%0A%20%20%20%20%20%20%20%20var%20popup_fe1bf6c1e7dc46deaccc03aa542e0625%20%3D%20L.popup%28%7B%22maxWidth%22%3A%20%22100%25%22%7D%29%3B%0A%0A%20%20%20%20%20%20%20%20%0A%20%20%20%20%20%20%20%20%20%20%20%20var%20html_0c294d8338484f16a0ee0da5ba1525cc%20%3D%20%24%28%60%3Cdiv%20id%3D%22html_0c294d8338484f16a0ee0da5ba1525cc%22%20style%3D%22width%3A%20100.0%25%3B%20height%3A%20100.0%25%3B%22%3ETheft%2C%20Other%20Property%2C%20%2450-%24200378.0%3C/div%3E%60%29%5B0%5D%3B%0A%20%20%20%20%20%20%20%20%20%20%20%20popup_fe1bf6c1e7dc46deaccc03aa542e0625.setContent%28html_0c294d8338484f16a0ee0da5ba1525cc%29%3B%0A%20%20%20%20%20%20%20%20%0A%0A%20%20%20%20%20%20%20%20marker_5beaf8c0051c4ab68425d1e0943763c1.bindPopup%28popup_fe1bf6c1e7dc46deaccc03aa542e0625%29%0A%20%20%20%20%20%20%20%20%3B%0A%0A%20%20%20%20%20%20%20%20%0A%20%20%20%20%0A%20%20%20%20%0A%20%20%20%20%20%20%20%20%20%20%20%20var%20marker_587cd2d7e3d046598ae2d396e0717d41%20%3D%20L.marker%28%0A%20%20%20%20%20%20%20%20%20%20%20%20%20%20%20%20%5B30.61570025%2C%2077.02461281%5D%2C%0A%20%20%20%20%20%20%20%20%20%20%20%20%20%20%20%20%7B%7D%0A%20%20%20%20%20%20%20%20%20%20%20%20%29.addTo%28map_2b96f7275e8044b39da349952c70f8ed%29%3B%0A%20%20%20%20%20%20%20%20%0A%20%20%20%20%0A%20%20%20%20%20%20%20%20%20%20%20%20var%20icon_5da9ac2117c548dfaabe8a0bfbcfb08e%20%3D%20L.AwesomeMarkers.icon%28%0A%20%20%20%20%20%20%20%20%20%20%20%20%20%20%20%20%7B%22extraClasses%22%3A%20%22fa-rotate-0%22%2C%20%22icon%22%3A%20%22star%20empty%22%2C%20%22iconColor%22%3A%20%22white%22%2C%20%22markerColor%22%3A%20%22green%22%2C%20%22prefix%22%3A%20%22glyphicon%22%7D%0A%20%20%20%20%20%20%20%20%20%20%20%20%29%3B%0A%20%20%20%20%20%20%20%20%20%20%20%20marker_587cd2d7e3d046598ae2d396e0717d41.setIcon%28icon_5da9ac2117c548dfaabe8a0bfbcfb08e%29%3B%0A%20%20%20%20%20%20%20%20%0A%20%20%20%20%0A%20%20%20%20%20%20%20%20var%20popup_e269a9e08cac451cb76fe92c003130a8%20%3D%20L.popup%28%7B%22maxWidth%22%3A%20%22100%25%22%7D%29%3B%0A%0A%20%20%20%20%20%20%20%20%0A%20%20%20%20%20%20%20%20%20%20%20%20var%20html_4ee6d8cdcd71477184ef614abf1b8491%20%3D%20%24%28%60%3Cdiv%20id%3D%22html_4ee6d8cdcd71477184ef614abf1b8491%22%20style%3D%22width%3A%20100.0%25%3B%20height%3A%20100.0%25%3B%22%3EAssault%2C%20Aggravated%2C%20W/%20Other%20Weapon351.0%3C/div%3E%60%29%5B0%5D%3B%0A%20%20%20%20%20%20%20%20%20%20%20%20popup_e269a9e08cac451cb76fe92c003130a8.setContent%28html_4ee6d8cdcd71477184ef614abf1b8491%29%3B%0A%20%20%20%20%20%20%20%20%0A%0A%20%20%20%20%20%20%20%20marker_587cd2d7e3d046598ae2d396e0717d41.bindPopup%28popup_e269a9e08cac451cb76fe92c003130a8%29%0A%20%20%20%20%20%20%20%20%3B%0A%0A%20%20%20%20%20%20%20%20%0A%20%20%20%20%0A%20%20%20%20%0A%20%20%20%20%20%20%20%20%20%20%20%20var%20marker_532ace84ea114c15b9eee936e9fa6d36%20%3D%20L.marker%28%0A%20%20%20%20%20%20%20%20%20%20%20%20%20%20%20%20%5B30.53943372%2C%2077.83897212%5D%2C%0A%20%20%20%20%20%20%20%20%20%20%20%20%20%20%20%20%7B%7D%0A%20%20%20%20%20%20%20%20%20%20%20%20%29.addTo%28map_2b96f7275e8044b39da349952c70f8ed%29%3B%0A%20%20%20%20%20%20%20%20%0A%20%20%20%20%0A%20%20%20%20%20%20%20%20%20%20%20%20var%20icon_f0265c5606d24bc5b3898404b514cb07%20%3D%20L.AwesomeMarkers.icon%28%0A%20%20%20%20%20%20%20%20%20%20%20%20%20%20%20%20%7B%22extraClasses%22%3A%20%22fa-rotate-0%22%2C%20%22icon%22%3A%20%22star%20empty%22%2C%20%22iconColor%22%3A%20%22white%22%2C%20%22markerColor%22%3A%20%22green%22%2C%20%22prefix%22%3A%20%22glyphicon%22%7D%0A%20%20%20%20%20%20%20%20%20%20%20%20%29%3B%0A%20%20%20%20%20%20%20%20%20%20%20%20marker_532ace84ea114c15b9eee936e9fa6d36.setIcon%28icon_f0265c5606d24bc5b3898404b514cb07%29%3B%0A%20%20%20%20%20%20%20%20%0A%20%20%20%20%0A%20%20%20%20%20%20%20%20var%20popup_9706f45bca504248aadfc819f8f9e4db%20%3D%20L.popup%28%7B%22maxWidth%22%3A%20%22100%25%22%7D%29%3B%0A%0A%20%20%20%20%20%20%20%20%0A%20%20%20%20%20%20%20%20%20%20%20%20var%20html_a51d984308e4431083c6336aadcfd909%20%3D%20%24%28%60%3Cdiv%20id%3D%22html_a51d984308e4431083c6336aadcfd909%22%20style%3D%22width%3A%20100.0%25%3B%20height%3A%20100.0%25%3B%22%3ENarcotics%20Paraphernalia%2C%20Possession%20of274.0%3C/div%3E%60%29%5B0%5D%3B%0A%20%20%20%20%20%20%20%20%20%20%20%20popup_9706f45bca504248aadfc819f8f9e4db.setContent%28html_a51d984308e4431083c6336aadcfd909%29%3B%0A%20%20%20%20%20%20%20%20%0A%0A%20%20%20%20%20%20%20%20marker_532ace84ea114c15b9eee936e9fa6d36.bindPopup%28popup_9706f45bca504248aadfc819f8f9e4db%29%0A%20%20%20%20%20%20%20%20%3B%0A%0A%20%20%20%20%20%20%20%20%0A%20%20%20%20%0A%20%20%20%20%0A%20%20%20%20%20%20%20%20%20%20%20%20var%20marker_c3635751528d486d953ccb0f9cd08ab8%20%3D%20L.marker%28%0A%20%20%20%20%20%20%20%20%20%20%20%20%20%20%20%20%5B30.52346564%2C%2077.84752808%5D%2C%0A%20%20%20%20%20%20%20%20%20%20%20%20%20%20%20%20%7B%7D%0A%20%20%20%20%20%20%20%20%20%20%20%20%29.addTo%28map_2b96f7275e8044b39da349952c70f8ed%29%3B%0A%20%20%20%20%20%20%20%20%0A%20%20%20%20%0A%20%20%20%20%20%20%20%20%20%20%20%20var%20icon_d04a170294df40b2bf27c34ca377c222%20%3D%20L.AwesomeMarkers.icon%28%0A%20%20%20%20%20%20%20%20%20%20%20%20%20%20%20%20%7B%22extraClasses%22%3A%20%22fa-rotate-0%22%2C%20%22icon%22%3A%20%22star%20empty%22%2C%20%22iconColor%22%3A%20%22white%22%2C%20%22markerColor%22%3A%20%22green%22%2C%20%22prefix%22%3A%20%22glyphicon%22%7D%0A%20%20%20%20%20%20%20%20%20%20%20%20%29%3B%0A%20%20%20%20%20%20%20%20%20%20%20%20marker_c3635751528d486d953ccb0f9cd08ab8.setIcon%28icon_d04a170294df40b2bf27c34ca377c222%29%3B%0A%20%20%20%20%20%20%20%20%0A%20%20%20%20%0A%20%20%20%20%20%20%20%20var%20popup_7cd6fd6ab30f4defb4de2b40263598ce%20%3D%20L.popup%28%7B%22maxWidth%22%3A%20%22100%25%22%7D%29%3B%0A%0A%20%20%20%20%20%20%20%20%0A%20%20%20%20%20%20%20%20%20%20%20%20var%20html_d144e261abfc42a4a64b4d8f664bc3de%20%3D%20%24%28%60%3Cdiv%20id%3D%22html_d144e261abfc42a4a64b4d8f664bc3de%22%20style%3D%22width%3A%20100.0%25%3B%20height%3A%20100.0%25%3B%22%3EVehicle%2C%20Recovered%2C%20Stolen%20outside%20SF378.0%3C/div%3E%60%29%5B0%5D%3B%0A%20%20%20%20%20%20%20%20%20%20%20%20popup_7cd6fd6ab30f4defb4de2b40263598ce.setContent%28html_d144e261abfc42a4a64b4d8f664bc3de%29%3B%0A%20%20%20%20%20%20%20%20%0A%0A%20%20%20%20%20%20%20%20marker_c3635751528d486d953ccb0f9cd08ab8.bindPopup%28popup_7cd6fd6ab30f4defb4de2b40263598ce%29%0A%20%20%20%20%20%20%20%20%3B%0A%0A%20%20%20%20%20%20%20%20%0A%20%20%20%20%0A%20%20%20%20%0A%20%20%20%20%20%20%20%20%20%20%20%20var%20marker_95e9af708d5345bcb236c5034976885f%20%3D%20L.marker%28%0A%20%20%20%20%20%20%20%20%20%20%20%20%20%20%20%20%5B30.0161343%2C%2077.93144478%5D%2C%0A%20%20%20%20%20%20%20%20%20%20%20%20%20%20%20%20%7B%7D%0A%20%20%20%20%20%20%20%20%20%20%20%20%29.addTo%28map_2b96f7275e8044b39da349952c70f8ed%29%3B%0A%20%20%20%20%20%20%20%20%0A%20%20%20%20%0A%20%20%20%20%20%20%20%20%20%20%20%20var%20icon_b798354156434e24b85810010cb0d99b%20%3D%20L.AwesomeMarkers.icon%28%0A%20%20%20%20%20%20%20%20%20%20%20%20%20%20%20%20%7B%22extraClasses%22%3A%20%22fa-rotate-0%22%2C%20%22icon%22%3A%20%22star%20empty%22%2C%20%22iconColor%22%3A%20%22white%22%2C%20%22markerColor%22%3A%20%22green%22%2C%20%22prefix%22%3A%20%22glyphicon%22%7D%0A%20%20%20%20%20%20%20%20%20%20%20%20%29%3B%0A%20%20%20%20%20%20%20%20%20%20%20%20marker_95e9af708d5345bcb236c5034976885f.setIcon%28icon_b798354156434e24b85810010cb0d99b%29%3B%0A%20%20%20%20%20%20%20%20%0A%20%20%20%20%0A%20%20%20%20%20%20%20%20var%20popup_b1165f78aa3e4b17ab1f626c43b58ae6%20%3D%20L.popup%28%7B%22maxWidth%22%3A%20%22100%25%22%7D%29%3B%0A%0A%20%20%20%20%20%20%20%20%0A%20%20%20%20%20%20%20%20%20%20%20%20var%20html_7279ee26b5fa4f1e89a94fff0d1ea868%20%3D%20%24%28%60%3Cdiv%20id%3D%22html_7279ee26b5fa4f1e89a94fff0d1ea868%22%20style%3D%22width%3A%20100.0%25%3B%20height%3A%20100.0%25%3B%22%3EVehicle%2C%20Recovered%2C%20Auto378.0%3C/div%3E%60%29%5B0%5D%3B%0A%20%20%20%20%20%20%20%20%20%20%20%20popup_b1165f78aa3e4b17ab1f626c43b58ae6.setContent%28html_7279ee26b5fa4f1e89a94fff0d1ea868%29%3B%0A%20%20%20%20%20%20%20%20%0A%0A%20%20%20%20%20%20%20%20marker_95e9af708d5345bcb236c5034976885f.bindPopup%28popup_b1165f78aa3e4b17ab1f626c43b58ae6%29%0A%20%20%20%20%20%20%20%20%3B%0A%0A%20%20%20%20%20%20%20%20%0A%20%20%20%20%0A%20%20%20%20%0A%20%20%20%20%20%20%20%20%20%20%20%20var%20marker_c279377ff1cc4e1abef0e63c031b7ab7%20%3D%20L.marker%28%0A%20%20%20%20%20%20%20%20%20%20%20%20%20%20%20%20%5B30.33603466%2C%2077.96654721%5D%2C%0A%20%20%20%20%20%20%20%20%20%20%20%20%20%20%20%20%7B%7D%0A%20%20%20%20%20%20%20%20%20%20%20%20%29.addTo%28map_2b96f7275e8044b39da349952c70f8ed%29%3B%0A%20%20%20%20%20%20%20%20%0A%20%20%20%20%0A%20%20%20%20%20%20%20%20%20%20%20%20var%20icon_4a28a0eda3574c718b6302546ebf15ba%20%3D%20L.AwesomeMarkers.icon%28%0A%20%20%20%20%20%20%20%20%20%20%20%20%20%20%20%20%7B%22extraClasses%22%3A%20%22fa-rotate-0%22%2C%20%22icon%22%3A%20%22star%20empty%22%2C%20%22iconColor%22%3A%20%22white%22%2C%20%22markerColor%22%3A%20%22green%22%2C%20%22prefix%22%3A%20%22glyphicon%22%7D%0A%20%20%20%20%20%20%20%20%20%20%20%20%29%3B%0A%20%20%20%20%20%20%20%20%20%20%20%20marker_c279377ff1cc4e1abef0e63c031b7ab7.setIcon%28icon_4a28a0eda3574c718b6302546ebf15ba%29%3B%0A%20%20%20%20%20%20%20%20%0A%20%20%20%20%0A%20%20%20%20%20%20%20%20var%20popup_2f7bbb50921647438e8ff286e0b1c642%20%3D%20L.popup%28%7B%22maxWidth%22%3A%20%22100%25%22%7D%29%3B%0A%0A%20%20%20%20%20%20%20%20%0A%20%20%20%20%20%20%20%20%20%20%20%20var%20html_bee51976f4824e5b960d14e9e67dda41%20%3D%20%24%28%60%3Cdiv%20id%3D%22html_bee51976f4824e5b960d14e9e67dda41%22%20style%3D%22width%3A%20100.0%25%3B%20height%3A%20100.0%25%3B%22%3EBattery%2C%20former%20Spouse%20or%20Dating%20Relationship351.0%3C/div%3E%60%29%5B0%5D%3B%0A%20%20%20%20%20%20%20%20%20%20%20%20popup_2f7bbb50921647438e8ff286e0b1c642.setContent%28html_bee51976f4824e5b960d14e9e67dda41%29%3B%0A%20%20%20%20%20%20%20%20%0A%0A%20%20%20%20%20%20%20%20marker_c279377ff1cc4e1abef0e63c031b7ab7.bindPopup%28popup_2f7bbb50921647438e8ff286e0b1c642%29%0A%20%20%20%20%20%20%20%20%3B%0A%0A%20%20%20%20%20%20%20%20%0A%20%20%20%20%0A%20%20%20%20%0A%20%20%20%20%20%20%20%20%20%20%20%20var%20marker_3e598c923cda423ab2533314a3d16ebb%20%3D%20L.marker%28%0A%20%20%20%20%20%20%20%20%20%20%20%20%20%20%20%20%5B30.34075184%2C%2078.06942937%5D%2C%0A%20%20%20%20%20%20%20%20%20%20%20%20%20%20%20%20%7B%7D%0A%20%20%20%20%20%20%20%20%20%20%20%20%29.addTo%28map_2b96f7275e8044b39da349952c70f8ed%29%3B%0A%20%20%20%20%20%20%20%20%0A%20%20%20%20%0A%20%20%20%20%20%20%20%20%20%20%20%20var%20icon_2e8b339382984706bca340829050633b%20%3D%20L.AwesomeMarkers.icon%28%0A%20%20%20%20%20%20%20%20%20%20%20%20%20%20%20%20%7B%22extraClasses%22%3A%20%22fa-rotate-0%22%2C%20%22icon%22%3A%20%22star%20empty%22%2C%20%22iconColor%22%3A%20%22white%22%2C%20%22markerColor%22%3A%20%22green%22%2C%20%22prefix%22%3A%20%22glyphicon%22%7D%0A%20%20%20%20%20%20%20%20%20%20%20%20%29%3B%0A%20%20%20%20%20%20%20%20%20%20%20%20marker_3e598c923cda423ab2533314a3d16ebb.setIcon%28icon_2e8b339382984706bca340829050633b%29%3B%0A%20%20%20%20%20%20%20%20%0A%20%20%20%20%0A%20%20%20%20%20%20%20%20var%20popup_a47a852207b446c1ae886eb0cb96480e%20%3D%20L.popup%28%7B%22maxWidth%22%3A%20%22100%25%22%7D%29%3B%0A%0A%20%20%20%20%20%20%20%20%0A%20%20%20%20%20%20%20%20%20%20%20%20var%20html_8d4fceaa4b884ee196c5c1fe7df55555%20%3D%20%24%28%60%3Cdiv%20id%3D%22html_8d4fceaa4b884ee196c5c1fe7df55555%22%20style%3D%22width%3A%20100.0%25%3B%20height%3A%20100.0%25%3B%22%3EBattery351.0%3C/div%3E%60%29%5B0%5D%3B%0A%20%20%20%20%20%20%20%20%20%20%20%20popup_a47a852207b446c1ae886eb0cb96480e.setContent%28html_8d4fceaa4b884ee196c5c1fe7df55555%29%3B%0A%20%20%20%20%20%20%20%20%0A%0A%20%20%20%20%20%20%20%20marker_3e598c923cda423ab2533314a3d16ebb.bindPopup%28popup_a47a852207b446c1ae886eb0cb96480e%29%0A%20%20%20%20%20%20%20%20%3B%0A%0A%20%20%20%20%20%20%20%20%0A%20%20%20%20%0A%20%20%20%20%0A%20%20%20%20%20%20%20%20%20%20%20%20var%20marker_2fd1726a9ffd4ffab043951921c246e2%20%3D%20L.marker%28%0A%20%20%20%20%20%20%20%20%20%20%20%20%20%20%20%20%5B30.36692375%2C%2077.84560939%5D%2C%0A%20%20%20%20%20%20%20%20%20%20%20%20%20%20%20%20%7B%7D%0A%20%20%20%20%20%20%20%20%20%20%20%20%29.addTo%28map_2b96f7275e8044b39da349952c70f8ed%29%3B%0A%20%20%20%20%20%20%20%20%0A%20%20%20%20%0A%20%20%20%20%20%20%20%20%20%20%20%20var%20icon_fad55a844a1c4dfaad21c85d836f6d14%20%3D%20L.AwesomeMarkers.icon%28%0A%20%20%20%20%20%20%20%20%20%20%20%20%20%20%20%20%7B%22extraClasses%22%3A%20%22fa-rotate-0%22%2C%20%22icon%22%3A%20%22star%20empty%22%2C%20%22iconColor%22%3A%20%22white%22%2C%20%22markerColor%22%3A%20%22green%22%2C%20%22prefix%22%3A%20%22glyphicon%22%7D%0A%20%20%20%20%20%20%20%20%20%20%20%20%29%3B%0A%20%20%20%20%20%20%20%20%20%20%20%20marker_2fd1726a9ffd4ffab043951921c246e2.setIcon%28icon_fad55a844a1c4dfaad21c85d836f6d14%29%3B%0A%20%20%20%20%20%20%20%20%0A%20%20%20%20%0A%20%20%20%20%20%20%20%20var%20popup_ef4edc2ecfb1441684dff89d36a63bd7%20%3D%20L.popup%28%7B%22maxWidth%22%3A%20%22100%25%22%7D%29%3B%0A%0A%20%20%20%20%20%20%20%20%0A%20%20%20%20%20%20%20%20%20%20%20%20var%20html_2cfac78e26ff4afc84109ba7dc2c50c2%20%3D%20%24%28%60%3Cdiv%20id%3D%22html_2cfac78e26ff4afc84109ba7dc2c50c2%22%20style%3D%22width%3A%20100.0%25%3B%20height%3A%20100.0%25%3B%22%3ETheft%2C%20Other%20Property%2C%20%2450-%24200378.0%3C/div%3E%60%29%5B0%5D%3B%0A%20%20%20%20%20%20%20%20%20%20%20%20popup_ef4edc2ecfb1441684dff89d36a63bd7.setContent%28html_2cfac78e26ff4afc84109ba7dc2c50c2%29%3B%0A%20%20%20%20%20%20%20%20%0A%0A%20%20%20%20%20%20%20%20marker_2fd1726a9ffd4ffab043951921c246e2.bindPopup%28popup_ef4edc2ecfb1441684dff89d36a63bd7%29%0A%20%20%20%20%20%20%20%20%3B%0A%0A%20%20%20%20%20%20%20%20%0A%20%20%20%20%0A%20%20%20%20%0A%20%20%20%20%20%20%20%20%20%20%20%20var%20marker_a98c83ac6d5343eaadb8556e073b54c9%20%3D%20L.marker%28%0A%20%20%20%20%20%20%20%20%20%20%20%20%20%20%20%20%5B30.32083158%2C%2078.04025542%5D%2C%0A%20%20%20%20%20%20%20%20%20%20%20%20%20%20%20%20%7B%7D%0A%20%20%20%20%20%20%20%20%20%20%20%20%29.addTo%28map_2b96f7275e8044b39da349952c70f8ed%29%3B%0A%20%20%20%20%20%20%20%20%0A%20%20%20%20%0A%20%20%20%20%20%20%20%20%20%20%20%20var%20icon_f3623dbf7ffc45eaabb496e3d5e5fa49%20%3D%20L.AwesomeMarkers.icon%28%0A%20%20%20%20%20%20%20%20%20%20%20%20%20%20%20%20%7B%22extraClasses%22%3A%20%22fa-rotate-0%22%2C%20%22icon%22%3A%20%22star%20empty%22%2C%20%22iconColor%22%3A%20%22white%22%2C%20%22markerColor%22%3A%20%22green%22%2C%20%22prefix%22%3A%20%22glyphicon%22%7D%0A%20%20%20%20%20%20%20%20%20%20%20%20%29%3B%0A%20%20%20%20%20%20%20%20%20%20%20%20marker_a98c83ac6d5343eaadb8556e073b54c9.setIcon%28icon_f3623dbf7ffc45eaabb496e3d5e5fa49%29%3B%0A%20%20%20%20%20%20%20%20%0A%20%20%20%20%0A%20%20%20%20%20%20%20%20var%20popup_d8ebfef477c54e51937dad7d1004886a%20%3D%20L.popup%28%7B%22maxWidth%22%3A%20%22100%25%22%7D%29%3B%0A%0A%20%20%20%20%20%20%20%20%0A%20%20%20%20%20%20%20%20%20%20%20%20var%20html_9f2469c0f0634cf986524fc3b5e946ca%20%3D%20%24%28%60%3Cdiv%20id%3D%22html_9f2469c0f0634cf986524fc3b5e946ca%22%20style%3D%22width%3A%20100.0%25%3B%20height%3A%20100.0%25%3B%22%3ETheft%2C%20Other%20Property%2C%20%24200-%24950378.0%3C/div%3E%60%29%5B0%5D%3B%0A%20%20%20%20%20%20%20%20%20%20%20%20popup_d8ebfef477c54e51937dad7d1004886a.setContent%28html_9f2469c0f0634cf986524fc3b5e946ca%29%3B%0A%20%20%20%20%20%20%20%20%0A%0A%20%20%20%20%20%20%20%20marker_a98c83ac6d5343eaadb8556e073b54c9.bindPopup%28popup_d8ebfef477c54e51937dad7d1004886a%29%0A%20%20%20%20%20%20%20%20%3B%0A%0A%20%20%20%20%20%20%20%20%0A%20%20%20%20%0A%20%20%20%20%0A%20%20%20%20%20%20%20%20%20%20%20%20var%20marker_7c2d12d4c9d548a48e27a35ea0a5bd6c%20%3D%20L.marker%28%0A%20%20%20%20%20%20%20%20%20%20%20%20%20%20%20%20%5B30.15438326%2C%2078.77312738%5D%2C%0A%20%20%20%20%20%20%20%20%20%20%20%20%20%20%20%20%7B%7D%0A%20%20%20%20%20%20%20%20%20%20%20%20%29.addTo%28map_2b96f7275e8044b39da349952c70f8ed%29%3B%0A%20%20%20%20%20%20%20%20%0A%20%20%20%20%0A%20%20%20%20%20%20%20%20%20%20%20%20var%20icon_c0c72a6f16c44b44b018b84dc53d7d9d%20%3D%20L.AwesomeMarkers.icon%28%0A%20%20%20%20%20%20%20%20%20%20%20%20%20%20%20%20%7B%22extraClasses%22%3A%20%22fa-rotate-0%22%2C%20%22icon%22%3A%20%22star%20empty%22%2C%20%22iconColor%22%3A%20%22white%22%2C%20%22markerColor%22%3A%20%22green%22%2C%20%22prefix%22%3A%20%22glyphicon%22%7D%0A%20%20%20%20%20%20%20%20%20%20%20%20%29%3B%0A%20%20%20%20%20%20%20%20%20%20%20%20marker_7c2d12d4c9d548a48e27a35ea0a5bd6c.setIcon%28icon_c0c72a6f16c44b44b018b84dc53d7d9d%29%3B%0A%20%20%20%20%20%20%20%20%0A%20%20%20%20%0A%20%20%20%20%20%20%20%20var%20popup_6c4f2470dfbd415cb7be2ea412ccbaa0%20%3D%20L.popup%28%7B%22maxWidth%22%3A%20%22100%25%22%7D%29%3B%0A%0A%20%20%20%20%20%20%20%20%0A%20%20%20%20%20%20%20%20%20%20%20%20var%20html_853690666efb45fb8c0356dc88cea9f6%20%3D%20%24%28%60%3Cdiv%20id%3D%22html_853690666efb45fb8c0356dc88cea9f6%22%20style%3D%22width%3A%20100.0%25%3B%20height%3A%20100.0%25%3B%22%3ELost%20Property425.0%3C/div%3E%60%29%5B0%5D%3B%0A%20%20%20%20%20%20%20%20%20%20%20%20popup_6c4f2470dfbd415cb7be2ea412ccbaa0.setContent%28html_853690666efb45fb8c0356dc88cea9f6%29%3B%0A%20%20%20%20%20%20%20%20%0A%0A%20%20%20%20%20%20%20%20marker_7c2d12d4c9d548a48e27a35ea0a5bd6c.bindPopup%28popup_6c4f2470dfbd415cb7be2ea412ccbaa0%29%0A%20%20%20%20%20%20%20%20%3B%0A%0A%20%20%20%20%20%20%20%20%0A%20%20%20%20%0A%20%20%20%20%0A%20%20%20%20%20%20%20%20%20%20%20%20var%20marker_1edd4e2a7ade44f09062b2f7c1025b98%20%3D%20L.marker%28%0A%20%20%20%20%20%20%20%20%20%20%20%20%20%20%20%20%5B30.22421721%2C%2078.7900388%5D%2C%0A%20%20%20%20%20%20%20%20%20%20%20%20%20%20%20%20%7B%7D%0A%20%20%20%20%20%20%20%20%20%20%20%20%29.addTo%28map_2b96f7275e8044b39da349952c70f8ed%29%3B%0A%20%20%20%20%20%20%20%20%0A%20%20%20%20%0A%20%20%20%20%20%20%20%20%20%20%20%20var%20icon_dbc908534201488393a49d734021fca2%20%3D%20L.AwesomeMarkers.icon%28%0A%20%20%20%20%20%20%20%20%20%20%20%20%20%20%20%20%7B%22extraClasses%22%3A%20%22fa-rotate-0%22%2C%20%22icon%22%3A%20%22star%20empty%22%2C%20%22iconColor%22%3A%20%22white%22%2C%20%22markerColor%22%3A%20%22green%22%2C%20%22prefix%22%3A%20%22glyphicon%22%7D%0A%20%20%20%20%20%20%20%20%20%20%20%20%29%3B%0A%20%20%20%20%20%20%20%20%20%20%20%20marker_1edd4e2a7ade44f09062b2f7c1025b98.setIcon%28icon_dbc908534201488393a49d734021fca2%29%3B%0A%20%20%20%20%20%20%20%20%0A%20%20%20%20%0A%20%20%20%20%20%20%20%20var%20popup_65db5a4e1aad4b3f953de4b0e234b686%20%3D%20L.popup%28%7B%22maxWidth%22%3A%20%22100%25%22%7D%29%3B%0A%0A%20%20%20%20%20%20%20%20%0A%20%20%20%20%20%20%20%20%20%20%20%20var%20html_5788bde782a140d59b93dcbf9b70d293%20%3D%20%24%28%60%3Cdiv%20id%3D%22html_5788bde782a140d59b93dcbf9b70d293%22%20style%3D%22width%3A%20100.0%25%3B%20height%3A%20100.0%25%3B%22%3EBattery351.0%3C/div%3E%60%29%5B0%5D%3B%0A%20%20%20%20%20%20%20%20%20%20%20%20popup_65db5a4e1aad4b3f953de4b0e234b686.setContent%28html_5788bde782a140d59b93dcbf9b70d293%29%3B%0A%20%20%20%20%20%20%20%20%0A%0A%20%20%20%20%20%20%20%20marker_1edd4e2a7ade44f09062b2f7c1025b98.bindPopup%28popup_65db5a4e1aad4b3f953de4b0e234b686%29%0A%20%20%20%20%20%20%20%20%3B%0A%0A%20%20%20%20%20%20%20%20%0A%20%20%20%20%0A%20%20%20%20%0A%20%20%20%20%20%20%20%20%20%20%20%20var%20marker_4b22f59b672f40c689b29712a2556946%20%3D%20L.marker%28%0A%20%20%20%20%20%20%20%20%20%20%20%20%20%20%20%20%5B30.49883671%2C%2077.80530353%5D%2C%0A%20%20%20%20%20%20%20%20%20%20%20%20%20%20%20%20%7B%7D%0A%20%20%20%20%20%20%20%20%20%20%20%20%29.addTo%28map_2b96f7275e8044b39da349952c70f8ed%29%3B%0A%20%20%20%20%20%20%20%20%0A%20%20%20%20%0A%20%20%20%20%20%20%20%20%20%20%20%20var%20icon_e0488f9d5de3408492f0961df3a2c21f%20%3D%20L.AwesomeMarkers.icon%28%0A%20%20%20%20%20%20%20%20%20%20%20%20%20%20%20%20%7B%22extraClasses%22%3A%20%22fa-rotate-0%22%2C%20%22icon%22%3A%20%22star%20empty%22%2C%20%22iconColor%22%3A%20%22white%22%2C%20%22markerColor%22%3A%20%22green%22%2C%20%22prefix%22%3A%20%22glyphicon%22%7D%0A%20%20%20%20%20%20%20%20%20%20%20%20%29%3B%0A%20%20%20%20%20%20%20%20%20%20%20%20marker_4b22f59b672f40c689b29712a2556946.setIcon%28icon_e0488f9d5de3408492f0961df3a2c21f%29%3B%0A%20%20%20%20%20%20%20%20%0A%20%20%20%20%0A%20%20%20%20%20%20%20%20var%20popup_cb53765a565542029e9901dc11507b08%20%3D%20L.popup%28%7B%22maxWidth%22%3A%20%22100%25%22%7D%29%3B%0A%0A%20%20%20%20%20%20%20%20%0A%20%20%20%20%20%20%20%20%20%20%20%20var%20html_6ee80793055749469ad1f47210ffbd98%20%3D%20%24%28%60%3Cdiv%20id%3D%22html_6ee80793055749469ad1f47210ffbd98%22%20style%3D%22width%3A%20100.0%25%3B%20height%3A%20100.0%25%3B%22%3EBattery351.0%3C/div%3E%60%29%5B0%5D%3B%0A%20%20%20%20%20%20%20%20%20%20%20%20popup_cb53765a565542029e9901dc11507b08.setContent%28html_6ee80793055749469ad1f47210ffbd98%29%3B%0A%20%20%20%20%20%20%20%20%0A%0A%20%20%20%20%20%20%20%20marker_4b22f59b672f40c689b29712a2556946.bindPopup%28popup_cb53765a565542029e9901dc11507b08%29%0A%20%20%20%20%20%20%20%20%3B%0A%0A%20%20%20%20%20%20%20%20%0A%20%20%20%20%0A%3C/script%3E onload=\"this.contentDocument.open();this.contentDocument.write(    decodeURIComponent(this.getAttribute('data-html')));this.contentDocument.close();\" allowfullscreen webkitallowfullscreen mozallowfullscreen></iframe></div></div>"
      ],
      "text/plain": [
       "<folium.folium.Map at 0x1cd573836d0>"
      ]
     },
     "execution_count": 28,
     "metadata": {},
     "output_type": "execute_result"
    }
   ],
   "source": [
    "ut_map_lc"
   ]
  },
  {
   "cell_type": "code",
   "execution_count": 29,
   "id": "1c93d32a",
   "metadata": {},
   "outputs": [
    {
     "data": {
      "text/html": [
       "<div style=\"width:100%;\"><div style=\"position:relative;width:100%;height:0;padding-bottom:60%;\"><span style=\"color:#565656\">Make this Notebook Trusted to load map: File -> Trust Notebook</span><iframe src=\"about:blank\" style=\"position:absolute;width:100%;height:100%;left:0;top:0;border:none !important;\" data-html=%3C%21DOCTYPE%20html%3E%0A%3Chead%3E%20%20%20%20%0A%20%20%20%20%3Cmeta%20http-equiv%3D%22content-type%22%20content%3D%22text/html%3B%20charset%3DUTF-8%22%20/%3E%0A%20%20%20%20%0A%20%20%20%20%20%20%20%20%3Cscript%3E%0A%20%20%20%20%20%20%20%20%20%20%20%20L_NO_TOUCH%20%3D%20false%3B%0A%20%20%20%20%20%20%20%20%20%20%20%20L_DISABLE_3D%20%3D%20false%3B%0A%20%20%20%20%20%20%20%20%3C/script%3E%0A%20%20%20%20%0A%20%20%20%20%3Cstyle%3Ehtml%2C%20body%20%7Bwidth%3A%20100%25%3Bheight%3A%20100%25%3Bmargin%3A%200%3Bpadding%3A%200%3B%7D%3C/style%3E%0A%20%20%20%20%3Cstyle%3E%23map%20%7Bposition%3Aabsolute%3Btop%3A0%3Bbottom%3A0%3Bright%3A0%3Bleft%3A0%3B%7D%3C/style%3E%0A%20%20%20%20%3Cscript%20src%3D%22https%3A//cdn.jsdelivr.net/npm/leaflet%401.6.0/dist/leaflet.js%22%3E%3C/script%3E%0A%20%20%20%20%3Cscript%20src%3D%22https%3A//code.jquery.com/jquery-1.12.4.min.js%22%3E%3C/script%3E%0A%20%20%20%20%3Cscript%20src%3D%22https%3A//maxcdn.bootstrapcdn.com/bootstrap/3.2.0/js/bootstrap.min.js%22%3E%3C/script%3E%0A%20%20%20%20%3Cscript%20src%3D%22https%3A//cdnjs.cloudflare.com/ajax/libs/Leaflet.awesome-markers/2.0.2/leaflet.awesome-markers.js%22%3E%3C/script%3E%0A%20%20%20%20%3Clink%20rel%3D%22stylesheet%22%20href%3D%22https%3A//cdn.jsdelivr.net/npm/leaflet%401.6.0/dist/leaflet.css%22/%3E%0A%20%20%20%20%3Clink%20rel%3D%22stylesheet%22%20href%3D%22https%3A//maxcdn.bootstrapcdn.com/bootstrap/3.2.0/css/bootstrap.min.css%22/%3E%0A%20%20%20%20%3Clink%20rel%3D%22stylesheet%22%20href%3D%22https%3A//maxcdn.bootstrapcdn.com/bootstrap/3.2.0/css/bootstrap-theme.min.css%22/%3E%0A%20%20%20%20%3Clink%20rel%3D%22stylesheet%22%20href%3D%22https%3A//maxcdn.bootstrapcdn.com/font-awesome/4.6.3/css/font-awesome.min.css%22/%3E%0A%20%20%20%20%3Clink%20rel%3D%22stylesheet%22%20href%3D%22https%3A//cdnjs.cloudflare.com/ajax/libs/Leaflet.awesome-markers/2.0.2/leaflet.awesome-markers.css%22/%3E%0A%20%20%20%20%3Clink%20rel%3D%22stylesheet%22%20href%3D%22https%3A//cdn.jsdelivr.net/gh/python-visualization/folium/folium/templates/leaflet.awesome.rotate.min.css%22/%3E%0A%20%20%20%20%0A%20%20%20%20%20%20%20%20%20%20%20%20%3Cmeta%20name%3D%22viewport%22%20content%3D%22width%3Ddevice-width%2C%0A%20%20%20%20%20%20%20%20%20%20%20%20%20%20%20%20initial-scale%3D1.0%2C%20maximum-scale%3D1.0%2C%20user-scalable%3Dno%22%20/%3E%0A%20%20%20%20%20%20%20%20%20%20%20%20%3Cstyle%3E%0A%20%20%20%20%20%20%20%20%20%20%20%20%20%20%20%20%23map_2b96f7275e8044b39da349952c70f8ed%20%7B%0A%20%20%20%20%20%20%20%20%20%20%20%20%20%20%20%20%20%20%20%20position%3A%20relative%3B%0A%20%20%20%20%20%20%20%20%20%20%20%20%20%20%20%20%20%20%20%20width%3A%20100.0%25%3B%0A%20%20%20%20%20%20%20%20%20%20%20%20%20%20%20%20%20%20%20%20height%3A%20100.0%25%3B%0A%20%20%20%20%20%20%20%20%20%20%20%20%20%20%20%20%20%20%20%20left%3A%200.0%25%3B%0A%20%20%20%20%20%20%20%20%20%20%20%20%20%20%20%20%20%20%20%20top%3A%200.0%25%3B%0A%20%20%20%20%20%20%20%20%20%20%20%20%20%20%20%20%7D%0A%20%20%20%20%20%20%20%20%20%20%20%20%3C/style%3E%0A%20%20%20%20%20%20%20%20%0A%3C/head%3E%0A%3Cbody%3E%20%20%20%20%0A%20%20%20%20%0A%20%20%20%20%20%20%20%20%20%20%20%20%3Cdiv%20class%3D%22folium-map%22%20id%3D%22map_2b96f7275e8044b39da349952c70f8ed%22%20%3E%3C/div%3E%0A%20%20%20%20%20%20%20%20%0A%20%20%20%20%0A%3Cdiv%20style%3D%22position%3A%20fixed%3B%20%0A%20%20%20%20%20top%3A%2020px%3B%20right%3A%2020px%3B%20width%3A%20180px%3B%20height%3A%20250px%3B%20%0A%20%20%20%20%20background-color%3Agrey%3B%20border%3A2px%20solid%20grey%3Bz-index%3A%20900%3B%22%3E%0A%20%20%20%20%3Cform%3E%0A%20%20%20%20%3Cdiv%20class%3D%22form-group%22%3E%0A%20%20%20%20%3Clabel%20for%3D%22exampleFormControlSelect1%22%3EDocument%20Select%3C/label%3E%0A%20%20%20%20%3Cselect%20class%3D%22form-control%22%20id%3D%22exampleFormControlSelect1%22%3E%0A%20%20%20%20%20%20%3Coption%3EPhone%20Number%3C/option%3E%0A%20%20%20%20%20%20%3Coption%3EPassport%20Number%3C/option%3E%0A%20%20%20%20%20%20%3Coption%3EAadhar%20Number%3C/option%3E%0A%20%20%20%20%20%20%3Coption%3EDriving%20License%3C/option%3E%0A%20%20%20%20%20%20%3Coption%3EPAN%20Number%3C/option%3E%0A%20%20%20%20%3C/select%3E%0A%20%20%3C/div%3E%0A%20%20%3Cdiv%20class%3D%22form-group%22%3E%0A%20%20%20%20%3Clabel%20for%3D%22exampleFormControlInput1%22%3EUnique_ID_Number%3C/label%3E%0A%20%20%20%20%3Cinput%20type%3D%22email%22%20class%3D%22form-control%22%20id%3D%22exampleFormControlInput1%22%20placeholder%3D%22Enter%20the%20Phone%20Number%22%3E%0A%20%20%3C/div%3E%0A%20%20%3Cbutton%20type%3D%22button%22%20class%3D%22btn%20btn-info%22%3EEnter%3C/button%3E%0A%3C/div%3E%0A%3C/body%3E%0A%3Cscript%3E%20%20%20%20%0A%20%20%20%20%0A%20%20%20%20%20%20%20%20%20%20%20%20var%20map_2b96f7275e8044b39da349952c70f8ed%20%3D%20L.map%28%0A%20%20%20%20%20%20%20%20%20%20%20%20%20%20%20%20%22map_2b96f7275e8044b39da349952c70f8ed%22%2C%0A%20%20%20%20%20%20%20%20%20%20%20%20%20%20%20%20%7B%0A%20%20%20%20%20%20%20%20%20%20%20%20%20%20%20%20%20%20%20%20center%3A%20%5B30.316496%2C%2078.032188%5D%2C%0A%20%20%20%20%20%20%20%20%20%20%20%20%20%20%20%20%20%20%20%20crs%3A%20L.CRS.EPSG3857%2C%0A%20%20%20%20%20%20%20%20%20%20%20%20%20%20%20%20%20%20%20%20zoom%3A%2011%2C%0A%20%20%20%20%20%20%20%20%20%20%20%20%20%20%20%20%20%20%20%20zoomControl%3A%20true%2C%0A%20%20%20%20%20%20%20%20%20%20%20%20%20%20%20%20%20%20%20%20preferCanvas%3A%20false%2C%0A%20%20%20%20%20%20%20%20%20%20%20%20%20%20%20%20%7D%0A%20%20%20%20%20%20%20%20%20%20%20%20%29%3B%0A%20%20%20%20%20%20%20%20%20%20%20%20L.control.scale%28%29.addTo%28map_2b96f7275e8044b39da349952c70f8ed%29%3B%0A%0A%20%20%20%20%20%20%20%20%20%20%20%20%0A%0A%20%20%20%20%20%20%20%20%0A%20%20%20%20%0A%20%20%20%20%20%20%20%20%20%20%20%20var%20tile_layer_ab141317dfcc4908bb9808e49618b198%20%3D%20L.tileLayer%28%0A%20%20%20%20%20%20%20%20%20%20%20%20%20%20%20%20%22https%3A//%7Bs%7D.tile.openstreetmap.org/%7Bz%7D/%7Bx%7D/%7By%7D.png%22%2C%0A%20%20%20%20%20%20%20%20%20%20%20%20%20%20%20%20%7B%22attribution%22%3A%20%22Data%20by%20%5Cu0026copy%3B%20%5Cu003ca%20href%3D%5C%22http%3A//openstreetmap.org%5C%22%5Cu003eOpenStreetMap%5Cu003c/a%5Cu003e%2C%20under%20%5Cu003ca%20href%3D%5C%22http%3A//www.openstreetmap.org/copyright%5C%22%5Cu003eODbL%5Cu003c/a%5Cu003e.%22%2C%20%22detectRetina%22%3A%20false%2C%20%22maxNativeZoom%22%3A%2018%2C%20%22maxZoom%22%3A%2018%2C%20%22minZoom%22%3A%200%2C%20%22noWrap%22%3A%20false%2C%20%22opacity%22%3A%201%2C%20%22subdomains%22%3A%20%22abc%22%2C%20%22tms%22%3A%20false%7D%0A%20%20%20%20%20%20%20%20%20%20%20%20%29.addTo%28map_2b96f7275e8044b39da349952c70f8ed%29%3B%0A%20%20%20%20%20%20%20%20%0A%20%20%20%20%0A%20%20%20%20%20%20%20%20%20%20%20%20var%20marker_fc5e90a84adc4cf7a68b2e02f0047607%20%3D%20L.marker%28%0A%20%20%20%20%20%20%20%20%20%20%20%20%20%20%20%20%5B30.32557323%2C%2078.03613555%5D%2C%0A%20%20%20%20%20%20%20%20%20%20%20%20%20%20%20%20%7B%7D%0A%20%20%20%20%20%20%20%20%20%20%20%20%29.addTo%28map_2b96f7275e8044b39da349952c70f8ed%29%3B%0A%20%20%20%20%20%20%20%20%0A%20%20%20%20%0A%20%20%20%20%20%20%20%20%20%20%20%20var%20icon_1987f22ea8c24b6dab1d43a1269cce8f%20%3D%20L.AwesomeMarkers.icon%28%0A%20%20%20%20%20%20%20%20%20%20%20%20%20%20%20%20%7B%22extraClasses%22%3A%20%22fa-rotate-0%22%2C%20%22icon%22%3A%20%22star%20empty%22%2C%20%22iconColor%22%3A%20%22white%22%2C%20%22markerColor%22%3A%20%22green%22%2C%20%22prefix%22%3A%20%22glyphicon%22%7D%0A%20%20%20%20%20%20%20%20%20%20%20%20%29%3B%0A%20%20%20%20%20%20%20%20%20%20%20%20marker_fc5e90a84adc4cf7a68b2e02f0047607.setIcon%28icon_1987f22ea8c24b6dab1d43a1269cce8f%29%3B%0A%20%20%20%20%20%20%20%20%0A%20%20%20%20%0A%20%20%20%20%20%20%20%20var%20popup_9a8cf9bc222c44f38a571665bd807d6b%20%3D%20L.popup%28%7B%22maxWidth%22%3A%20%22100%25%22%7D%29%3B%0A%0A%20%20%20%20%20%20%20%20%0A%20%20%20%20%20%20%20%20%20%20%20%20var%20html_9b41648615274a8dbea28a940c46e811%20%3D%20%24%28%60%3Cdiv%20id%3D%22html_9b41648615274a8dbea28a940c46e811%22%20style%3D%22width%3A%20100.0%25%3B%20height%3A%20100.0%25%3B%22%3ETheft%2C%20Other%20Property%2C%20%2450-%24200378.0%3C/div%3E%60%29%5B0%5D%3B%0A%20%20%20%20%20%20%20%20%20%20%20%20popup_9a8cf9bc222c44f38a571665bd807d6b.setContent%28html_9b41648615274a8dbea28a940c46e811%29%3B%0A%20%20%20%20%20%20%20%20%0A%0A%20%20%20%20%20%20%20%20marker_fc5e90a84adc4cf7a68b2e02f0047607.bindPopup%28popup_9a8cf9bc222c44f38a571665bd807d6b%29%0A%20%20%20%20%20%20%20%20%3B%0A%0A%20%20%20%20%20%20%20%20%0A%20%20%20%20%0A%20%20%20%20%0A%20%20%20%20%20%20%20%20%20%20%20%20var%20marker_c6c8701154a244e2a7b2311a535321a3%20%3D%20L.marker%28%0A%20%20%20%20%20%20%20%20%20%20%20%20%20%20%20%20%5B30.33031465%2C%2078.08729064%5D%2C%0A%20%20%20%20%20%20%20%20%20%20%20%20%20%20%20%20%7B%7D%0A%20%20%20%20%20%20%20%20%20%20%20%20%29.addTo%28map_2b96f7275e8044b39da349952c70f8ed%29%3B%0A%20%20%20%20%20%20%20%20%0A%20%20%20%20%0A%20%20%20%20%20%20%20%20%20%20%20%20var%20icon_38389c2d589c45d1ae429979792bfad8%20%3D%20L.AwesomeMarkers.icon%28%0A%20%20%20%20%20%20%20%20%20%20%20%20%20%20%20%20%7B%22extraClasses%22%3A%20%22fa-rotate-0%22%2C%20%22icon%22%3A%20%22star%20empty%22%2C%20%22iconColor%22%3A%20%22white%22%2C%20%22markerColor%22%3A%20%22green%22%2C%20%22prefix%22%3A%20%22glyphicon%22%7D%0A%20%20%20%20%20%20%20%20%20%20%20%20%29%3B%0A%20%20%20%20%20%20%20%20%20%20%20%20marker_c6c8701154a244e2a7b2311a535321a3.setIcon%28icon_38389c2d589c45d1ae429979792bfad8%29%3B%0A%20%20%20%20%20%20%20%20%0A%20%20%20%20%0A%20%20%20%20%20%20%20%20var%20popup_b30c8f78ed96459b9c7f49931cccdf2f%20%3D%20L.popup%28%7B%22maxWidth%22%3A%20%22100%25%22%7D%29%3B%0A%0A%20%20%20%20%20%20%20%20%0A%20%20%20%20%20%20%20%20%20%20%20%20var%20html_0701ce75f4704d96a37328d02f56ce1f%20%3D%20%24%28%60%3Cdiv%20id%3D%22html_0701ce75f4704d96a37328d02f56ce1f%22%20style%3D%22width%3A%20100.0%25%3B%20height%3A%20100.0%25%3B%22%3ETheft%2C%20From%20Unlocked%20Vehicle%2C%20%3E%24950378.0%3C/div%3E%60%29%5B0%5D%3B%0A%20%20%20%20%20%20%20%20%20%20%20%20popup_b30c8f78ed96459b9c7f49931cccdf2f.setContent%28html_0701ce75f4704d96a37328d02f56ce1f%29%3B%0A%20%20%20%20%20%20%20%20%0A%0A%20%20%20%20%20%20%20%20marker_c6c8701154a244e2a7b2311a535321a3.bindPopup%28popup_b30c8f78ed96459b9c7f49931cccdf2f%29%0A%20%20%20%20%20%20%20%20%3B%0A%0A%20%20%20%20%20%20%20%20%0A%20%20%20%20%0A%20%20%20%20%0A%20%20%20%20%20%20%20%20%20%20%20%20var%20marker_2546ff22394248908719cbf3466f1be0%20%3D%20L.marker%28%0A%20%20%20%20%20%20%20%20%20%20%20%20%20%20%20%20%5B30.45938256%2C%2078.0737483%5D%2C%0A%20%20%20%20%20%20%20%20%20%20%20%20%20%20%20%20%7B%7D%0A%20%20%20%20%20%20%20%20%20%20%20%20%29.addTo%28map_2b96f7275e8044b39da349952c70f8ed%29%3B%0A%20%20%20%20%20%20%20%20%0A%20%20%20%20%0A%20%20%20%20%20%20%20%20%20%20%20%20var%20icon_49c5859a8abd4b1b91204b5396752909%20%3D%20L.AwesomeMarkers.icon%28%0A%20%20%20%20%20%20%20%20%20%20%20%20%20%20%20%20%7B%22extraClasses%22%3A%20%22fa-rotate-0%22%2C%20%22icon%22%3A%20%22star%20empty%22%2C%20%22iconColor%22%3A%20%22white%22%2C%20%22markerColor%22%3A%20%22green%22%2C%20%22prefix%22%3A%20%22glyphicon%22%7D%0A%20%20%20%20%20%20%20%20%20%20%20%20%29%3B%0A%20%20%20%20%20%20%20%20%20%20%20%20marker_2546ff22394248908719cbf3466f1be0.setIcon%28icon_49c5859a8abd4b1b91204b5396752909%29%3B%0A%20%20%20%20%20%20%20%20%0A%20%20%20%20%0A%20%20%20%20%20%20%20%20var%20popup_e6d84f6159024c67878df3297a095d18%20%3D%20L.popup%28%7B%22maxWidth%22%3A%20%22100%25%22%7D%29%3B%0A%0A%20%20%20%20%20%20%20%20%0A%20%20%20%20%20%20%20%20%20%20%20%20var%20html_1049d86caa6e46e69e30df404225d83a%20%3D%20%24%28%60%3Cdiv%20id%3D%22html_1049d86caa6e46e69e30df404225d83a%22%20style%3D%22width%3A%20100.0%25%3B%20height%3A%20100.0%25%3B%22%3ETheft%2C%20From%20Person%2C%20%3E%24950%20%28other%20than%20Pickpocket%29378.0%3C/div%3E%60%29%5B0%5D%3B%0A%20%20%20%20%20%20%20%20%20%20%20%20popup_e6d84f6159024c67878df3297a095d18.setContent%28html_1049d86caa6e46e69e30df404225d83a%29%3B%0A%20%20%20%20%20%20%20%20%0A%0A%20%20%20%20%20%20%20%20marker_2546ff22394248908719cbf3466f1be0.bindPopup%28popup_e6d84f6159024c67878df3297a095d18%29%0A%20%20%20%20%20%20%20%20%3B%0A%0A%20%20%20%20%20%20%20%20%0A%20%20%20%20%0A%20%20%20%20%0A%20%20%20%20%20%20%20%20%20%20%20%20var%20marker_ec54ac966f3f40ada8986792d1505357%20%3D%20L.marker%28%0A%20%20%20%20%20%20%20%20%20%20%20%20%20%20%20%20%5B30.47883671%2C%2077.79530353%5D%2C%0A%20%20%20%20%20%20%20%20%20%20%20%20%20%20%20%20%7B%7D%0A%20%20%20%20%20%20%20%20%20%20%20%20%29.addTo%28map_2b96f7275e8044b39da349952c70f8ed%29%3B%0A%20%20%20%20%20%20%20%20%0A%20%20%20%20%0A%20%20%20%20%20%20%20%20%20%20%20%20var%20icon_069be69d95e74735848f8ad48ff554cf%20%3D%20L.AwesomeMarkers.icon%28%0A%20%20%20%20%20%20%20%20%20%20%20%20%20%20%20%20%7B%22extraClasses%22%3A%20%22fa-rotate-0%22%2C%20%22icon%22%3A%20%22star%20empty%22%2C%20%22iconColor%22%3A%20%22white%22%2C%20%22markerColor%22%3A%20%22green%22%2C%20%22prefix%22%3A%20%22glyphicon%22%7D%0A%20%20%20%20%20%20%20%20%20%20%20%20%29%3B%0A%20%20%20%20%20%20%20%20%20%20%20%20marker_ec54ac966f3f40ada8986792d1505357.setIcon%28icon_069be69d95e74735848f8ad48ff554cf%29%3B%0A%20%20%20%20%20%20%20%20%0A%20%20%20%20%0A%20%20%20%20%20%20%20%20var%20popup_31915a4d987f4bb68a7418a120cd0a20%20%3D%20L.popup%28%7B%22maxWidth%22%3A%20%22100%25%22%7D%29%3B%0A%0A%20%20%20%20%20%20%20%20%0A%20%20%20%20%20%20%20%20%20%20%20%20var%20html_0e0b886d5ab5417aa4929a69c8f9da7e%20%3D%20%24%28%60%3Cdiv%20id%3D%22html_0e0b886d5ab5417aa4929a69c8f9da7e%22%20style%3D%22width%3A%20100.0%25%3B%20height%3A%20100.0%25%3B%22%3ETheft%2C%20Other%20Property%2C%20%3E%24950378.0%3C/div%3E%60%29%5B0%5D%3B%0A%20%20%20%20%20%20%20%20%20%20%20%20popup_31915a4d987f4bb68a7418a120cd0a20.setContent%28html_0e0b886d5ab5417aa4929a69c8f9da7e%29%3B%0A%20%20%20%20%20%20%20%20%0A%0A%20%20%20%20%20%20%20%20marker_ec54ac966f3f40ada8986792d1505357.bindPopup%28popup_31915a4d987f4bb68a7418a120cd0a20%29%0A%20%20%20%20%20%20%20%20%3B%0A%0A%20%20%20%20%20%20%20%20%0A%20%20%20%20%0A%20%20%20%20%0A%20%20%20%20%20%20%20%20%20%20%20%20var%20marker_45525e69f48d424e8a1b5a66fbd08e2b%20%3D%20L.marker%28%0A%20%20%20%20%20%20%20%20%20%20%20%20%20%20%20%20%5B30.18001883%2C%2078.12479473%5D%2C%0A%20%20%20%20%20%20%20%20%20%20%20%20%20%20%20%20%7B%7D%0A%20%20%20%20%20%20%20%20%20%20%20%20%29.addTo%28map_2b96f7275e8044b39da349952c70f8ed%29%3B%0A%20%20%20%20%20%20%20%20%0A%20%20%20%20%0A%20%20%20%20%20%20%20%20%20%20%20%20var%20icon_f9bd5aa0c4b845efadf7fad1dcdcc5ff%20%3D%20L.AwesomeMarkers.icon%28%0A%20%20%20%20%20%20%20%20%20%20%20%20%20%20%20%20%7B%22extraClasses%22%3A%20%22fa-rotate-0%22%2C%20%22icon%22%3A%20%22star%20empty%22%2C%20%22iconColor%22%3A%20%22white%22%2C%20%22markerColor%22%3A%20%22green%22%2C%20%22prefix%22%3A%20%22glyphicon%22%7D%0A%20%20%20%20%20%20%20%20%20%20%20%20%29%3B%0A%20%20%20%20%20%20%20%20%20%20%20%20marker_45525e69f48d424e8a1b5a66fbd08e2b.setIcon%28icon_f9bd5aa0c4b845efadf7fad1dcdcc5ff%29%3B%0A%20%20%20%20%20%20%20%20%0A%20%20%20%20%0A%20%20%20%20%20%20%20%20var%20popup_d5df05a2700e4a30b16d0e8563958c31%20%3D%20L.popup%28%7B%22maxWidth%22%3A%20%22100%25%22%7D%29%3B%0A%0A%20%20%20%20%20%20%20%20%0A%20%20%20%20%20%20%20%20%20%20%20%20var%20html_92cb24a8924f42edb0765f37e06ec7de%20%3D%20%24%28%60%3Cdiv%20id%3D%22html_92cb24a8924f42edb0765f37e06ec7de%22%20style%3D%22width%3A%20100.0%25%3B%20height%3A%20100.0%25%3B%22%3EBattery351.0%3C/div%3E%60%29%5B0%5D%3B%0A%20%20%20%20%20%20%20%20%20%20%20%20popup_d5df05a2700e4a30b16d0e8563958c31.setContent%28html_92cb24a8924f42edb0765f37e06ec7de%29%3B%0A%20%20%20%20%20%20%20%20%0A%0A%20%20%20%20%20%20%20%20marker_45525e69f48d424e8a1b5a66fbd08e2b.bindPopup%28popup_d5df05a2700e4a30b16d0e8563958c31%29%0A%20%20%20%20%20%20%20%20%3B%0A%0A%20%20%20%20%20%20%20%20%0A%20%20%20%20%0A%20%20%20%20%0A%20%20%20%20%20%20%20%20%20%20%20%20var%20marker_465da5ed46514e4198ee1f250bc1c05a%20%3D%20L.marker%28%0A%20%20%20%20%20%20%20%20%20%20%20%20%20%20%20%20%5B30.2930492%2C%2078.01786337%5D%2C%0A%20%20%20%20%20%20%20%20%20%20%20%20%20%20%20%20%7B%7D%0A%20%20%20%20%20%20%20%20%20%20%20%20%29.addTo%28map_2b96f7275e8044b39da349952c70f8ed%29%3B%0A%20%20%20%20%20%20%20%20%0A%20%20%20%20%0A%20%20%20%20%20%20%20%20%20%20%20%20var%20icon_3fc0b818bdfa41b78d8bfd775736bd28%20%3D%20L.AwesomeMarkers.icon%28%0A%20%20%20%20%20%20%20%20%20%20%20%20%20%20%20%20%7B%22extraClasses%22%3A%20%22fa-rotate-0%22%2C%20%22icon%22%3A%20%22star%20empty%22%2C%20%22iconColor%22%3A%20%22white%22%2C%20%22markerColor%22%3A%20%22green%22%2C%20%22prefix%22%3A%20%22glyphicon%22%7D%0A%20%20%20%20%20%20%20%20%20%20%20%20%29%3B%0A%20%20%20%20%20%20%20%20%20%20%20%20marker_465da5ed46514e4198ee1f250bc1c05a.setIcon%28icon_3fc0b818bdfa41b78d8bfd775736bd28%29%3B%0A%20%20%20%20%20%20%20%20%0A%20%20%20%20%0A%20%20%20%20%20%20%20%20var%20popup_d9a0ce1dc2fd44bdad40dccf40a7a72b%20%3D%20L.popup%28%7B%22maxWidth%22%3A%20%22100%25%22%7D%29%3B%0A%0A%20%20%20%20%20%20%20%20%0A%20%20%20%20%20%20%20%20%20%20%20%20var%20html_26f5cbdea6da4349b9fbbbdcdd70eea9%20%3D%20%24%28%60%3Cdiv%20id%3D%22html_26f5cbdea6da4349b9fbbbdcdd70eea9%22%20style%3D%22width%3A%20100.0%25%3B%20height%3A%20100.0%25%3B%22%3EFound%20Person359.0%3C/div%3E%60%29%5B0%5D%3B%0A%20%20%20%20%20%20%20%20%20%20%20%20popup_d9a0ce1dc2fd44bdad40dccf40a7a72b.setContent%28html_26f5cbdea6da4349b9fbbbdcdd70eea9%29%3B%0A%20%20%20%20%20%20%20%20%0A%0A%20%20%20%20%20%20%20%20marker_465da5ed46514e4198ee1f250bc1c05a.bindPopup%28popup_d9a0ce1dc2fd44bdad40dccf40a7a72b%29%0A%20%20%20%20%20%20%20%20%3B%0A%0A%20%20%20%20%20%20%20%20%0A%20%20%20%20%0A%20%20%20%20%0A%20%20%20%20%20%20%20%20%20%20%20%20var%20marker_ebc4aa6c28604f3e99e9be1542740c8b%20%3D%20L.marker%28%0A%20%20%20%20%20%20%20%20%20%20%20%20%20%20%20%20%5B30.31937279%2C%2077.99168358%5D%2C%0A%20%20%20%20%20%20%20%20%20%20%20%20%20%20%20%20%7B%7D%0A%20%20%20%20%20%20%20%20%20%20%20%20%29.addTo%28map_2b96f7275e8044b39da349952c70f8ed%29%3B%0A%20%20%20%20%20%20%20%20%0A%20%20%20%20%0A%20%20%20%20%20%20%20%20%20%20%20%20var%20icon_81acbc2d936a41f594f1a4ac89294f2a%20%3D%20L.AwesomeMarkers.icon%28%0A%20%20%20%20%20%20%20%20%20%20%20%20%20%20%20%20%7B%22extraClasses%22%3A%20%22fa-rotate-0%22%2C%20%22icon%22%3A%20%22star%20empty%22%2C%20%22iconColor%22%3A%20%22white%22%2C%20%22markerColor%22%3A%20%22green%22%2C%20%22prefix%22%3A%20%22glyphicon%22%7D%0A%20%20%20%20%20%20%20%20%20%20%20%20%29%3B%0A%20%20%20%20%20%20%20%20%20%20%20%20marker_ebc4aa6c28604f3e99e9be1542740c8b.setIcon%28icon_81acbc2d936a41f594f1a4ac89294f2a%29%3B%0A%20%20%20%20%20%20%20%20%0A%20%20%20%20%0A%20%20%20%20%20%20%20%20var%20popup_06571276e46f4b1dbbcdd67fe93797f3%20%3D%20L.popup%28%7B%22maxWidth%22%3A%20%22100%25%22%7D%29%3B%0A%0A%20%20%20%20%20%20%20%20%0A%20%20%20%20%20%20%20%20%20%20%20%20var%20html_31a951cc9c3945c9a5fd060a6b81f23c%20%3D%20%24%28%60%3Cdiv%20id%3D%22html_31a951cc9c3945c9a5fd060a6b81f23c%22%20style%3D%22width%3A%20100.0%25%3B%20height%3A%20100.0%25%3B%22%3ENarcotics%20Paraphernalia%2C%20Possession%20of274.0%3C/div%3E%60%29%5B0%5D%3B%0A%20%20%20%20%20%20%20%20%20%20%20%20popup_06571276e46f4b1dbbcdd67fe93797f3.setContent%28html_31a951cc9c3945c9a5fd060a6b81f23c%29%3B%0A%20%20%20%20%20%20%20%20%0A%0A%20%20%20%20%20%20%20%20marker_ebc4aa6c28604f3e99e9be1542740c8b.bindPopup%28popup_06571276e46f4b1dbbcdd67fe93797f3%29%0A%20%20%20%20%20%20%20%20%3B%0A%0A%20%20%20%20%20%20%20%20%0A%20%20%20%20%0A%20%20%20%20%0A%20%20%20%20%20%20%20%20%20%20%20%20var%20marker_640c19c96190452caddcc687d21455dd%20%3D%20L.marker%28%0A%20%20%20%20%20%20%20%20%20%20%20%20%20%20%20%20%5B30.29125109%2C%2078.05355562%5D%2C%0A%20%20%20%20%20%20%20%20%20%20%20%20%20%20%20%20%7B%7D%0A%20%20%20%20%20%20%20%20%20%20%20%20%29.addTo%28map_2b96f7275e8044b39da349952c70f8ed%29%3B%0A%20%20%20%20%20%20%20%20%0A%20%20%20%20%0A%20%20%20%20%20%20%20%20%20%20%20%20var%20icon_20da3ac448f74a28aa67a499c3a811ad%20%3D%20L.AwesomeMarkers.icon%28%0A%20%20%20%20%20%20%20%20%20%20%20%20%20%20%20%20%7B%22extraClasses%22%3A%20%22fa-rotate-0%22%2C%20%22icon%22%3A%20%22star%20empty%22%2C%20%22iconColor%22%3A%20%22white%22%2C%20%22markerColor%22%3A%20%22green%22%2C%20%22prefix%22%3A%20%22glyphicon%22%7D%0A%20%20%20%20%20%20%20%20%20%20%20%20%29%3B%0A%20%20%20%20%20%20%20%20%20%20%20%20marker_640c19c96190452caddcc687d21455dd.setIcon%28icon_20da3ac448f74a28aa67a499c3a811ad%29%3B%0A%20%20%20%20%20%20%20%20%0A%20%20%20%20%0A%20%20%20%20%20%20%20%20var%20popup_a1467092098849a7996e7b3dd0e91c39%20%3D%20L.popup%28%7B%22maxWidth%22%3A%20%22100%25%22%7D%29%3B%0A%0A%20%20%20%20%20%20%20%20%0A%20%20%20%20%20%20%20%20%20%20%20%20var%20html_6aebf6e5a7f04c2e871daaf651a26013%20%3D%20%24%28%60%3Cdiv%20id%3D%22html_6aebf6e5a7f04c2e871daaf651a26013%22%20style%3D%22width%3A%20100.0%25%3B%20height%3A%20100.0%25%3B%22%3ETheft%2C%20Other%20Property%2C%20%3E%24950378.0%3C/div%3E%60%29%5B0%5D%3B%0A%20%20%20%20%20%20%20%20%20%20%20%20popup_a1467092098849a7996e7b3dd0e91c39.setContent%28html_6aebf6e5a7f04c2e871daaf651a26013%29%3B%0A%20%20%20%20%20%20%20%20%0A%0A%20%20%20%20%20%20%20%20marker_640c19c96190452caddcc687d21455dd.bindPopup%28popup_a1467092098849a7996e7b3dd0e91c39%29%0A%20%20%20%20%20%20%20%20%3B%0A%0A%20%20%20%20%20%20%20%20%0A%20%20%20%20%0A%20%20%20%20%0A%20%20%20%20%20%20%20%20%20%20%20%20var%20marker_3c2f661cad6d41b6a967fa54a6996209%20%3D%20L.marker%28%0A%20%20%20%20%20%20%20%20%20%20%20%20%20%20%20%20%5B30.40229675%2C%2078.09621703%5D%2C%0A%20%20%20%20%20%20%20%20%20%20%20%20%20%20%20%20%7B%7D%0A%20%20%20%20%20%20%20%20%20%20%20%20%29.addTo%28map_2b96f7275e8044b39da349952c70f8ed%29%3B%0A%20%20%20%20%20%20%20%20%0A%20%20%20%20%0A%20%20%20%20%20%20%20%20%20%20%20%20var%20icon_030a4122ede24109be7cfbfdc599465b%20%3D%20L.AwesomeMarkers.icon%28%0A%20%20%20%20%20%20%20%20%20%20%20%20%20%20%20%20%7B%22extraClasses%22%3A%20%22fa-rotate-0%22%2C%20%22icon%22%3A%20%22star%20empty%22%2C%20%22iconColor%22%3A%20%22white%22%2C%20%22markerColor%22%3A%20%22green%22%2C%20%22prefix%22%3A%20%22glyphicon%22%7D%0A%20%20%20%20%20%20%20%20%20%20%20%20%29%3B%0A%20%20%20%20%20%20%20%20%20%20%20%20marker_3c2f661cad6d41b6a967fa54a6996209.setIcon%28icon_030a4122ede24109be7cfbfdc599465b%29%3B%0A%20%20%20%20%20%20%20%20%0A%20%20%20%20%0A%20%20%20%20%20%20%20%20var%20popup_9bd404ab09194c8c867d9ad9c5ee483e%20%3D%20L.popup%28%7B%22maxWidth%22%3A%20%22100%25%22%7D%29%3B%0A%0A%20%20%20%20%20%20%20%20%0A%20%20%20%20%20%20%20%20%20%20%20%20var%20html_426a216b86bb47e0b1646a6f2adc30ee%20%3D%20%24%28%60%3Cdiv%20id%3D%22html_426a216b86bb47e0b1646a6f2adc30ee%22%20style%3D%22width%3A%20100.0%25%3B%20height%3A%20100.0%25%3B%22%3EFirearm%2C%20Loaded%2C%20in%20Vehicle%2C%20Possession%20or%20Use141.0%3C/div%3E%60%29%5B0%5D%3B%0A%20%20%20%20%20%20%20%20%20%20%20%20popup_9bd404ab09194c8c867d9ad9c5ee483e.setContent%28html_426a216b86bb47e0b1646a6f2adc30ee%29%3B%0A%20%20%20%20%20%20%20%20%0A%0A%20%20%20%20%20%20%20%20marker_3c2f661cad6d41b6a967fa54a6996209.bindPopup%28popup_9bd404ab09194c8c867d9ad9c5ee483e%29%0A%20%20%20%20%20%20%20%20%3B%0A%0A%20%20%20%20%20%20%20%20%0A%20%20%20%20%0A%20%20%20%20%0A%20%20%20%20%20%20%20%20%20%20%20%20var%20marker_d502848616c14c1ea008c5e1cad42731%20%3D%20L.marker%28%0A%20%20%20%20%20%20%20%20%20%20%20%20%20%20%20%20%5B30.03549113%2C%2078.20999112%5D%2C%0A%20%20%20%20%20%20%20%20%20%20%20%20%20%20%20%20%7B%7D%0A%20%20%20%20%20%20%20%20%20%20%20%20%29.addTo%28map_2b96f7275e8044b39da349952c70f8ed%29%3B%0A%20%20%20%20%20%20%20%20%0A%20%20%20%20%0A%20%20%20%20%20%20%20%20%20%20%20%20var%20icon_877df76f30a44978aba107161e495d84%20%3D%20L.AwesomeMarkers.icon%28%0A%20%20%20%20%20%20%20%20%20%20%20%20%20%20%20%20%7B%22extraClasses%22%3A%20%22fa-rotate-0%22%2C%20%22icon%22%3A%20%22star%20empty%22%2C%20%22iconColor%22%3A%20%22white%22%2C%20%22markerColor%22%3A%20%22green%22%2C%20%22prefix%22%3A%20%22glyphicon%22%7D%0A%20%20%20%20%20%20%20%20%20%20%20%20%29%3B%0A%20%20%20%20%20%20%20%20%20%20%20%20marker_d502848616c14c1ea008c5e1cad42731.setIcon%28icon_877df76f30a44978aba107161e495d84%29%3B%0A%20%20%20%20%20%20%20%20%0A%20%20%20%20%0A%20%20%20%20%20%20%20%20var%20popup_10906a41a1f8405f9cd5fb1e28979dc5%20%3D%20L.popup%28%7B%22maxWidth%22%3A%20%22100%25%22%7D%29%3B%0A%0A%20%20%20%20%20%20%20%20%0A%20%20%20%20%20%20%20%20%20%20%20%20var%20html_55ca0b39a20b4380adcd89b789e94159%20%3D%20%24%28%60%3Cdiv%20id%3D%22html_55ca0b39a20b4380adcd89b789e94159%22%20style%3D%22width%3A%20100.0%25%3B%20height%3A%20100.0%25%3B%22%3ETraffic%20Violation%20Arrest506.0%3C/div%3E%60%29%5B0%5D%3B%0A%20%20%20%20%20%20%20%20%20%20%20%20popup_10906a41a1f8405f9cd5fb1e28979dc5.setContent%28html_55ca0b39a20b4380adcd89b789e94159%29%3B%0A%20%20%20%20%20%20%20%20%0A%0A%20%20%20%20%20%20%20%20marker_d502848616c14c1ea008c5e1cad42731.bindPopup%28popup_10906a41a1f8405f9cd5fb1e28979dc5%29%0A%20%20%20%20%20%20%20%20%3B%0A%0A%20%20%20%20%20%20%20%20%0A%20%20%20%20%0A%20%20%20%20%0A%20%20%20%20%20%20%20%20%20%20%20%20var%20marker_d3d7ca7b17c445d09312192e6fc27317%20%3D%20L.marker%28%0A%20%20%20%20%20%20%20%20%20%20%20%20%20%20%20%20%5B30.26521338%2C%2078.00184242%5D%2C%0A%20%20%20%20%20%20%20%20%20%20%20%20%20%20%20%20%7B%7D%0A%20%20%20%20%20%20%20%20%20%20%20%20%29.addTo%28map_2b96f7275e8044b39da349952c70f8ed%29%3B%0A%20%20%20%20%20%20%20%20%0A%20%20%20%20%0A%20%20%20%20%20%20%20%20%20%20%20%20var%20icon_74e807cd37f349ac9ae2c3974e2a8d43%20%3D%20L.AwesomeMarkers.icon%28%0A%20%20%20%20%20%20%20%20%20%20%20%20%20%20%20%20%7B%22extraClasses%22%3A%20%22fa-rotate-0%22%2C%20%22icon%22%3A%20%22star%20empty%22%2C%20%22iconColor%22%3A%20%22white%22%2C%20%22markerColor%22%3A%20%22green%22%2C%20%22prefix%22%3A%20%22glyphicon%22%7D%0A%20%20%20%20%20%20%20%20%20%20%20%20%29%3B%0A%20%20%20%20%20%20%20%20%20%20%20%20marker_d3d7ca7b17c445d09312192e6fc27317.setIcon%28icon_74e807cd37f349ac9ae2c3974e2a8d43%29%3B%0A%20%20%20%20%20%20%20%20%0A%20%20%20%20%0A%20%20%20%20%20%20%20%20var%20popup_591847750636403e90c95a54aaf29fde%20%3D%20L.popup%28%7B%22maxWidth%22%3A%20%22100%25%22%7D%29%3B%0A%0A%20%20%20%20%20%20%20%20%0A%20%20%20%20%20%20%20%20%20%20%20%20var%20html_d8733824aae2460ab257e80e6178e1b9%20%3D%20%24%28%60%3Cdiv%20id%3D%22html_d8733824aae2460ab257e80e6178e1b9%22%20style%3D%22width%3A%20100.0%25%3B%20height%3A%20100.0%25%3B%22%3ETrespassing441.0%3C/div%3E%60%29%5B0%5D%3B%0A%20%20%20%20%20%20%20%20%20%20%20%20popup_591847750636403e90c95a54aaf29fde.setContent%28html_d8733824aae2460ab257e80e6178e1b9%29%3B%0A%20%20%20%20%20%20%20%20%0A%0A%20%20%20%20%20%20%20%20marker_d3d7ca7b17c445d09312192e6fc27317.bindPopup%28popup_591847750636403e90c95a54aaf29fde%29%0A%20%20%20%20%20%20%20%20%3B%0A%0A%20%20%20%20%20%20%20%20%0A%20%20%20%20%0A%20%20%20%20%0A%20%20%20%20%20%20%20%20%20%20%20%20var%20marker_5beaf8c0051c4ab68425d1e0943763c1%20%3D%20L.marker%28%0A%20%20%20%20%20%20%20%20%20%20%20%20%20%20%20%20%5B30.3936164%2C%2077.80648334%5D%2C%0A%20%20%20%20%20%20%20%20%20%20%20%20%20%20%20%20%7B%7D%0A%20%20%20%20%20%20%20%20%20%20%20%20%29.addTo%28map_2b96f7275e8044b39da349952c70f8ed%29%3B%0A%20%20%20%20%20%20%20%20%0A%20%20%20%20%0A%20%20%20%20%20%20%20%20%20%20%20%20var%20icon_0d7627a6f4d84d239cb47708f109ac12%20%3D%20L.AwesomeMarkers.icon%28%0A%20%20%20%20%20%20%20%20%20%20%20%20%20%20%20%20%7B%22extraClasses%22%3A%20%22fa-rotate-0%22%2C%20%22icon%22%3A%20%22star%20empty%22%2C%20%22iconColor%22%3A%20%22white%22%2C%20%22markerColor%22%3A%20%22green%22%2C%20%22prefix%22%3A%20%22glyphicon%22%7D%0A%20%20%20%20%20%20%20%20%20%20%20%20%29%3B%0A%20%20%20%20%20%20%20%20%20%20%20%20marker_5beaf8c0051c4ab68425d1e0943763c1.setIcon%28icon_0d7627a6f4d84d239cb47708f109ac12%29%3B%0A%20%20%20%20%20%20%20%20%0A%20%20%20%20%0A%20%20%20%20%20%20%20%20var%20popup_fe1bf6c1e7dc46deaccc03aa542e0625%20%3D%20L.popup%28%7B%22maxWidth%22%3A%20%22100%25%22%7D%29%3B%0A%0A%20%20%20%20%20%20%20%20%0A%20%20%20%20%20%20%20%20%20%20%20%20var%20html_0c294d8338484f16a0ee0da5ba1525cc%20%3D%20%24%28%60%3Cdiv%20id%3D%22html_0c294d8338484f16a0ee0da5ba1525cc%22%20style%3D%22width%3A%20100.0%25%3B%20height%3A%20100.0%25%3B%22%3ETheft%2C%20Other%20Property%2C%20%2450-%24200378.0%3C/div%3E%60%29%5B0%5D%3B%0A%20%20%20%20%20%20%20%20%20%20%20%20popup_fe1bf6c1e7dc46deaccc03aa542e0625.setContent%28html_0c294d8338484f16a0ee0da5ba1525cc%29%3B%0A%20%20%20%20%20%20%20%20%0A%0A%20%20%20%20%20%20%20%20marker_5beaf8c0051c4ab68425d1e0943763c1.bindPopup%28popup_fe1bf6c1e7dc46deaccc03aa542e0625%29%0A%20%20%20%20%20%20%20%20%3B%0A%0A%20%20%20%20%20%20%20%20%0A%20%20%20%20%0A%20%20%20%20%0A%20%20%20%20%20%20%20%20%20%20%20%20var%20marker_587cd2d7e3d046598ae2d396e0717d41%20%3D%20L.marker%28%0A%20%20%20%20%20%20%20%20%20%20%20%20%20%20%20%20%5B30.61570025%2C%2077.02461281%5D%2C%0A%20%20%20%20%20%20%20%20%20%20%20%20%20%20%20%20%7B%7D%0A%20%20%20%20%20%20%20%20%20%20%20%20%29.addTo%28map_2b96f7275e8044b39da349952c70f8ed%29%3B%0A%20%20%20%20%20%20%20%20%0A%20%20%20%20%0A%20%20%20%20%20%20%20%20%20%20%20%20var%20icon_5da9ac2117c548dfaabe8a0bfbcfb08e%20%3D%20L.AwesomeMarkers.icon%28%0A%20%20%20%20%20%20%20%20%20%20%20%20%20%20%20%20%7B%22extraClasses%22%3A%20%22fa-rotate-0%22%2C%20%22icon%22%3A%20%22star%20empty%22%2C%20%22iconColor%22%3A%20%22white%22%2C%20%22markerColor%22%3A%20%22green%22%2C%20%22prefix%22%3A%20%22glyphicon%22%7D%0A%20%20%20%20%20%20%20%20%20%20%20%20%29%3B%0A%20%20%20%20%20%20%20%20%20%20%20%20marker_587cd2d7e3d046598ae2d396e0717d41.setIcon%28icon_5da9ac2117c548dfaabe8a0bfbcfb08e%29%3B%0A%20%20%20%20%20%20%20%20%0A%20%20%20%20%0A%20%20%20%20%20%20%20%20var%20popup_e269a9e08cac451cb76fe92c003130a8%20%3D%20L.popup%28%7B%22maxWidth%22%3A%20%22100%25%22%7D%29%3B%0A%0A%20%20%20%20%20%20%20%20%0A%20%20%20%20%20%20%20%20%20%20%20%20var%20html_4ee6d8cdcd71477184ef614abf1b8491%20%3D%20%24%28%60%3Cdiv%20id%3D%22html_4ee6d8cdcd71477184ef614abf1b8491%22%20style%3D%22width%3A%20100.0%25%3B%20height%3A%20100.0%25%3B%22%3EAssault%2C%20Aggravated%2C%20W/%20Other%20Weapon351.0%3C/div%3E%60%29%5B0%5D%3B%0A%20%20%20%20%20%20%20%20%20%20%20%20popup_e269a9e08cac451cb76fe92c003130a8.setContent%28html_4ee6d8cdcd71477184ef614abf1b8491%29%3B%0A%20%20%20%20%20%20%20%20%0A%0A%20%20%20%20%20%20%20%20marker_587cd2d7e3d046598ae2d396e0717d41.bindPopup%28popup_e269a9e08cac451cb76fe92c003130a8%29%0A%20%20%20%20%20%20%20%20%3B%0A%0A%20%20%20%20%20%20%20%20%0A%20%20%20%20%0A%20%20%20%20%0A%20%20%20%20%20%20%20%20%20%20%20%20var%20marker_532ace84ea114c15b9eee936e9fa6d36%20%3D%20L.marker%28%0A%20%20%20%20%20%20%20%20%20%20%20%20%20%20%20%20%5B30.53943372%2C%2077.83897212%5D%2C%0A%20%20%20%20%20%20%20%20%20%20%20%20%20%20%20%20%7B%7D%0A%20%20%20%20%20%20%20%20%20%20%20%20%29.addTo%28map_2b96f7275e8044b39da349952c70f8ed%29%3B%0A%20%20%20%20%20%20%20%20%0A%20%20%20%20%0A%20%20%20%20%20%20%20%20%20%20%20%20var%20icon_f0265c5606d24bc5b3898404b514cb07%20%3D%20L.AwesomeMarkers.icon%28%0A%20%20%20%20%20%20%20%20%20%20%20%20%20%20%20%20%7B%22extraClasses%22%3A%20%22fa-rotate-0%22%2C%20%22icon%22%3A%20%22star%20empty%22%2C%20%22iconColor%22%3A%20%22white%22%2C%20%22markerColor%22%3A%20%22green%22%2C%20%22prefix%22%3A%20%22glyphicon%22%7D%0A%20%20%20%20%20%20%20%20%20%20%20%20%29%3B%0A%20%20%20%20%20%20%20%20%20%20%20%20marker_532ace84ea114c15b9eee936e9fa6d36.setIcon%28icon_f0265c5606d24bc5b3898404b514cb07%29%3B%0A%20%20%20%20%20%20%20%20%0A%20%20%20%20%0A%20%20%20%20%20%20%20%20var%20popup_9706f45bca504248aadfc819f8f9e4db%20%3D%20L.popup%28%7B%22maxWidth%22%3A%20%22100%25%22%7D%29%3B%0A%0A%20%20%20%20%20%20%20%20%0A%20%20%20%20%20%20%20%20%20%20%20%20var%20html_a51d984308e4431083c6336aadcfd909%20%3D%20%24%28%60%3Cdiv%20id%3D%22html_a51d984308e4431083c6336aadcfd909%22%20style%3D%22width%3A%20100.0%25%3B%20height%3A%20100.0%25%3B%22%3ENarcotics%20Paraphernalia%2C%20Possession%20of274.0%3C/div%3E%60%29%5B0%5D%3B%0A%20%20%20%20%20%20%20%20%20%20%20%20popup_9706f45bca504248aadfc819f8f9e4db.setContent%28html_a51d984308e4431083c6336aadcfd909%29%3B%0A%20%20%20%20%20%20%20%20%0A%0A%20%20%20%20%20%20%20%20marker_532ace84ea114c15b9eee936e9fa6d36.bindPopup%28popup_9706f45bca504248aadfc819f8f9e4db%29%0A%20%20%20%20%20%20%20%20%3B%0A%0A%20%20%20%20%20%20%20%20%0A%20%20%20%20%0A%20%20%20%20%0A%20%20%20%20%20%20%20%20%20%20%20%20var%20marker_c3635751528d486d953ccb0f9cd08ab8%20%3D%20L.marker%28%0A%20%20%20%20%20%20%20%20%20%20%20%20%20%20%20%20%5B30.52346564%2C%2077.84752808%5D%2C%0A%20%20%20%20%20%20%20%20%20%20%20%20%20%20%20%20%7B%7D%0A%20%20%20%20%20%20%20%20%20%20%20%20%29.addTo%28map_2b96f7275e8044b39da349952c70f8ed%29%3B%0A%20%20%20%20%20%20%20%20%0A%20%20%20%20%0A%20%20%20%20%20%20%20%20%20%20%20%20var%20icon_d04a170294df40b2bf27c34ca377c222%20%3D%20L.AwesomeMarkers.icon%28%0A%20%20%20%20%20%20%20%20%20%20%20%20%20%20%20%20%7B%22extraClasses%22%3A%20%22fa-rotate-0%22%2C%20%22icon%22%3A%20%22star%20empty%22%2C%20%22iconColor%22%3A%20%22white%22%2C%20%22markerColor%22%3A%20%22green%22%2C%20%22prefix%22%3A%20%22glyphicon%22%7D%0A%20%20%20%20%20%20%20%20%20%20%20%20%29%3B%0A%20%20%20%20%20%20%20%20%20%20%20%20marker_c3635751528d486d953ccb0f9cd08ab8.setIcon%28icon_d04a170294df40b2bf27c34ca377c222%29%3B%0A%20%20%20%20%20%20%20%20%0A%20%20%20%20%0A%20%20%20%20%20%20%20%20var%20popup_7cd6fd6ab30f4defb4de2b40263598ce%20%3D%20L.popup%28%7B%22maxWidth%22%3A%20%22100%25%22%7D%29%3B%0A%0A%20%20%20%20%20%20%20%20%0A%20%20%20%20%20%20%20%20%20%20%20%20var%20html_d144e261abfc42a4a64b4d8f664bc3de%20%3D%20%24%28%60%3Cdiv%20id%3D%22html_d144e261abfc42a4a64b4d8f664bc3de%22%20style%3D%22width%3A%20100.0%25%3B%20height%3A%20100.0%25%3B%22%3EVehicle%2C%20Recovered%2C%20Stolen%20outside%20SF378.0%3C/div%3E%60%29%5B0%5D%3B%0A%20%20%20%20%20%20%20%20%20%20%20%20popup_7cd6fd6ab30f4defb4de2b40263598ce.setContent%28html_d144e261abfc42a4a64b4d8f664bc3de%29%3B%0A%20%20%20%20%20%20%20%20%0A%0A%20%20%20%20%20%20%20%20marker_c3635751528d486d953ccb0f9cd08ab8.bindPopup%28popup_7cd6fd6ab30f4defb4de2b40263598ce%29%0A%20%20%20%20%20%20%20%20%3B%0A%0A%20%20%20%20%20%20%20%20%0A%20%20%20%20%0A%20%20%20%20%0A%20%20%20%20%20%20%20%20%20%20%20%20var%20marker_95e9af708d5345bcb236c5034976885f%20%3D%20L.marker%28%0A%20%20%20%20%20%20%20%20%20%20%20%20%20%20%20%20%5B30.0161343%2C%2077.93144478%5D%2C%0A%20%20%20%20%20%20%20%20%20%20%20%20%20%20%20%20%7B%7D%0A%20%20%20%20%20%20%20%20%20%20%20%20%29.addTo%28map_2b96f7275e8044b39da349952c70f8ed%29%3B%0A%20%20%20%20%20%20%20%20%0A%20%20%20%20%0A%20%20%20%20%20%20%20%20%20%20%20%20var%20icon_b798354156434e24b85810010cb0d99b%20%3D%20L.AwesomeMarkers.icon%28%0A%20%20%20%20%20%20%20%20%20%20%20%20%20%20%20%20%7B%22extraClasses%22%3A%20%22fa-rotate-0%22%2C%20%22icon%22%3A%20%22star%20empty%22%2C%20%22iconColor%22%3A%20%22white%22%2C%20%22markerColor%22%3A%20%22green%22%2C%20%22prefix%22%3A%20%22glyphicon%22%7D%0A%20%20%20%20%20%20%20%20%20%20%20%20%29%3B%0A%20%20%20%20%20%20%20%20%20%20%20%20marker_95e9af708d5345bcb236c5034976885f.setIcon%28icon_b798354156434e24b85810010cb0d99b%29%3B%0A%20%20%20%20%20%20%20%20%0A%20%20%20%20%0A%20%20%20%20%20%20%20%20var%20popup_b1165f78aa3e4b17ab1f626c43b58ae6%20%3D%20L.popup%28%7B%22maxWidth%22%3A%20%22100%25%22%7D%29%3B%0A%0A%20%20%20%20%20%20%20%20%0A%20%20%20%20%20%20%20%20%20%20%20%20var%20html_7279ee26b5fa4f1e89a94fff0d1ea868%20%3D%20%24%28%60%3Cdiv%20id%3D%22html_7279ee26b5fa4f1e89a94fff0d1ea868%22%20style%3D%22width%3A%20100.0%25%3B%20height%3A%20100.0%25%3B%22%3EVehicle%2C%20Recovered%2C%20Auto378.0%3C/div%3E%60%29%5B0%5D%3B%0A%20%20%20%20%20%20%20%20%20%20%20%20popup_b1165f78aa3e4b17ab1f626c43b58ae6.setContent%28html_7279ee26b5fa4f1e89a94fff0d1ea868%29%3B%0A%20%20%20%20%20%20%20%20%0A%0A%20%20%20%20%20%20%20%20marker_95e9af708d5345bcb236c5034976885f.bindPopup%28popup_b1165f78aa3e4b17ab1f626c43b58ae6%29%0A%20%20%20%20%20%20%20%20%3B%0A%0A%20%20%20%20%20%20%20%20%0A%20%20%20%20%0A%20%20%20%20%0A%20%20%20%20%20%20%20%20%20%20%20%20var%20marker_c279377ff1cc4e1abef0e63c031b7ab7%20%3D%20L.marker%28%0A%20%20%20%20%20%20%20%20%20%20%20%20%20%20%20%20%5B30.33603466%2C%2077.96654721%5D%2C%0A%20%20%20%20%20%20%20%20%20%20%20%20%20%20%20%20%7B%7D%0A%20%20%20%20%20%20%20%20%20%20%20%20%29.addTo%28map_2b96f7275e8044b39da349952c70f8ed%29%3B%0A%20%20%20%20%20%20%20%20%0A%20%20%20%20%0A%20%20%20%20%20%20%20%20%20%20%20%20var%20icon_4a28a0eda3574c718b6302546ebf15ba%20%3D%20L.AwesomeMarkers.icon%28%0A%20%20%20%20%20%20%20%20%20%20%20%20%20%20%20%20%7B%22extraClasses%22%3A%20%22fa-rotate-0%22%2C%20%22icon%22%3A%20%22star%20empty%22%2C%20%22iconColor%22%3A%20%22white%22%2C%20%22markerColor%22%3A%20%22green%22%2C%20%22prefix%22%3A%20%22glyphicon%22%7D%0A%20%20%20%20%20%20%20%20%20%20%20%20%29%3B%0A%20%20%20%20%20%20%20%20%20%20%20%20marker_c279377ff1cc4e1abef0e63c031b7ab7.setIcon%28icon_4a28a0eda3574c718b6302546ebf15ba%29%3B%0A%20%20%20%20%20%20%20%20%0A%20%20%20%20%0A%20%20%20%20%20%20%20%20var%20popup_2f7bbb50921647438e8ff286e0b1c642%20%3D%20L.popup%28%7B%22maxWidth%22%3A%20%22100%25%22%7D%29%3B%0A%0A%20%20%20%20%20%20%20%20%0A%20%20%20%20%20%20%20%20%20%20%20%20var%20html_bee51976f4824e5b960d14e9e67dda41%20%3D%20%24%28%60%3Cdiv%20id%3D%22html_bee51976f4824e5b960d14e9e67dda41%22%20style%3D%22width%3A%20100.0%25%3B%20height%3A%20100.0%25%3B%22%3EBattery%2C%20former%20Spouse%20or%20Dating%20Relationship351.0%3C/div%3E%60%29%5B0%5D%3B%0A%20%20%20%20%20%20%20%20%20%20%20%20popup_2f7bbb50921647438e8ff286e0b1c642.setContent%28html_bee51976f4824e5b960d14e9e67dda41%29%3B%0A%20%20%20%20%20%20%20%20%0A%0A%20%20%20%20%20%20%20%20marker_c279377ff1cc4e1abef0e63c031b7ab7.bindPopup%28popup_2f7bbb50921647438e8ff286e0b1c642%29%0A%20%20%20%20%20%20%20%20%3B%0A%0A%20%20%20%20%20%20%20%20%0A%20%20%20%20%0A%20%20%20%20%0A%20%20%20%20%20%20%20%20%20%20%20%20var%20marker_3e598c923cda423ab2533314a3d16ebb%20%3D%20L.marker%28%0A%20%20%20%20%20%20%20%20%20%20%20%20%20%20%20%20%5B30.34075184%2C%2078.06942937%5D%2C%0A%20%20%20%20%20%20%20%20%20%20%20%20%20%20%20%20%7B%7D%0A%20%20%20%20%20%20%20%20%20%20%20%20%29.addTo%28map_2b96f7275e8044b39da349952c70f8ed%29%3B%0A%20%20%20%20%20%20%20%20%0A%20%20%20%20%0A%20%20%20%20%20%20%20%20%20%20%20%20var%20icon_2e8b339382984706bca340829050633b%20%3D%20L.AwesomeMarkers.icon%28%0A%20%20%20%20%20%20%20%20%20%20%20%20%20%20%20%20%7B%22extraClasses%22%3A%20%22fa-rotate-0%22%2C%20%22icon%22%3A%20%22star%20empty%22%2C%20%22iconColor%22%3A%20%22white%22%2C%20%22markerColor%22%3A%20%22green%22%2C%20%22prefix%22%3A%20%22glyphicon%22%7D%0A%20%20%20%20%20%20%20%20%20%20%20%20%29%3B%0A%20%20%20%20%20%20%20%20%20%20%20%20marker_3e598c923cda423ab2533314a3d16ebb.setIcon%28icon_2e8b339382984706bca340829050633b%29%3B%0A%20%20%20%20%20%20%20%20%0A%20%20%20%20%0A%20%20%20%20%20%20%20%20var%20popup_a47a852207b446c1ae886eb0cb96480e%20%3D%20L.popup%28%7B%22maxWidth%22%3A%20%22100%25%22%7D%29%3B%0A%0A%20%20%20%20%20%20%20%20%0A%20%20%20%20%20%20%20%20%20%20%20%20var%20html_8d4fceaa4b884ee196c5c1fe7df55555%20%3D%20%24%28%60%3Cdiv%20id%3D%22html_8d4fceaa4b884ee196c5c1fe7df55555%22%20style%3D%22width%3A%20100.0%25%3B%20height%3A%20100.0%25%3B%22%3EBattery351.0%3C/div%3E%60%29%5B0%5D%3B%0A%20%20%20%20%20%20%20%20%20%20%20%20popup_a47a852207b446c1ae886eb0cb96480e.setContent%28html_8d4fceaa4b884ee196c5c1fe7df55555%29%3B%0A%20%20%20%20%20%20%20%20%0A%0A%20%20%20%20%20%20%20%20marker_3e598c923cda423ab2533314a3d16ebb.bindPopup%28popup_a47a852207b446c1ae886eb0cb96480e%29%0A%20%20%20%20%20%20%20%20%3B%0A%0A%20%20%20%20%20%20%20%20%0A%20%20%20%20%0A%20%20%20%20%0A%20%20%20%20%20%20%20%20%20%20%20%20var%20marker_2fd1726a9ffd4ffab043951921c246e2%20%3D%20L.marker%28%0A%20%20%20%20%20%20%20%20%20%20%20%20%20%20%20%20%5B30.36692375%2C%2077.84560939%5D%2C%0A%20%20%20%20%20%20%20%20%20%20%20%20%20%20%20%20%7B%7D%0A%20%20%20%20%20%20%20%20%20%20%20%20%29.addTo%28map_2b96f7275e8044b39da349952c70f8ed%29%3B%0A%20%20%20%20%20%20%20%20%0A%20%20%20%20%0A%20%20%20%20%20%20%20%20%20%20%20%20var%20icon_fad55a844a1c4dfaad21c85d836f6d14%20%3D%20L.AwesomeMarkers.icon%28%0A%20%20%20%20%20%20%20%20%20%20%20%20%20%20%20%20%7B%22extraClasses%22%3A%20%22fa-rotate-0%22%2C%20%22icon%22%3A%20%22star%20empty%22%2C%20%22iconColor%22%3A%20%22white%22%2C%20%22markerColor%22%3A%20%22green%22%2C%20%22prefix%22%3A%20%22glyphicon%22%7D%0A%20%20%20%20%20%20%20%20%20%20%20%20%29%3B%0A%20%20%20%20%20%20%20%20%20%20%20%20marker_2fd1726a9ffd4ffab043951921c246e2.setIcon%28icon_fad55a844a1c4dfaad21c85d836f6d14%29%3B%0A%20%20%20%20%20%20%20%20%0A%20%20%20%20%0A%20%20%20%20%20%20%20%20var%20popup_ef4edc2ecfb1441684dff89d36a63bd7%20%3D%20L.popup%28%7B%22maxWidth%22%3A%20%22100%25%22%7D%29%3B%0A%0A%20%20%20%20%20%20%20%20%0A%20%20%20%20%20%20%20%20%20%20%20%20var%20html_2cfac78e26ff4afc84109ba7dc2c50c2%20%3D%20%24%28%60%3Cdiv%20id%3D%22html_2cfac78e26ff4afc84109ba7dc2c50c2%22%20style%3D%22width%3A%20100.0%25%3B%20height%3A%20100.0%25%3B%22%3ETheft%2C%20Other%20Property%2C%20%2450-%24200378.0%3C/div%3E%60%29%5B0%5D%3B%0A%20%20%20%20%20%20%20%20%20%20%20%20popup_ef4edc2ecfb1441684dff89d36a63bd7.setContent%28html_2cfac78e26ff4afc84109ba7dc2c50c2%29%3B%0A%20%20%20%20%20%20%20%20%0A%0A%20%20%20%20%20%20%20%20marker_2fd1726a9ffd4ffab043951921c246e2.bindPopup%28popup_ef4edc2ecfb1441684dff89d36a63bd7%29%0A%20%20%20%20%20%20%20%20%3B%0A%0A%20%20%20%20%20%20%20%20%0A%20%20%20%20%0A%20%20%20%20%0A%20%20%20%20%20%20%20%20%20%20%20%20var%20marker_a98c83ac6d5343eaadb8556e073b54c9%20%3D%20L.marker%28%0A%20%20%20%20%20%20%20%20%20%20%20%20%20%20%20%20%5B30.32083158%2C%2078.04025542%5D%2C%0A%20%20%20%20%20%20%20%20%20%20%20%20%20%20%20%20%7B%7D%0A%20%20%20%20%20%20%20%20%20%20%20%20%29.addTo%28map_2b96f7275e8044b39da349952c70f8ed%29%3B%0A%20%20%20%20%20%20%20%20%0A%20%20%20%20%0A%20%20%20%20%20%20%20%20%20%20%20%20var%20icon_f3623dbf7ffc45eaabb496e3d5e5fa49%20%3D%20L.AwesomeMarkers.icon%28%0A%20%20%20%20%20%20%20%20%20%20%20%20%20%20%20%20%7B%22extraClasses%22%3A%20%22fa-rotate-0%22%2C%20%22icon%22%3A%20%22star%20empty%22%2C%20%22iconColor%22%3A%20%22white%22%2C%20%22markerColor%22%3A%20%22green%22%2C%20%22prefix%22%3A%20%22glyphicon%22%7D%0A%20%20%20%20%20%20%20%20%20%20%20%20%29%3B%0A%20%20%20%20%20%20%20%20%20%20%20%20marker_a98c83ac6d5343eaadb8556e073b54c9.setIcon%28icon_f3623dbf7ffc45eaabb496e3d5e5fa49%29%3B%0A%20%20%20%20%20%20%20%20%0A%20%20%20%20%0A%20%20%20%20%20%20%20%20var%20popup_d8ebfef477c54e51937dad7d1004886a%20%3D%20L.popup%28%7B%22maxWidth%22%3A%20%22100%25%22%7D%29%3B%0A%0A%20%20%20%20%20%20%20%20%0A%20%20%20%20%20%20%20%20%20%20%20%20var%20html_9f2469c0f0634cf986524fc3b5e946ca%20%3D%20%24%28%60%3Cdiv%20id%3D%22html_9f2469c0f0634cf986524fc3b5e946ca%22%20style%3D%22width%3A%20100.0%25%3B%20height%3A%20100.0%25%3B%22%3ETheft%2C%20Other%20Property%2C%20%24200-%24950378.0%3C/div%3E%60%29%5B0%5D%3B%0A%20%20%20%20%20%20%20%20%20%20%20%20popup_d8ebfef477c54e51937dad7d1004886a.setContent%28html_9f2469c0f0634cf986524fc3b5e946ca%29%3B%0A%20%20%20%20%20%20%20%20%0A%0A%20%20%20%20%20%20%20%20marker_a98c83ac6d5343eaadb8556e073b54c9.bindPopup%28popup_d8ebfef477c54e51937dad7d1004886a%29%0A%20%20%20%20%20%20%20%20%3B%0A%0A%20%20%20%20%20%20%20%20%0A%20%20%20%20%0A%20%20%20%20%0A%20%20%20%20%20%20%20%20%20%20%20%20var%20marker_7c2d12d4c9d548a48e27a35ea0a5bd6c%20%3D%20L.marker%28%0A%20%20%20%20%20%20%20%20%20%20%20%20%20%20%20%20%5B30.15438326%2C%2078.77312738%5D%2C%0A%20%20%20%20%20%20%20%20%20%20%20%20%20%20%20%20%7B%7D%0A%20%20%20%20%20%20%20%20%20%20%20%20%29.addTo%28map_2b96f7275e8044b39da349952c70f8ed%29%3B%0A%20%20%20%20%20%20%20%20%0A%20%20%20%20%0A%20%20%20%20%20%20%20%20%20%20%20%20var%20icon_c0c72a6f16c44b44b018b84dc53d7d9d%20%3D%20L.AwesomeMarkers.icon%28%0A%20%20%20%20%20%20%20%20%20%20%20%20%20%20%20%20%7B%22extraClasses%22%3A%20%22fa-rotate-0%22%2C%20%22icon%22%3A%20%22star%20empty%22%2C%20%22iconColor%22%3A%20%22white%22%2C%20%22markerColor%22%3A%20%22green%22%2C%20%22prefix%22%3A%20%22glyphicon%22%7D%0A%20%20%20%20%20%20%20%20%20%20%20%20%29%3B%0A%20%20%20%20%20%20%20%20%20%20%20%20marker_7c2d12d4c9d548a48e27a35ea0a5bd6c.setIcon%28icon_c0c72a6f16c44b44b018b84dc53d7d9d%29%3B%0A%20%20%20%20%20%20%20%20%0A%20%20%20%20%0A%20%20%20%20%20%20%20%20var%20popup_6c4f2470dfbd415cb7be2ea412ccbaa0%20%3D%20L.popup%28%7B%22maxWidth%22%3A%20%22100%25%22%7D%29%3B%0A%0A%20%20%20%20%20%20%20%20%0A%20%20%20%20%20%20%20%20%20%20%20%20var%20html_853690666efb45fb8c0356dc88cea9f6%20%3D%20%24%28%60%3Cdiv%20id%3D%22html_853690666efb45fb8c0356dc88cea9f6%22%20style%3D%22width%3A%20100.0%25%3B%20height%3A%20100.0%25%3B%22%3ELost%20Property425.0%3C/div%3E%60%29%5B0%5D%3B%0A%20%20%20%20%20%20%20%20%20%20%20%20popup_6c4f2470dfbd415cb7be2ea412ccbaa0.setContent%28html_853690666efb45fb8c0356dc88cea9f6%29%3B%0A%20%20%20%20%20%20%20%20%0A%0A%20%20%20%20%20%20%20%20marker_7c2d12d4c9d548a48e27a35ea0a5bd6c.bindPopup%28popup_6c4f2470dfbd415cb7be2ea412ccbaa0%29%0A%20%20%20%20%20%20%20%20%3B%0A%0A%20%20%20%20%20%20%20%20%0A%20%20%20%20%0A%20%20%20%20%0A%20%20%20%20%20%20%20%20%20%20%20%20var%20marker_1edd4e2a7ade44f09062b2f7c1025b98%20%3D%20L.marker%28%0A%20%20%20%20%20%20%20%20%20%20%20%20%20%20%20%20%5B30.22421721%2C%2078.7900388%5D%2C%0A%20%20%20%20%20%20%20%20%20%20%20%20%20%20%20%20%7B%7D%0A%20%20%20%20%20%20%20%20%20%20%20%20%29.addTo%28map_2b96f7275e8044b39da349952c70f8ed%29%3B%0A%20%20%20%20%20%20%20%20%0A%20%20%20%20%0A%20%20%20%20%20%20%20%20%20%20%20%20var%20icon_dbc908534201488393a49d734021fca2%20%3D%20L.AwesomeMarkers.icon%28%0A%20%20%20%20%20%20%20%20%20%20%20%20%20%20%20%20%7B%22extraClasses%22%3A%20%22fa-rotate-0%22%2C%20%22icon%22%3A%20%22star%20empty%22%2C%20%22iconColor%22%3A%20%22white%22%2C%20%22markerColor%22%3A%20%22green%22%2C%20%22prefix%22%3A%20%22glyphicon%22%7D%0A%20%20%20%20%20%20%20%20%20%20%20%20%29%3B%0A%20%20%20%20%20%20%20%20%20%20%20%20marker_1edd4e2a7ade44f09062b2f7c1025b98.setIcon%28icon_dbc908534201488393a49d734021fca2%29%3B%0A%20%20%20%20%20%20%20%20%0A%20%20%20%20%0A%20%20%20%20%20%20%20%20var%20popup_65db5a4e1aad4b3f953de4b0e234b686%20%3D%20L.popup%28%7B%22maxWidth%22%3A%20%22100%25%22%7D%29%3B%0A%0A%20%20%20%20%20%20%20%20%0A%20%20%20%20%20%20%20%20%20%20%20%20var%20html_5788bde782a140d59b93dcbf9b70d293%20%3D%20%24%28%60%3Cdiv%20id%3D%22html_5788bde782a140d59b93dcbf9b70d293%22%20style%3D%22width%3A%20100.0%25%3B%20height%3A%20100.0%25%3B%22%3EBattery351.0%3C/div%3E%60%29%5B0%5D%3B%0A%20%20%20%20%20%20%20%20%20%20%20%20popup_65db5a4e1aad4b3f953de4b0e234b686.setContent%28html_5788bde782a140d59b93dcbf9b70d293%29%3B%0A%20%20%20%20%20%20%20%20%0A%0A%20%20%20%20%20%20%20%20marker_1edd4e2a7ade44f09062b2f7c1025b98.bindPopup%28popup_65db5a4e1aad4b3f953de4b0e234b686%29%0A%20%20%20%20%20%20%20%20%3B%0A%0A%20%20%20%20%20%20%20%20%0A%20%20%20%20%0A%20%20%20%20%0A%20%20%20%20%20%20%20%20%20%20%20%20var%20marker_4b22f59b672f40c689b29712a2556946%20%3D%20L.marker%28%0A%20%20%20%20%20%20%20%20%20%20%20%20%20%20%20%20%5B30.49883671%2C%2077.80530353%5D%2C%0A%20%20%20%20%20%20%20%20%20%20%20%20%20%20%20%20%7B%7D%0A%20%20%20%20%20%20%20%20%20%20%20%20%29.addTo%28map_2b96f7275e8044b39da349952c70f8ed%29%3B%0A%20%20%20%20%20%20%20%20%0A%20%20%20%20%0A%20%20%20%20%20%20%20%20%20%20%20%20var%20icon_e0488f9d5de3408492f0961df3a2c21f%20%3D%20L.AwesomeMarkers.icon%28%0A%20%20%20%20%20%20%20%20%20%20%20%20%20%20%20%20%7B%22extraClasses%22%3A%20%22fa-rotate-0%22%2C%20%22icon%22%3A%20%22star%20empty%22%2C%20%22iconColor%22%3A%20%22white%22%2C%20%22markerColor%22%3A%20%22green%22%2C%20%22prefix%22%3A%20%22glyphicon%22%7D%0A%20%20%20%20%20%20%20%20%20%20%20%20%29%3B%0A%20%20%20%20%20%20%20%20%20%20%20%20marker_4b22f59b672f40c689b29712a2556946.setIcon%28icon_e0488f9d5de3408492f0961df3a2c21f%29%3B%0A%20%20%20%20%20%20%20%20%0A%20%20%20%20%0A%20%20%20%20%20%20%20%20var%20popup_cb53765a565542029e9901dc11507b08%20%3D%20L.popup%28%7B%22maxWidth%22%3A%20%22100%25%22%7D%29%3B%0A%0A%20%20%20%20%20%20%20%20%0A%20%20%20%20%20%20%20%20%20%20%20%20var%20html_6ee80793055749469ad1f47210ffbd98%20%3D%20%24%28%60%3Cdiv%20id%3D%22html_6ee80793055749469ad1f47210ffbd98%22%20style%3D%22width%3A%20100.0%25%3B%20height%3A%20100.0%25%3B%22%3EBattery351.0%3C/div%3E%60%29%5B0%5D%3B%0A%20%20%20%20%20%20%20%20%20%20%20%20popup_cb53765a565542029e9901dc11507b08.setContent%28html_6ee80793055749469ad1f47210ffbd98%29%3B%0A%20%20%20%20%20%20%20%20%0A%0A%20%20%20%20%20%20%20%20marker_4b22f59b672f40c689b29712a2556946.bindPopup%28popup_cb53765a565542029e9901dc11507b08%29%0A%20%20%20%20%20%20%20%20%3B%0A%0A%20%20%20%20%20%20%20%20%0A%20%20%20%20%0A%3C/script%3E onload=\"this.contentDocument.open();this.contentDocument.write(    decodeURIComponent(this.getAttribute('data-html')));this.contentDocument.close();\" allowfullscreen webkitallowfullscreen mozallowfullscreen></iframe></div></div>"
      ],
      "text/plain": [
       "<folium.folium.Map at 0x1cd573836d0>"
      ]
     },
     "execution_count": 29,
     "metadata": {},
     "output_type": "execute_result"
    }
   ],
   "source": [
    "ut_map_lc.get_root().html.add_child(folium.Element(\"\"\"\n",
    "<div style=\"position: fixed; \n",
    "     top: 20px; right: 20px; width: 180px; height: 250px; \n",
    "     background-color:grey; border:2px solid grey;z-index: 900;\">\n",
    "    <form>\n",
    "    <div class=\"form-group\">\n",
    "    <label for=\"exampleFormControlSelect1\">Document Select</label>\n",
    "    <select class=\"form-control\" id=\"exampleFormControlSelect1\">\n",
    "      <option>Phone Number</option>\n",
    "      <option>Passport Number</option>\n",
    "      <option>Aadhar Number</option>\n",
    "      <option>Driving License</option>\n",
    "      <option>PAN Number</option>\n",
    "    </select>\n",
    "  </div>\n",
    "  <div class=\"form-group\">\n",
    "    <label for=\"exampleFormControlInput1\">Unique_ID_Number</label>\n",
    "    <input type=\"email\" class=\"form-control\" id=\"exampleFormControlInput1\" placeholder=\"Enter the Phone Number\">\n",
    "  </div>\n",
    "  <button type=\"button\" class=\"btn btn-info\">Enter</button>\n",
    "</div>\n",
    "\"\"\"))\n",
    "ut_map_lc"
   ]
  },
  {
   "cell_type": "code",
   "execution_count": null,
   "id": "8556f729",
   "metadata": {},
   "outputs": [],
   "source": []
  },
  {
   "cell_type": "code",
   "execution_count": null,
   "id": "284b61a1",
   "metadata": {},
   "outputs": [],
   "source": []
  },
  {
   "cell_type": "code",
   "execution_count": null,
   "id": "0e08e22c",
   "metadata": {},
   "outputs": [],
   "source": []
  },
  {
   "cell_type": "code",
   "execution_count": null,
   "id": "52f2bcf6",
   "metadata": {},
   "outputs": [],
   "source": []
  },
  {
   "cell_type": "code",
   "execution_count": null,
   "id": "de930a9d",
   "metadata": {},
   "outputs": [],
   "source": []
  },
  {
   "cell_type": "code",
   "execution_count": null,
   "id": "0a3c6443",
   "metadata": {},
   "outputs": [],
   "source": []
  },
  {
   "cell_type": "code",
   "execution_count": null,
   "id": "69d4905f",
   "metadata": {},
   "outputs": [],
   "source": []
  },
  {
   "cell_type": "code",
   "execution_count": 30,
   "id": "83da00ac",
   "metadata": {},
   "outputs": [
    {
     "name": "stdout",
     "output_type": "stream",
     "text": [
      "Enter the Incident_ID:  \n"
     ]
    },
    {
     "ename": "ValueError",
     "evalue": "invalid literal for int() with base 10: ''",
     "output_type": "error",
     "traceback": [
      "\u001b[1;31m---------------------------------------------------------------------------\u001b[0m",
      "\u001b[1;31mValueError\u001b[0m                                Traceback (most recent call last)",
      "\u001b[1;32m<ipython-input-30-99c18c6b5288>\u001b[0m in \u001b[0;36m<module>\u001b[1;34m\u001b[0m\n\u001b[1;32m----> 1\u001b[1;33m \u001b[0mdf_criminal_org_1\u001b[0m \u001b[1;33m=\u001b[0m \u001b[0mdf_criminal_org\u001b[0m\u001b[1;33m[\u001b[0m\u001b[0mdf_criminal_org\u001b[0m\u001b[1;33m.\u001b[0m\u001b[0mIncident_ID\u001b[0m \u001b[1;33m==\u001b[0m \u001b[0mint\u001b[0m\u001b[1;33m(\u001b[0m\u001b[0minput\u001b[0m\u001b[1;33m(\u001b[0m\u001b[1;34m\"Enter the Incident_ID:  \"\u001b[0m\u001b[1;33m)\u001b[0m\u001b[1;33m)\u001b[0m\u001b[1;33m]\u001b[0m\u001b[1;33m\u001b[0m\u001b[1;33m\u001b[0m\u001b[0m\n\u001b[0m\u001b[0;32m      2\u001b[0m \u001b[0mdf_criminal_org_1\u001b[0m\u001b[1;33m\u001b[0m\u001b[1;33m\u001b[0m\u001b[0m\n\u001b[0;32m      3\u001b[0m df_criminal_org_1.apply(lambda row : folium.Marker(location = [row['Latitude'], row['Longitude']],\n\u001b[0;32m      4\u001b[0m                                             \u001b[0mpopup\u001b[0m \u001b[1;33m=\u001b[0m \u001b[0mrow\u001b[0m\u001b[1;33m[\u001b[0m\u001b[1;34m'Incident Description'\u001b[0m\u001b[1;33m]\u001b[0m\u001b[1;33m,\u001b[0m\u001b[1;33m\u001b[0m\u001b[1;33m\u001b[0m\u001b[0m\n\u001b[0;32m      5\u001b[0m                                             icon = folium.Icon(icon = 'star empty', color = 'red', prefix = 'glyphicon')).add_to(ut_map_lc), axis = 1)\n",
      "\u001b[1;31mValueError\u001b[0m: invalid literal for int() with base 10: ''"
     ]
    }
   ],
   "source": [
    "df_criminal_org_1 = df_criminal_org[df_criminal_org.Incident_ID == int(input(\"Enter the Incident_ID:  \"))]\n",
    "df_criminal_org_1\n",
    "df_criminal_org_1.apply(lambda row : folium.Marker(location = [row['Latitude'], row['Longitude']],\n",
    "                                            popup = row['Incident Description'],\n",
    "                                            icon = folium.Icon(icon = 'star empty', color = 'red', prefix = 'glyphicon')).add_to(ut_map_lc), axis = 1)\n",
    "\n",
    "\n",
    "ut_map_lc"
   ]
  },
  {
   "cell_type": "code",
   "execution_count": null,
   "id": "7c416bf3",
   "metadata": {},
   "outputs": [],
   "source": []
  },
  {
   "cell_type": "code",
   "execution_count": null,
   "id": "2e726a56",
   "metadata": {},
   "outputs": [],
   "source": []
  },
  {
   "cell_type": "code",
   "execution_count": null,
   "id": "25da4e50",
   "metadata": {},
   "outputs": [],
   "source": []
  }
 ],
 "metadata": {
  "kernelspec": {
   "display_name": "Python 3",
   "language": "python",
   "name": "python3"
  },
  "language_info": {
   "codemirror_mode": {
    "name": "ipython",
    "version": 3
   },
   "file_extension": ".py",
   "mimetype": "text/x-python",
   "name": "python",
   "nbconvert_exporter": "python",
   "pygments_lexer": "ipython3",
   "version": "3.8.8"
  }
 },
 "nbformat": 4,
 "nbformat_minor": 5
}
